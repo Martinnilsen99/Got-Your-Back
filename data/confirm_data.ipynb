{
 "metadata": {
  "language_info": {
   "codemirror_mode": {
    "name": "ipython",
    "version": 3
   },
   "file_extension": ".py",
   "mimetype": "text/x-python",
   "name": "python",
   "nbconvert_exporter": "python",
   "pygments_lexer": "ipython3",
   "version": "3.8.5-final"
  },
  "orig_nbformat": 2,
  "kernelspec": {
   "name": "python3",
   "display_name": "Python 3.8.5 64-bit",
   "metadata": {
    "interpreter": {
     "hash": "f4fde45515710cbe4f4cf44a8ddef1b298277709bd6c5462499553af68a98f2e"
    }
   }
  }
 },
 "nbformat": 4,
 "nbformat_minor": 2,
 "cells": [
  {
   "source": [
    "### Visualiser data\n",
    "\n",
    "I denne filen tenkte jeg visualisere innholdet etter første innhenting av data fra to sensorer samtidig."
   ],
   "cell_type": "markdown",
   "metadata": {}
  },
  {
   "cell_type": "code",
   "execution_count": 5,
   "metadata": {},
   "outputs": [],
   "source": [
    "import pandas"
   ]
  },
  {
   "cell_type": "code",
   "execution_count": 6,
   "metadata": {},
   "outputs": [
    {
     "output_type": "stream",
     "name": "stdout",
     "text": [
      "54078\n54107\n54111\n"
     ]
    }
   ],
   "source": [
    "# df = pandas.read_csv(\"train_data/data_martin_2_forsok2.csv\")\n",
    "df = pandas.read_csv(\"../data/sensortest/data_martin_sensortest.csv\")\n",
    "df_1 = df[df['SensorId'] == 1]\n",
    "df_2 = df[df['SensorId'] == 2]\n",
    "df_3 = df[df['SensorId'] == 3]\n",
    "\n",
    "print(len(df_1))\n",
    "print(len(df_2))\n",
    "print(len(df_3))"
   ]
  },
  {
   "cell_type": "code",
   "execution_count": 7,
   "metadata": {},
   "outputs": [
    {
     "output_type": "execute_result",
     "data": {
      "text/plain": [
       "        SensorId   TimeStamp (s)   FrameNumber   AccX (g)   AccY (g)  \\\n",
       "162283         1         1082.08         54073  -0.702289  -0.091232   \n",
       "162285         1         1082.10         54074  -0.699011  -0.088285   \n",
       "162288         1         1082.12         54075  -0.723239  -0.084772   \n",
       "162290         1         1082.14         54076  -0.722882  -0.090453   \n",
       "162295         1         1082.16         54077  -0.715746  -0.091719   \n",
       "\n",
       "         AccZ (g)   GyroX (deg/s)   GyroY (deg/s)   GyroZ (deg/s)   MagX (uT)  \\\n",
       "162283  -0.677052        0.771323       -2.120086        2.219131  -40.315224   \n",
       "162285  -0.671266       -0.186748       -1.807720        4.439038  -40.433117   \n",
       "162288  -0.665240        0.148049       -2.638496        3.695276  -40.786804   \n",
       "162290  -0.662082       -0.800669       -4.035131        1.457107  -40.433117   \n",
       "162295  -0.671831        0.720037       -2.232671        1.302863  -40.403645   \n",
       "\n",
       "        ...     QuatX     QuatY     QuatZ   LinAccX (g)   LinAccY (g)  \\\n",
       "162283  ... -0.361369 -0.163922 -0.874499     -0.020885      0.005850   \n",
       "162285  ... -0.361731 -0.163709 -0.874202     -0.024723      0.003658   \n",
       "162288  ... -0.362251 -0.163643 -0.873851     -0.001055      0.001250   \n",
       "162290  ... -0.362930 -0.163697 -0.873551     -0.002378      0.007560   \n",
       "162295  ... -0.363247 -0.163841 -0.873329     -0.010320      0.009078   \n",
       "\n",
       "         LinAccZ (g)   Pressure (kPa)   Altitude (m)   Temperature (degC)  \\\n",
       "162283     -0.008317              0.0            0.0                  0.0   \n",
       "162285     -0.013604              0.0            0.0                  0.0   \n",
       "162288     -0.019174              0.0            0.0                  0.0   \n",
       "162290     -0.021385              0.0            0.0                  0.0   \n",
       "162295     -0.010809              0.0            0.0                  0.0   \n",
       "\n",
       "         HeaveMotion (m)  \n",
       "162283               0.0  \n",
       "162285               0.0  \n",
       "162288               0.0  \n",
       "162290               0.0  \n",
       "162295               0.0  \n",
       "\n",
       "[5 rows x 26 columns]"
      ],
      "text/html": "<div>\n<style scoped>\n    .dataframe tbody tr th:only-of-type {\n        vertical-align: middle;\n    }\n\n    .dataframe tbody tr th {\n        vertical-align: top;\n    }\n\n    .dataframe thead th {\n        text-align: right;\n    }\n</style>\n<table border=\"1\" class=\"dataframe\">\n  <thead>\n    <tr style=\"text-align: right;\">\n      <th></th>\n      <th>SensorId</th>\n      <th>TimeStamp (s)</th>\n      <th>FrameNumber</th>\n      <th>AccX (g)</th>\n      <th>AccY (g)</th>\n      <th>AccZ (g)</th>\n      <th>GyroX (deg/s)</th>\n      <th>GyroY (deg/s)</th>\n      <th>GyroZ (deg/s)</th>\n      <th>MagX (uT)</th>\n      <th>...</th>\n      <th>QuatX</th>\n      <th>QuatY</th>\n      <th>QuatZ</th>\n      <th>LinAccX (g)</th>\n      <th>LinAccY (g)</th>\n      <th>LinAccZ (g)</th>\n      <th>Pressure (kPa)</th>\n      <th>Altitude (m)</th>\n      <th>Temperature (degC)</th>\n      <th>HeaveMotion (m)</th>\n    </tr>\n  </thead>\n  <tbody>\n    <tr>\n      <th>162283</th>\n      <td>1</td>\n      <td>1082.08</td>\n      <td>54073</td>\n      <td>-0.702289</td>\n      <td>-0.091232</td>\n      <td>-0.677052</td>\n      <td>0.771323</td>\n      <td>-2.120086</td>\n      <td>2.219131</td>\n      <td>-40.315224</td>\n      <td>...</td>\n      <td>-0.361369</td>\n      <td>-0.163922</td>\n      <td>-0.874499</td>\n      <td>-0.020885</td>\n      <td>0.005850</td>\n      <td>-0.008317</td>\n      <td>0.0</td>\n      <td>0.0</td>\n      <td>0.0</td>\n      <td>0.0</td>\n    </tr>\n    <tr>\n      <th>162285</th>\n      <td>1</td>\n      <td>1082.10</td>\n      <td>54074</td>\n      <td>-0.699011</td>\n      <td>-0.088285</td>\n      <td>-0.671266</td>\n      <td>-0.186748</td>\n      <td>-1.807720</td>\n      <td>4.439038</td>\n      <td>-40.433117</td>\n      <td>...</td>\n      <td>-0.361731</td>\n      <td>-0.163709</td>\n      <td>-0.874202</td>\n      <td>-0.024723</td>\n      <td>0.003658</td>\n      <td>-0.013604</td>\n      <td>0.0</td>\n      <td>0.0</td>\n      <td>0.0</td>\n      <td>0.0</td>\n    </tr>\n    <tr>\n      <th>162288</th>\n      <td>1</td>\n      <td>1082.12</td>\n      <td>54075</td>\n      <td>-0.723239</td>\n      <td>-0.084772</td>\n      <td>-0.665240</td>\n      <td>0.148049</td>\n      <td>-2.638496</td>\n      <td>3.695276</td>\n      <td>-40.786804</td>\n      <td>...</td>\n      <td>-0.362251</td>\n      <td>-0.163643</td>\n      <td>-0.873851</td>\n      <td>-0.001055</td>\n      <td>0.001250</td>\n      <td>-0.019174</td>\n      <td>0.0</td>\n      <td>0.0</td>\n      <td>0.0</td>\n      <td>0.0</td>\n    </tr>\n    <tr>\n      <th>162290</th>\n      <td>1</td>\n      <td>1082.14</td>\n      <td>54076</td>\n      <td>-0.722882</td>\n      <td>-0.090453</td>\n      <td>-0.662082</td>\n      <td>-0.800669</td>\n      <td>-4.035131</td>\n      <td>1.457107</td>\n      <td>-40.433117</td>\n      <td>...</td>\n      <td>-0.362930</td>\n      <td>-0.163697</td>\n      <td>-0.873551</td>\n      <td>-0.002378</td>\n      <td>0.007560</td>\n      <td>-0.021385</td>\n      <td>0.0</td>\n      <td>0.0</td>\n      <td>0.0</td>\n      <td>0.0</td>\n    </tr>\n    <tr>\n      <th>162295</th>\n      <td>1</td>\n      <td>1082.16</td>\n      <td>54077</td>\n      <td>-0.715746</td>\n      <td>-0.091719</td>\n      <td>-0.671831</td>\n      <td>0.720037</td>\n      <td>-2.232671</td>\n      <td>1.302863</td>\n      <td>-40.403645</td>\n      <td>...</td>\n      <td>-0.363247</td>\n      <td>-0.163841</td>\n      <td>-0.873329</td>\n      <td>-0.010320</td>\n      <td>0.009078</td>\n      <td>-0.010809</td>\n      <td>0.0</td>\n      <td>0.0</td>\n      <td>0.0</td>\n      <td>0.0</td>\n    </tr>\n  </tbody>\n</table>\n<p>5 rows × 26 columns</p>\n</div>"
     },
     "metadata": {},
     "execution_count": 7
    }
   ],
   "source": [
    "df_1"
   ]
  },
  {
   "cell_type": "code",
   "execution_count": 8,
   "metadata": {},
   "outputs": [
    {
     "output_type": "execute_result",
     "data": {
      "text/plain": [
       "        SensorId   TimeStamp (s)   FrameNumber   AccX (g)   AccY (g)  \\\n",
       "162275         2       1082.0599         54102  -0.415353  -0.882715   \n",
       "162279         2       1082.0800         54103  -0.418212  -0.877104   \n",
       "162284         2       1082.1000         54104  -0.427194  -0.878183   \n",
       "162287         2       1082.1200         54105  -0.432531  -0.883794   \n",
       "162292         2       1082.1400         54106  -0.433546  -0.882122   \n",
       "\n",
       "         AccZ (g)   GyroX (deg/s)   GyroY (deg/s)   GyroZ (deg/s)   MagX (uT)  \\\n",
       "162275  -0.245171        0.135965       -0.216546        0.385747  -27.059656   \n",
       "162279  -0.245348       -0.747729       -0.106989        0.351344  -27.176203   \n",
       "162284  -0.245728       -0.490932       -1.054495        0.310354  -27.642389   \n",
       "162287  -0.245130       -0.368395       -1.456273        0.348247  -27.467569   \n",
       "162292  -0.241937       -0.560865       -1.079035        0.201629  -27.613253   \n",
       "\n",
       "        ...     QuatX     QuatY     QuatZ   LinAccX (g)   LinAccY (g)  \\\n",
       "162275  ... -0.505494  0.351826  0.125382     -0.005129      0.008113   \n",
       "162279  ... -0.505324  0.351814  0.125414     -0.002385      0.002588   \n",
       "162284  ... -0.505212  0.351981  0.125498      0.006496      0.003788   \n",
       "162287  ... -0.505115  0.352201  0.125599      0.011612      0.009486   \n",
       "162292  ... -0.505006  0.352401  0.125629      0.012344      0.007913   \n",
       "\n",
       "         LinAccZ (g)   Pressure (kPa)   Altitude (m)   Temperature (degC)  \\\n",
       "162275      0.003787              0.0            0.0                  0.0   \n",
       "162279      0.003854              0.0            0.0                  0.0   \n",
       "162284      0.003968              0.0            0.0                  0.0   \n",
       "162287      0.003441              0.0            0.0                  0.0   \n",
       "162292      0.000382              0.0            0.0                  0.0   \n",
       "\n",
       "         HeaveMotion (m)  \n",
       "162275               0.0  \n",
       "162279               0.0  \n",
       "162284               0.0  \n",
       "162287               0.0  \n",
       "162292               0.0  \n",
       "\n",
       "[5 rows x 26 columns]"
      ],
      "text/html": "<div>\n<style scoped>\n    .dataframe tbody tr th:only-of-type {\n        vertical-align: middle;\n    }\n\n    .dataframe tbody tr th {\n        vertical-align: top;\n    }\n\n    .dataframe thead th {\n        text-align: right;\n    }\n</style>\n<table border=\"1\" class=\"dataframe\">\n  <thead>\n    <tr style=\"text-align: right;\">\n      <th></th>\n      <th>SensorId</th>\n      <th>TimeStamp (s)</th>\n      <th>FrameNumber</th>\n      <th>AccX (g)</th>\n      <th>AccY (g)</th>\n      <th>AccZ (g)</th>\n      <th>GyroX (deg/s)</th>\n      <th>GyroY (deg/s)</th>\n      <th>GyroZ (deg/s)</th>\n      <th>MagX (uT)</th>\n      <th>...</th>\n      <th>QuatX</th>\n      <th>QuatY</th>\n      <th>QuatZ</th>\n      <th>LinAccX (g)</th>\n      <th>LinAccY (g)</th>\n      <th>LinAccZ (g)</th>\n      <th>Pressure (kPa)</th>\n      <th>Altitude (m)</th>\n      <th>Temperature (degC)</th>\n      <th>HeaveMotion (m)</th>\n    </tr>\n  </thead>\n  <tbody>\n    <tr>\n      <th>162275</th>\n      <td>2</td>\n      <td>1082.0599</td>\n      <td>54102</td>\n      <td>-0.415353</td>\n      <td>-0.882715</td>\n      <td>-0.245171</td>\n      <td>0.135965</td>\n      <td>-0.216546</td>\n      <td>0.385747</td>\n      <td>-27.059656</td>\n      <td>...</td>\n      <td>-0.505494</td>\n      <td>0.351826</td>\n      <td>0.125382</td>\n      <td>-0.005129</td>\n      <td>0.008113</td>\n      <td>0.003787</td>\n      <td>0.0</td>\n      <td>0.0</td>\n      <td>0.0</td>\n      <td>0.0</td>\n    </tr>\n    <tr>\n      <th>162279</th>\n      <td>2</td>\n      <td>1082.0800</td>\n      <td>54103</td>\n      <td>-0.418212</td>\n      <td>-0.877104</td>\n      <td>-0.245348</td>\n      <td>-0.747729</td>\n      <td>-0.106989</td>\n      <td>0.351344</td>\n      <td>-27.176203</td>\n      <td>...</td>\n      <td>-0.505324</td>\n      <td>0.351814</td>\n      <td>0.125414</td>\n      <td>-0.002385</td>\n      <td>0.002588</td>\n      <td>0.003854</td>\n      <td>0.0</td>\n      <td>0.0</td>\n      <td>0.0</td>\n      <td>0.0</td>\n    </tr>\n    <tr>\n      <th>162284</th>\n      <td>2</td>\n      <td>1082.1000</td>\n      <td>54104</td>\n      <td>-0.427194</td>\n      <td>-0.878183</td>\n      <td>-0.245728</td>\n      <td>-0.490932</td>\n      <td>-1.054495</td>\n      <td>0.310354</td>\n      <td>-27.642389</td>\n      <td>...</td>\n      <td>-0.505212</td>\n      <td>0.351981</td>\n      <td>0.125498</td>\n      <td>0.006496</td>\n      <td>0.003788</td>\n      <td>0.003968</td>\n      <td>0.0</td>\n      <td>0.0</td>\n      <td>0.0</td>\n      <td>0.0</td>\n    </tr>\n    <tr>\n      <th>162287</th>\n      <td>2</td>\n      <td>1082.1200</td>\n      <td>54105</td>\n      <td>-0.432531</td>\n      <td>-0.883794</td>\n      <td>-0.245130</td>\n      <td>-0.368395</td>\n      <td>-1.456273</td>\n      <td>0.348247</td>\n      <td>-27.467569</td>\n      <td>...</td>\n      <td>-0.505115</td>\n      <td>0.352201</td>\n      <td>0.125599</td>\n      <td>0.011612</td>\n      <td>0.009486</td>\n      <td>0.003441</td>\n      <td>0.0</td>\n      <td>0.0</td>\n      <td>0.0</td>\n      <td>0.0</td>\n    </tr>\n    <tr>\n      <th>162292</th>\n      <td>2</td>\n      <td>1082.1400</td>\n      <td>54106</td>\n      <td>-0.433546</td>\n      <td>-0.882122</td>\n      <td>-0.241937</td>\n      <td>-0.560865</td>\n      <td>-1.079035</td>\n      <td>0.201629</td>\n      <td>-27.613253</td>\n      <td>...</td>\n      <td>-0.505006</td>\n      <td>0.352401</td>\n      <td>0.125629</td>\n      <td>0.012344</td>\n      <td>0.007913</td>\n      <td>0.000382</td>\n      <td>0.0</td>\n      <td>0.0</td>\n      <td>0.0</td>\n      <td>0.0</td>\n    </tr>\n  </tbody>\n</table>\n<p>5 rows × 26 columns</p>\n</div>"
     },
     "metadata": {},
     "execution_count": 8
    }
   ],
   "source": [
    "df_2"
   ]
  },
  {
   "cell_type": "code",
   "execution_count": 9,
   "metadata": {},
   "outputs": [
    {
     "output_type": "execute_result",
     "data": {
      "text/plain": [
       "        SensorId   TimeStamp (s)   FrameNumber   AccX (g)   AccY (g)  \\\n",
       "162286         3       1082.1200         54106  -0.179242   0.320664   \n",
       "162289         3       1082.1400         54107  -0.184859   0.349018   \n",
       "162291         3       1082.1600         54108  -0.182133   0.349425   \n",
       "162293         3       1082.1801         54109  -0.185974   0.327751   \n",
       "162294         3       1082.2000         54110  -0.199331   0.319419   \n",
       "\n",
       "         AccZ (g)   GyroX (deg/s)   GyroY (deg/s)   GyroZ (deg/s)   MagX (uT)  \\\n",
       "162286  -0.917033       -3.597149       -2.507763        1.412042  -21.798374   \n",
       "162289  -0.916661       -3.871470       -3.348325        0.634065  -21.331287   \n",
       "162291  -0.919004       -3.411656       -1.894172        0.007679  -21.915150   \n",
       "162293  -0.917113       -1.297845       -0.789528       -0.356094  -21.623219   \n",
       "162294  -0.919808       -1.087529       -1.422655        0.095872  -21.477253   \n",
       "\n",
       "        ...     QuatX     QuatY     QuatZ   LinAccX (g)   LinAccY (g)  \\\n",
       "162286  ...  0.189071 -0.024263  0.586753     -0.004030      0.004813   \n",
       "162289  ...  0.190020 -0.024288  0.586531      0.000662     -0.022210   \n",
       "162291  ...  0.190656 -0.024374  0.586461     -0.002883     -0.021271   \n",
       "162293  ...  0.190873 -0.024223  0.586515      0.000550      0.001103   \n",
       "162294  ...  0.191176 -0.024148  0.586442      0.013331      0.009501   \n",
       "\n",
       "         LinAccZ (g)   Pressure (kPa)   Altitude (m)   Temperature (degC)  \\\n",
       "162286     -0.010586              0.0            0.0                  0.0   \n",
       "162289     -0.010306              0.0            0.0                  0.0   \n",
       "162291     -0.007324              0.0            0.0                  0.0   \n",
       "162293     -0.008886              0.0            0.0                  0.0   \n",
       "162294     -0.006051              0.0            0.0                  0.0   \n",
       "\n",
       "         HeaveMotion (m)  \n",
       "162286               0.0  \n",
       "162289               0.0  \n",
       "162291               0.0  \n",
       "162293               0.0  \n",
       "162294               0.0  \n",
       "\n",
       "[5 rows x 26 columns]"
      ],
      "text/html": "<div>\n<style scoped>\n    .dataframe tbody tr th:only-of-type {\n        vertical-align: middle;\n    }\n\n    .dataframe tbody tr th {\n        vertical-align: top;\n    }\n\n    .dataframe thead th {\n        text-align: right;\n    }\n</style>\n<table border=\"1\" class=\"dataframe\">\n  <thead>\n    <tr style=\"text-align: right;\">\n      <th></th>\n      <th>SensorId</th>\n      <th>TimeStamp (s)</th>\n      <th>FrameNumber</th>\n      <th>AccX (g)</th>\n      <th>AccY (g)</th>\n      <th>AccZ (g)</th>\n      <th>GyroX (deg/s)</th>\n      <th>GyroY (deg/s)</th>\n      <th>GyroZ (deg/s)</th>\n      <th>MagX (uT)</th>\n      <th>...</th>\n      <th>QuatX</th>\n      <th>QuatY</th>\n      <th>QuatZ</th>\n      <th>LinAccX (g)</th>\n      <th>LinAccY (g)</th>\n      <th>LinAccZ (g)</th>\n      <th>Pressure (kPa)</th>\n      <th>Altitude (m)</th>\n      <th>Temperature (degC)</th>\n      <th>HeaveMotion (m)</th>\n    </tr>\n  </thead>\n  <tbody>\n    <tr>\n      <th>162286</th>\n      <td>3</td>\n      <td>1082.1200</td>\n      <td>54106</td>\n      <td>-0.179242</td>\n      <td>0.320664</td>\n      <td>-0.917033</td>\n      <td>-3.597149</td>\n      <td>-2.507763</td>\n      <td>1.412042</td>\n      <td>-21.798374</td>\n      <td>...</td>\n      <td>0.189071</td>\n      <td>-0.024263</td>\n      <td>0.586753</td>\n      <td>-0.004030</td>\n      <td>0.004813</td>\n      <td>-0.010586</td>\n      <td>0.0</td>\n      <td>0.0</td>\n      <td>0.0</td>\n      <td>0.0</td>\n    </tr>\n    <tr>\n      <th>162289</th>\n      <td>3</td>\n      <td>1082.1400</td>\n      <td>54107</td>\n      <td>-0.184859</td>\n      <td>0.349018</td>\n      <td>-0.916661</td>\n      <td>-3.871470</td>\n      <td>-3.348325</td>\n      <td>0.634065</td>\n      <td>-21.331287</td>\n      <td>...</td>\n      <td>0.190020</td>\n      <td>-0.024288</td>\n      <td>0.586531</td>\n      <td>0.000662</td>\n      <td>-0.022210</td>\n      <td>-0.010306</td>\n      <td>0.0</td>\n      <td>0.0</td>\n      <td>0.0</td>\n      <td>0.0</td>\n    </tr>\n    <tr>\n      <th>162291</th>\n      <td>3</td>\n      <td>1082.1600</td>\n      <td>54108</td>\n      <td>-0.182133</td>\n      <td>0.349425</td>\n      <td>-0.919004</td>\n      <td>-3.411656</td>\n      <td>-1.894172</td>\n      <td>0.007679</td>\n      <td>-21.915150</td>\n      <td>...</td>\n      <td>0.190656</td>\n      <td>-0.024374</td>\n      <td>0.586461</td>\n      <td>-0.002883</td>\n      <td>-0.021271</td>\n      <td>-0.007324</td>\n      <td>0.0</td>\n      <td>0.0</td>\n      <td>0.0</td>\n      <td>0.0</td>\n    </tr>\n    <tr>\n      <th>162293</th>\n      <td>3</td>\n      <td>1082.1801</td>\n      <td>54109</td>\n      <td>-0.185974</td>\n      <td>0.327751</td>\n      <td>-0.917113</td>\n      <td>-1.297845</td>\n      <td>-0.789528</td>\n      <td>-0.356094</td>\n      <td>-21.623219</td>\n      <td>...</td>\n      <td>0.190873</td>\n      <td>-0.024223</td>\n      <td>0.586515</td>\n      <td>0.000550</td>\n      <td>0.001103</td>\n      <td>-0.008886</td>\n      <td>0.0</td>\n      <td>0.0</td>\n      <td>0.0</td>\n      <td>0.0</td>\n    </tr>\n    <tr>\n      <th>162294</th>\n      <td>3</td>\n      <td>1082.2000</td>\n      <td>54110</td>\n      <td>-0.199331</td>\n      <td>0.319419</td>\n      <td>-0.919808</td>\n      <td>-1.087529</td>\n      <td>-1.422655</td>\n      <td>0.095872</td>\n      <td>-21.477253</td>\n      <td>...</td>\n      <td>0.191176</td>\n      <td>-0.024148</td>\n      <td>0.586442</td>\n      <td>0.013331</td>\n      <td>0.009501</td>\n      <td>-0.006051</td>\n      <td>0.0</td>\n      <td>0.0</td>\n      <td>0.0</td>\n      <td>0.0</td>\n    </tr>\n  </tbody>\n</table>\n<p>5 rows × 26 columns</p>\n</div>"
     },
     "metadata": {},
     "execution_count": 9
    }
   ],
   "source": [
    "df_3"
   ]
  },
  {
   "cell_type": "code",
   "execution_count": 10,
   "metadata": {},
   "outputs": [
    {
     "output_type": "execute_result",
     "data": {
      "text/plain": [
       "        SensorId   TimeStamp (s)   FrameNumber   AccX (g)   AccY (g)  \\\n",
       "0              2           -0.00             0  -0.018429  -1.007040   \n",
       "2              1           -0.00             0   0.019920  -0.794387   \n",
       "4              1            0.02             1   0.015635  -0.798804   \n",
       "6              1            0.04             2   0.015153  -0.801027   \n",
       "8              3           -0.00             0   0.178735  -0.646012   \n",
       "...          ...             ...           ...        ...        ...   \n",
       "162286         3         1082.12         54106  -0.179242   0.320664   \n",
       "162288         1         1082.12         54075  -0.723239  -0.084772   \n",
       "162290         1         1082.14         54076  -0.722882  -0.090453   \n",
       "162292         2         1082.14         54106  -0.433546  -0.882122   \n",
       "162294         3         1082.20         54110  -0.199331   0.319419   \n",
       "\n",
       "         AccZ (g)   GyroX (deg/s)   GyroY (deg/s)   GyroZ (deg/s)   MagX (uT)  \\\n",
       "0        0.044179        0.208760       -0.333792       -0.106727   -7.916889   \n",
       "2       -0.601370       -1.562904       -1.464186       -0.498630  -10.045666   \n",
       "4       -0.605099       -1.746947       -0.781661       -0.552266  -10.487769   \n",
       "6       -0.604974       -0.723603        0.261424       -0.555029  -10.635139   \n",
       "8       -0.749958       -0.044000       -0.931717       -0.066404   -1.480040   \n",
       "...           ...             ...             ...             ...         ...   \n",
       "162286  -0.917033       -3.597149       -2.507763        1.412042  -21.798374   \n",
       "162288  -0.665240        0.148049       -2.638496        3.695276  -40.786804   \n",
       "162290  -0.662082       -0.800669       -4.035131        1.457107  -40.433117   \n",
       "162292  -0.241937       -0.560865       -1.079035        0.201629  -27.613253   \n",
       "162294  -0.919808       -1.087529       -1.422655        0.095872  -21.477253   \n",
       "\n",
       "        ...     QuatX     QuatY     QuatZ   LinAccX (g)   LinAccY (g)  \\\n",
       "0       ... -0.710777  0.131325  0.112130     -0.001296      0.008242   \n",
       "2       ...  0.287525 -0.331934 -0.690842     -0.003905      0.005351   \n",
       "4       ...  0.287300 -0.331765 -0.691035      0.000312      0.010096   \n",
       "6       ...  0.287496 -0.331762 -0.691037      0.000915      0.012586   \n",
       "8       ... -0.335055  0.135482  0.557184     -0.007847     -0.005971   \n",
       "...     ...       ...       ...       ...           ...           ...   \n",
       "162286  ...  0.189071 -0.024263  0.586753     -0.004030      0.004813   \n",
       "162288  ... -0.362251 -0.163643 -0.873851     -0.001055      0.001250   \n",
       "162290  ... -0.362930 -0.163697 -0.873551     -0.002378      0.007560   \n",
       "162292  ... -0.505006  0.352401  0.125629      0.012344      0.007913   \n",
       "162294  ...  0.191176 -0.024148  0.586442      0.013331      0.009501   \n",
       "\n",
       "         LinAccZ (g)   Pressure (kPa)   Altitude (m)   Temperature (degC)  \\\n",
       "0           0.000691              0.0            0.0                  0.0   \n",
       "2          -0.012768              0.0            0.0                  0.0   \n",
       "4          -0.009462              0.0            0.0                  0.0   \n",
       "6          -0.009926              0.0            0.0                  0.0   \n",
       "8           0.011232              0.0            0.0                  0.0   \n",
       "...              ...              ...            ...                  ...   \n",
       "162286     -0.010586              0.0            0.0                  0.0   \n",
       "162288     -0.019174              0.0            0.0                  0.0   \n",
       "162290     -0.021385              0.0            0.0                  0.0   \n",
       "162292      0.000382              0.0            0.0                  0.0   \n",
       "162294     -0.006051              0.0            0.0                  0.0   \n",
       "\n",
       "         HeaveMotion (m)  \n",
       "0                    0.0  \n",
       "2                    0.0  \n",
       "4                    0.0  \n",
       "6                    0.0  \n",
       "8                    0.0  \n",
       "...                  ...  \n",
       "162286               0.0  \n",
       "162288               0.0  \n",
       "162290               0.0  \n",
       "162292               0.0  \n",
       "162294               0.0  \n",
       "\n",
       "[81148 rows x 26 columns]"
      ],
      "text/html": "<div>\n<style scoped>\n    .dataframe tbody tr th:only-of-type {\n        vertical-align: middle;\n    }\n\n    .dataframe tbody tr th {\n        vertical-align: top;\n    }\n\n    .dataframe thead th {\n        text-align: right;\n    }\n</style>\n<table border=\"1\" class=\"dataframe\">\n  <thead>\n    <tr style=\"text-align: right;\">\n      <th></th>\n      <th>SensorId</th>\n      <th>TimeStamp (s)</th>\n      <th>FrameNumber</th>\n      <th>AccX (g)</th>\n      <th>AccY (g)</th>\n      <th>AccZ (g)</th>\n      <th>GyroX (deg/s)</th>\n      <th>GyroY (deg/s)</th>\n      <th>GyroZ (deg/s)</th>\n      <th>MagX (uT)</th>\n      <th>...</th>\n      <th>QuatX</th>\n      <th>QuatY</th>\n      <th>QuatZ</th>\n      <th>LinAccX (g)</th>\n      <th>LinAccY (g)</th>\n      <th>LinAccZ (g)</th>\n      <th>Pressure (kPa)</th>\n      <th>Altitude (m)</th>\n      <th>Temperature (degC)</th>\n      <th>HeaveMotion (m)</th>\n    </tr>\n  </thead>\n  <tbody>\n    <tr>\n      <th>0</th>\n      <td>2</td>\n      <td>-0.00</td>\n      <td>0</td>\n      <td>-0.018429</td>\n      <td>-1.007040</td>\n      <td>0.044179</td>\n      <td>0.208760</td>\n      <td>-0.333792</td>\n      <td>-0.106727</td>\n      <td>-7.916889</td>\n      <td>...</td>\n      <td>-0.710777</td>\n      <td>0.131325</td>\n      <td>0.112130</td>\n      <td>-0.001296</td>\n      <td>0.008242</td>\n      <td>0.000691</td>\n      <td>0.0</td>\n      <td>0.0</td>\n      <td>0.0</td>\n      <td>0.0</td>\n    </tr>\n    <tr>\n      <th>2</th>\n      <td>1</td>\n      <td>-0.00</td>\n      <td>0</td>\n      <td>0.019920</td>\n      <td>-0.794387</td>\n      <td>-0.601370</td>\n      <td>-1.562904</td>\n      <td>-1.464186</td>\n      <td>-0.498630</td>\n      <td>-10.045666</td>\n      <td>...</td>\n      <td>0.287525</td>\n      <td>-0.331934</td>\n      <td>-0.690842</td>\n      <td>-0.003905</td>\n      <td>0.005351</td>\n      <td>-0.012768</td>\n      <td>0.0</td>\n      <td>0.0</td>\n      <td>0.0</td>\n      <td>0.0</td>\n    </tr>\n    <tr>\n      <th>4</th>\n      <td>1</td>\n      <td>0.02</td>\n      <td>1</td>\n      <td>0.015635</td>\n      <td>-0.798804</td>\n      <td>-0.605099</td>\n      <td>-1.746947</td>\n      <td>-0.781661</td>\n      <td>-0.552266</td>\n      <td>-10.487769</td>\n      <td>...</td>\n      <td>0.287300</td>\n      <td>-0.331765</td>\n      <td>-0.691035</td>\n      <td>0.000312</td>\n      <td>0.010096</td>\n      <td>-0.009462</td>\n      <td>0.0</td>\n      <td>0.0</td>\n      <td>0.0</td>\n      <td>0.0</td>\n    </tr>\n    <tr>\n      <th>6</th>\n      <td>1</td>\n      <td>0.04</td>\n      <td>2</td>\n      <td>0.015153</td>\n      <td>-0.801027</td>\n      <td>-0.604974</td>\n      <td>-0.723603</td>\n      <td>0.261424</td>\n      <td>-0.555029</td>\n      <td>-10.635139</td>\n      <td>...</td>\n      <td>0.287496</td>\n      <td>-0.331762</td>\n      <td>-0.691037</td>\n      <td>0.000915</td>\n      <td>0.012586</td>\n      <td>-0.009926</td>\n      <td>0.0</td>\n      <td>0.0</td>\n      <td>0.0</td>\n      <td>0.0</td>\n    </tr>\n    <tr>\n      <th>8</th>\n      <td>3</td>\n      <td>-0.00</td>\n      <td>0</td>\n      <td>0.178735</td>\n      <td>-0.646012</td>\n      <td>-0.749958</td>\n      <td>-0.044000</td>\n      <td>-0.931717</td>\n      <td>-0.066404</td>\n      <td>-1.480040</td>\n      <td>...</td>\n      <td>-0.335055</td>\n      <td>0.135482</td>\n      <td>0.557184</td>\n      <td>-0.007847</td>\n      <td>-0.005971</td>\n      <td>0.011232</td>\n      <td>0.0</td>\n      <td>0.0</td>\n      <td>0.0</td>\n      <td>0.0</td>\n    </tr>\n    <tr>\n      <th>...</th>\n      <td>...</td>\n      <td>...</td>\n      <td>...</td>\n      <td>...</td>\n      <td>...</td>\n      <td>...</td>\n      <td>...</td>\n      <td>...</td>\n      <td>...</td>\n      <td>...</td>\n      <td>...</td>\n      <td>...</td>\n      <td>...</td>\n      <td>...</td>\n      <td>...</td>\n      <td>...</td>\n      <td>...</td>\n      <td>...</td>\n      <td>...</td>\n      <td>...</td>\n      <td>...</td>\n    </tr>\n    <tr>\n      <th>162286</th>\n      <td>3</td>\n      <td>1082.12</td>\n      <td>54106</td>\n      <td>-0.179242</td>\n      <td>0.320664</td>\n      <td>-0.917033</td>\n      <td>-3.597149</td>\n      <td>-2.507763</td>\n      <td>1.412042</td>\n      <td>-21.798374</td>\n      <td>...</td>\n      <td>0.189071</td>\n      <td>-0.024263</td>\n      <td>0.586753</td>\n      <td>-0.004030</td>\n      <td>0.004813</td>\n      <td>-0.010586</td>\n      <td>0.0</td>\n      <td>0.0</td>\n      <td>0.0</td>\n      <td>0.0</td>\n    </tr>\n    <tr>\n      <th>162288</th>\n      <td>1</td>\n      <td>1082.12</td>\n      <td>54075</td>\n      <td>-0.723239</td>\n      <td>-0.084772</td>\n      <td>-0.665240</td>\n      <td>0.148049</td>\n      <td>-2.638496</td>\n      <td>3.695276</td>\n      <td>-40.786804</td>\n      <td>...</td>\n      <td>-0.362251</td>\n      <td>-0.163643</td>\n      <td>-0.873851</td>\n      <td>-0.001055</td>\n      <td>0.001250</td>\n      <td>-0.019174</td>\n      <td>0.0</td>\n      <td>0.0</td>\n      <td>0.0</td>\n      <td>0.0</td>\n    </tr>\n    <tr>\n      <th>162290</th>\n      <td>1</td>\n      <td>1082.14</td>\n      <td>54076</td>\n      <td>-0.722882</td>\n      <td>-0.090453</td>\n      <td>-0.662082</td>\n      <td>-0.800669</td>\n      <td>-4.035131</td>\n      <td>1.457107</td>\n      <td>-40.433117</td>\n      <td>...</td>\n      <td>-0.362930</td>\n      <td>-0.163697</td>\n      <td>-0.873551</td>\n      <td>-0.002378</td>\n      <td>0.007560</td>\n      <td>-0.021385</td>\n      <td>0.0</td>\n      <td>0.0</td>\n      <td>0.0</td>\n      <td>0.0</td>\n    </tr>\n    <tr>\n      <th>162292</th>\n      <td>2</td>\n      <td>1082.14</td>\n      <td>54106</td>\n      <td>-0.433546</td>\n      <td>-0.882122</td>\n      <td>-0.241937</td>\n      <td>-0.560865</td>\n      <td>-1.079035</td>\n      <td>0.201629</td>\n      <td>-27.613253</td>\n      <td>...</td>\n      <td>-0.505006</td>\n      <td>0.352401</td>\n      <td>0.125629</td>\n      <td>0.012344</td>\n      <td>0.007913</td>\n      <td>0.000382</td>\n      <td>0.0</td>\n      <td>0.0</td>\n      <td>0.0</td>\n      <td>0.0</td>\n    </tr>\n    <tr>\n      <th>162294</th>\n      <td>3</td>\n      <td>1082.20</td>\n      <td>54110</td>\n      <td>-0.199331</td>\n      <td>0.319419</td>\n      <td>-0.919808</td>\n      <td>-1.087529</td>\n      <td>-1.422655</td>\n      <td>0.095872</td>\n      <td>-21.477253</td>\n      <td>...</td>\n      <td>0.191176</td>\n      <td>-0.024148</td>\n      <td>0.586442</td>\n      <td>0.013331</td>\n      <td>0.009501</td>\n      <td>-0.006051</td>\n      <td>0.0</td>\n      <td>0.0</td>\n      <td>0.0</td>\n      <td>0.0</td>\n    </tr>\n  </tbody>\n</table>\n<p>81148 rows × 26 columns</p>\n</div>"
     },
     "metadata": {},
     "execution_count": 10
    }
   ],
   "source": [
    "df_sensor1 = df.iloc[::2, :]\n",
    "df_sensor1"
   ]
  },
  {
   "cell_type": "code",
   "execution_count": 11,
   "metadata": {},
   "outputs": [
    {
     "output_type": "execute_result",
     "data": {
      "text/plain": [
       "        SensorId   TimeStamp (s)   FrameNumber   AccX (g)   AccY (g)  \\\n",
       "1              2          0.0200             1  -0.017634  -1.007730   \n",
       "3              2          0.0400             2  -0.018090  -1.006988   \n",
       "5              2          0.0600             3  -0.019457  -1.006600   \n",
       "7              1          0.0600             3   0.020163  -0.797502   \n",
       "9              1          0.0800             4   0.026463  -0.787940   \n",
       "...          ...             ...           ...        ...        ...   \n",
       "162287         2       1082.1200         54105  -0.432531  -0.883794   \n",
       "162289         3       1082.1400         54107  -0.184859   0.349018   \n",
       "162291         3       1082.1600         54108  -0.182133   0.349425   \n",
       "162293         3       1082.1801         54109  -0.185974   0.327751   \n",
       "162295         1       1082.1600         54077  -0.715746  -0.091719   \n",
       "\n",
       "         AccZ (g)   GyroX (deg/s)   GyroY (deg/s)   GyroZ (deg/s)   MagX (uT)  \\\n",
       "1        0.044718        0.280394       -0.513321       -0.113335   -7.479838   \n",
       "3        0.046217        0.371321       -0.647394       -0.031212   -8.237392   \n",
       "5        0.045179        0.219733       -0.575123       -0.063933   -7.538113   \n",
       "7       -0.608591       -0.445173        0.111246       -0.923887  -10.605668   \n",
       "9       -0.609870       -0.919388       -0.897010       -0.986847  -10.664613   \n",
       "...           ...             ...             ...             ...         ...   \n",
       "162287  -0.245130       -0.368395       -1.456273        0.348247  -27.467569   \n",
       "162289  -0.916661       -3.871470       -3.348325        0.634065  -21.331287   \n",
       "162291  -0.919004       -3.411656       -1.894172        0.007679  -21.915150   \n",
       "162293  -0.917113       -1.297845       -0.789528       -0.356094  -21.623219   \n",
       "162295  -0.671831        0.720037       -2.232671        1.302863  -40.403645   \n",
       "\n",
       "        ...     QuatX     QuatY     QuatZ   LinAccX (g)   LinAccY (g)  \\\n",
       "1       ... -0.710801  0.131377  0.112202     -0.002040      0.008935   \n",
       "3       ... -0.710826  0.131435  0.112299     -0.001520      0.008196   \n",
       "5       ... -0.710842  0.131499  0.112374     -0.000097      0.007810   \n",
       "7       ...  0.287511 -0.331654 -0.691155     -0.003698      0.008849   \n",
       "9       ...  0.287353 -0.331585 -0.691356     -0.009806     -0.000566   \n",
       "...     ...       ...       ...       ...           ...           ...   \n",
       "162287  ... -0.505115  0.352201  0.125599      0.011612      0.009486   \n",
       "162289  ...  0.190020 -0.024288  0.586531      0.000662     -0.022210   \n",
       "162291  ...  0.190656 -0.024374  0.586461     -0.002883     -0.021271   \n",
       "162293  ...  0.190873 -0.024223  0.586515      0.000550      0.001103   \n",
       "162295  ... -0.363247 -0.163841 -0.873329     -0.010320      0.009078   \n",
       "\n",
       "         LinAccZ (g)   Pressure (kPa)   Altitude (m)   Temperature (degC)  \\\n",
       "1           0.000229              0.0            0.0                  0.0   \n",
       "3          -0.001172              0.0            0.0                  0.0   \n",
       "5          -0.000040              0.0            0.0                  0.0   \n",
       "7          -0.006028              0.0            0.0                  0.0   \n",
       "9          -0.004931              0.0            0.0                  0.0   \n",
       "...              ...              ...            ...                  ...   \n",
       "162287      0.003441              0.0            0.0                  0.0   \n",
       "162289     -0.010306              0.0            0.0                  0.0   \n",
       "162291     -0.007324              0.0            0.0                  0.0   \n",
       "162293     -0.008886              0.0            0.0                  0.0   \n",
       "162295     -0.010809              0.0            0.0                  0.0   \n",
       "\n",
       "         HeaveMotion (m)  \n",
       "1                    0.0  \n",
       "3                    0.0  \n",
       "5                    0.0  \n",
       "7                    0.0  \n",
       "9                    0.0  \n",
       "...                  ...  \n",
       "162287               0.0  \n",
       "162289               0.0  \n",
       "162291               0.0  \n",
       "162293               0.0  \n",
       "162295               0.0  \n",
       "\n",
       "[81148 rows x 26 columns]"
      ],
      "text/html": "<div>\n<style scoped>\n    .dataframe tbody tr th:only-of-type {\n        vertical-align: middle;\n    }\n\n    .dataframe tbody tr th {\n        vertical-align: top;\n    }\n\n    .dataframe thead th {\n        text-align: right;\n    }\n</style>\n<table border=\"1\" class=\"dataframe\">\n  <thead>\n    <tr style=\"text-align: right;\">\n      <th></th>\n      <th>SensorId</th>\n      <th>TimeStamp (s)</th>\n      <th>FrameNumber</th>\n      <th>AccX (g)</th>\n      <th>AccY (g)</th>\n      <th>AccZ (g)</th>\n      <th>GyroX (deg/s)</th>\n      <th>GyroY (deg/s)</th>\n      <th>GyroZ (deg/s)</th>\n      <th>MagX (uT)</th>\n      <th>...</th>\n      <th>QuatX</th>\n      <th>QuatY</th>\n      <th>QuatZ</th>\n      <th>LinAccX (g)</th>\n      <th>LinAccY (g)</th>\n      <th>LinAccZ (g)</th>\n      <th>Pressure (kPa)</th>\n      <th>Altitude (m)</th>\n      <th>Temperature (degC)</th>\n      <th>HeaveMotion (m)</th>\n    </tr>\n  </thead>\n  <tbody>\n    <tr>\n      <th>1</th>\n      <td>2</td>\n      <td>0.0200</td>\n      <td>1</td>\n      <td>-0.017634</td>\n      <td>-1.007730</td>\n      <td>0.044718</td>\n      <td>0.280394</td>\n      <td>-0.513321</td>\n      <td>-0.113335</td>\n      <td>-7.479838</td>\n      <td>...</td>\n      <td>-0.710801</td>\n      <td>0.131377</td>\n      <td>0.112202</td>\n      <td>-0.002040</td>\n      <td>0.008935</td>\n      <td>0.000229</td>\n      <td>0.0</td>\n      <td>0.0</td>\n      <td>0.0</td>\n      <td>0.0</td>\n    </tr>\n    <tr>\n      <th>3</th>\n      <td>2</td>\n      <td>0.0400</td>\n      <td>2</td>\n      <td>-0.018090</td>\n      <td>-1.006988</td>\n      <td>0.046217</td>\n      <td>0.371321</td>\n      <td>-0.647394</td>\n      <td>-0.031212</td>\n      <td>-8.237392</td>\n      <td>...</td>\n      <td>-0.710826</td>\n      <td>0.131435</td>\n      <td>0.112299</td>\n      <td>-0.001520</td>\n      <td>0.008196</td>\n      <td>-0.001172</td>\n      <td>0.0</td>\n      <td>0.0</td>\n      <td>0.0</td>\n      <td>0.0</td>\n    </tr>\n    <tr>\n      <th>5</th>\n      <td>2</td>\n      <td>0.0600</td>\n      <td>3</td>\n      <td>-0.019457</td>\n      <td>-1.006600</td>\n      <td>0.045179</td>\n      <td>0.219733</td>\n      <td>-0.575123</td>\n      <td>-0.063933</td>\n      <td>-7.538113</td>\n      <td>...</td>\n      <td>-0.710842</td>\n      <td>0.131499</td>\n      <td>0.112374</td>\n      <td>-0.000097</td>\n      <td>0.007810</td>\n      <td>-0.000040</td>\n      <td>0.0</td>\n      <td>0.0</td>\n      <td>0.0</td>\n      <td>0.0</td>\n    </tr>\n    <tr>\n      <th>7</th>\n      <td>1</td>\n      <td>0.0600</td>\n      <td>3</td>\n      <td>0.020163</td>\n      <td>-0.797502</td>\n      <td>-0.608591</td>\n      <td>-0.445173</td>\n      <td>0.111246</td>\n      <td>-0.923887</td>\n      <td>-10.605668</td>\n      <td>...</td>\n      <td>0.287511</td>\n      <td>-0.331654</td>\n      <td>-0.691155</td>\n      <td>-0.003698</td>\n      <td>0.008849</td>\n      <td>-0.006028</td>\n      <td>0.0</td>\n      <td>0.0</td>\n      <td>0.0</td>\n      <td>0.0</td>\n    </tr>\n    <tr>\n      <th>9</th>\n      <td>1</td>\n      <td>0.0800</td>\n      <td>4</td>\n      <td>0.026463</td>\n      <td>-0.787940</td>\n      <td>-0.609870</td>\n      <td>-0.919388</td>\n      <td>-0.897010</td>\n      <td>-0.986847</td>\n      <td>-10.664613</td>\n      <td>...</td>\n      <td>0.287353</td>\n      <td>-0.331585</td>\n      <td>-0.691356</td>\n      <td>-0.009806</td>\n      <td>-0.000566</td>\n      <td>-0.004931</td>\n      <td>0.0</td>\n      <td>0.0</td>\n      <td>0.0</td>\n      <td>0.0</td>\n    </tr>\n    <tr>\n      <th>...</th>\n      <td>...</td>\n      <td>...</td>\n      <td>...</td>\n      <td>...</td>\n      <td>...</td>\n      <td>...</td>\n      <td>...</td>\n      <td>...</td>\n      <td>...</td>\n      <td>...</td>\n      <td>...</td>\n      <td>...</td>\n      <td>...</td>\n      <td>...</td>\n      <td>...</td>\n      <td>...</td>\n      <td>...</td>\n      <td>...</td>\n      <td>...</td>\n      <td>...</td>\n      <td>...</td>\n    </tr>\n    <tr>\n      <th>162287</th>\n      <td>2</td>\n      <td>1082.1200</td>\n      <td>54105</td>\n      <td>-0.432531</td>\n      <td>-0.883794</td>\n      <td>-0.245130</td>\n      <td>-0.368395</td>\n      <td>-1.456273</td>\n      <td>0.348247</td>\n      <td>-27.467569</td>\n      <td>...</td>\n      <td>-0.505115</td>\n      <td>0.352201</td>\n      <td>0.125599</td>\n      <td>0.011612</td>\n      <td>0.009486</td>\n      <td>0.003441</td>\n      <td>0.0</td>\n      <td>0.0</td>\n      <td>0.0</td>\n      <td>0.0</td>\n    </tr>\n    <tr>\n      <th>162289</th>\n      <td>3</td>\n      <td>1082.1400</td>\n      <td>54107</td>\n      <td>-0.184859</td>\n      <td>0.349018</td>\n      <td>-0.916661</td>\n      <td>-3.871470</td>\n      <td>-3.348325</td>\n      <td>0.634065</td>\n      <td>-21.331287</td>\n      <td>...</td>\n      <td>0.190020</td>\n      <td>-0.024288</td>\n      <td>0.586531</td>\n      <td>0.000662</td>\n      <td>-0.022210</td>\n      <td>-0.010306</td>\n      <td>0.0</td>\n      <td>0.0</td>\n      <td>0.0</td>\n      <td>0.0</td>\n    </tr>\n    <tr>\n      <th>162291</th>\n      <td>3</td>\n      <td>1082.1600</td>\n      <td>54108</td>\n      <td>-0.182133</td>\n      <td>0.349425</td>\n      <td>-0.919004</td>\n      <td>-3.411656</td>\n      <td>-1.894172</td>\n      <td>0.007679</td>\n      <td>-21.915150</td>\n      <td>...</td>\n      <td>0.190656</td>\n      <td>-0.024374</td>\n      <td>0.586461</td>\n      <td>-0.002883</td>\n      <td>-0.021271</td>\n      <td>-0.007324</td>\n      <td>0.0</td>\n      <td>0.0</td>\n      <td>0.0</td>\n      <td>0.0</td>\n    </tr>\n    <tr>\n      <th>162293</th>\n      <td>3</td>\n      <td>1082.1801</td>\n      <td>54109</td>\n      <td>-0.185974</td>\n      <td>0.327751</td>\n      <td>-0.917113</td>\n      <td>-1.297845</td>\n      <td>-0.789528</td>\n      <td>-0.356094</td>\n      <td>-21.623219</td>\n      <td>...</td>\n      <td>0.190873</td>\n      <td>-0.024223</td>\n      <td>0.586515</td>\n      <td>0.000550</td>\n      <td>0.001103</td>\n      <td>-0.008886</td>\n      <td>0.0</td>\n      <td>0.0</td>\n      <td>0.0</td>\n      <td>0.0</td>\n    </tr>\n    <tr>\n      <th>162295</th>\n      <td>1</td>\n      <td>1082.1600</td>\n      <td>54077</td>\n      <td>-0.715746</td>\n      <td>-0.091719</td>\n      <td>-0.671831</td>\n      <td>0.720037</td>\n      <td>-2.232671</td>\n      <td>1.302863</td>\n      <td>-40.403645</td>\n      <td>...</td>\n      <td>-0.363247</td>\n      <td>-0.163841</td>\n      <td>-0.873329</td>\n      <td>-0.010320</td>\n      <td>0.009078</td>\n      <td>-0.010809</td>\n      <td>0.0</td>\n      <td>0.0</td>\n      <td>0.0</td>\n      <td>0.0</td>\n    </tr>\n  </tbody>\n</table>\n<p>81148 rows × 26 columns</p>\n</div>"
     },
     "metadata": {},
     "execution_count": 11
    }
   ],
   "source": [
    "df_sensor2 = df.iloc[1::2, :]\n",
    "df_sensor2"
   ]
  }
 ]
}