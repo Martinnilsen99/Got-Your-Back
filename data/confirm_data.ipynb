{
 "metadata": {
  "language_info": {
   "codemirror_mode": {
    "name": "ipython",
    "version": 3
   },
   "file_extension": ".py",
   "mimetype": "text/x-python",
   "name": "python",
   "nbconvert_exporter": "python",
   "pygments_lexer": "ipython3",
   "version": "3.8.2-final"
  },
  "orig_nbformat": 2,
  "kernelspec": {
   "name": "python38264bit6348f0fb647549c7908291a257a0f019",
   "display_name": "Python 3.8.2 64-bit",
   "language": "python"
  }
 },
 "nbformat": 4,
 "nbformat_minor": 2,
 "cells": [
  {
   "source": [
    "### Visualiser data\n",
    "\n",
    "I denne filen tenkte jeg visualisere innholdet etter første innhenting av data fra to sensorer samtidig."
   ],
   "cell_type": "markdown",
   "metadata": {}
  },
  {
   "cell_type": "code",
   "execution_count": 2,
   "metadata": {},
   "outputs": [],
   "source": [
    "import pandas"
   ]
  },
  {
   "cell_type": "code",
   "execution_count": 8,
   "metadata": {},
   "outputs": [
    {
     "output_type": "stream",
     "name": "stdout",
     "text": [
      "31619\n31617\n31616\n"
     ]
    }
   ],
   "source": [
    "# df = pandas.read_csv(\"train_data/data_martin_2_forsok2.csv\")\n",
    "df = pandas.read_csv(\"train_data/sensortest.csv\")\n",
    "df_1 = df[df['SensorId'] == 1]\n",
    "df_2 = df[df['SensorId'] == 2]\n",
    "df_3 = df[df['SensorId'] == 3]\n",
    "\n",
    "print(len(df_1))\n",
    "print(len(df_2))\n",
    "print(len(df_3))"
   ]
  },
  {
   "cell_type": "code",
   "execution_count": null,
   "metadata": {},
   "outputs": [],
   "source": []
  },
  {
   "cell_type": "code",
   "execution_count": null,
   "metadata": {},
   "outputs": [],
   "source": []
  },
  {
   "cell_type": "code",
   "execution_count": 4,
   "metadata": {},
   "outputs": [
    {
     "output_type": "execute_result",
     "data": {
      "text/plain": [
       "       SensorId   TimeStamp (s)   FrameNumber   AccX (g)   AccY (g)  \\\n",
       "0             2           -0.00             0   0.001438  -0.014564   \n",
       "2             3            0.00             0   0.014727  -0.005937   \n",
       "4             3            0.02             1   0.014174  -0.004912   \n",
       "6             1            0.04             2   0.038378   0.013060   \n",
       "8             2            0.04             2   0.003614  -0.014648   \n",
       "...         ...             ...           ...        ...        ...   \n",
       "94842         3          632.24         31612   0.013773  -0.005221   \n",
       "94844         2          632.28         31614   0.003474  -0.014617   \n",
       "94846         2          632.30         31615   0.003941  -0.015056   \n",
       "94848         1          632.34         31617   0.038155   0.012512   \n",
       "94850         2          632.32         31616   0.002728  -0.015674   \n",
       "\n",
       "        AccZ (g)   GyroX (deg/s)   GyroY (deg/s)   GyroZ (deg/s)   MagX (uT)  \\\n",
       "0      -1.006263       -0.061581        0.020492        0.010170    9.244589   \n",
       "2      -1.003507        0.016327        0.014260       -0.001406   13.992255   \n",
       "4      -1.003357        0.003224       -0.016763       -0.000590   14.079834   \n",
       "6      -1.007069        0.047750       -0.061710        0.033428   16.451252   \n",
       "8      -1.002813        0.018746        0.042674       -0.027747    9.535955   \n",
       "...          ...             ...             ...             ...         ...   \n",
       "94842  -1.003455        0.075173       -0.028983       -0.010024   14.780466   \n",
       "94844  -1.002552       -0.080497       -0.029559       -0.036698   10.002141   \n",
       "94846  -1.002406        0.000294       -0.041927        0.012806   10.351781   \n",
       "94848  -1.004320        0.034979       -0.008823        0.019631   17.335464   \n",
       "94850  -1.000394        0.010305       -0.022387        0.022268   10.060414   \n",
       "\n",
       "       ...     QuatX     QuatY     QuatZ   LinAccX (g)   LinAccY (g)  \\\n",
       "0      ... -0.002199 -0.007289 -0.894646      0.001140     -0.000479   \n",
       "2      ...  0.005486 -0.005248 -0.920254     -0.000534      0.000591   \n",
       "4      ...  0.005482 -0.005247 -0.920254      0.000025     -0.000455   \n",
       "6      ...  0.019786 -0.002405 -0.895145     -0.000797      0.000279   \n",
       "8      ... -0.002188 -0.007284 -0.894646     -0.001020     -0.000331   \n",
       "...    ...       ...       ...       ...           ...           ...   \n",
       "94842  ...  0.005670 -0.005074 -0.920503      0.000665      0.000371   \n",
       "94844  ... -0.002166 -0.007609 -0.894652     -0.000551     -0.000933   \n",
       "94846  ... -0.002108 -0.007470 -0.894659     -0.001030     -0.000503   \n",
       "94848  ...  0.020135 -0.002357 -0.895653      0.000005      0.001159   \n",
       "94850  ... -0.002109 -0.007468 -0.894661      0.000171      0.000427   \n",
       "\n",
       "        LinAccZ (g)   Pressure (kPa)   Altitude (m)   Temperature (degC)  \\\n",
       "0          0.006379              0.0            0.0                  0.0   \n",
       "2          0.003622              0.0            0.0                  0.0   \n",
       "4          0.003472              0.0            0.0                  0.0   \n",
       "6          0.007864              0.0            0.0                  0.0   \n",
       "8          0.002929              0.0            0.0                  0.0   \n",
       "...             ...              ...            ...                  ...   \n",
       "94842      0.003571              0.0            0.0                  0.0   \n",
       "94844      0.002677              0.0            0.0                  0.0   \n",
       "94846      0.002532              0.0            0.0                  0.0   \n",
       "94848      0.005142              0.0            0.0                  0.0   \n",
       "94850      0.000515              0.0            0.0                  0.0   \n",
       "\n",
       "        HeaveMotion (m)  \n",
       "0                   0.0  \n",
       "2                   0.0  \n",
       "4                   0.0  \n",
       "6                   0.0  \n",
       "8                   0.0  \n",
       "...                 ...  \n",
       "94842               0.0  \n",
       "94844               0.0  \n",
       "94846               0.0  \n",
       "94848               0.0  \n",
       "94850               0.0  \n",
       "\n",
       "[47426 rows x 26 columns]"
      ],
      "text/html": "<div>\n<style scoped>\n    .dataframe tbody tr th:only-of-type {\n        vertical-align: middle;\n    }\n\n    .dataframe tbody tr th {\n        vertical-align: top;\n    }\n\n    .dataframe thead th {\n        text-align: right;\n    }\n</style>\n<table border=\"1\" class=\"dataframe\">\n  <thead>\n    <tr style=\"text-align: right;\">\n      <th></th>\n      <th>SensorId</th>\n      <th>TimeStamp (s)</th>\n      <th>FrameNumber</th>\n      <th>AccX (g)</th>\n      <th>AccY (g)</th>\n      <th>AccZ (g)</th>\n      <th>GyroX (deg/s)</th>\n      <th>GyroY (deg/s)</th>\n      <th>GyroZ (deg/s)</th>\n      <th>MagX (uT)</th>\n      <th>...</th>\n      <th>QuatX</th>\n      <th>QuatY</th>\n      <th>QuatZ</th>\n      <th>LinAccX (g)</th>\n      <th>LinAccY (g)</th>\n      <th>LinAccZ (g)</th>\n      <th>Pressure (kPa)</th>\n      <th>Altitude (m)</th>\n      <th>Temperature (degC)</th>\n      <th>HeaveMotion (m)</th>\n    </tr>\n  </thead>\n  <tbody>\n    <tr>\n      <th>0</th>\n      <td>2</td>\n      <td>-0.00</td>\n      <td>0</td>\n      <td>0.001438</td>\n      <td>-0.014564</td>\n      <td>-1.006263</td>\n      <td>-0.061581</td>\n      <td>0.020492</td>\n      <td>0.010170</td>\n      <td>9.244589</td>\n      <td>...</td>\n      <td>-0.002199</td>\n      <td>-0.007289</td>\n      <td>-0.894646</td>\n      <td>0.001140</td>\n      <td>-0.000479</td>\n      <td>0.006379</td>\n      <td>0.0</td>\n      <td>0.0</td>\n      <td>0.0</td>\n      <td>0.0</td>\n    </tr>\n    <tr>\n      <th>2</th>\n      <td>3</td>\n      <td>0.00</td>\n      <td>0</td>\n      <td>0.014727</td>\n      <td>-0.005937</td>\n      <td>-1.003507</td>\n      <td>0.016327</td>\n      <td>0.014260</td>\n      <td>-0.001406</td>\n      <td>13.992255</td>\n      <td>...</td>\n      <td>0.005486</td>\n      <td>-0.005248</td>\n      <td>-0.920254</td>\n      <td>-0.000534</td>\n      <td>0.000591</td>\n      <td>0.003622</td>\n      <td>0.0</td>\n      <td>0.0</td>\n      <td>0.0</td>\n      <td>0.0</td>\n    </tr>\n    <tr>\n      <th>4</th>\n      <td>3</td>\n      <td>0.02</td>\n      <td>1</td>\n      <td>0.014174</td>\n      <td>-0.004912</td>\n      <td>-1.003357</td>\n      <td>0.003224</td>\n      <td>-0.016763</td>\n      <td>-0.000590</td>\n      <td>14.079834</td>\n      <td>...</td>\n      <td>0.005482</td>\n      <td>-0.005247</td>\n      <td>-0.920254</td>\n      <td>0.000025</td>\n      <td>-0.000455</td>\n      <td>0.003472</td>\n      <td>0.0</td>\n      <td>0.0</td>\n      <td>0.0</td>\n      <td>0.0</td>\n    </tr>\n    <tr>\n      <th>6</th>\n      <td>1</td>\n      <td>0.04</td>\n      <td>2</td>\n      <td>0.038378</td>\n      <td>0.013060</td>\n      <td>-1.007069</td>\n      <td>0.047750</td>\n      <td>-0.061710</td>\n      <td>0.033428</td>\n      <td>16.451252</td>\n      <td>...</td>\n      <td>0.019786</td>\n      <td>-0.002405</td>\n      <td>-0.895145</td>\n      <td>-0.000797</td>\n      <td>0.000279</td>\n      <td>0.007864</td>\n      <td>0.0</td>\n      <td>0.0</td>\n      <td>0.0</td>\n      <td>0.0</td>\n    </tr>\n    <tr>\n      <th>8</th>\n      <td>2</td>\n      <td>0.04</td>\n      <td>2</td>\n      <td>0.003614</td>\n      <td>-0.014648</td>\n      <td>-1.002813</td>\n      <td>0.018746</td>\n      <td>0.042674</td>\n      <td>-0.027747</td>\n      <td>9.535955</td>\n      <td>...</td>\n      <td>-0.002188</td>\n      <td>-0.007284</td>\n      <td>-0.894646</td>\n      <td>-0.001020</td>\n      <td>-0.000331</td>\n      <td>0.002929</td>\n      <td>0.0</td>\n      <td>0.0</td>\n      <td>0.0</td>\n      <td>0.0</td>\n    </tr>\n    <tr>\n      <th>...</th>\n      <td>...</td>\n      <td>...</td>\n      <td>...</td>\n      <td>...</td>\n      <td>...</td>\n      <td>...</td>\n      <td>...</td>\n      <td>...</td>\n      <td>...</td>\n      <td>...</td>\n      <td>...</td>\n      <td>...</td>\n      <td>...</td>\n      <td>...</td>\n      <td>...</td>\n      <td>...</td>\n      <td>...</td>\n      <td>...</td>\n      <td>...</td>\n      <td>...</td>\n      <td>...</td>\n    </tr>\n    <tr>\n      <th>94842</th>\n      <td>3</td>\n      <td>632.24</td>\n      <td>31612</td>\n      <td>0.013773</td>\n      <td>-0.005221</td>\n      <td>-1.003455</td>\n      <td>0.075173</td>\n      <td>-0.028983</td>\n      <td>-0.010024</td>\n      <td>14.780466</td>\n      <td>...</td>\n      <td>0.005670</td>\n      <td>-0.005074</td>\n      <td>-0.920503</td>\n      <td>0.000665</td>\n      <td>0.000371</td>\n      <td>0.003571</td>\n      <td>0.0</td>\n      <td>0.0</td>\n      <td>0.0</td>\n      <td>0.0</td>\n    </tr>\n    <tr>\n      <th>94844</th>\n      <td>2</td>\n      <td>632.28</td>\n      <td>31614</td>\n      <td>0.003474</td>\n      <td>-0.014617</td>\n      <td>-1.002552</td>\n      <td>-0.080497</td>\n      <td>-0.029559</td>\n      <td>-0.036698</td>\n      <td>10.002141</td>\n      <td>...</td>\n      <td>-0.002166</td>\n      <td>-0.007609</td>\n      <td>-0.894652</td>\n      <td>-0.000551</td>\n      <td>-0.000933</td>\n      <td>0.002677</td>\n      <td>0.0</td>\n      <td>0.0</td>\n      <td>0.0</td>\n      <td>0.0</td>\n    </tr>\n    <tr>\n      <th>94846</th>\n      <td>2</td>\n      <td>632.30</td>\n      <td>31615</td>\n      <td>0.003941</td>\n      <td>-0.015056</td>\n      <td>-1.002406</td>\n      <td>0.000294</td>\n      <td>-0.041927</td>\n      <td>0.012806</td>\n      <td>10.351781</td>\n      <td>...</td>\n      <td>-0.002108</td>\n      <td>-0.007470</td>\n      <td>-0.894659</td>\n      <td>-0.001030</td>\n      <td>-0.000503</td>\n      <td>0.002532</td>\n      <td>0.0</td>\n      <td>0.0</td>\n      <td>0.0</td>\n      <td>0.0</td>\n    </tr>\n    <tr>\n      <th>94848</th>\n      <td>1</td>\n      <td>632.34</td>\n      <td>31617</td>\n      <td>0.038155</td>\n      <td>0.012512</td>\n      <td>-1.004320</td>\n      <td>0.034979</td>\n      <td>-0.008823</td>\n      <td>0.019631</td>\n      <td>17.335464</td>\n      <td>...</td>\n      <td>0.020135</td>\n      <td>-0.002357</td>\n      <td>-0.895653</td>\n      <td>0.000005</td>\n      <td>0.001159</td>\n      <td>0.005142</td>\n      <td>0.0</td>\n      <td>0.0</td>\n      <td>0.0</td>\n      <td>0.0</td>\n    </tr>\n    <tr>\n      <th>94850</th>\n      <td>2</td>\n      <td>632.32</td>\n      <td>31616</td>\n      <td>0.002728</td>\n      <td>-0.015674</td>\n      <td>-1.000394</td>\n      <td>0.010305</td>\n      <td>-0.022387</td>\n      <td>0.022268</td>\n      <td>10.060414</td>\n      <td>...</td>\n      <td>-0.002109</td>\n      <td>-0.007468</td>\n      <td>-0.894661</td>\n      <td>0.000171</td>\n      <td>0.000427</td>\n      <td>0.000515</td>\n      <td>0.0</td>\n      <td>0.0</td>\n      <td>0.0</td>\n      <td>0.0</td>\n    </tr>\n  </tbody>\n</table>\n<p>47426 rows × 26 columns</p>\n</div>"
     },
     "metadata": {},
     "execution_count": 4
    }
   ],
   "source": [
    "df_sensor1 = df.iloc[::2, :]\n",
    "df_sensor1"
   ]
  },
  {
   "cell_type": "code",
   "execution_count": 5,
   "metadata": {},
   "outputs": [
    {
     "output_type": "execute_result",
     "data": {
      "text/plain": [
       "       SensorId   TimeStamp (s)   FrameNumber   AccX (g)   AccY (g)  \\\n",
       "1             1           -0.00             0   0.036245   0.013140   \n",
       "3             2            0.02             1   0.002594  -0.015703   \n",
       "5             1            0.02             1   0.036455   0.012861   \n",
       "7             1            0.06             3   0.039858   0.013333   \n",
       "9             1            0.08             4   0.037581   0.012940   \n",
       "...         ...             ...           ...        ...        ...   \n",
       "94843         3          632.26         31613   0.014024  -0.004627   \n",
       "94845         1          632.32         31616   0.039234   0.015472   \n",
       "94847         3          632.28         31614   0.014093  -0.005499   \n",
       "94849         1          632.36         31618   0.038420   0.014754   \n",
       "94851         3          632.30         31615   0.014297  -0.004604   \n",
       "\n",
       "        AccZ (g)   GyroX (deg/s)   GyroY (deg/s)   GyroZ (deg/s)   MagX (uT)  \\\n",
       "1      -1.000726       -0.068140        0.042884       -0.005965   16.804935   \n",
       "3      -0.997526       -0.082125        0.029405        0.030140    9.302862   \n",
       "5      -1.009169        0.083904       -0.029356        0.044238   16.569147   \n",
       "7      -1.002950       -0.063009        0.040246       -0.018130   17.040726   \n",
       "9      -1.007980        0.099715       -0.079956       -0.006915   16.539673   \n",
       "...          ...             ...             ...             ...         ...   \n",
       "94843  -1.000567       -0.016049        0.012358       -0.040101   14.751273   \n",
       "94845  -1.005082       -0.056165        0.043053       -0.020675   16.863884   \n",
       "94847  -1.001444       -0.006046       -0.008681       -0.019735   14.634500   \n",
       "94849  -1.006601       -0.090964        0.078266        0.005313   16.510199   \n",
       "94851  -1.003104        0.024168        0.060995       -0.011583   14.838852   \n",
       "\n",
       "       ...     QuatX     QuatY     QuatZ   LinAccX (g)   LinAccY (g)  \\\n",
       "1      ...  0.019915 -0.002359 -0.895141      0.001508  3.622600e-04   \n",
       "3      ... -0.002190 -0.007279 -0.894648     -0.000007  7.038400e-04   \n",
       "5      ...  0.019801 -0.002400 -0.895143      0.001205  5.565800e-04   \n",
       "7      ...  0.019808 -0.002434 -0.895144     -0.002284 -3.600000e-07   \n",
       "9      ...  0.019794 -0.002440 -0.895143      0.000039  3.359200e-04   \n",
       "...    ...       ...       ...       ...           ...           ...   \n",
       "94843  ...  0.005673 -0.005075 -0.920500      0.000378 -2.866600e-04   \n",
       "94845  ...  0.020139 -0.002353 -0.895652     -0.001103 -1.723400e-03   \n",
       "94847  ...  0.005672 -0.005072 -0.920499      0.000313  5.910400e-04   \n",
       "94849  ...  0.020171 -0.002374 -0.895652     -0.000253 -1.075950e-03   \n",
       "94851  ...  0.005614 -0.004973 -0.920494     -0.000002 -2.307600e-04   \n",
       "\n",
       "        LinAccZ (g)   Pressure (kPa)   Altitude (m)   Temperature (degC)  \\\n",
       "1          0.001530              0.0            0.0                  0.0   \n",
       "3         -0.002358              0.0            0.0                  0.0   \n",
       "5          0.009968              0.0            0.0                  0.0   \n",
       "7          0.003745              0.0            0.0                  0.0   \n",
       "9          0.008776              0.0            0.0                  0.0   \n",
       "...             ...              ...            ...                  ...   \n",
       "94843      0.000682              0.0            0.0                  0.0   \n",
       "94845      0.005903              0.0            0.0                  0.0   \n",
       "94847      0.001560              0.0            0.0                  0.0   \n",
       "94849      0.007424              0.0            0.0                  0.0   \n",
       "94851      0.003218              0.0            0.0                  0.0   \n",
       "\n",
       "        HeaveMotion (m)  \n",
       "1                   0.0  \n",
       "3                   0.0  \n",
       "5                   0.0  \n",
       "7                   0.0  \n",
       "9                   0.0  \n",
       "...                 ...  \n",
       "94843               0.0  \n",
       "94845               0.0  \n",
       "94847               0.0  \n",
       "94849               0.0  \n",
       "94851               0.0  \n",
       "\n",
       "[47426 rows x 26 columns]"
      ],
      "text/html": "<div>\n<style scoped>\n    .dataframe tbody tr th:only-of-type {\n        vertical-align: middle;\n    }\n\n    .dataframe tbody tr th {\n        vertical-align: top;\n    }\n\n    .dataframe thead th {\n        text-align: right;\n    }\n</style>\n<table border=\"1\" class=\"dataframe\">\n  <thead>\n    <tr style=\"text-align: right;\">\n      <th></th>\n      <th>SensorId</th>\n      <th>TimeStamp (s)</th>\n      <th>FrameNumber</th>\n      <th>AccX (g)</th>\n      <th>AccY (g)</th>\n      <th>AccZ (g)</th>\n      <th>GyroX (deg/s)</th>\n      <th>GyroY (deg/s)</th>\n      <th>GyroZ (deg/s)</th>\n      <th>MagX (uT)</th>\n      <th>...</th>\n      <th>QuatX</th>\n      <th>QuatY</th>\n      <th>QuatZ</th>\n      <th>LinAccX (g)</th>\n      <th>LinAccY (g)</th>\n      <th>LinAccZ (g)</th>\n      <th>Pressure (kPa)</th>\n      <th>Altitude (m)</th>\n      <th>Temperature (degC)</th>\n      <th>HeaveMotion (m)</th>\n    </tr>\n  </thead>\n  <tbody>\n    <tr>\n      <th>1</th>\n      <td>1</td>\n      <td>-0.00</td>\n      <td>0</td>\n      <td>0.036245</td>\n      <td>0.013140</td>\n      <td>-1.000726</td>\n      <td>-0.068140</td>\n      <td>0.042884</td>\n      <td>-0.005965</td>\n      <td>16.804935</td>\n      <td>...</td>\n      <td>0.019915</td>\n      <td>-0.002359</td>\n      <td>-0.895141</td>\n      <td>0.001508</td>\n      <td>3.622600e-04</td>\n      <td>0.001530</td>\n      <td>0.0</td>\n      <td>0.0</td>\n      <td>0.0</td>\n      <td>0.0</td>\n    </tr>\n    <tr>\n      <th>3</th>\n      <td>2</td>\n      <td>0.02</td>\n      <td>1</td>\n      <td>0.002594</td>\n      <td>-0.015703</td>\n      <td>-0.997526</td>\n      <td>-0.082125</td>\n      <td>0.029405</td>\n      <td>0.030140</td>\n      <td>9.302862</td>\n      <td>...</td>\n      <td>-0.002190</td>\n      <td>-0.007279</td>\n      <td>-0.894648</td>\n      <td>-0.000007</td>\n      <td>7.038400e-04</td>\n      <td>-0.002358</td>\n      <td>0.0</td>\n      <td>0.0</td>\n      <td>0.0</td>\n      <td>0.0</td>\n    </tr>\n    <tr>\n      <th>5</th>\n      <td>1</td>\n      <td>0.02</td>\n      <td>1</td>\n      <td>0.036455</td>\n      <td>0.012861</td>\n      <td>-1.009169</td>\n      <td>0.083904</td>\n      <td>-0.029356</td>\n      <td>0.044238</td>\n      <td>16.569147</td>\n      <td>...</td>\n      <td>0.019801</td>\n      <td>-0.002400</td>\n      <td>-0.895143</td>\n      <td>0.001205</td>\n      <td>5.565800e-04</td>\n      <td>0.009968</td>\n      <td>0.0</td>\n      <td>0.0</td>\n      <td>0.0</td>\n      <td>0.0</td>\n    </tr>\n    <tr>\n      <th>7</th>\n      <td>1</td>\n      <td>0.06</td>\n      <td>3</td>\n      <td>0.039858</td>\n      <td>0.013333</td>\n      <td>-1.002950</td>\n      <td>-0.063009</td>\n      <td>0.040246</td>\n      <td>-0.018130</td>\n      <td>17.040726</td>\n      <td>...</td>\n      <td>0.019808</td>\n      <td>-0.002434</td>\n      <td>-0.895144</td>\n      <td>-0.002284</td>\n      <td>-3.600000e-07</td>\n      <td>0.003745</td>\n      <td>0.0</td>\n      <td>0.0</td>\n      <td>0.0</td>\n      <td>0.0</td>\n    </tr>\n    <tr>\n      <th>9</th>\n      <td>1</td>\n      <td>0.08</td>\n      <td>4</td>\n      <td>0.037581</td>\n      <td>0.012940</td>\n      <td>-1.007980</td>\n      <td>0.099715</td>\n      <td>-0.079956</td>\n      <td>-0.006915</td>\n      <td>16.539673</td>\n      <td>...</td>\n      <td>0.019794</td>\n      <td>-0.002440</td>\n      <td>-0.895143</td>\n      <td>0.000039</td>\n      <td>3.359200e-04</td>\n      <td>0.008776</td>\n      <td>0.0</td>\n      <td>0.0</td>\n      <td>0.0</td>\n      <td>0.0</td>\n    </tr>\n    <tr>\n      <th>...</th>\n      <td>...</td>\n      <td>...</td>\n      <td>...</td>\n      <td>...</td>\n      <td>...</td>\n      <td>...</td>\n      <td>...</td>\n      <td>...</td>\n      <td>...</td>\n      <td>...</td>\n      <td>...</td>\n      <td>...</td>\n      <td>...</td>\n      <td>...</td>\n      <td>...</td>\n      <td>...</td>\n      <td>...</td>\n      <td>...</td>\n      <td>...</td>\n      <td>...</td>\n      <td>...</td>\n    </tr>\n    <tr>\n      <th>94843</th>\n      <td>3</td>\n      <td>632.26</td>\n      <td>31613</td>\n      <td>0.014024</td>\n      <td>-0.004627</td>\n      <td>-1.000567</td>\n      <td>-0.016049</td>\n      <td>0.012358</td>\n      <td>-0.040101</td>\n      <td>14.751273</td>\n      <td>...</td>\n      <td>0.005673</td>\n      <td>-0.005075</td>\n      <td>-0.920500</td>\n      <td>0.000378</td>\n      <td>-2.866600e-04</td>\n      <td>0.000682</td>\n      <td>0.0</td>\n      <td>0.0</td>\n      <td>0.0</td>\n      <td>0.0</td>\n    </tr>\n    <tr>\n      <th>94845</th>\n      <td>1</td>\n      <td>632.32</td>\n      <td>31616</td>\n      <td>0.039234</td>\n      <td>0.015472</td>\n      <td>-1.005082</td>\n      <td>-0.056165</td>\n      <td>0.043053</td>\n      <td>-0.020675</td>\n      <td>16.863884</td>\n      <td>...</td>\n      <td>0.020139</td>\n      <td>-0.002353</td>\n      <td>-0.895652</td>\n      <td>-0.001103</td>\n      <td>-1.723400e-03</td>\n      <td>0.005903</td>\n      <td>0.0</td>\n      <td>0.0</td>\n      <td>0.0</td>\n      <td>0.0</td>\n    </tr>\n    <tr>\n      <th>94847</th>\n      <td>3</td>\n      <td>632.28</td>\n      <td>31614</td>\n      <td>0.014093</td>\n      <td>-0.005499</td>\n      <td>-1.001444</td>\n      <td>-0.006046</td>\n      <td>-0.008681</td>\n      <td>-0.019735</td>\n      <td>14.634500</td>\n      <td>...</td>\n      <td>0.005672</td>\n      <td>-0.005072</td>\n      <td>-0.920499</td>\n      <td>0.000313</td>\n      <td>5.910400e-04</td>\n      <td>0.001560</td>\n      <td>0.0</td>\n      <td>0.0</td>\n      <td>0.0</td>\n      <td>0.0</td>\n    </tr>\n    <tr>\n      <th>94849</th>\n      <td>1</td>\n      <td>632.36</td>\n      <td>31618</td>\n      <td>0.038420</td>\n      <td>0.014754</td>\n      <td>-1.006601</td>\n      <td>-0.090964</td>\n      <td>0.078266</td>\n      <td>0.005313</td>\n      <td>16.510199</td>\n      <td>...</td>\n      <td>0.020171</td>\n      <td>-0.002374</td>\n      <td>-0.895652</td>\n      <td>-0.000253</td>\n      <td>-1.075950e-03</td>\n      <td>0.007424</td>\n      <td>0.0</td>\n      <td>0.0</td>\n      <td>0.0</td>\n      <td>0.0</td>\n    </tr>\n    <tr>\n      <th>94851</th>\n      <td>3</td>\n      <td>632.30</td>\n      <td>31615</td>\n      <td>0.014297</td>\n      <td>-0.004604</td>\n      <td>-1.003104</td>\n      <td>0.024168</td>\n      <td>0.060995</td>\n      <td>-0.011583</td>\n      <td>14.838852</td>\n      <td>...</td>\n      <td>0.005614</td>\n      <td>-0.004973</td>\n      <td>-0.920494</td>\n      <td>-0.000002</td>\n      <td>-2.307600e-04</td>\n      <td>0.003218</td>\n      <td>0.0</td>\n      <td>0.0</td>\n      <td>0.0</td>\n      <td>0.0</td>\n    </tr>\n  </tbody>\n</table>\n<p>47426 rows × 26 columns</p>\n</div>"
     },
     "metadata": {},
     "execution_count": 5
    }
   ],
   "source": [
    "df_sensor2 = df.iloc[1::2, :]\n",
    "df_sensor2"
   ]
  }
 ]
}