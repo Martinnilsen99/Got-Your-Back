{
 "metadata": {
  "language_info": {
   "codemirror_mode": {
    "name": "ipython",
    "version": 3
   },
   "file_extension": ".py",
   "mimetype": "text/x-python",
   "name": "python",
   "nbconvert_exporter": "python",
   "pygments_lexer": "ipython3",
   "version": "3.8.2-final"
  },
  "orig_nbformat": 2,
  "kernelspec": {
   "name": "python38264bit6348f0fb647549c7908291a257a0f019",
   "display_name": "Python 3.8.2 64-bit",
   "language": "python"
  }
 },
 "nbformat": 4,
 "nbformat_minor": 2,
 "cells": [
  {
   "source": [
    "### Visualiser data\n",
    "\n",
    "I denne filen tenkte jeg visualisere innholdet etter første innhenting av data fra to sensorer samtidig."
   ],
   "cell_type": "markdown",
   "metadata": {}
  },
  {
   "cell_type": "code",
   "execution_count": 4,
   "metadata": {},
   "outputs": [],
   "source": [
    "import pandas"
   ]
  },
  {
   "cell_type": "code",
   "execution_count": 5,
   "metadata": {},
   "outputs": [
    {
     "output_type": "stream",
     "name": "stdout",
     "text": [
      "31619\n31617\n31616\n"
     ]
    }
   ],
   "source": [
    "# df = pandas.read_csv(\"train_data/data_martin_2_forsok2.csv\")\n",
    "df = pandas.read_csv(\"train_data/sensortest.csv\")\n",
    "df_1 = df[df['SensorId'] == 1]\n",
    "df_2 = df[df['SensorId'] == 2]\n",
    "df_3 = df[df['SensorId'] == 3]\n",
    "\n",
    "print(len(df_1))\n",
    "print(len(df_2))\n",
    "print(len(df_3))"
   ]
  },
  {
   "cell_type": "code",
   "execution_count": 9,
   "metadata": {},
   "outputs": [
    {
     "output_type": "execute_result",
     "data": {
      "text/plain": [
       "      SensorId   TimeStamp (s)   FrameNumber   AccX (g)\n",
       "1            1           -0.00             0   0.036245\n",
       "5            1            0.02             1   0.036455\n",
       "6            1            0.04             2   0.038378\n",
       "7            1            0.06             3   0.039858\n",
       "9            1            0.08             4   0.037581\n",
       "...        ...             ...           ...        ...\n",
       "5984         1           39.90          1995   0.038362\n",
       "5985         1           39.92          1996   0.038292\n",
       "5987         1           39.94          1997   0.038007\n",
       "5990         1           39.96          1998   0.038119\n",
       "5993         1           39.98          1999   0.037916\n",
       "\n",
       "[2000 rows x 4 columns]"
      ],
      "text/html": "<div>\n<style scoped>\n    .dataframe tbody tr th:only-of-type {\n        vertical-align: middle;\n    }\n\n    .dataframe tbody tr th {\n        vertical-align: top;\n    }\n\n    .dataframe thead th {\n        text-align: right;\n    }\n</style>\n<table border=\"1\" class=\"dataframe\">\n  <thead>\n    <tr style=\"text-align: right;\">\n      <th></th>\n      <th>SensorId</th>\n      <th>TimeStamp (s)</th>\n      <th>FrameNumber</th>\n      <th>AccX (g)</th>\n    </tr>\n  </thead>\n  <tbody>\n    <tr>\n      <th>1</th>\n      <td>1</td>\n      <td>-0.00</td>\n      <td>0</td>\n      <td>0.036245</td>\n    </tr>\n    <tr>\n      <th>5</th>\n      <td>1</td>\n      <td>0.02</td>\n      <td>1</td>\n      <td>0.036455</td>\n    </tr>\n    <tr>\n      <th>6</th>\n      <td>1</td>\n      <td>0.04</td>\n      <td>2</td>\n      <td>0.038378</td>\n    </tr>\n    <tr>\n      <th>7</th>\n      <td>1</td>\n      <td>0.06</td>\n      <td>3</td>\n      <td>0.039858</td>\n    </tr>\n    <tr>\n      <th>9</th>\n      <td>1</td>\n      <td>0.08</td>\n      <td>4</td>\n      <td>0.037581</td>\n    </tr>\n    <tr>\n      <th>...</th>\n      <td>...</td>\n      <td>...</td>\n      <td>...</td>\n      <td>...</td>\n    </tr>\n    <tr>\n      <th>5984</th>\n      <td>1</td>\n      <td>39.90</td>\n      <td>1995</td>\n      <td>0.038362</td>\n    </tr>\n    <tr>\n      <th>5985</th>\n      <td>1</td>\n      <td>39.92</td>\n      <td>1996</td>\n      <td>0.038292</td>\n    </tr>\n    <tr>\n      <th>5987</th>\n      <td>1</td>\n      <td>39.94</td>\n      <td>1997</td>\n      <td>0.038007</td>\n    </tr>\n    <tr>\n      <th>5990</th>\n      <td>1</td>\n      <td>39.96</td>\n      <td>1998</td>\n      <td>0.038119</td>\n    </tr>\n    <tr>\n      <th>5993</th>\n      <td>1</td>\n      <td>39.98</td>\n      <td>1999</td>\n      <td>0.037916</td>\n    </tr>\n  </tbody>\n</table>\n<p>2000 rows × 4 columns</p>\n</div>"
     },
     "metadata": {},
     "execution_count": 9
    }
   ],
   "source": [
    "df_1 = df_1.iloc[:2000, :4]\n",
    "df_1"
   ]
  }
 ]
}