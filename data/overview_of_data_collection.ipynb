{
  "cells": [
    {
      "cell_type": "markdown",
      "source": [
        "# Oversikt over datainnsamlinger"
      ],
      "metadata": {
        "tags": [],
        "cell_id": "00001-e837c9f4-96c3-41a8-81a2-003db3a48f7d",
        "deepnote_cell_type": "markdown"
      }
    },
    {
      "cell_type": "markdown",
      "source": [
        "I denne notaboken ønsker vi holde oversikt over alle datainnsamlingene vi har hatt til nå, med kommentarer der det er behov for dette"
      ],
      "metadata": {
        "tags": [],
        "cell_id": "00002-d6ae293b-5582-4317-a798-26ac7ee90649",
        "deepnote_cell_type": "markdown"
      }
    },
    {
      "cell_type": "markdown",
      "source": [
        "### Innsamlinger av treningssett\n",
        "\n",
        "28.01.21 - Simon 1 sensor\n",
        "\n",
        "29.01.21 - ~~Simon 1 sensor forsøk 2~~ (Ikke i bruk)\n",
        "\n",
        "02.02.21 - ~~Xiaomeng med 1, 2 og 3 sensorer~~ (Litt rot her, samt manglende kalibrering) \n",
        "\n",
        "02.02.21 - ~~Martin 3 sensor forsøk 1~~ (Oppdaget manglende kalibrering, ikke samsvar mellom sensorer)\n",
        "\n",
        "\n",
        "`Vi prøvde så fikse problemene vi hadde med flere sensorer.\n",
        "Vi både at vi måtte kalibrere sensorene og lagre det til sensorene.`\n",
        "\n",
        "\n",
        "02.02.21 - Martin 1 sensor forsøk 2\n",
        "\n",
        "02.02.21 - Martin 2 sensor forsøk 2\n",
        "\n",
        "02.02.21 - Martin 3 sensor forsøk 2\n",
        "\n",
        "`Videre oppdaget vi at sensorene hadde forskjellige antall rader når vi spilte inn data synkront med flere sensorer.\n",
        "Vi måtte skru av bluetoothenheter, passe på avstand og synkronisere sensorene så er det så godt som vi klarer få til, med en rate på 0.075% datapunkter vi mister.`\n",
        "\n",
        "03.02.21 - Martin 3 sensor forsøk 3\n",
        "\n",
        "08.02.21 - Simon 1 sensor forsøk 3\n",
        "\n",
        "08.02.21 - Simon 2 sensor forsøk 3\n",
        "\n",
        "08.02.21 - Simon 3 sensor forsøk 3\n",
        "\n",
        "08.02.21 - Jonas 1 sensor forsøk 1\n",
        "\n",
        "08.02.21 - ~~Jonas 2 sensor forsøk 1~~ (Manglende synkronisering)\n",
        "\n",
        "08.02.21 - Jonas 3 sensor forsøk 1\n",
        "\n",
        "`Innså i mellom her at vi bare kan spille inn med tre sensorer og kutte vekk x antall sensorer for datasett. Dette ga oss muligheten til å utvide tiden per posisjon.\n",
        "Ny tid var 3min pr 9 stillinger = 27min for treningssett`\n",
        "\n",
        "09.02.21 - Elise 3 sensor forsøk 1\n",
        "\n",
        "11.02.21 - Emanuel 3 sensor forsøk 1\n",
        "\n",
        "11.02.21 - Xiaomeng 3 sensor forsøk 2\n",
        "\n",
        "`Første gang vi spilte inn data et annet sted enn på vislabben, dette kan gi god testdekning for om magnetometerdata er noe vits i å bruke, eller om denne gir en unøyaktighet om en spiller inn under andre forhold.`\n",
        "\n",
        "03.03.21 - Joy 3 sensor forsøk 1\n",
        "\n",
        "03.03.21 - Lea 3 sensor forsøk 1\n",
        "\n",
        "`Vi oppdaget i ettertid at Joy og Lea var spilt inn i 10Hz, i forhold til de andre som er 50Hz. Går tilbake til 50Hz på de neste, men er en fin sjekk at vi har noen med annen frekvens.`\n",
        "\n",
        "12.04.21 - Zaim 3 sensor forsøk 1\n",
        "\n",
        "14.04.21 - Max 3 sensor forsøk 1\n",
        "\n"
      ],
      "metadata": {
        "tags": [],
        "cell_id": "00003-4366b9d5-7859-4af5-b621-7c5ecb3fef49",
        "deepnote_cell_type": "markdown"
      }
    },
    {
      "cell_type": "markdown",
      "source": [
        "### Innsamling av testsett\n",
        "\n",
        "02.02.21 - Simon 1 sensor\n",
        "\n",
        "03.02.21 - Martin 1 sensor \n",
        "\n",
        "03.02.21 - Martin 2 sensor\n",
        "\n",
        "04.02.21 - Martin 3 sensor\n",
        "\n",
        "09.02.21 - Elise 3 sensor\n",
        "\n",
        "11.02.21 - Emanuel 3 sensor\n",
        "\n",
        "11.02.21 - Xiaomeng 3 sensor\n",
        "\n",
        "03.03.21 - Joy 3 sensor\n",
        "\n",
        "03.03.21 - Lea 3 sensor\n",
        "\n",
        "12.04.21 - Zaim 3 sensor\n",
        "\n",
        "14.04.21 - Max 3 sensor\n",
        "\n"
      ],
      "metadata": {
        "tags": [],
        "cell_id": "00005-ed28cfec-c3b8-4af6-b0de-a670bfe5c334",
        "deepnote_cell_type": "markdown"
      }
    },
    {
      "cell_type": "markdown",
      "source": [
        "### Numerating\n",
        "\n",
        "001 - Martin\n",
        "\n",
        "002 - Simon\n",
        "\n",
        "003 - Jonas\n",
        "\n",
        "004 - Xiaomeng\n",
        "\n",
        "005 - Elise\n",
        "\n",
        "006 - Emanuel\n",
        "\n",
        "007 - Lea\n",
        "\n",
        "008 - Joy\n",
        "\n",
        "009 - Zaim\n",
        "\n",
        "010 - Max"
      ],
      "metadata": {
        "tags": [],
        "cell_id": "00005-6b89f7be-8303-4282-b42e-e72ce9cf9060",
        "deepnote_cell_type": "markdown"
      }
    }
  ],
  "nbformat": 4,
  "nbformat_minor": 2,
  "metadata": {
    "orig_nbformat": 2,
    "deepnote_notebook_id": "549f5188-de96-4e50-bc4b-f8be9512f834",
    "deepnote": {},
    "deepnote_execution_queue": []
  }
}