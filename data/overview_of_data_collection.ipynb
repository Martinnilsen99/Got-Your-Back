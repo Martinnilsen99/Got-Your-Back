{
  "cells": [
    {
      "cell_type": "markdown",
      "source": "# Oversikt over datainnsamlinger",
      "metadata": {
        "tags": [],
        "cell_id": "00001-e837c9f4-96c3-41a8-81a2-003db3a48f7d",
        "deepnote_cell_type": "markdown"
      }
    },
    {
      "cell_type": "markdown",
      "source": "I denne notaboken ønsker vi holde oversikt over alle datainnsamlingene vi har hatt til nå, med kommentarer der det er behov for dette",
      "metadata": {
        "tags": [],
        "cell_id": "00002-d6ae293b-5582-4317-a798-26ac7ee90649",
        "deepnote_cell_type": "markdown"
      }
    },
    {
      "cell_type": "markdown",
      "source": "### Innsamlinger av treningssett\n\n28.01.21 - Simon 1 sensor\n\n29.01.21 - ~~Simon 1 sensor forsøk 2~~ (Ikke i bruk)\n\n02.02.21 - ~~Xiaomeng med 1, 2 og 3 sensorer~~ (Litt rot her, samt manglende kalibrering) \n\n02.02.21 - ~~Martin 3 sensor forsøk 1~~ (Oppdaget manglende kalibrering, ikke samsvar mellom sensorer)\n\n\n`Vi prøvde så fikse problemene vi hadde med flere sensorer.\nVi både at vi måtte kalibrere sensorene og lagre det til sensorene.`\n\n\n02.02.21 - Martin 1 sensor forsøk 2\n\n02.02.21 - Martin 2 sensor forsøk 2\n\n02.02.21 - Martin 3 sensor forsøk 2\n\n`Videre oppdaget vi at sensorene hadde forskjellige antall rader når vi spilte inn data synkront med flere sensorer.\nVi måtte skru av bluetoothenheter, passe på avstand og synkronisere sensorene så er det så godt som vi klarer få til, med en rate på 0.075% datapunkter vi mister.`\n\n03.02.21 - Martin 3 sensor forsøk 3\n\n08.02.21 - Simon 1 sensor forsøk 3\n\n08.02.21 - Simon 2 sensor forsøk 3\n\n08.02.21 - Simon 3 sensor forsøk 3\n\n08.02.21 - Jonas 1 sensor forsøk 1\n\n08.02.21 - ~~Jonas 2 sensor forsøk 1~~ (Manglende synkronisering)\n\n08.02.21 - Jonas 3 sensor forsøk 1\n\n`Innså i mellom her at vi bare kan spille inn med tre sensorer og kutte vekk x antall sensorer for datasett. Dette ga oss muligheten til å utvide tiden per posisjon.\nNy tid var 3min pr 9 stillinger = 27min for treningssett`\n\n09.02.21 - Elise 3 sensor forsøk 1\n\n11.02.21 - Emanuel 3 sensor forsøk 1\n\n11.02.21 - Xiaomeng 3 sensor forsøk 2\n\n`Første gang vi spilte inn data et annet sted enn på vislabben, dette kan gi god testdekning for om magnetometerdata er noe vits i å bruke, eller om denne gir en unøyaktighet om en spiller inn under andre forhold.`\n\n03.03.21 - Joy 3 sensor forsøk 1\n\n03.03.21 - Lea 3 sensor forsøk 1\n\n`Vi oppdaget i ettertid at Joy og Lea var spilt inn i 10Hz, i forhold til de andre som er 50Hz. Går tilbake til 50Hz på de neste, men er en fin sjekk at vi har noen med annen frekvens.`\n\n12.04.21 - Zaim 3 sensor forsøk 1\n\n14.04.21 - Max 3 sensor forsøk 1\n\n",
      "metadata": {
        "tags": [],
        "cell_id": "00003-4366b9d5-7859-4af5-b621-7c5ecb3fef49",
        "deepnote_cell_type": "markdown"
      }
    },
    {
      "cell_type": "markdown",
      "source": "### Innsamling av testsett\n\n02.02.21 - Simon 1 sensor\n\n03.02.21 - Martin 1 sensor \n\n03.02.21 - Martin 2 sensor\n\n04.02.21 - Martin 3 sensor\n\n09.02.21 - Elise 3 sensor\n\n11.02.21 - Emanuel 3 sensor\n\n11.02.21 - Xiaomeng 3 sensor\n\n03.03.21 - Joy 3 sensor\n\n03.03.21 - Lea 3 sensor\n\n12.04.21 - Zaim 3 sensor\n\n14.04.21 - Max 3 sensor\n\n",
      "metadata": {
        "tags": [],
        "cell_id": "00005-ed28cfec-c3b8-4af6-b0de-a670bfe5c334",
        "deepnote_cell_type": "markdown"
      }
    },
    {
      "cell_type": "markdown",
      "source": "### Numerating\n\n001 - Martin\n\n002 - Simon\n\n003 - Jonas\n\n004 - Xiaomeng\n\n005 - Elise\n\n006 - Emanuel\n\n007 - Lea\n\n008 - Joy\n\n009 - Zaim\n\n010 - Max",
      "metadata": {
        "tags": [],
        "cell_id": "00005-6b89f7be-8303-4282-b42e-e72ce9cf9060",
        "deepnote_cell_type": "markdown"
      }
    },
    {
      "cell_type": "markdown",
      "source": "<a style='text-decoration:none;line-height:16px;display:flex;color:#5B5B62;padding:10px;justify-content:end;' href='https://deepnote.com?utm_source=created-in-deepnote-cell&projectId=59d486bc-e14d-4632-9064-12272fc72d11' target=\"_blank\">\n<img alt='Created in deepnote.com' style='display:inline;max-height:16px;margin:0px;margin-right:7.5px;' src='data:image/svg+xml;base64,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' > </img>\nCreated in <span style='font-weight:600;margin-left:4px;'>Deepnote</span></a>",
      "metadata": {
        "tags": [],
        "created_in_deepnote_cell": true,
        "deepnote_cell_type": "markdown"
      }
    }
  ],
  "nbformat": 4,
  "nbformat_minor": 2,
  "metadata": {
    "orig_nbformat": 2,
    "deepnote_notebook_id": "549f5188-de96-4e50-bc4b-f8be9512f834",
    "deepnote": {},
    "deepnote_execution_queue": []
  }
}