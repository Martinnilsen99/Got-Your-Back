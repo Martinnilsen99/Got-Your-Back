{
 "cells": [
  {
   "cell_type": "code",
   "execution_count": 1,
   "metadata": {},
   "outputs": [],
   "source": [
    "import pandas as pd\n",
    "import numpy as np\n",
    "import seaborn as sns\n",
    "import sys\n",
    "sys.path.insert(1, os.path.join(sys.path[0], '..'))\n",
    "from struct_data import struct_data\n",
    "\n",
    "csv_f_name = \"../../data/sensortest/data_martin_sensortest.csv\"\n",
    "annot_f_name = \"../../data/annotation/martin_sensortest.txt\"\n",
    "\n",
    "POSE_MAP= {\n",
    "    \"rett\": 0,\n",
    "    \"fram\": 1,\n",
    "    \"fram-hoyre\": 2,\n",
    "    \"hoyre\": 3,\n",
    "    \"bak-hoyre\": 4,\n",
    "    \"bak\": 5,\n",
    "    \"bak-venstre\": 6,\n",
    "    \"venstre\": 7,\n",
    "    \"fram-venstre\": 8\n",
    "}\n",
    "\n",
    "knn_train = struct_data(csv_f_name, annot_f_name, POSE_MAP)"
   ]
  },
  {
   "cell_type": "code",
   "execution_count": 2,
   "metadata": {},
   "outputs": [
    {
     "output_type": "stream",
     "name": "stdout",
     "text": [
      "1\n2\n3\n[-0.0, -0.0, -0.0]\n54078\n54078\n54078\n54078\n54078   54078   54078\n        SensorId   TimeStamp (s)   FrameNumber   AccX (g)   AccY (g)  \\\n2              1            0.00             0   0.019920  -0.794387   \n4              1            0.02             1   0.015635  -0.798804   \n6              1            0.04             2   0.015153  -0.801027   \n7              1            0.06             3   0.020163  -0.797502   \n9              1            0.08             4   0.026463  -0.787940   \n...          ...             ...           ...        ...        ...   \n162283         1         1082.08         54073  -0.702289  -0.091232   \n162285         1         1082.10         54074  -0.699011  -0.088285   \n162288         1         1082.12         54075  -0.723239  -0.084772   \n162290         1         1082.14         54076  -0.722882  -0.090453   \n162295         1         1082.16         54077  -0.715746  -0.091719   \n\n         AccZ (g)   GyroX (deg/s)   GyroY (deg/s)   GyroZ (deg/s)   MagX (uT)  \\\n2       -0.601370       -1.562904       -1.464186       -0.498630  -10.045666   \n4       -0.605099       -1.746947       -0.781661       -0.552266  -10.487769   \n6       -0.604974       -0.723603        0.261424       -0.555029  -10.635139   \n7       -0.608591       -0.445173        0.111246       -0.923887  -10.605668   \n9       -0.609870       -0.919388       -0.897010       -0.986847  -10.664613   \n...           ...             ...             ...             ...         ...   \n162283  -0.677052        0.771323       -2.120086        2.219131  -40.315224   \n162285  -0.671266       -0.186748       -1.807720        4.439038  -40.433117   \n162288  -0.665240        0.148049       -2.638496        3.695276  -40.786804   \n162290  -0.662082       -0.800669       -4.035131        1.457107  -40.433117   \n162295  -0.671831        0.720037       -2.232671        1.302863  -40.403645   \n\n        ...     QuatX     QuatY     QuatZ   LinAccX (g)   LinAccY (g)  \\\n2       ...  0.287525 -0.331934 -0.690842     -0.003905      0.005351   \n4       ...  0.287300 -0.331765 -0.691035      0.000312      0.010096   \n6       ...  0.287496 -0.331762 -0.691037      0.000915      0.012586   \n7       ...  0.287511 -0.331654 -0.691155     -0.003698      0.008849   \n9       ...  0.287353 -0.331585 -0.691356     -0.009806     -0.000566   \n...     ...       ...       ...       ...           ...           ...   \n162283  ... -0.361369 -0.163922 -0.874499     -0.020885      0.005850   \n162285  ... -0.361731 -0.163709 -0.874202     -0.024723      0.003658   \n162288  ... -0.362251 -0.163643 -0.873851     -0.001055      0.001250   \n162290  ... -0.362930 -0.163697 -0.873551     -0.002378      0.007560   \n162295  ... -0.363247 -0.163841 -0.873329     -0.010320      0.009078   \n\n         LinAccZ (g)   Pressure (kPa)   Altitude (m)   Temperature (degC)  \\\n2          -0.012768              0.0            0.0                  0.0   \n4          -0.009462              0.0            0.0                  0.0   \n6          -0.009926              0.0            0.0                  0.0   \n7          -0.006028              0.0            0.0                  0.0   \n9          -0.004931              0.0            0.0                  0.0   \n...              ...              ...            ...                  ...   \n162283     -0.008317              0.0            0.0                  0.0   \n162285     -0.013604              0.0            0.0                  0.0   \n162288     -0.019174              0.0            0.0                  0.0   \n162290     -0.021385              0.0            0.0                  0.0   \n162295     -0.010809              0.0            0.0                  0.0   \n\n         HeaveMotion (m)  \n2                    0.0  \n4                    0.0  \n6                    0.0  \n7                    0.0  \n9                    0.0  \n...                  ...  \n162283               0.0  \n162285               0.0  \n162288               0.0  \n162290               0.0  \n162295               0.0  \n\n[54078 rows x 26 columns]\n"
     ]
    },
    {
     "output_type": "execute_result",
     "data": {
      "text/plain": [
       "'stamped_poses = knn_train.get_timestamp_and_pose()\\nprint(stamped_poses)\\n\\ndf_train, df_stamped_poses = knn_train.align_poses(stamped_poses)\\n\\nprint(len(knn_train.df.index))\\n#print(len(df_stamped_poses))\\ny_train = knn_train.df[\"Pose\"]\\n#df[\\'Pose\\'].hist(bins=4)\\nsns.lineplot(data=df_train, x=\" TimeStamp (s)\", y=\\'Pose\\')'"
      ]
     },
     "metadata": {},
     "execution_count": 2
    }
   ],
   "source": [
    "knn_train.split_mult_sensor_data(3)\n",
    "offsets = knn_train.fix_offsets()\n",
    "print(offsets)\n",
    "min_len = knn_train.trim_excess_data()\n",
    "print(len(knn_train.df_arr[0].index), \" \", len(knn_train.df_arr[1].index), \" \", len(knn_train.df_arr[2].index))\n",
    "\n",
    "df_train_id1 = knn_train.df_arr[0]\n",
    "df_train_id2 = knn_train.df_arr[1]\n",
    "df_train_id3 = knn_train.df_arr[2]\n",
    "\n",
    "df_train_id1.index = [i for i in range(min_len)]\n",
    "df_train_id2.index = [i for i in range(min_len)]\n",
    "df_train_id3.index = [i for i in range(min_len)]\n",
    "\n",
    "\"\"\"stamped_poses = knn_train.get_timestamp_and_pose()\n",
    "print(stamped_poses)\n",
    "\n",
    "df_train, df_stamped_poses = knn_train.align_poses(stamped_poses)\n",
    "\n",
    "print(len(knn_train.df.index))\n",
    "#print(len(df_stamped_poses))\n",
    "y_train = knn_train.df[\"Pose\"]\n",
    "#df['Pose'].hist(bins=4)\n",
    "sns.lineplot(data=df_train, x=\" TimeStamp (s)\", y='Pose')\"\"\""
   ]
  },
  {
   "cell_type": "code",
   "execution_count": 3,
   "metadata": {},
   "outputs": [
    {
     "output_type": "execute_result",
     "data": {
      "text/plain": [
       "       SensorId   TimeStamp (s)   FrameNumber   AccX (g)   AccY (g)  \\\n",
       "0             1            0.00             0   0.019920  -0.794387   \n",
       "1             1            0.02             1   0.015635  -0.798804   \n",
       "2             1            0.04             2   0.015153  -0.801027   \n",
       "3             1            0.06             3   0.020163  -0.797502   \n",
       "4             1            0.08             4   0.026463  -0.787940   \n",
       "...         ...             ...           ...        ...        ...   \n",
       "54073         1         1082.08         54073  -0.702289  -0.091232   \n",
       "54074         1         1082.10         54074  -0.699011  -0.088285   \n",
       "54075         1         1082.12         54075  -0.723239  -0.084772   \n",
       "54076         1         1082.14         54076  -0.722882  -0.090453   \n",
       "54077         1         1082.16         54077  -0.715746  -0.091719   \n",
       "\n",
       "        AccZ (g)   GyroX (deg/s)   GyroY (deg/s)   GyroZ (deg/s)   MagX (uT)  \\\n",
       "0      -0.601370       -1.562904       -1.464186       -0.498630  -10.045666   \n",
       "1      -0.605099       -1.746947       -0.781661       -0.552266  -10.487769   \n",
       "2      -0.604974       -0.723603        0.261424       -0.555029  -10.635139   \n",
       "3      -0.608591       -0.445173        0.111246       -0.923887  -10.605668   \n",
       "4      -0.609870       -0.919388       -0.897010       -0.986847  -10.664613   \n",
       "...          ...             ...             ...             ...         ...   \n",
       "54073  -0.677052        0.771323       -2.120086        2.219131  -40.315224   \n",
       "54074  -0.671266       -0.186748       -1.807720        4.439038  -40.433117   \n",
       "54075  -0.665240        0.148049       -2.638496        3.695276  -40.786804   \n",
       "54076  -0.662082       -0.800669       -4.035131        1.457107  -40.433117   \n",
       "54077  -0.671831        0.720037       -2.232671        1.302863  -40.403645   \n",
       "\n",
       "       ...     QuatX     QuatY     QuatZ   LinAccX (g)   LinAccY (g)  \\\n",
       "0      ...  0.287525 -0.331934 -0.690842     -0.003905      0.005351   \n",
       "1      ...  0.287300 -0.331765 -0.691035      0.000312      0.010096   \n",
       "2      ...  0.287496 -0.331762 -0.691037      0.000915      0.012586   \n",
       "3      ...  0.287511 -0.331654 -0.691155     -0.003698      0.008849   \n",
       "4      ...  0.287353 -0.331585 -0.691356     -0.009806     -0.000566   \n",
       "...    ...       ...       ...       ...           ...           ...   \n",
       "54073  ... -0.361369 -0.163922 -0.874499     -0.020885      0.005850   \n",
       "54074  ... -0.361731 -0.163709 -0.874202     -0.024723      0.003658   \n",
       "54075  ... -0.362251 -0.163643 -0.873851     -0.001055      0.001250   \n",
       "54076  ... -0.362930 -0.163697 -0.873551     -0.002378      0.007560   \n",
       "54077  ... -0.363247 -0.163841 -0.873329     -0.010320      0.009078   \n",
       "\n",
       "        LinAccZ (g)   Pressure (kPa)   Altitude (m)   Temperature (degC)  \\\n",
       "0         -0.012768              0.0            0.0                  0.0   \n",
       "1         -0.009462              0.0            0.0                  0.0   \n",
       "2         -0.009926              0.0            0.0                  0.0   \n",
       "3         -0.006028              0.0            0.0                  0.0   \n",
       "4         -0.004931              0.0            0.0                  0.0   \n",
       "...             ...              ...            ...                  ...   \n",
       "54073     -0.008317              0.0            0.0                  0.0   \n",
       "54074     -0.013604              0.0            0.0                  0.0   \n",
       "54075     -0.019174              0.0            0.0                  0.0   \n",
       "54076     -0.021385              0.0            0.0                  0.0   \n",
       "54077     -0.010809              0.0            0.0                  0.0   \n",
       "\n",
       "        HeaveMotion (m)  \n",
       "0                   0.0  \n",
       "1                   0.0  \n",
       "2                   0.0  \n",
       "3                   0.0  \n",
       "4                   0.0  \n",
       "...                 ...  \n",
       "54073               0.0  \n",
       "54074               0.0  \n",
       "54075               0.0  \n",
       "54076               0.0  \n",
       "54077               0.0  \n",
       "\n",
       "[54078 rows x 26 columns]"
      ],
      "text/html": "<div>\n<style scoped>\n    .dataframe tbody tr th:only-of-type {\n        vertical-align: middle;\n    }\n\n    .dataframe tbody tr th {\n        vertical-align: top;\n    }\n\n    .dataframe thead th {\n        text-align: right;\n    }\n</style>\n<table border=\"1\" class=\"dataframe\">\n  <thead>\n    <tr style=\"text-align: right;\">\n      <th></th>\n      <th>SensorId</th>\n      <th>TimeStamp (s)</th>\n      <th>FrameNumber</th>\n      <th>AccX (g)</th>\n      <th>AccY (g)</th>\n      <th>AccZ (g)</th>\n      <th>GyroX (deg/s)</th>\n      <th>GyroY (deg/s)</th>\n      <th>GyroZ (deg/s)</th>\n      <th>MagX (uT)</th>\n      <th>...</th>\n      <th>QuatX</th>\n      <th>QuatY</th>\n      <th>QuatZ</th>\n      <th>LinAccX (g)</th>\n      <th>LinAccY (g)</th>\n      <th>LinAccZ (g)</th>\n      <th>Pressure (kPa)</th>\n      <th>Altitude (m)</th>\n      <th>Temperature (degC)</th>\n      <th>HeaveMotion (m)</th>\n    </tr>\n  </thead>\n  <tbody>\n    <tr>\n      <th>0</th>\n      <td>1</td>\n      <td>0.00</td>\n      <td>0</td>\n      <td>0.019920</td>\n      <td>-0.794387</td>\n      <td>-0.601370</td>\n      <td>-1.562904</td>\n      <td>-1.464186</td>\n      <td>-0.498630</td>\n      <td>-10.045666</td>\n      <td>...</td>\n      <td>0.287525</td>\n      <td>-0.331934</td>\n      <td>-0.690842</td>\n      <td>-0.003905</td>\n      <td>0.005351</td>\n      <td>-0.012768</td>\n      <td>0.0</td>\n      <td>0.0</td>\n      <td>0.0</td>\n      <td>0.0</td>\n    </tr>\n    <tr>\n      <th>1</th>\n      <td>1</td>\n      <td>0.02</td>\n      <td>1</td>\n      <td>0.015635</td>\n      <td>-0.798804</td>\n      <td>-0.605099</td>\n      <td>-1.746947</td>\n      <td>-0.781661</td>\n      <td>-0.552266</td>\n      <td>-10.487769</td>\n      <td>...</td>\n      <td>0.287300</td>\n      <td>-0.331765</td>\n      <td>-0.691035</td>\n      <td>0.000312</td>\n      <td>0.010096</td>\n      <td>-0.009462</td>\n      <td>0.0</td>\n      <td>0.0</td>\n      <td>0.0</td>\n      <td>0.0</td>\n    </tr>\n    <tr>\n      <th>2</th>\n      <td>1</td>\n      <td>0.04</td>\n      <td>2</td>\n      <td>0.015153</td>\n      <td>-0.801027</td>\n      <td>-0.604974</td>\n      <td>-0.723603</td>\n      <td>0.261424</td>\n      <td>-0.555029</td>\n      <td>-10.635139</td>\n      <td>...</td>\n      <td>0.287496</td>\n      <td>-0.331762</td>\n      <td>-0.691037</td>\n      <td>0.000915</td>\n      <td>0.012586</td>\n      <td>-0.009926</td>\n      <td>0.0</td>\n      <td>0.0</td>\n      <td>0.0</td>\n      <td>0.0</td>\n    </tr>\n    <tr>\n      <th>3</th>\n      <td>1</td>\n      <td>0.06</td>\n      <td>3</td>\n      <td>0.020163</td>\n      <td>-0.797502</td>\n      <td>-0.608591</td>\n      <td>-0.445173</td>\n      <td>0.111246</td>\n      <td>-0.923887</td>\n      <td>-10.605668</td>\n      <td>...</td>\n      <td>0.287511</td>\n      <td>-0.331654</td>\n      <td>-0.691155</td>\n      <td>-0.003698</td>\n      <td>0.008849</td>\n      <td>-0.006028</td>\n      <td>0.0</td>\n      <td>0.0</td>\n      <td>0.0</td>\n      <td>0.0</td>\n    </tr>\n    <tr>\n      <th>4</th>\n      <td>1</td>\n      <td>0.08</td>\n      <td>4</td>\n      <td>0.026463</td>\n      <td>-0.787940</td>\n      <td>-0.609870</td>\n      <td>-0.919388</td>\n      <td>-0.897010</td>\n      <td>-0.986847</td>\n      <td>-10.664613</td>\n      <td>...</td>\n      <td>0.287353</td>\n      <td>-0.331585</td>\n      <td>-0.691356</td>\n      <td>-0.009806</td>\n      <td>-0.000566</td>\n      <td>-0.004931</td>\n      <td>0.0</td>\n      <td>0.0</td>\n      <td>0.0</td>\n      <td>0.0</td>\n    </tr>\n    <tr>\n      <th>...</th>\n      <td>...</td>\n      <td>...</td>\n      <td>...</td>\n      <td>...</td>\n      <td>...</td>\n      <td>...</td>\n      <td>...</td>\n      <td>...</td>\n      <td>...</td>\n      <td>...</td>\n      <td>...</td>\n      <td>...</td>\n      <td>...</td>\n      <td>...</td>\n      <td>...</td>\n      <td>...</td>\n      <td>...</td>\n      <td>...</td>\n      <td>...</td>\n      <td>...</td>\n      <td>...</td>\n    </tr>\n    <tr>\n      <th>54073</th>\n      <td>1</td>\n      <td>1082.08</td>\n      <td>54073</td>\n      <td>-0.702289</td>\n      <td>-0.091232</td>\n      <td>-0.677052</td>\n      <td>0.771323</td>\n      <td>-2.120086</td>\n      <td>2.219131</td>\n      <td>-40.315224</td>\n      <td>...</td>\n      <td>-0.361369</td>\n      <td>-0.163922</td>\n      <td>-0.874499</td>\n      <td>-0.020885</td>\n      <td>0.005850</td>\n      <td>-0.008317</td>\n      <td>0.0</td>\n      <td>0.0</td>\n      <td>0.0</td>\n      <td>0.0</td>\n    </tr>\n    <tr>\n      <th>54074</th>\n      <td>1</td>\n      <td>1082.10</td>\n      <td>54074</td>\n      <td>-0.699011</td>\n      <td>-0.088285</td>\n      <td>-0.671266</td>\n      <td>-0.186748</td>\n      <td>-1.807720</td>\n      <td>4.439038</td>\n      <td>-40.433117</td>\n      <td>...</td>\n      <td>-0.361731</td>\n      <td>-0.163709</td>\n      <td>-0.874202</td>\n      <td>-0.024723</td>\n      <td>0.003658</td>\n      <td>-0.013604</td>\n      <td>0.0</td>\n      <td>0.0</td>\n      <td>0.0</td>\n      <td>0.0</td>\n    </tr>\n    <tr>\n      <th>54075</th>\n      <td>1</td>\n      <td>1082.12</td>\n      <td>54075</td>\n      <td>-0.723239</td>\n      <td>-0.084772</td>\n      <td>-0.665240</td>\n      <td>0.148049</td>\n      <td>-2.638496</td>\n      <td>3.695276</td>\n      <td>-40.786804</td>\n      <td>...</td>\n      <td>-0.362251</td>\n      <td>-0.163643</td>\n      <td>-0.873851</td>\n      <td>-0.001055</td>\n      <td>0.001250</td>\n      <td>-0.019174</td>\n      <td>0.0</td>\n      <td>0.0</td>\n      <td>0.0</td>\n      <td>0.0</td>\n    </tr>\n    <tr>\n      <th>54076</th>\n      <td>1</td>\n      <td>1082.14</td>\n      <td>54076</td>\n      <td>-0.722882</td>\n      <td>-0.090453</td>\n      <td>-0.662082</td>\n      <td>-0.800669</td>\n      <td>-4.035131</td>\n      <td>1.457107</td>\n      <td>-40.433117</td>\n      <td>...</td>\n      <td>-0.362930</td>\n      <td>-0.163697</td>\n      <td>-0.873551</td>\n      <td>-0.002378</td>\n      <td>0.007560</td>\n      <td>-0.021385</td>\n      <td>0.0</td>\n      <td>0.0</td>\n      <td>0.0</td>\n      <td>0.0</td>\n    </tr>\n    <tr>\n      <th>54077</th>\n      <td>1</td>\n      <td>1082.16</td>\n      <td>54077</td>\n      <td>-0.715746</td>\n      <td>-0.091719</td>\n      <td>-0.671831</td>\n      <td>0.720037</td>\n      <td>-2.232671</td>\n      <td>1.302863</td>\n      <td>-40.403645</td>\n      <td>...</td>\n      <td>-0.363247</td>\n      <td>-0.163841</td>\n      <td>-0.873329</td>\n      <td>-0.010320</td>\n      <td>0.009078</td>\n      <td>-0.010809</td>\n      <td>0.0</td>\n      <td>0.0</td>\n      <td>0.0</td>\n      <td>0.0</td>\n    </tr>\n  </tbody>\n</table>\n<p>54078 rows × 26 columns</p>\n</div>"
     },
     "metadata": {},
     "execution_count": 3
    }
   ],
   "source": [
    "df_train_id1"
   ]
  },
  {
   "cell_type": "code",
   "execution_count": null,
   "metadata": {},
   "outputs": [],
   "source": [
    "df_train_id2"
   ]
  },
  {
   "cell_type": "code",
   "execution_count": null,
   "metadata": {},
   "outputs": [],
   "source": [
    "df_train_id3"
   ]
  },
  {
   "cell_type": "code",
   "execution_count": null,
   "metadata": {
    "scrolled": false
   },
   "outputs": [],
   "source": [
    "x_train = df_train.drop([' TimeStamp (s)'],axis=1)\n",
    "x_train = x_train.drop(['Pose', ' FrameNumber', ' LinAccX (g)', ' LinAccY (g)', ' LinAccZ (g)', ' Pressure (kPa)',\n",
    "                      ' Altitude (m)', ' Temperature (degC)', ' HeaveMotion (m)'],axis=1)\n",
    "# x_train[x_train['SensorId'] == 1]\n",
    "x_train"
   ]
  },
  {
   "cell_type": "code",
   "execution_count": null,
   "metadata": {},
   "outputs": [],
   "source": [
    "print(y_train)\n",
    "print(len(y_train))"
   ]
  },
  {
   "cell_type": "code",
   "execution_count": null,
   "metadata": {},
   "outputs": [],
   "source": [
    "csv_file = \"../../data/test_data/Simon_test_1.csv\"\n",
    "annot_file = \"../../data/annotation/Simon_test_1.txt\"\n",
    "\"\"\"\n",
    "csv_file = \"../../data/train_data/data_martin_1_sub.csv\"\n",
    "annot_file = \"../../data/annotation/martin_train_1_sub.txt\"\n",
    "\"\"\"\n",
    "knn_test = struct_data(csv_file, annot_file, POSE_MAP)\n",
    "s_poses = knn_test.get_timestamp_and_pose()\n",
    "print(s_poses)\n",
    "df_test, df_stamped_poses = knn_test.align_poses(s_poses)\n",
    "df_test[\"SensorId\"] = np.ones(len(df_test.index)) \n",
    "\n",
    "y_test = df_stamped_poses #df_test[\"Pose\"]"
   ]
  },
  {
   "cell_type": "code",
   "execution_count": null,
   "metadata": {
    "scrolled": false
   },
   "outputs": [],
   "source": [
    "knn_test.df"
   ]
  },
  {
   "cell_type": "code",
   "execution_count": null,
   "metadata": {},
   "outputs": [],
   "source": [
    "x_test = df_test.drop([' TimeStamp (s)'],axis=1)\n",
    "x_test = x_test.drop(['Pose'],axis=1)\n",
    "x_test"
   ]
  },
  {
   "cell_type": "code",
   "execution_count": null,
   "metadata": {
    "scrolled": true
   },
   "outputs": [],
   "source": [
    "\"\"\"\n",
    "from sklearn import svm\n",
    "from sklearn.pipeline import make_pipeline\n",
    "from sklearn.preprocessing import StandardScaler\n",
    "from sklearn.neighbors import NeighborhoodComponentsAnalysis,KNeighborsClassifier\n",
    "from sklearn.model_selection import train_test_split\n",
    "from sklearn.pipeline import Pipeline\n",
    "from sklearn.neighbors import KNeighborsClassifier\n",
    "\n",
    "k = 1\n",
    "accuracy_array = []\n",
    "k_array = []\n",
    "\n",
    "for num in range(20):\n",
    "    \n",
    "    neigh = KNeighborsClassifier(n_neighbors=k)\n",
    "    neigh.fit(x_train,y_train)\n",
    "    predictions = neigh.predict(x_test)\n",
    "    number_of_corrects = 0\n",
    "\n",
    "    print(y_test[1200:1230])\n",
    "   \n",
    "    for n in range(len(predictions)):\n",
    "        if(predictions[n] == y_test[n]):\n",
    "            number_of_corrects += 1\n",
    "\n",
    "    print(\"number of correct: {}\".format(number_of_corrects))\n",
    "    print(\"number of guesses: {}\".format(len(predictions)))\n",
    "    print(\"% correct: {}\".format(number_of_corrects/len(predictions)*100))\n",
    "    accuracy_array.append(number_of_corrects/len(predictions)*100)\n",
    "    k_array.append(k)\n",
    "    print(\"K: {}\".format(k))\n",
    "    k += 1\n",
    "    print(accuracy_array)\n",
    "    print(k_array)\n",
    "\n",
    "resframe = pd.DataFrame({'k':k_array, '%':accuracy_array})\n",
    "resframe\n",
    "    \n",
    "\n",
    "sns.lineplot(data=resframe,x=\"k\",y=\"%\")\n",
    "\"\"\"\n"
   ]
  },
  {
   "cell_type": "code",
   "execution_count": null,
   "metadata": {},
   "outputs": [],
   "source": [
    "from sklearn.neighbors import NeighborhoodComponentsAnalysis,KNeighborsClassifier\n",
    "from sklearn.model_selection import train_test_split\n",
    "from sklearn.pipeline import Pipeline\n",
    "from sklearn.neighbors import KNeighborsClassifier\n",
    "\n",
    "print(x_train.shape)\n",
    "print(y_train.shape)\n",
    "print(x_test.shape)\n",
    "\n",
    "#x_train = x_train.drop(['SensorId'], axis=1)\n",
    "#x_test = x_test.drop(['SensorId'], axis=1)\n",
    "\n",
    "neigh = KNeighborsClassifier(n_neighbors=1)\n",
    "neigh.fit(x_train,y_train)\n",
    "predictions = neigh.predict(x_test)\n"
   ]
  },
  {
   "cell_type": "code",
   "execution_count": null,
   "metadata": {},
   "outputs": [],
   "source": [
    "x_test"
   ]
  },
  {
   "cell_type": "code",
   "execution_count": null,
   "metadata": {
    "tags": []
   },
   "outputs": [],
   "source": [
    "\"\"\"\n",
    "for num in range(len(predictions)):\n",
    "    print(predictions[num])\n",
    "\"\"\""
   ]
  },
  {
   "cell_type": "code",
   "execution_count": null,
   "metadata": {},
   "outputs": [],
   "source": [
    "df_predict = pd.DataFrame({'x':df_test[' TimeStamp (s)'],'y':predictions})\n",
    "sns.lineplot(data=df_predict,x='x',y='y')"
   ]
  },
  {
   "cell_type": "code",
   "execution_count": null,
   "metadata": {},
   "outputs": [],
   "source": [
    "from sklearn.metrics import classification_report, confusion_matrix\n",
    "print(confusion_matrix(y_test, predictions))\n",
    "print(classification_report(y_test, predictions, zero_division=True))"
   ]
  },
  {
   "cell_type": "code",
   "execution_count": null,
   "metadata": {
    "scrolled": true
   },
   "outputs": [],
   "source": [
    "sns.heatmap(confusion_matrix(y_test, predictions), cmap=\"YlGnBu\", annot=True, fmt=\"d\")"
   ]
  },
  {
   "cell_type": "code",
   "execution_count": null,
   "metadata": {},
   "outputs": [],
   "source": [
    "number_of_corrects = 0\n",
    "for num in range(len(predictions)):\n",
    "    if(predictions[num] == y_test[num]):\n",
    "        number_of_corrects += 1\n",
    "\n",
    "print(\"number of correct: {}\".format(number_of_corrects))\n",
    "print(\"number of guesses: {}\".format(len(predictions)))\n",
    "print(\"% correct: {}\".format(number_of_corrects/len(predictions)*100))"
   ]
  },
  {
   "cell_type": "markdown",
   "metadata": {},
   "source": []
  }
 ],
 "metadata": {
  "kernelspec": {
   "name": "python3",
   "display_name": "Python 3",
   "language": "python"
  },
  "language_info": {
   "codemirror_mode": {
    "name": "ipython",
    "version": 3
   },
   "file_extension": ".py",
   "mimetype": "text/x-python",
   "name": "python",
   "nbconvert_exporter": "python",
   "pygments_lexer": "ipython3",
   "version": "3.8.0-final"
  }
 },
 "nbformat": 4,
 "nbformat_minor": 4
}