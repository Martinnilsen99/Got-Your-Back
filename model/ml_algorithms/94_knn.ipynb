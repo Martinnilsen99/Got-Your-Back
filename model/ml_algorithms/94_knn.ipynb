{
 "cells": [
  {
   "cell_type": "code",
<<<<<<< HEAD
   "execution_count": 10,
=======
   "execution_count": null,
>>>>>>> f7d01d9fff2d7784b47e7d04e473e38fc80fea8d
   "metadata": {},
   "outputs": [],
   "source": [
    "import pandas as pd\n",
    "import numpy as np\n",
    "import seaborn as sns\n",
    "import sys\n",
    "sys.path.insert(1, os.path.join(sys.path[0], '..'))\n",
    "from struct_data import struct_data\n",
    "\n",
    "csv_f_name = \"../../data/sensortest/data_martin_sensortest.csv\"\n",
    "annot_f_name = \"../../data/annotation/martin_sensortest.txt\"\n",
    "\n",
    "POSE_MAP= {\n",
    "    \"rett\": 0,\n",
    "    \"fram\": 1,\n",
    "    \"fram-hoyre\": 2,\n",
    "    \"hoyre\": 3,\n",
    "    \"bak-hoyre\": 4,\n",
    "    \"bak\": 5,\n",
    "    \"bak-venstre\": 6,\n",
    "    \"venstre\": 7,\n",
    "    \"fram-venstre\": 8\n",
    "}\n",
    "\n",
    "knn_train = struct_data(csv_f_name, annot_f_name, POSE_MAP)"
   ]
  },
  {
   "cell_type": "code",
<<<<<<< HEAD
   "execution_count": 11,
=======
   "execution_count": null,
>>>>>>> f7d01d9fff2d7784b47e7d04e473e38fc80fea8d
   "metadata": {},
<<<<<<< HEAD
   "outputs": [],
=======
   "outputs": [
    {
     "output_type": "stream",
     "name": "stdout",
     "text": [
<<<<<<< HEAD
      "1\n2\n3\n[-0.0, -0.0, -0.0]\n54078\n54078\n54078\n54078\n54078   54078   54078\n        SensorId   TimeStamp (s)   FrameNumber   AccX (g)   AccY (g)  \\\n2              1            0.00             0   0.019920  -0.794387   \n4              1            0.02             1   0.015635  -0.798804   \n6              1            0.04             2   0.015153  -0.801027   \n7              1            0.06             3   0.020163  -0.797502   \n9              1            0.08             4   0.026463  -0.787940   \n...          ...             ...           ...        ...        ...   \n162283         1         1082.08         54073  -0.702289  -0.091232   \n162285         1         1082.10         54074  -0.699011  -0.088285   \n162288         1         1082.12         54075  -0.723239  -0.084772   \n162290         1         1082.14         54076  -0.722882  -0.090453   \n162295         1         1082.16         54077  -0.715746  -0.091719   \n\n         AccZ (g)   GyroX (deg/s)   GyroY (deg/s)   GyroZ (deg/s)   MagX (uT)  \\\n2       -0.601370       -1.562904       -1.464186       -0.498630  -10.045666   \n4       -0.605099       -1.746947       -0.781661       -0.552266  -10.487769   \n6       -0.604974       -0.723603        0.261424       -0.555029  -10.635139   \n7       -0.608591       -0.445173        0.111246       -0.923887  -10.605668   \n9       -0.609870       -0.919388       -0.897010       -0.986847  -10.664613   \n...           ...             ...             ...             ...         ...   \n162283  -0.677052        0.771323       -2.120086        2.219131  -40.315224   \n162285  -0.671266       -0.186748       -1.807720        4.439038  -40.433117   \n162288  -0.665240        0.148049       -2.638496        3.695276  -40.786804   \n162290  -0.662082       -0.800669       -4.035131        1.457107  -40.433117   \n162295  -0.671831        0.720037       -2.232671        1.302863  -40.403645   \n\n        ...     QuatX     QuatY     QuatZ   LinAccX (g)   LinAccY (g)  \\\n2       ...  0.287525 -0.331934 -0.690842     -0.003905      0.005351   \n4       ...  0.287300 -0.331765 -0.691035      0.000312      0.010096   \n6       ...  0.287496 -0.331762 -0.691037      0.000915      0.012586   \n7       ...  0.287511 -0.331654 -0.691155     -0.003698      0.008849   \n9       ...  0.287353 -0.331585 -0.691356     -0.009806     -0.000566   \n...     ...       ...       ...       ...           ...           ...   \n162283  ... -0.361369 -0.163922 -0.874499     -0.020885      0.005850   \n162285  ... -0.361731 -0.163709 -0.874202     -0.024723      0.003658   \n162288  ... -0.362251 -0.163643 -0.873851     -0.001055      0.001250   \n162290  ... -0.362930 -0.163697 -0.873551     -0.002378      0.007560   \n162295  ... -0.363247 -0.163841 -0.873329     -0.010320      0.009078   \n\n         LinAccZ (g)   Pressure (kPa)   Altitude (m)   Temperature (degC)  \\\n2          -0.012768              0.0            0.0                  0.0   \n4          -0.009462              0.0            0.0                  0.0   \n6          -0.009926              0.0            0.0                  0.0   \n7          -0.006028              0.0            0.0                  0.0   \n9          -0.004931              0.0            0.0                  0.0   \n...              ...              ...            ...                  ...   \n162283     -0.008317              0.0            0.0                  0.0   \n162285     -0.013604              0.0            0.0                  0.0   \n162288     -0.019174              0.0            0.0                  0.0   \n162290     -0.021385              0.0            0.0                  0.0   \n162295     -0.010809              0.0            0.0                  0.0   \n\n         HeaveMotion (m)  \n2                    0.0  \n4                    0.0  \n6                    0.0  \n7                    0.0  \n9                    0.0  \n...                  ...  \n162283               0.0  \n162285               0.0  \n162288               0.0  \n162290               0.0  \n162295               0.0  \n\n[54078 rows x 26 columns]\n"
=======
      "1\n2\n3\n"
>>>>>>> 6db5aca97ec5ecc2b2d5444017a592b177503a13
     ]
    },
    {
     "output_type": "execute_result",
     "data": {
      "text/plain": [
       "       SensorId   TimeStamp (s)   FrameNumber   AccX (g)   AccY (g)  \\\n",
       "0             1            0.00             0   0.019920  -0.794387   \n",
       "1             1            0.02             1   0.015635  -0.798804   \n",
       "2             1            0.04             2   0.015153  -0.801027   \n",
       "3             1            0.06             3   0.020163  -0.797502   \n",
       "4             1            0.08             4   0.026463  -0.787940   \n",
       "...         ...             ...           ...        ...        ...   \n",
       "54073         1         1082.08         54073  -0.702289  -0.091232   \n",
       "54074         1         1082.10         54074  -0.699011  -0.088285   \n",
       "54075         1         1082.12         54075  -0.723239  -0.084772   \n",
       "54076         1         1082.14         54076  -0.722882  -0.090453   \n",
       "54077         1         1082.16         54077  -0.715746  -0.091719   \n",
       "\n",
       "        AccZ (g)   GyroX (deg/s)   GyroY (deg/s)   GyroZ (deg/s)   MagX (uT)  \\\n",
       "0      -0.601370       -1.562904       -1.464186       -0.498630  -10.045666   \n",
       "1      -0.605099       -1.746947       -0.781661       -0.552266  -10.487769   \n",
       "2      -0.604974       -0.723603        0.261424       -0.555029  -10.635139   \n",
       "3      -0.608591       -0.445173        0.111246       -0.923887  -10.605668   \n",
       "4      -0.609870       -0.919388       -0.897010       -0.986847  -10.664613   \n",
       "...          ...             ...             ...             ...         ...   \n",
       "54073  -0.677052        0.771323       -2.120086        2.219131  -40.315224   \n",
       "54074  -0.671266       -0.186748       -1.807720        4.439038  -40.433117   \n",
       "54075  -0.665240        0.148049       -2.638496        3.695276  -40.786804   \n",
       "54076  -0.662082       -0.800669       -4.035131        1.457107  -40.433117   \n",
       "54077  -0.671831        0.720037       -2.232671        1.302863  -40.403645   \n",
       "\n",
       "       ...     QuatX     QuatY     QuatZ   LinAccX (g)   LinAccY (g)  \\\n",
       "0      ... -0.335055  0.135482  0.557184     -0.007847     -0.005971   \n",
       "1      ... -0.334987  0.135538  0.557254     -0.015154     -0.011941   \n",
       "2      ... -0.335022  0.135195  0.557491     -0.011315     -0.005282   \n",
       "3      ... -0.335146  0.135219  0.557584     -0.000323      0.005833   \n",
       "4      ... -0.335222  0.135169  0.557759      0.002410      0.009329   \n",
       "...    ...       ...       ...       ...           ...           ...   \n",
       "54073  ...  0.192780 -0.028701  0.584435     -0.005726     -0.012494   \n",
       "54074  ...  0.192232 -0.028697  0.584581     -0.004965     -0.005307   \n",
       "54075  ...  0.191664 -0.028603  0.584685     -0.012554     -0.003892   \n",
       "54076  ...  0.191250 -0.028450  0.584707     -0.024357      0.009632   \n",
       "54077  ...  0.190767 -0.028147  0.584701     -0.012726      0.010248   \n",
       "\n",
       "        LinAccZ (g)   Pressure (kPa)   Altitude (m)   Temperature (degC)  \\\n",
       "0          0.011232              0.0            0.0                  0.0   \n",
       "1          0.011821              0.0            0.0                  0.0   \n",
       "2          0.003873              0.0            0.0                  0.0   \n",
       "3          0.000583              0.0            0.0                  0.0   \n",
       "4          0.006268              0.0            0.0                  0.0   \n",
       "...             ...              ...            ...                  ...   \n",
       "54073     -0.010307              0.0            0.0                  0.0   \n",
       "54074     -0.003350              0.0            0.0                  0.0   \n",
       "54075     -0.007108              0.0            0.0                  0.0   \n",
       "54076     -0.005762              0.0            0.0                  0.0   \n",
       "54077     -0.003465              0.0            0.0                  0.0   \n",
       "\n",
       "        HeaveMotion (m)  \n",
       "0                   0.0  \n",
       "1                   0.0  \n",
       "2                   0.0  \n",
       "3                   0.0  \n",
       "4                   0.0  \n",
       "...                 ...  \n",
       "54073               0.0  \n",
       "54074               0.0  \n",
       "54075               0.0  \n",
       "54076               0.0  \n",
       "54077               0.0  \n",
       "\n",
       "[54078 rows x 78 columns]"
      ],
      "text/html": "<div>\n<style scoped>\n    .dataframe tbody tr th:only-of-type {\n        vertical-align: middle;\n    }\n\n    .dataframe tbody tr th {\n        vertical-align: top;\n    }\n\n    .dataframe thead th {\n        text-align: right;\n    }\n</style>\n<table border=\"1\" class=\"dataframe\">\n  <thead>\n    <tr style=\"text-align: right;\">\n      <th></th>\n      <th>SensorId</th>\n      <th>TimeStamp (s)</th>\n      <th>FrameNumber</th>\n      <th>AccX (g)</th>\n      <th>AccY (g)</th>\n      <th>AccZ (g)</th>\n      <th>GyroX (deg/s)</th>\n      <th>GyroY (deg/s)</th>\n      <th>GyroZ (deg/s)</th>\n      <th>MagX (uT)</th>\n      <th>...</th>\n      <th>QuatX</th>\n      <th>QuatY</th>\n      <th>QuatZ</th>\n      <th>LinAccX (g)</th>\n      <th>LinAccY (g)</th>\n      <th>LinAccZ (g)</th>\n      <th>Pressure (kPa)</th>\n      <th>Altitude (m)</th>\n      <th>Temperature (degC)</th>\n      <th>HeaveMotion (m)</th>\n    </tr>\n  </thead>\n  <tbody>\n    <tr>\n      <th>0</th>\n      <td>1</td>\n      <td>0.00</td>\n      <td>0</td>\n      <td>0.019920</td>\n      <td>-0.794387</td>\n      <td>-0.601370</td>\n      <td>-1.562904</td>\n      <td>-1.464186</td>\n      <td>-0.498630</td>\n      <td>-10.045666</td>\n      <td>...</td>\n      <td>-0.335055</td>\n      <td>0.135482</td>\n      <td>0.557184</td>\n      <td>-0.007847</td>\n      <td>-0.005971</td>\n      <td>0.011232</td>\n      <td>0.0</td>\n      <td>0.0</td>\n      <td>0.0</td>\n      <td>0.0</td>\n    </tr>\n    <tr>\n      <th>1</th>\n      <td>1</td>\n      <td>0.02</td>\n      <td>1</td>\n      <td>0.015635</td>\n      <td>-0.798804</td>\n      <td>-0.605099</td>\n      <td>-1.746947</td>\n      <td>-0.781661</td>\n      <td>-0.552266</td>\n      <td>-10.487769</td>\n      <td>...</td>\n      <td>-0.334987</td>\n      <td>0.135538</td>\n      <td>0.557254</td>\n      <td>-0.015154</td>\n      <td>-0.011941</td>\n      <td>0.011821</td>\n      <td>0.0</td>\n      <td>0.0</td>\n      <td>0.0</td>\n      <td>0.0</td>\n    </tr>\n    <tr>\n      <th>2</th>\n      <td>1</td>\n      <td>0.04</td>\n      <td>2</td>\n      <td>0.015153</td>\n      <td>-0.801027</td>\n      <td>-0.604974</td>\n      <td>-0.723603</td>\n      <td>0.261424</td>\n      <td>-0.555029</td>\n      <td>-10.635139</td>\n      <td>...</td>\n      <td>-0.335022</td>\n      <td>0.135195</td>\n      <td>0.557491</td>\n      <td>-0.011315</td>\n      <td>-0.005282</td>\n      <td>0.003873</td>\n      <td>0.0</td>\n      <td>0.0</td>\n      <td>0.0</td>\n      <td>0.0</td>\n    </tr>\n    <tr>\n      <th>3</th>\n      <td>1</td>\n      <td>0.06</td>\n      <td>3</td>\n      <td>0.020163</td>\n      <td>-0.797502</td>\n      <td>-0.608591</td>\n      <td>-0.445173</td>\n      <td>0.111246</td>\n      <td>-0.923887</td>\n      <td>-10.605668</td>\n      <td>...</td>\n      <td>-0.335146</td>\n      <td>0.135219</td>\n      <td>0.557584</td>\n      <td>-0.000323</td>\n      <td>0.005833</td>\n      <td>0.000583</td>\n      <td>0.0</td>\n      <td>0.0</td>\n      <td>0.0</td>\n      <td>0.0</td>\n    </tr>\n    <tr>\n      <th>4</th>\n      <td>1</td>\n      <td>0.08</td>\n      <td>4</td>\n      <td>0.026463</td>\n      <td>-0.787940</td>\n      <td>-0.609870</td>\n      <td>-0.919388</td>\n      <td>-0.897010</td>\n      <td>-0.986847</td>\n      <td>-10.664613</td>\n      <td>...</td>\n      <td>-0.335222</td>\n      <td>0.135169</td>\n      <td>0.557759</td>\n      <td>0.002410</td>\n      <td>0.009329</td>\n      <td>0.006268</td>\n      <td>0.0</td>\n      <td>0.0</td>\n      <td>0.0</td>\n      <td>0.0</td>\n    </tr>\n    <tr>\n      <th>...</th>\n      <td>...</td>\n      <td>...</td>\n      <td>...</td>\n      <td>...</td>\n      <td>...</td>\n      <td>...</td>\n      <td>...</td>\n      <td>...</td>\n      <td>...</td>\n      <td>...</td>\n      <td>...</td>\n      <td>...</td>\n      <td>...</td>\n      <td>...</td>\n      <td>...</td>\n      <td>...</td>\n      <td>...</td>\n      <td>...</td>\n      <td>...</td>\n      <td>...</td>\n      <td>...</td>\n    </tr>\n    <tr>\n      <th>54073</th>\n      <td>1</td>\n      <td>1082.08</td>\n      <td>54073</td>\n      <td>-0.702289</td>\n      <td>-0.091232</td>\n      <td>-0.677052</td>\n      <td>0.771323</td>\n      <td>-2.120086</td>\n      <td>2.219131</td>\n      <td>-40.315224</td>\n      <td>...</td>\n      <td>0.192780</td>\n      <td>-0.028701</td>\n      <td>0.584435</td>\n      <td>-0.005726</td>\n      <td>-0.012494</td>\n      <td>-0.010307</td>\n      <td>0.0</td>\n      <td>0.0</td>\n      <td>0.0</td>\n      <td>0.0</td>\n    </tr>\n    <tr>\n      <th>54074</th>\n      <td>1</td>\n      <td>1082.10</td>\n      <td>54074</td>\n      <td>-0.699011</td>\n      <td>-0.088285</td>\n      <td>-0.671266</td>\n      <td>-0.186748</td>\n      <td>-1.807720</td>\n      <td>4.439038</td>\n      <td>-40.433117</td>\n      <td>...</td>\n      <td>0.192232</td>\n      <td>-0.028697</td>\n      <td>0.584581</td>\n      <td>-0.004965</td>\n      <td>-0.005307</td>\n      <td>-0.003350</td>\n      <td>0.0</td>\n      <td>0.0</td>\n      <td>0.0</td>\n      <td>0.0</td>\n    </tr>\n    <tr>\n      <th>54075</th>\n      <td>1</td>\n      <td>1082.12</td>\n      <td>54075</td>\n      <td>-0.723239</td>\n      <td>-0.084772</td>\n      <td>-0.665240</td>\n      <td>0.148049</td>\n      <td>-2.638496</td>\n      <td>3.695276</td>\n      <td>-40.786804</td>\n      <td>...</td>\n      <td>0.191664</td>\n      <td>-0.028603</td>\n      <td>0.584685</td>\n      <td>-0.012554</td>\n      <td>-0.003892</td>\n      <td>-0.007108</td>\n      <td>0.0</td>\n      <td>0.0</td>\n      <td>0.0</td>\n      <td>0.0</td>\n    </tr>\n    <tr>\n      <th>54076</th>\n      <td>1</td>\n      <td>1082.14</td>\n      <td>54076</td>\n      <td>-0.722882</td>\n      <td>-0.090453</td>\n      <td>-0.662082</td>\n      <td>-0.800669</td>\n      <td>-4.035131</td>\n      <td>1.457107</td>\n      <td>-40.433117</td>\n      <td>...</td>\n      <td>0.191250</td>\n      <td>-0.028450</td>\n      <td>0.584707</td>\n      <td>-0.024357</td>\n      <td>0.009632</td>\n      <td>-0.005762</td>\n      <td>0.0</td>\n      <td>0.0</td>\n      <td>0.0</td>\n      <td>0.0</td>\n    </tr>\n    <tr>\n      <th>54077</th>\n      <td>1</td>\n      <td>1082.16</td>\n      <td>54077</td>\n      <td>-0.715746</td>\n      <td>-0.091719</td>\n      <td>-0.671831</td>\n      <td>0.720037</td>\n      <td>-2.232671</td>\n      <td>1.302863</td>\n      <td>-40.403645</td>\n      <td>...</td>\n      <td>0.190767</td>\n      <td>-0.028147</td>\n      <td>0.584701</td>\n      <td>-0.012726</td>\n      <td>0.010248</td>\n      <td>-0.003465</td>\n      <td>0.0</td>\n      <td>0.0</td>\n      <td>0.0</td>\n      <td>0.0</td>\n    </tr>\n  </tbody>\n</table>\n<p>54078 rows × 78 columns</p>\n</div>"
     },
     "metadata": {},
     "execution_count": 11
    }
   ],
>>>>>>> 5daebedbc54176dfdb930a118dfa9ad03be5bb84
   "source": [
    "knn_train.split_mult_sensor_data(3)\n",
    "offsets = knn_train.fix_offsets()\n",
<<<<<<< HEAD
    "print(offsets)\n",
    "min_len = knn_train.trim_excess_data()\n",
    "print(len(knn_train.df_arr[0].index), \" \", len(knn_train.df_arr[1].index), \" \", len(knn_train.df_arr[2].index))\n",
=======
    "#print(offsets)\n",
    "#print(knn_train.df_arr[0])\n",
    "#print(knn_train.df_arr[1])\n",
<<<<<<< HEAD
    "knn_train.trim_excess_data()\n",
    "#print(len(knn_train.df_arr[0].index), \" \", len(knn_train.df_arr[1].index), \" \", len(knn_train.df_arr[2].index))\n",
=======
>>>>>>> 6db5aca97ec5ecc2b2d5444017a592b177503a13
>>>>>>> 5daebedbc54176dfdb930a118dfa9ad03be5bb84
    "\n",
    "df_train_id1 = knn_train.df_arr[0]\n",
    "df_train_id2 = knn_train.df_arr[1]\n",
    "df_train_id3 = knn_train.df_arr[2]\n",
    "\n",
<<<<<<< HEAD
    "df_train_id1.index = [i for i in range(min_len)]\n",
    "df_train_id2.index = [i for i in range(min_len)]\n",
    "df_train_id3.index = [i for i in range(min_len)]\n",
=======
    "df_train_id2 = df_train_id2.iloc[:len(df_train_id1)]\n",
    "df_train_id3 = df_train_id3.iloc[:len(df_train_id1)]\n",
>>>>>>> 6db5aca97ec5ecc2b2d5444017a592b177503a13
    "\n",
<<<<<<< HEAD
    "min_len = len(df_train_id1.index)\n",
    "df_train_id1.index = [i for i in range(min_len)]\n",
    "df_train_id2.index = [i for i in range(min_len)]\n",
    "df_train_id3.index = [i for i in range(min_len)]\n",
    "df_train = pd.concat([df_train_id1,df_train_id2,df_train_id3],axis=1)\n",
    "\n",
    "\n",
    "#df_train_id1 = df_train[df_train['SensorId']==1]\n",
    "#df_train_id2 = df_train[df_train['SensorId']==2]\n",
    "#df_train_id3 = df_train[df_train['SensorId']==3]\n",
    "\n",
    "#timestamp_offset_1 = df_train_id1[' TimeStamp (s)'].iloc[0]\n",
    "#df_train_id1[' TimeStamp (s)'] = df_train_id1[' TimeStamp (s)'] - timestamp_offset_1\n",
    "\n",
    "#timestamp_offset_2 = df_train_id2[' TimeStamp (s)'].iloc[0]\n",
    "#df_train_id2[' TimeStamp (s)'] = round(df_train_id2[' TimeStamp (s)'] - timestamp_offset_2, 2)\n",
    "\n",
    "#timestamp_offset_3 = df_train_id3[' TimeStamp (s)'].iloc[0]\n",
    "#df_train_id3[' TimeStamp (s)'] = round(df_train_id3[' TimeStamp (s)'] - timestamp_offset_3, 2)\n",
    "\n",
    "#knn_train.split_mult_sensor_data(2)\n",
    "#df_train_id1 = knn_train.df_arr[0]\n",
    "#df_train_id1\n",
    "df_train\n",
    "\n"
=======
    "\"\"\"stamped_poses = knn_train.get_timestamp_and_pose()\n",
    "print(stamped_poses)\n",
    "\n",
    "df_train, df_stamped_poses = knn_train.align_poses(stamped_poses)\n",
    "\n",
    "print(len(knn_train.df.index))\n",
    "#print(len(df_stamped_poses))\n",
    "y_train = knn_train.df[\"Pose\"]\n",
    "#df['Pose'].hist(bins=4)\n",
    "sns.lineplot(data=df_train, x=\" TimeStamp (s)\", y='Pose')\"\"\""
>>>>>>> f7d01d9fff2d7784b47e7d04e473e38fc80fea8d
   ]
  },
  {
   "cell_type": "code",
<<<<<<< HEAD
   "execution_count": 12,
=======
   "execution_count": null,
>>>>>>> f7d01d9fff2d7784b47e7d04e473e38fc80fea8d
   "metadata": {},
<<<<<<< HEAD
   "outputs": [],
   "source": []
  },
  {
   "cell_type": "code",
   "execution_count": null,
   "metadata": {},
   "outputs": [],
=======
   "outputs": [
    {
     "output_type": "execute_result",
     "data": {
      "text/plain": [
       "       SensorId   TimeStamp (s)   FrameNumber   AccX (g)   AccY (g)  \\\n",
       "0             1            0.00             0   0.019920  -0.794387   \n",
       "1             1            0.02             1   0.015635  -0.798804   \n",
       "2             1            0.04             2   0.015153  -0.801027   \n",
       "3             1            0.06             3   0.020163  -0.797502   \n",
       "4             1            0.08             4   0.026463  -0.787940   \n",
       "...         ...             ...           ...        ...        ...   \n",
       "54073         1         1082.08         54073  -0.702289  -0.091232   \n",
       "54074         1         1082.10         54074  -0.699011  -0.088285   \n",
       "54075         1         1082.12         54075  -0.723239  -0.084772   \n",
       "54076         1         1082.14         54076  -0.722882  -0.090453   \n",
       "54077         1         1082.16         54077  -0.715746  -0.091719   \n",
       "\n",
       "        AccZ (g)   GyroX (deg/s)   GyroY (deg/s)   GyroZ (deg/s)   MagX (uT)  \\\n",
       "0      -0.601370       -1.562904       -1.464186       -0.498630  -10.045666   \n",
       "1      -0.605099       -1.746947       -0.781661       -0.552266  -10.487769   \n",
       "2      -0.604974       -0.723603        0.261424       -0.555029  -10.635139   \n",
       "3      -0.608591       -0.445173        0.111246       -0.923887  -10.605668   \n",
       "4      -0.609870       -0.919388       -0.897010       -0.986847  -10.664613   \n",
       "...          ...             ...             ...             ...         ...   \n",
       "54073  -0.677052        0.771323       -2.120086        2.219131  -40.315224   \n",
       "54074  -0.671266       -0.186748       -1.807720        4.439038  -40.433117   \n",
       "54075  -0.665240        0.148049       -2.638496        3.695276  -40.786804   \n",
       "54076  -0.662082       -0.800669       -4.035131        1.457107  -40.433117   \n",
       "54077  -0.671831        0.720037       -2.232671        1.302863  -40.403645   \n",
       "\n",
       "       ...     QuatX     QuatY     QuatZ   LinAccX (g)   LinAccY (g)  \\\n",
       "0      ...  0.287525 -0.331934 -0.690842     -0.003905      0.005351   \n",
       "1      ...  0.287300 -0.331765 -0.691035      0.000312      0.010096   \n",
       "2      ...  0.287496 -0.331762 -0.691037      0.000915      0.012586   \n",
       "3      ...  0.287511 -0.331654 -0.691155     -0.003698      0.008849   \n",
       "4      ...  0.287353 -0.331585 -0.691356     -0.009806     -0.000566   \n",
       "...    ...       ...       ...       ...           ...           ...   \n",
       "54073  ... -0.361369 -0.163922 -0.874499     -0.020885      0.005850   \n",
       "54074  ... -0.361731 -0.163709 -0.874202     -0.024723      0.003658   \n",
       "54075  ... -0.362251 -0.163643 -0.873851     -0.001055      0.001250   \n",
       "54076  ... -0.362930 -0.163697 -0.873551     -0.002378      0.007560   \n",
       "54077  ... -0.363247 -0.163841 -0.873329     -0.010320      0.009078   \n",
       "\n",
       "        LinAccZ (g)   Pressure (kPa)   Altitude (m)   Temperature (degC)  \\\n",
       "0         -0.012768              0.0            0.0                  0.0   \n",
       "1         -0.009462              0.0            0.0                  0.0   \n",
       "2         -0.009926              0.0            0.0                  0.0   \n",
       "3         -0.006028              0.0            0.0                  0.0   \n",
       "4         -0.004931              0.0            0.0                  0.0   \n",
       "...             ...              ...            ...                  ...   \n",
       "54073     -0.008317              0.0            0.0                  0.0   \n",
       "54074     -0.013604              0.0            0.0                  0.0   \n",
       "54075     -0.019174              0.0            0.0                  0.0   \n",
       "54076     -0.021385              0.0            0.0                  0.0   \n",
       "54077     -0.010809              0.0            0.0                  0.0   \n",
       "\n",
       "        HeaveMotion (m)  \n",
       "0                   0.0  \n",
       "1                   0.0  \n",
       "2                   0.0  \n",
       "3                   0.0  \n",
       "4                   0.0  \n",
       "...                 ...  \n",
       "54073               0.0  \n",
       "54074               0.0  \n",
       "54075               0.0  \n",
       "54076               0.0  \n",
       "54077               0.0  \n",
       "\n",
       "[54078 rows x 26 columns]"
      ],
      "text/html": "<div>\n<style scoped>\n    .dataframe tbody tr th:only-of-type {\n        vertical-align: middle;\n    }\n\n    .dataframe tbody tr th {\n        vertical-align: top;\n    }\n\n    .dataframe thead th {\n        text-align: right;\n    }\n</style>\n<table border=\"1\" class=\"dataframe\">\n  <thead>\n    <tr style=\"text-align: right;\">\n      <th></th>\n      <th>SensorId</th>\n      <th>TimeStamp (s)</th>\n      <th>FrameNumber</th>\n      <th>AccX (g)</th>\n      <th>AccY (g)</th>\n      <th>AccZ (g)</th>\n      <th>GyroX (deg/s)</th>\n      <th>GyroY (deg/s)</th>\n      <th>GyroZ (deg/s)</th>\n      <th>MagX (uT)</th>\n      <th>...</th>\n      <th>QuatX</th>\n      <th>QuatY</th>\n      <th>QuatZ</th>\n      <th>LinAccX (g)</th>\n      <th>LinAccY (g)</th>\n      <th>LinAccZ (g)</th>\n      <th>Pressure (kPa)</th>\n      <th>Altitude (m)</th>\n      <th>Temperature (degC)</th>\n      <th>HeaveMotion (m)</th>\n    </tr>\n  </thead>\n  <tbody>\n    <tr>\n      <th>0</th>\n      <td>1</td>\n      <td>0.00</td>\n      <td>0</td>\n      <td>0.019920</td>\n      <td>-0.794387</td>\n      <td>-0.601370</td>\n      <td>-1.562904</td>\n      <td>-1.464186</td>\n      <td>-0.498630</td>\n      <td>-10.045666</td>\n      <td>...</td>\n      <td>0.287525</td>\n      <td>-0.331934</td>\n      <td>-0.690842</td>\n      <td>-0.003905</td>\n      <td>0.005351</td>\n      <td>-0.012768</td>\n      <td>0.0</td>\n      <td>0.0</td>\n      <td>0.0</td>\n      <td>0.0</td>\n    </tr>\n    <tr>\n      <th>1</th>\n      <td>1</td>\n      <td>0.02</td>\n      <td>1</td>\n      <td>0.015635</td>\n      <td>-0.798804</td>\n      <td>-0.605099</td>\n      <td>-1.746947</td>\n      <td>-0.781661</td>\n      <td>-0.552266</td>\n      <td>-10.487769</td>\n      <td>...</td>\n      <td>0.287300</td>\n      <td>-0.331765</td>\n      <td>-0.691035</td>\n      <td>0.000312</td>\n      <td>0.010096</td>\n      <td>-0.009462</td>\n      <td>0.0</td>\n      <td>0.0</td>\n      <td>0.0</td>\n      <td>0.0</td>\n    </tr>\n    <tr>\n      <th>2</th>\n      <td>1</td>\n      <td>0.04</td>\n      <td>2</td>\n      <td>0.015153</td>\n      <td>-0.801027</td>\n      <td>-0.604974</td>\n      <td>-0.723603</td>\n      <td>0.261424</td>\n      <td>-0.555029</td>\n      <td>-10.635139</td>\n      <td>...</td>\n      <td>0.287496</td>\n      <td>-0.331762</td>\n      <td>-0.691037</td>\n      <td>0.000915</td>\n      <td>0.012586</td>\n      <td>-0.009926</td>\n      <td>0.0</td>\n      <td>0.0</td>\n      <td>0.0</td>\n      <td>0.0</td>\n    </tr>\n    <tr>\n      <th>3</th>\n      <td>1</td>\n      <td>0.06</td>\n      <td>3</td>\n      <td>0.020163</td>\n      <td>-0.797502</td>\n      <td>-0.608591</td>\n      <td>-0.445173</td>\n      <td>0.111246</td>\n      <td>-0.923887</td>\n      <td>-10.605668</td>\n      <td>...</td>\n      <td>0.287511</td>\n      <td>-0.331654</td>\n      <td>-0.691155</td>\n      <td>-0.003698</td>\n      <td>0.008849</td>\n      <td>-0.006028</td>\n      <td>0.0</td>\n      <td>0.0</td>\n      <td>0.0</td>\n      <td>0.0</td>\n    </tr>\n    <tr>\n      <th>4</th>\n      <td>1</td>\n      <td>0.08</td>\n      <td>4</td>\n      <td>0.026463</td>\n      <td>-0.787940</td>\n      <td>-0.609870</td>\n      <td>-0.919388</td>\n      <td>-0.897010</td>\n      <td>-0.986847</td>\n      <td>-10.664613</td>\n      <td>...</td>\n      <td>0.287353</td>\n      <td>-0.331585</td>\n      <td>-0.691356</td>\n      <td>-0.009806</td>\n      <td>-0.000566</td>\n      <td>-0.004931</td>\n      <td>0.0</td>\n      <td>0.0</td>\n      <td>0.0</td>\n      <td>0.0</td>\n    </tr>\n    <tr>\n      <th>...</th>\n      <td>...</td>\n      <td>...</td>\n      <td>...</td>\n      <td>...</td>\n      <td>...</td>\n      <td>...</td>\n      <td>...</td>\n      <td>...</td>\n      <td>...</td>\n      <td>...</td>\n      <td>...</td>\n      <td>...</td>\n      <td>...</td>\n      <td>...</td>\n      <td>...</td>\n      <td>...</td>\n      <td>...</td>\n      <td>...</td>\n      <td>...</td>\n      <td>...</td>\n      <td>...</td>\n    </tr>\n    <tr>\n      <th>54073</th>\n      <td>1</td>\n      <td>1082.08</td>\n      <td>54073</td>\n      <td>-0.702289</td>\n      <td>-0.091232</td>\n      <td>-0.677052</td>\n      <td>0.771323</td>\n      <td>-2.120086</td>\n      <td>2.219131</td>\n      <td>-40.315224</td>\n      <td>...</td>\n      <td>-0.361369</td>\n      <td>-0.163922</td>\n      <td>-0.874499</td>\n      <td>-0.020885</td>\n      <td>0.005850</td>\n      <td>-0.008317</td>\n      <td>0.0</td>\n      <td>0.0</td>\n      <td>0.0</td>\n      <td>0.0</td>\n    </tr>\n    <tr>\n      <th>54074</th>\n      <td>1</td>\n      <td>1082.10</td>\n      <td>54074</td>\n      <td>-0.699011</td>\n      <td>-0.088285</td>\n      <td>-0.671266</td>\n      <td>-0.186748</td>\n      <td>-1.807720</td>\n      <td>4.439038</td>\n      <td>-40.433117</td>\n      <td>...</td>\n      <td>-0.361731</td>\n      <td>-0.163709</td>\n      <td>-0.874202</td>\n      <td>-0.024723</td>\n      <td>0.003658</td>\n      <td>-0.013604</td>\n      <td>0.0</td>\n      <td>0.0</td>\n      <td>0.0</td>\n      <td>0.0</td>\n    </tr>\n    <tr>\n      <th>54075</th>\n      <td>1</td>\n      <td>1082.12</td>\n      <td>54075</td>\n      <td>-0.723239</td>\n      <td>-0.084772</td>\n      <td>-0.665240</td>\n      <td>0.148049</td>\n      <td>-2.638496</td>\n      <td>3.695276</td>\n      <td>-40.786804</td>\n      <td>...</td>\n      <td>-0.362251</td>\n      <td>-0.163643</td>\n      <td>-0.873851</td>\n      <td>-0.001055</td>\n      <td>0.001250</td>\n      <td>-0.019174</td>\n      <td>0.0</td>\n      <td>0.0</td>\n      <td>0.0</td>\n      <td>0.0</td>\n    </tr>\n    <tr>\n      <th>54076</th>\n      <td>1</td>\n      <td>1082.14</td>\n      <td>54076</td>\n      <td>-0.722882</td>\n      <td>-0.090453</td>\n      <td>-0.662082</td>\n      <td>-0.800669</td>\n      <td>-4.035131</td>\n      <td>1.457107</td>\n      <td>-40.433117</td>\n      <td>...</td>\n      <td>-0.362930</td>\n      <td>-0.163697</td>\n      <td>-0.873551</td>\n      <td>-0.002378</td>\n      <td>0.007560</td>\n      <td>-0.021385</td>\n      <td>0.0</td>\n      <td>0.0</td>\n      <td>0.0</td>\n      <td>0.0</td>\n    </tr>\n    <tr>\n      <th>54077</th>\n      <td>1</td>\n      <td>1082.16</td>\n      <td>54077</td>\n      <td>-0.715746</td>\n      <td>-0.091719</td>\n      <td>-0.671831</td>\n      <td>0.720037</td>\n      <td>-2.232671</td>\n      <td>1.302863</td>\n      <td>-40.403645</td>\n      <td>...</td>\n      <td>-0.363247</td>\n      <td>-0.163841</td>\n      <td>-0.873329</td>\n      <td>-0.010320</td>\n      <td>0.009078</td>\n      <td>-0.010809</td>\n      <td>0.0</td>\n      <td>0.0</td>\n      <td>0.0</td>\n      <td>0.0</td>\n    </tr>\n  </tbody>\n</table>\n<p>54078 rows × 26 columns</p>\n</div>"
     },
     "metadata": {},
     "execution_count": 12
    }
   ],
>>>>>>> 5daebedbc54176dfdb930a118dfa9ad03be5bb84
   "source": [
    "df_train_id1"
   ]
  },
  {
   "cell_type": "code",
<<<<<<< HEAD
   "execution_count": 13,
   "metadata": {},
   "outputs": [
    {
     "output_type": "execute_result",
     "data": {
      "text/plain": [
       "       SensorId   TimeStamp (s)   FrameNumber   AccX (g)   AccY (g)  \\\n",
       "0             2          0.0000             0  -0.018429  -1.007040   \n",
       "1             2          0.0200             1  -0.017634  -1.007730   \n",
       "2             2          0.0400             2  -0.018090  -1.006988   \n",
       "3             2          0.0600             3  -0.019457  -1.006600   \n",
       "4             2          0.0800             4  -0.016538  -1.007205   \n",
       "...         ...             ...           ...        ...        ...   \n",
       "54073         2       1081.4800         54073  -0.428980  -0.880731   \n",
       "54074         2       1081.5000         54074  -0.427760  -0.880706   \n",
       "54075         2       1081.5200         54075  -0.424935  -0.877700   \n",
       "54076         2       1081.5400         54076  -0.425557  -0.873833   \n",
       "54077         2       1081.5599         54077  -0.424158  -0.874848   \n",
       "\n",
       "        AccZ (g)   GyroX (deg/s)   GyroY (deg/s)   GyroZ (deg/s)   MagX (uT)  \\\n",
       "0       0.044179        0.208760       -0.333792       -0.106727   -7.916889   \n",
       "1       0.044718        0.280394       -0.513321       -0.113335   -7.479838   \n",
       "2       0.046217        0.371321       -0.647394       -0.031212   -8.237392   \n",
       "3       0.045179        0.219733       -0.575123       -0.063933   -7.538113   \n",
       "4       0.045190        0.024483       -0.530237       -0.057548   -7.975160   \n",
       "...          ...             ...             ...             ...         ...   \n",
       "54073  -0.249758       -0.238211       -0.020963       -0.052009  -27.875483   \n",
       "54074  -0.246326       -0.045484        0.018643       -0.034666  -27.671528   \n",
       "54075  -0.248297        0.278093        0.407084        0.013616  -27.351023   \n",
       "54076  -0.248795        0.575715        0.336878       -0.040358  -27.409294   \n",
       "54077  -0.247689        1.013729       -0.121952       -0.044017  -27.409294   \n",
       "\n",
       "       ...     QuatX     QuatY     QuatZ   LinAccX (g)   LinAccY (g)  \\\n",
       "0      ... -0.710777  0.131325  0.112130     -0.001296      0.008242   \n",
       "1      ... -0.710801  0.131377  0.112202     -0.002040      0.008935   \n",
       "2      ... -0.710826  0.131435  0.112299     -0.001520      0.008196   \n",
       "3      ... -0.710842  0.131499  0.112374     -0.000097      0.007810   \n",
       "4      ... -0.710800  0.131486  0.112518     -0.002987      0.008417   \n",
       "...    ...       ...       ...       ...           ...           ...   \n",
       "54073  ... -0.502536  0.351384  0.125873      0.007638      0.008416   \n",
       "54074  ... -0.502531  0.351376  0.125877      0.006234      0.008456   \n",
       "54075  ... -0.502576  0.351326  0.125822      0.003428      0.005442   \n",
       "54076  ... -0.502645  0.351323  0.125687      0.004012      0.001575   \n",
       "54077  ... -0.502791  0.351367  0.125643      0.002578      0.002541   \n",
       "\n",
       "        LinAccZ (g)   Pressure (kPa)   Altitude (m)   Temperature (degC)  \\\n",
       "0          0.000691              0.0            0.0                  0.0   \n",
       "1          0.000229              0.0            0.0                  0.0   \n",
       "2         -0.001172              0.0            0.0                  0.0   \n",
       "3         -0.000040              0.0            0.0                  0.0   \n",
       "4         -0.000003              0.0            0.0                  0.0   \n",
       "...             ...              ...            ...                  ...   \n",
       "54073      0.001690              0.0            0.0                  0.0   \n",
       "54074     -0.001658              0.0            0.0                  0.0   \n",
       "54075      0.000309              0.0            0.0                  0.0   \n",
       "54076      0.000872              0.0            0.0                  0.0   \n",
       "54077     -0.000004              0.0            0.0                  0.0   \n",
       "\n",
       "        HeaveMotion (m)  \n",
       "0                   0.0  \n",
       "1                   0.0  \n",
       "2                   0.0  \n",
       "3                   0.0  \n",
       "4                   0.0  \n",
       "...                 ...  \n",
       "54073               0.0  \n",
       "54074               0.0  \n",
       "54075               0.0  \n",
       "54076               0.0  \n",
       "54077               0.0  \n",
       "\n",
       "[54078 rows x 26 columns]"
      ],
      "text/html": "<div>\n<style scoped>\n    .dataframe tbody tr th:only-of-type {\n        vertical-align: middle;\n    }\n\n    .dataframe tbody tr th {\n        vertical-align: top;\n    }\n\n    .dataframe thead th {\n        text-align: right;\n    }\n</style>\n<table border=\"1\" class=\"dataframe\">\n  <thead>\n    <tr style=\"text-align: right;\">\n      <th></th>\n      <th>SensorId</th>\n      <th>TimeStamp (s)</th>\n      <th>FrameNumber</th>\n      <th>AccX (g)</th>\n      <th>AccY (g)</th>\n      <th>AccZ (g)</th>\n      <th>GyroX (deg/s)</th>\n      <th>GyroY (deg/s)</th>\n      <th>GyroZ (deg/s)</th>\n      <th>MagX (uT)</th>\n      <th>...</th>\n      <th>QuatX</th>\n      <th>QuatY</th>\n      <th>QuatZ</th>\n      <th>LinAccX (g)</th>\n      <th>LinAccY (g)</th>\n      <th>LinAccZ (g)</th>\n      <th>Pressure (kPa)</th>\n      <th>Altitude (m)</th>\n      <th>Temperature (degC)</th>\n      <th>HeaveMotion (m)</th>\n    </tr>\n  </thead>\n  <tbody>\n    <tr>\n      <th>0</th>\n      <td>2</td>\n      <td>0.0000</td>\n      <td>0</td>\n      <td>-0.018429</td>\n      <td>-1.007040</td>\n      <td>0.044179</td>\n      <td>0.208760</td>\n      <td>-0.333792</td>\n      <td>-0.106727</td>\n      <td>-7.916889</td>\n      <td>...</td>\n      <td>-0.710777</td>\n      <td>0.131325</td>\n      <td>0.112130</td>\n      <td>-0.001296</td>\n      <td>0.008242</td>\n      <td>0.000691</td>\n      <td>0.0</td>\n      <td>0.0</td>\n      <td>0.0</td>\n      <td>0.0</td>\n    </tr>\n    <tr>\n      <th>1</th>\n      <td>2</td>\n      <td>0.0200</td>\n      <td>1</td>\n      <td>-0.017634</td>\n      <td>-1.007730</td>\n      <td>0.044718</td>\n      <td>0.280394</td>\n      <td>-0.513321</td>\n      <td>-0.113335</td>\n      <td>-7.479838</td>\n      <td>...</td>\n      <td>-0.710801</td>\n      <td>0.131377</td>\n      <td>0.112202</td>\n      <td>-0.002040</td>\n      <td>0.008935</td>\n      <td>0.000229</td>\n      <td>0.0</td>\n      <td>0.0</td>\n      <td>0.0</td>\n      <td>0.0</td>\n    </tr>\n    <tr>\n      <th>2</th>\n      <td>2</td>\n      <td>0.0400</td>\n      <td>2</td>\n      <td>-0.018090</td>\n      <td>-1.006988</td>\n      <td>0.046217</td>\n      <td>0.371321</td>\n      <td>-0.647394</td>\n      <td>-0.031212</td>\n      <td>-8.237392</td>\n      <td>...</td>\n      <td>-0.710826</td>\n      <td>0.131435</td>\n      <td>0.112299</td>\n      <td>-0.001520</td>\n      <td>0.008196</td>\n      <td>-0.001172</td>\n      <td>0.0</td>\n      <td>0.0</td>\n      <td>0.0</td>\n      <td>0.0</td>\n    </tr>\n    <tr>\n      <th>3</th>\n      <td>2</td>\n      <td>0.0600</td>\n      <td>3</td>\n      <td>-0.019457</td>\n      <td>-1.006600</td>\n      <td>0.045179</td>\n      <td>0.219733</td>\n      <td>-0.575123</td>\n      <td>-0.063933</td>\n      <td>-7.538113</td>\n      <td>...</td>\n      <td>-0.710842</td>\n      <td>0.131499</td>\n      <td>0.112374</td>\n      <td>-0.000097</td>\n      <td>0.007810</td>\n      <td>-0.000040</td>\n      <td>0.0</td>\n      <td>0.0</td>\n      <td>0.0</td>\n      <td>0.0</td>\n    </tr>\n    <tr>\n      <th>4</th>\n      <td>2</td>\n      <td>0.0800</td>\n      <td>4</td>\n      <td>-0.016538</td>\n      <td>-1.007205</td>\n      <td>0.045190</td>\n      <td>0.024483</td>\n      <td>-0.530237</td>\n      <td>-0.057548</td>\n      <td>-7.975160</td>\n      <td>...</td>\n      <td>-0.710800</td>\n      <td>0.131486</td>\n      <td>0.112518</td>\n      <td>-0.002987</td>\n      <td>0.008417</td>\n      <td>-0.000003</td>\n      <td>0.0</td>\n      <td>0.0</td>\n      <td>0.0</td>\n      <td>0.0</td>\n    </tr>\n    <tr>\n      <th>...</th>\n      <td>...</td>\n      <td>...</td>\n      <td>...</td>\n      <td>...</td>\n      <td>...</td>\n      <td>...</td>\n      <td>...</td>\n      <td>...</td>\n      <td>...</td>\n      <td>...</td>\n      <td>...</td>\n      <td>...</td>\n      <td>...</td>\n      <td>...</td>\n      <td>...</td>\n      <td>...</td>\n      <td>...</td>\n      <td>...</td>\n      <td>...</td>\n      <td>...</td>\n      <td>...</td>\n    </tr>\n    <tr>\n      <th>54073</th>\n      <td>2</td>\n      <td>1081.4800</td>\n      <td>54073</td>\n      <td>-0.428980</td>\n      <td>-0.880731</td>\n      <td>-0.249758</td>\n      <td>-0.238211</td>\n      <td>-0.020963</td>\n      <td>-0.052009</td>\n      <td>-27.875483</td>\n      <td>...</td>\n      <td>-0.502536</td>\n      <td>0.351384</td>\n      <td>0.125873</td>\n      <td>0.007638</td>\n      <td>0.008416</td>\n      <td>0.001690</td>\n      <td>0.0</td>\n      <td>0.0</td>\n      <td>0.0</td>\n      <td>0.0</td>\n    </tr>\n    <tr>\n      <th>54074</th>\n      <td>2</td>\n      <td>1081.5000</td>\n      <td>54074</td>\n      <td>-0.427760</td>\n      <td>-0.880706</td>\n      <td>-0.246326</td>\n      <td>-0.045484</td>\n      <td>0.018643</td>\n      <td>-0.034666</td>\n      <td>-27.671528</td>\n      <td>...</td>\n      <td>-0.502531</td>\n      <td>0.351376</td>\n      <td>0.125877</td>\n      <td>0.006234</td>\n      <td>0.008456</td>\n      <td>-0.001658</td>\n      <td>0.0</td>\n      <td>0.0</td>\n      <td>0.0</td>\n      <td>0.0</td>\n    </tr>\n    <tr>\n      <th>54075</th>\n      <td>2</td>\n      <td>1081.5200</td>\n      <td>54075</td>\n      <td>-0.424935</td>\n      <td>-0.877700</td>\n      <td>-0.248297</td>\n      <td>0.278093</td>\n      <td>0.407084</td>\n      <td>0.013616</td>\n      <td>-27.351023</td>\n      <td>...</td>\n      <td>-0.502576</td>\n      <td>0.351326</td>\n      <td>0.125822</td>\n      <td>0.003428</td>\n      <td>0.005442</td>\n      <td>0.000309</td>\n      <td>0.0</td>\n      <td>0.0</td>\n      <td>0.0</td>\n      <td>0.0</td>\n    </tr>\n    <tr>\n      <th>54076</th>\n      <td>2</td>\n      <td>1081.5400</td>\n      <td>54076</td>\n      <td>-0.425557</td>\n      <td>-0.873833</td>\n      <td>-0.248795</td>\n      <td>0.575715</td>\n      <td>0.336878</td>\n      <td>-0.040358</td>\n      <td>-27.409294</td>\n      <td>...</td>\n      <td>-0.502645</td>\n      <td>0.351323</td>\n      <td>0.125687</td>\n      <td>0.004012</td>\n      <td>0.001575</td>\n      <td>0.000872</td>\n      <td>0.0</td>\n      <td>0.0</td>\n      <td>0.0</td>\n      <td>0.0</td>\n    </tr>\n    <tr>\n      <th>54077</th>\n      <td>2</td>\n      <td>1081.5599</td>\n      <td>54077</td>\n      <td>-0.424158</td>\n      <td>-0.874848</td>\n      <td>-0.247689</td>\n      <td>1.013729</td>\n      <td>-0.121952</td>\n      <td>-0.044017</td>\n      <td>-27.409294</td>\n      <td>...</td>\n      <td>-0.502791</td>\n      <td>0.351367</td>\n      <td>0.125643</td>\n      <td>0.002578</td>\n      <td>0.002541</td>\n      <td>-0.000004</td>\n      <td>0.0</td>\n      <td>0.0</td>\n      <td>0.0</td>\n      <td>0.0</td>\n    </tr>\n  </tbody>\n</table>\n<p>54078 rows × 26 columns</p>\n</div>"
     },
     "metadata": {},
     "execution_count": 13
    }
   ],
=======
   "execution_count": null,
   "metadata": {},
   "outputs": [],
>>>>>>> f7d01d9fff2d7784b47e7d04e473e38fc80fea8d
   "source": [
    "df_train_id2"
   ]
  },
  {
   "cell_type": "code",
<<<<<<< HEAD
   "execution_count": 14,
=======
<<<<<<< HEAD
   "execution_count": null,
   "metadata": {},
   "outputs": [],
=======
<<<<<<< HEAD
   "execution_count": null,
   "metadata": {},
   "outputs": [],
=======
   "execution_count": 6,
>>>>>>> f7d01d9fff2d7784b47e7d04e473e38fc80fea8d
   "metadata": {},
   "outputs": [
    {
     "output_type": "execute_result",
     "data": {
      "text/plain": [
       "       SensorId   TimeStamp (s)   FrameNumber   AccX (g)   AccY (g)  \\\n",
       "0             3            0.00             0   0.178735  -0.646012   \n",
       "1             3            0.02             1   0.185902  -0.639991   \n",
       "2             3            0.04             2   0.182424  -0.646425   \n",
       "3             3            0.06             3   0.171828  -0.657475   \n",
       "4             3            0.08             4   0.169346  -0.661125   \n",
       "...         ...             ...           ...        ...        ...   \n",
       "54073         3         1081.46         54073  -0.174516   0.350097   \n",
       "54074         3         1081.48         54074  -0.174923   0.342124   \n",
       "54075         3         1081.50         54075  -0.166720   0.339788   \n",
       "54076         3         1081.52         54076  -0.154572   0.325390   \n",
       "54077         3         1081.54         54077  -0.165963   0.323840   \n",
       "\n",
       "        AccZ (g)   GyroX (deg/s)   GyroY (deg/s)   GyroZ (deg/s)   MagX (uT)  \\\n",
       "0      -0.749958       -0.044000       -0.931717       -0.066404   -1.480040   \n",
       "1      -0.750624       -0.144642       -0.592701       -0.242972   -2.180673   \n",
       "2      -0.742790        0.222718       -0.502114       -0.428202   -2.239058   \n",
       "3      -0.739467        0.770536       -0.000966       -0.823513   -2.151479   \n",
       "4      -0.744957        0.855195       -0.107750       -1.136161   -1.684391   \n",
       "...          ...             ...             ...             ...         ...   \n",
       "54073  -0.913563        2.142286        0.812750       -0.413364  -20.280336   \n",
       "54074  -0.920876        2.649645        1.774008       -0.599449  -20.338724   \n",
       "54075  -0.917573        2.982299        1.660321       -0.320140  -20.835005   \n",
       "54076  -0.919303        2.451980        0.736075        0.115122  -20.864199   \n",
       "54077  -0.921984        2.963531       -0.237063        0.002449  -20.718233   \n",
       "\n",
       "       ...     QuatX     QuatY     QuatZ   LinAccX (g)   LinAccY (g)  \\\n",
       "0      ... -0.335055  0.135482  0.557184     -0.007847     -0.005971   \n",
       "1      ... -0.334987  0.135538  0.557254     -0.015154     -0.011941   \n",
       "2      ... -0.335022  0.135195  0.557491     -0.011315     -0.005282   \n",
       "3      ... -0.335146  0.135219  0.557584     -0.000323      0.005833   \n",
       "4      ... -0.335222  0.135169  0.557759      0.002410      0.009329   \n",
       "...    ...       ...       ...       ...           ...           ...   \n",
       "54073  ...  0.192780 -0.028701  0.584435     -0.005726     -0.012494   \n",
       "54074  ...  0.192232 -0.028697  0.584581     -0.004965     -0.005307   \n",
       "54075  ...  0.191664 -0.028603  0.584685     -0.012554     -0.003892   \n",
       "54076  ...  0.191250 -0.028450  0.584707     -0.024357      0.009632   \n",
       "54077  ...  0.190767 -0.028147  0.584701     -0.012726      0.010248   \n",
       "\n",
       "        LinAccZ (g)   Pressure (kPa)   Altitude (m)   Temperature (degC)  \\\n",
       "0          0.011232              0.0            0.0                  0.0   \n",
       "1          0.011821              0.0            0.0                  0.0   \n",
       "2          0.003873              0.0            0.0                  0.0   \n",
       "3          0.000583              0.0            0.0                  0.0   \n",
       "4          0.006268              0.0            0.0                  0.0   \n",
       "...             ...              ...            ...                  ...   \n",
       "54073     -0.010307              0.0            0.0                  0.0   \n",
       "54074     -0.003350              0.0            0.0                  0.0   \n",
       "54075     -0.007108              0.0            0.0                  0.0   \n",
       "54076     -0.005762              0.0            0.0                  0.0   \n",
       "54077     -0.003465              0.0            0.0                  0.0   \n",
       "\n",
       "        HeaveMotion (m)  \n",
       "0                   0.0  \n",
       "1                   0.0  \n",
       "2                   0.0  \n",
       "3                   0.0  \n",
       "4                   0.0  \n",
       "...                 ...  \n",
       "54073               0.0  \n",
       "54074               0.0  \n",
       "54075               0.0  \n",
       "54076               0.0  \n",
       "54077               0.0  \n",
       "\n",
       "[54078 rows x 26 columns]"
      ],
      "text/html": "<div>\n<style scoped>\n    .dataframe tbody tr th:only-of-type {\n        vertical-align: middle;\n    }\n\n    .dataframe tbody tr th {\n        vertical-align: top;\n    }\n\n    .dataframe thead th {\n        text-align: right;\n    }\n</style>\n<table border=\"1\" class=\"dataframe\">\n  <thead>\n    <tr style=\"text-align: right;\">\n      <th></th>\n      <th>SensorId</th>\n      <th>TimeStamp (s)</th>\n      <th>FrameNumber</th>\n      <th>AccX (g)</th>\n      <th>AccY (g)</th>\n      <th>AccZ (g)</th>\n      <th>GyroX (deg/s)</th>\n      <th>GyroY (deg/s)</th>\n      <th>GyroZ (deg/s)</th>\n      <th>MagX (uT)</th>\n      <th>...</th>\n      <th>QuatX</th>\n      <th>QuatY</th>\n      <th>QuatZ</th>\n      <th>LinAccX (g)</th>\n      <th>LinAccY (g)</th>\n      <th>LinAccZ (g)</th>\n      <th>Pressure (kPa)</th>\n      <th>Altitude (m)</th>\n      <th>Temperature (degC)</th>\n      <th>HeaveMotion (m)</th>\n    </tr>\n  </thead>\n  <tbody>\n    <tr>\n      <th>0</th>\n      <td>3</td>\n      <td>0.00</td>\n      <td>0</td>\n      <td>0.178735</td>\n      <td>-0.646012</td>\n      <td>-0.749958</td>\n      <td>-0.044000</td>\n      <td>-0.931717</td>\n      <td>-0.066404</td>\n      <td>-1.480040</td>\n      <td>...</td>\n      <td>-0.335055</td>\n      <td>0.135482</td>\n      <td>0.557184</td>\n      <td>-0.007847</td>\n      <td>-0.005971</td>\n      <td>0.011232</td>\n      <td>0.0</td>\n      <td>0.0</td>\n      <td>0.0</td>\n      <td>0.0</td>\n    </tr>\n    <tr>\n      <th>1</th>\n      <td>3</td>\n      <td>0.02</td>\n      <td>1</td>\n      <td>0.185902</td>\n      <td>-0.639991</td>\n      <td>-0.750624</td>\n      <td>-0.144642</td>\n      <td>-0.592701</td>\n      <td>-0.242972</td>\n      <td>-2.180673</td>\n      <td>...</td>\n      <td>-0.334987</td>\n      <td>0.135538</td>\n      <td>0.557254</td>\n      <td>-0.015154</td>\n      <td>-0.011941</td>\n      <td>0.011821</td>\n      <td>0.0</td>\n      <td>0.0</td>\n      <td>0.0</td>\n      <td>0.0</td>\n    </tr>\n    <tr>\n      <th>2</th>\n      <td>3</td>\n      <td>0.04</td>\n      <td>2</td>\n      <td>0.182424</td>\n      <td>-0.646425</td>\n      <td>-0.742790</td>\n      <td>0.222718</td>\n      <td>-0.502114</td>\n      <td>-0.428202</td>\n      <td>-2.239058</td>\n      <td>...</td>\n      <td>-0.335022</td>\n      <td>0.135195</td>\n      <td>0.557491</td>\n      <td>-0.011315</td>\n      <td>-0.005282</td>\n      <td>0.003873</td>\n      <td>0.0</td>\n      <td>0.0</td>\n      <td>0.0</td>\n      <td>0.0</td>\n    </tr>\n    <tr>\n      <th>3</th>\n      <td>3</td>\n      <td>0.06</td>\n      <td>3</td>\n      <td>0.171828</td>\n      <td>-0.657475</td>\n      <td>-0.739467</td>\n      <td>0.770536</td>\n      <td>-0.000966</td>\n      <td>-0.823513</td>\n      <td>-2.151479</td>\n      <td>...</td>\n      <td>-0.335146</td>\n      <td>0.135219</td>\n      <td>0.557584</td>\n      <td>-0.000323</td>\n      <td>0.005833</td>\n      <td>0.000583</td>\n      <td>0.0</td>\n      <td>0.0</td>\n      <td>0.0</td>\n      <td>0.0</td>\n    </tr>\n    <tr>\n      <th>4</th>\n      <td>3</td>\n      <td>0.08</td>\n      <td>4</td>\n      <td>0.169346</td>\n      <td>-0.661125</td>\n      <td>-0.744957</td>\n      <td>0.855195</td>\n      <td>-0.107750</td>\n      <td>-1.136161</td>\n      <td>-1.684391</td>\n      <td>...</td>\n      <td>-0.335222</td>\n      <td>0.135169</td>\n      <td>0.557759</td>\n      <td>0.002410</td>\n      <td>0.009329</td>\n      <td>0.006268</td>\n      <td>0.0</td>\n      <td>0.0</td>\n      <td>0.0</td>\n      <td>0.0</td>\n    </tr>\n    <tr>\n      <th>...</th>\n      <td>...</td>\n      <td>...</td>\n      <td>...</td>\n      <td>...</td>\n      <td>...</td>\n      <td>...</td>\n      <td>...</td>\n      <td>...</td>\n      <td>...</td>\n      <td>...</td>\n      <td>...</td>\n      <td>...</td>\n      <td>...</td>\n      <td>...</td>\n      <td>...</td>\n      <td>...</td>\n      <td>...</td>\n      <td>...</td>\n      <td>...</td>\n      <td>...</td>\n      <td>...</td>\n    </tr>\n    <tr>\n      <th>54073</th>\n      <td>3</td>\n      <td>1081.46</td>\n      <td>54073</td>\n      <td>-0.174516</td>\n      <td>0.350097</td>\n      <td>-0.913563</td>\n      <td>2.142286</td>\n      <td>0.812750</td>\n      <td>-0.413364</td>\n      <td>-20.280336</td>\n      <td>...</td>\n      <td>0.192780</td>\n      <td>-0.028701</td>\n      <td>0.584435</td>\n      <td>-0.005726</td>\n      <td>-0.012494</td>\n      <td>-0.010307</td>\n      <td>0.0</td>\n      <td>0.0</td>\n      <td>0.0</td>\n      <td>0.0</td>\n    </tr>\n    <tr>\n      <th>54074</th>\n      <td>3</td>\n      <td>1081.48</td>\n      <td>54074</td>\n      <td>-0.174923</td>\n      <td>0.342124</td>\n      <td>-0.920876</td>\n      <td>2.649645</td>\n      <td>1.774008</td>\n      <td>-0.599449</td>\n      <td>-20.338724</td>\n      <td>...</td>\n      <td>0.192232</td>\n      <td>-0.028697</td>\n      <td>0.584581</td>\n      <td>-0.004965</td>\n      <td>-0.005307</td>\n      <td>-0.003350</td>\n      <td>0.0</td>\n      <td>0.0</td>\n      <td>0.0</td>\n      <td>0.0</td>\n    </tr>\n    <tr>\n      <th>54075</th>\n      <td>3</td>\n      <td>1081.50</td>\n      <td>54075</td>\n      <td>-0.166720</td>\n      <td>0.339788</td>\n      <td>-0.917573</td>\n      <td>2.982299</td>\n      <td>1.660321</td>\n      <td>-0.320140</td>\n      <td>-20.835005</td>\n      <td>...</td>\n      <td>0.191664</td>\n      <td>-0.028603</td>\n      <td>0.584685</td>\n      <td>-0.012554</td>\n      <td>-0.003892</td>\n      <td>-0.007108</td>\n      <td>0.0</td>\n      <td>0.0</td>\n      <td>0.0</td>\n      <td>0.0</td>\n    </tr>\n    <tr>\n      <th>54076</th>\n      <td>3</td>\n      <td>1081.52</td>\n      <td>54076</td>\n      <td>-0.154572</td>\n      <td>0.325390</td>\n      <td>-0.919303</td>\n      <td>2.451980</td>\n      <td>0.736075</td>\n      <td>0.115122</td>\n      <td>-20.864199</td>\n      <td>...</td>\n      <td>0.191250</td>\n      <td>-0.028450</td>\n      <td>0.584707</td>\n      <td>-0.024357</td>\n      <td>0.009632</td>\n      <td>-0.005762</td>\n      <td>0.0</td>\n      <td>0.0</td>\n      <td>0.0</td>\n      <td>0.0</td>\n    </tr>\n    <tr>\n      <th>54077</th>\n      <td>3</td>\n      <td>1081.54</td>\n      <td>54077</td>\n      <td>-0.165963</td>\n      <td>0.323840</td>\n      <td>-0.921984</td>\n      <td>2.963531</td>\n      <td>-0.237063</td>\n      <td>0.002449</td>\n      <td>-20.718233</td>\n      <td>...</td>\n      <td>0.190767</td>\n      <td>-0.028147</td>\n      <td>0.584701</td>\n      <td>-0.012726</td>\n      <td>0.010248</td>\n      <td>-0.003465</td>\n      <td>0.0</td>\n      <td>0.0</td>\n      <td>0.0</td>\n      <td>0.0</td>\n    </tr>\n  </tbody>\n</table>\n<p>54078 rows × 26 columns</p>\n</div>"
     },
     "metadata": {},
     "execution_count": 14
    }
   ],
>>>>>>> 6db5aca97ec5ecc2b2d5444017a592b177503a13
>>>>>>> 5daebedbc54176dfdb930a118dfa9ad03be5bb84
   "source": [
    "df_train_id3"
   ]
  },
  {
   "cell_type": "code",
   "execution_count": null,
   "metadata": {},
   "outputs": [],
   "source": [
    "df_train_id1 = df_train_id1.drop(['SensorId', ' FrameNumber', ' LinAccX (g)', ' LinAccY (g)', ' LinAccZ (g)', ' Pressure (kPa)',' Altitude (m)', ' Temperature (degC)', ' HeaveMotion (m)'],axis=1)\n",
    "df_train_id2 = df_train_id2.drop(['SensorId', ' TimeStamp (s)', ' FrameNumber', ' LinAccX (g)', ' LinAccY (g)', ' LinAccZ (g)', ' Pressure (kPa)',' Altitude (m)', ' Temperature (degC)', ' HeaveMotion (m)'],axis=1)\n",
    "df_train_id3 = df_train_id3.drop(['SensorId', ' TimeStamp (s)', ' FrameNumber', ' LinAccX (g)', ' LinAccY (g)', ' LinAccZ (g)', ' Pressure (kPa)',' Altitude (m)', ' Temperature (degC)', ' HeaveMotion (m)'],axis=1)\n",
    "\n",
    "print(df_train_id1.shape)\n",
    "print(df_train_id2.shape)\n",
    "print(df_train_id3.shape)"
   ]
  },
  {
   "cell_type": "code",
<<<<<<< HEAD
   "execution_count": 6,
   "metadata": {},
   "outputs": [
    {
     "output_type": "stream",
     "name": "stdout",
     "text": [
      "[[0.0, 123.32, 0], [125.24, 243.28, 1], [245.68, 362.24, 2], [366.72, 484.88, 3], [488.24, 602.08, 4], [605.2, 724.68, 5], [727.72, 842.28, 6], [846.84, 964.12, 7], [966.08, 1081.76, 8]]\n",
      "158457\n",
      "drops: 3839\n",
      "158457\n",
      "158457\n"
     ]
    },
    {
     "output_type": "error",
     "ename": "KeyboardInterrupt",
     "evalue": "",
     "traceback": [
      "\u001b[0;31m---------------------------------------------------------------------------\u001b[0m",
      "\u001b[0;31mAttributeError\u001b[0m                            Traceback (most recent call last)",
      "\u001b[0;32m~/Library/Python/3.8/lib/python/site-packages/numpy/core/fromnumeric.py\u001b[0m in \u001b[0;36m_wrapreduction\u001b[0;34m(obj, ufunc, method, axis, dtype, out, **kwargs)\u001b[0m\n\u001b[1;32m     78\u001b[0m         \u001b[0;32mtry\u001b[0m\u001b[0;34m:\u001b[0m\u001b[0;34m\u001b[0m\u001b[0;34m\u001b[0m\u001b[0m\n\u001b[0;32m---> 79\u001b[0;31m             \u001b[0mreduction\u001b[0m \u001b[0;34m=\u001b[0m \u001b[0mgetattr\u001b[0m\u001b[0;34m(\u001b[0m\u001b[0mobj\u001b[0m\u001b[0;34m,\u001b[0m \u001b[0mmethod\u001b[0m\u001b[0;34m)\u001b[0m\u001b[0;34m\u001b[0m\u001b[0;34m\u001b[0m\u001b[0m\n\u001b[0m\u001b[1;32m     80\u001b[0m         \u001b[0;32mexcept\u001b[0m \u001b[0mAttributeError\u001b[0m\u001b[0;34m:\u001b[0m\u001b[0;34m\u001b[0m\u001b[0;34m\u001b[0m\u001b[0m\n",
      "\u001b[0;31mAttributeError\u001b[0m: 'int' object has no attribute 'prod'",
      "\nDuring handling of the above exception, another exception occurred:\n",
      "\u001b[0;31mKeyboardInterrupt\u001b[0m                         Traceback (most recent call last)",
      "\u001b[0;32m<ipython-input-6-62a8c4b293be>\u001b[0m in \u001b[0;36m<module>\u001b[0;34m\u001b[0m\n\u001b[1;32m      8\u001b[0m \u001b[0my_train\u001b[0m \u001b[0;34m=\u001b[0m \u001b[0mknn_train\u001b[0m\u001b[0;34m.\u001b[0m\u001b[0mdf\u001b[0m\u001b[0;34m[\u001b[0m\u001b[0;34m\"Pose\"\u001b[0m\u001b[0;34m]\u001b[0m\u001b[0;34m\u001b[0m\u001b[0;34m\u001b[0m\u001b[0m\n\u001b[1;32m      9\u001b[0m \u001b[0;31m#df['Pose'].hist(bins=4)\u001b[0m\u001b[0;34m\u001b[0m\u001b[0;34m\u001b[0m\u001b[0;34m\u001b[0m\u001b[0m\n\u001b[0;32m---> 10\u001b[0;31m \u001b[0msns\u001b[0m\u001b[0;34m.\u001b[0m\u001b[0mlineplot\u001b[0m\u001b[0;34m(\u001b[0m\u001b[0mdata\u001b[0m\u001b[0;34m=\u001b[0m\u001b[0mdf_train\u001b[0m\u001b[0;34m,\u001b[0m \u001b[0mx\u001b[0m\u001b[0;34m=\u001b[0m\u001b[0;34m\" TimeStamp (s)\"\u001b[0m\u001b[0;34m,\u001b[0m \u001b[0my\u001b[0m\u001b[0;34m=\u001b[0m\u001b[0;34m'Pose'\u001b[0m\u001b[0;34m)\u001b[0m\u001b[0;34m\u001b[0m\u001b[0;34m\u001b[0m\u001b[0m\n\u001b[0m",
      "\u001b[0;32m~/Library/Python/3.8/lib/python/site-packages/seaborn/_decorators.py\u001b[0m in \u001b[0;36minner_f\u001b[0;34m(*args, **kwargs)\u001b[0m\n\u001b[1;32m     44\u001b[0m             )\n\u001b[1;32m     45\u001b[0m         \u001b[0mkwargs\u001b[0m\u001b[0;34m.\u001b[0m\u001b[0mupdate\u001b[0m\u001b[0;34m(\u001b[0m\u001b[0;34m{\u001b[0m\u001b[0mk\u001b[0m\u001b[0;34m:\u001b[0m \u001b[0marg\u001b[0m \u001b[0;32mfor\u001b[0m \u001b[0mk\u001b[0m\u001b[0;34m,\u001b[0m \u001b[0marg\u001b[0m \u001b[0;32min\u001b[0m \u001b[0mzip\u001b[0m\u001b[0;34m(\u001b[0m\u001b[0msig\u001b[0m\u001b[0;34m.\u001b[0m\u001b[0mparameters\u001b[0m\u001b[0;34m,\u001b[0m \u001b[0margs\u001b[0m\u001b[0;34m)\u001b[0m\u001b[0;34m}\u001b[0m\u001b[0;34m)\u001b[0m\u001b[0;34m\u001b[0m\u001b[0;34m\u001b[0m\u001b[0m\n\u001b[0;32m---> 46\u001b[0;31m         \u001b[0;32mreturn\u001b[0m \u001b[0mf\u001b[0m\u001b[0;34m(\u001b[0m\u001b[0;34m**\u001b[0m\u001b[0mkwargs\u001b[0m\u001b[0;34m)\u001b[0m\u001b[0;34m\u001b[0m\u001b[0;34m\u001b[0m\u001b[0m\n\u001b[0m\u001b[1;32m     47\u001b[0m     \u001b[0;32mreturn\u001b[0m \u001b[0minner_f\u001b[0m\u001b[0;34m\u001b[0m\u001b[0;34m\u001b[0m\u001b[0m\n\u001b[1;32m     48\u001b[0m \u001b[0;34m\u001b[0m\u001b[0m\n",
      "\u001b[0;32m~/Library/Python/3.8/lib/python/site-packages/seaborn/relational.py\u001b[0m in \u001b[0;36mlineplot\u001b[0;34m(x, y, hue, size, style, data, palette, hue_order, hue_norm, sizes, size_order, size_norm, dashes, markers, style_order, units, estimator, ci, n_boot, seed, sort, err_style, err_kws, legend, ax, **kwargs)\u001b[0m\n\u001b[1;32m    701\u001b[0m     \u001b[0mp\u001b[0m\u001b[0;34m.\u001b[0m\u001b[0m_attach\u001b[0m\u001b[0;34m(\u001b[0m\u001b[0max\u001b[0m\u001b[0;34m)\u001b[0m\u001b[0;34m\u001b[0m\u001b[0;34m\u001b[0m\u001b[0m\n\u001b[1;32m    702\u001b[0m \u001b[0;34m\u001b[0m\u001b[0m\n\u001b[0;32m--> 703\u001b[0;31m     \u001b[0mp\u001b[0m\u001b[0;34m.\u001b[0m\u001b[0mplot\u001b[0m\u001b[0;34m(\u001b[0m\u001b[0max\u001b[0m\u001b[0;34m,\u001b[0m \u001b[0mkwargs\u001b[0m\u001b[0;34m)\u001b[0m\u001b[0;34m\u001b[0m\u001b[0;34m\u001b[0m\u001b[0m\n\u001b[0m\u001b[1;32m    704\u001b[0m     \u001b[0;32mreturn\u001b[0m \u001b[0max\u001b[0m\u001b[0;34m\u001b[0m\u001b[0;34m\u001b[0m\u001b[0m\n\u001b[1;32m    705\u001b[0m \u001b[0;34m\u001b[0m\u001b[0m\n",
      "\u001b[0;32m~/Library/Python/3.8/lib/python/site-packages/seaborn/relational.py\u001b[0m in \u001b[0;36mplot\u001b[0;34m(self, ax, kws)\u001b[0m\n\u001b[1;32m    497\u001b[0m                     \u001b[0merr\u001b[0m \u001b[0;34m=\u001b[0m \u001b[0;34m\"estimator must be None when specifying units\"\u001b[0m\u001b[0;34m\u001b[0m\u001b[0;34m\u001b[0m\u001b[0m\n\u001b[1;32m    498\u001b[0m                     \u001b[0;32mraise\u001b[0m \u001b[0mValueError\u001b[0m\u001b[0;34m(\u001b[0m\u001b[0merr\u001b[0m\u001b[0;34m)\u001b[0m\u001b[0;34m\u001b[0m\u001b[0;34m\u001b[0m\u001b[0m\n\u001b[0;32m--> 499\u001b[0;31m                 \u001b[0mx\u001b[0m\u001b[0;34m,\u001b[0m \u001b[0my\u001b[0m\u001b[0;34m,\u001b[0m \u001b[0my_ci\u001b[0m \u001b[0;34m=\u001b[0m \u001b[0mself\u001b[0m\u001b[0;34m.\u001b[0m\u001b[0maggregate\u001b[0m\u001b[0;34m(\u001b[0m\u001b[0my\u001b[0m\u001b[0;34m,\u001b[0m \u001b[0mx\u001b[0m\u001b[0;34m,\u001b[0m \u001b[0mu\u001b[0m\u001b[0;34m)\u001b[0m\u001b[0;34m\u001b[0m\u001b[0;34m\u001b[0m\u001b[0m\n\u001b[0m\u001b[1;32m    500\u001b[0m             \u001b[0;32melse\u001b[0m\u001b[0;34m:\u001b[0m\u001b[0;34m\u001b[0m\u001b[0;34m\u001b[0m\u001b[0m\n\u001b[1;32m    501\u001b[0m                 \u001b[0my_ci\u001b[0m \u001b[0;34m=\u001b[0m \u001b[0;32mNone\u001b[0m\u001b[0;34m\u001b[0m\u001b[0;34m\u001b[0m\u001b[0m\n",
      "\u001b[0;32m~/Library/Python/3.8/lib/python/site-packages/seaborn/relational.py\u001b[0m in \u001b[0;36maggregate\u001b[0;34m(self, vals, grouper, units)\u001b[0m\n\u001b[1;32m    412\u001b[0m                                columns=[\"low\", \"high\"]).stack()\n\u001b[1;32m    413\u001b[0m         \u001b[0;32melse\u001b[0m\u001b[0;34m:\u001b[0m\u001b[0;34m\u001b[0m\u001b[0;34m\u001b[0m\u001b[0m\n\u001b[0;32m--> 414\u001b[0;31m             \u001b[0mcis\u001b[0m \u001b[0;34m=\u001b[0m \u001b[0mgrouped\u001b[0m\u001b[0;34m.\u001b[0m\u001b[0mapply\u001b[0m\u001b[0;34m(\u001b[0m\u001b[0mbootstrapped_cis\u001b[0m\u001b[0;34m)\u001b[0m\u001b[0;34m\u001b[0m\u001b[0;34m\u001b[0m\u001b[0m\n\u001b[0m\u001b[1;32m    415\u001b[0m \u001b[0;34m\u001b[0m\u001b[0m\n\u001b[1;32m    416\u001b[0m         \u001b[0;31m# Unpack the CIs into \"wide\" format for plotting\u001b[0m\u001b[0;34m\u001b[0m\u001b[0;34m\u001b[0m\u001b[0;34m\u001b[0m\u001b[0m\n",
      "\u001b[0;32m~/Library/Python/3.8/lib/python/site-packages/pandas/core/groupby/generic.py\u001b[0m in \u001b[0;36mapply\u001b[0;34m(self, func, *args, **kwargs)\u001b[0m\n\u001b[1;32m    224\u001b[0m     )\n\u001b[1;32m    225\u001b[0m     \u001b[0;32mdef\u001b[0m \u001b[0mapply\u001b[0m\u001b[0;34m(\u001b[0m\u001b[0mself\u001b[0m\u001b[0;34m,\u001b[0m \u001b[0mfunc\u001b[0m\u001b[0;34m,\u001b[0m \u001b[0;34m*\u001b[0m\u001b[0margs\u001b[0m\u001b[0;34m,\u001b[0m \u001b[0;34m**\u001b[0m\u001b[0mkwargs\u001b[0m\u001b[0;34m)\u001b[0m\u001b[0;34m:\u001b[0m\u001b[0;34m\u001b[0m\u001b[0;34m\u001b[0m\u001b[0m\n\u001b[0;32m--> 226\u001b[0;31m         \u001b[0;32mreturn\u001b[0m \u001b[0msuper\u001b[0m\u001b[0;34m(\u001b[0m\u001b[0;34m)\u001b[0m\u001b[0;34m.\u001b[0m\u001b[0mapply\u001b[0m\u001b[0;34m(\u001b[0m\u001b[0mfunc\u001b[0m\u001b[0;34m,\u001b[0m \u001b[0;34m*\u001b[0m\u001b[0margs\u001b[0m\u001b[0;34m,\u001b[0m \u001b[0;34m**\u001b[0m\u001b[0mkwargs\u001b[0m\u001b[0;34m)\u001b[0m\u001b[0;34m\u001b[0m\u001b[0;34m\u001b[0m\u001b[0m\n\u001b[0m\u001b[1;32m    227\u001b[0m \u001b[0;34m\u001b[0m\u001b[0m\n\u001b[1;32m    228\u001b[0m     @doc(\n",
      "\u001b[0;32m~/Library/Python/3.8/lib/python/site-packages/pandas/core/groupby/groupby.py\u001b[0m in \u001b[0;36mapply\u001b[0;34m(self, func, *args, **kwargs)\u001b[0m\n\u001b[1;32m    857\u001b[0m         \u001b[0;32mwith\u001b[0m \u001b[0moption_context\u001b[0m\u001b[0;34m(\u001b[0m\u001b[0;34m\"mode.chained_assignment\"\u001b[0m\u001b[0;34m,\u001b[0m \u001b[0;32mNone\u001b[0m\u001b[0;34m)\u001b[0m\u001b[0;34m:\u001b[0m\u001b[0;34m\u001b[0m\u001b[0;34m\u001b[0m\u001b[0m\n\u001b[1;32m    858\u001b[0m             \u001b[0;32mtry\u001b[0m\u001b[0;34m:\u001b[0m\u001b[0;34m\u001b[0m\u001b[0;34m\u001b[0m\u001b[0m\n\u001b[0;32m--> 859\u001b[0;31m                 \u001b[0mresult\u001b[0m \u001b[0;34m=\u001b[0m \u001b[0mself\u001b[0m\u001b[0;34m.\u001b[0m\u001b[0m_python_apply_general\u001b[0m\u001b[0;34m(\u001b[0m\u001b[0mf\u001b[0m\u001b[0;34m,\u001b[0m \u001b[0mself\u001b[0m\u001b[0;34m.\u001b[0m\u001b[0m_selected_obj\u001b[0m\u001b[0;34m)\u001b[0m\u001b[0;34m\u001b[0m\u001b[0;34m\u001b[0m\u001b[0m\n\u001b[0m\u001b[1;32m    860\u001b[0m             \u001b[0;32mexcept\u001b[0m \u001b[0mTypeError\u001b[0m\u001b[0;34m:\u001b[0m\u001b[0;34m\u001b[0m\u001b[0;34m\u001b[0m\u001b[0m\n\u001b[1;32m    861\u001b[0m                 \u001b[0;31m# gh-20949\u001b[0m\u001b[0;34m\u001b[0m\u001b[0;34m\u001b[0m\u001b[0;34m\u001b[0m\u001b[0m\n",
      "\u001b[0;32m~/Library/Python/3.8/lib/python/site-packages/pandas/core/groupby/groupby.py\u001b[0m in \u001b[0;36m_python_apply_general\u001b[0;34m(self, f, data)\u001b[0m\n\u001b[1;32m    890\u001b[0m             \u001b[0mdata\u001b[0m \u001b[0mafter\u001b[0m \u001b[0mapplying\u001b[0m \u001b[0mf\u001b[0m\u001b[0;34m\u001b[0m\u001b[0;34m\u001b[0m\u001b[0m\n\u001b[1;32m    891\u001b[0m         \"\"\"\n\u001b[0;32m--> 892\u001b[0;31m         \u001b[0mkeys\u001b[0m\u001b[0;34m,\u001b[0m \u001b[0mvalues\u001b[0m\u001b[0;34m,\u001b[0m \u001b[0mmutated\u001b[0m \u001b[0;34m=\u001b[0m \u001b[0mself\u001b[0m\u001b[0;34m.\u001b[0m\u001b[0mgrouper\u001b[0m\u001b[0;34m.\u001b[0m\u001b[0mapply\u001b[0m\u001b[0;34m(\u001b[0m\u001b[0mf\u001b[0m\u001b[0;34m,\u001b[0m \u001b[0mdata\u001b[0m\u001b[0;34m,\u001b[0m \u001b[0mself\u001b[0m\u001b[0;34m.\u001b[0m\u001b[0maxis\u001b[0m\u001b[0;34m)\u001b[0m\u001b[0;34m\u001b[0m\u001b[0;34m\u001b[0m\u001b[0m\n\u001b[0m\u001b[1;32m    893\u001b[0m \u001b[0;34m\u001b[0m\u001b[0m\n\u001b[1;32m    894\u001b[0m         return self._wrap_applied_output(\n",
      "\u001b[0;32m~/Library/Python/3.8/lib/python/site-packages/pandas/core/groupby/ops.py\u001b[0m in \u001b[0;36mapply\u001b[0;34m(self, f, data, axis)\u001b[0m\n\u001b[1;32m    211\u001b[0m             \u001b[0;31m# group might be modified\u001b[0m\u001b[0;34m\u001b[0m\u001b[0;34m\u001b[0m\u001b[0;34m\u001b[0m\u001b[0m\n\u001b[1;32m    212\u001b[0m             \u001b[0mgroup_axes\u001b[0m \u001b[0;34m=\u001b[0m \u001b[0mgroup\u001b[0m\u001b[0;34m.\u001b[0m\u001b[0maxes\u001b[0m\u001b[0;34m\u001b[0m\u001b[0;34m\u001b[0m\u001b[0m\n\u001b[0;32m--> 213\u001b[0;31m             \u001b[0mres\u001b[0m \u001b[0;34m=\u001b[0m \u001b[0mf\u001b[0m\u001b[0;34m(\u001b[0m\u001b[0mgroup\u001b[0m\u001b[0;34m)\u001b[0m\u001b[0;34m\u001b[0m\u001b[0;34m\u001b[0m\u001b[0m\n\u001b[0m\u001b[1;32m    214\u001b[0m             \u001b[0;32mif\u001b[0m \u001b[0;32mnot\u001b[0m \u001b[0m_is_indexed_like\u001b[0m\u001b[0;34m(\u001b[0m\u001b[0mres\u001b[0m\u001b[0;34m,\u001b[0m \u001b[0mgroup_axes\u001b[0m\u001b[0;34m)\u001b[0m\u001b[0;34m:\u001b[0m\u001b[0;34m\u001b[0m\u001b[0;34m\u001b[0m\u001b[0m\n\u001b[1;32m    215\u001b[0m                 \u001b[0mmutated\u001b[0m \u001b[0;34m=\u001b[0m \u001b[0;32mTrue\u001b[0m\u001b[0;34m\u001b[0m\u001b[0;34m\u001b[0m\u001b[0m\n",
      "\u001b[0;32m~/Library/Python/3.8/lib/python/site-packages/seaborn/relational.py\u001b[0m in \u001b[0;36mbootstrapped_cis\u001b[0;34m(vals)\u001b[0m\n\u001b[1;32m    393\u001b[0m                 \u001b[0;32mreturn\u001b[0m \u001b[0mnull_ci\u001b[0m\u001b[0;34m\u001b[0m\u001b[0;34m\u001b[0m\u001b[0m\n\u001b[1;32m    394\u001b[0m \u001b[0;34m\u001b[0m\u001b[0m\n\u001b[0;32m--> 395\u001b[0;31m             \u001b[0mboots\u001b[0m \u001b[0;34m=\u001b[0m \u001b[0mbootstrap\u001b[0m\u001b[0;34m(\u001b[0m\u001b[0mvals\u001b[0m\u001b[0;34m,\u001b[0m \u001b[0mfunc\u001b[0m\u001b[0;34m=\u001b[0m\u001b[0mfunc\u001b[0m\u001b[0;34m,\u001b[0m \u001b[0mn_boot\u001b[0m\u001b[0;34m=\u001b[0m\u001b[0mn_boot\u001b[0m\u001b[0;34m,\u001b[0m \u001b[0mseed\u001b[0m\u001b[0;34m=\u001b[0m\u001b[0mseed\u001b[0m\u001b[0;34m)\u001b[0m\u001b[0;34m\u001b[0m\u001b[0;34m\u001b[0m\u001b[0m\n\u001b[0m\u001b[1;32m    396\u001b[0m             \u001b[0mcis\u001b[0m \u001b[0;34m=\u001b[0m \u001b[0mci_func\u001b[0m\u001b[0;34m(\u001b[0m\u001b[0mboots\u001b[0m\u001b[0;34m,\u001b[0m \u001b[0mci\u001b[0m\u001b[0;34m)\u001b[0m\u001b[0;34m\u001b[0m\u001b[0;34m\u001b[0m\u001b[0m\n\u001b[1;32m    397\u001b[0m             \u001b[0;32mreturn\u001b[0m \u001b[0mpd\u001b[0m\u001b[0;34m.\u001b[0m\u001b[0mSeries\u001b[0m\u001b[0;34m(\u001b[0m\u001b[0mcis\u001b[0m\u001b[0;34m,\u001b[0m \u001b[0;34m[\u001b[0m\u001b[0;34m\"low\"\u001b[0m\u001b[0;34m,\u001b[0m \u001b[0;34m\"high\"\u001b[0m\u001b[0;34m]\u001b[0m\u001b[0;34m)\u001b[0m\u001b[0;34m\u001b[0m\u001b[0;34m\u001b[0m\u001b[0m\n",
      "\u001b[0;32m~/Library/Python/3.8/lib/python/site-packages/seaborn/algorithms.py\u001b[0m in \u001b[0;36mbootstrap\u001b[0;34m(*args, **kwargs)\u001b[0m\n\u001b[1;32m     81\u001b[0m     \u001b[0mboot_dist\u001b[0m \u001b[0;34m=\u001b[0m \u001b[0;34m[\u001b[0m\u001b[0;34m]\u001b[0m\u001b[0;34m\u001b[0m\u001b[0;34m\u001b[0m\u001b[0m\n\u001b[1;32m     82\u001b[0m     \u001b[0;32mfor\u001b[0m \u001b[0mi\u001b[0m \u001b[0;32min\u001b[0m \u001b[0mrange\u001b[0m\u001b[0;34m(\u001b[0m\u001b[0mint\u001b[0m\u001b[0;34m(\u001b[0m\u001b[0mn_boot\u001b[0m\u001b[0;34m)\u001b[0m\u001b[0;34m)\u001b[0m\u001b[0;34m:\u001b[0m\u001b[0;34m\u001b[0m\u001b[0;34m\u001b[0m\u001b[0m\n\u001b[0;32m---> 83\u001b[0;31m         \u001b[0mresampler\u001b[0m \u001b[0;34m=\u001b[0m \u001b[0mintegers\u001b[0m\u001b[0;34m(\u001b[0m\u001b[0;36m0\u001b[0m\u001b[0;34m,\u001b[0m \u001b[0mn\u001b[0m\u001b[0;34m,\u001b[0m \u001b[0mn\u001b[0m\u001b[0;34m,\u001b[0m \u001b[0mdtype\u001b[0m\u001b[0;34m=\u001b[0m\u001b[0mnp\u001b[0m\u001b[0;34m.\u001b[0m\u001b[0mintp\u001b[0m\u001b[0;34m)\u001b[0m  \u001b[0;31m# intp is indexing dtype\u001b[0m\u001b[0;34m\u001b[0m\u001b[0;34m\u001b[0m\u001b[0m\n\u001b[0m\u001b[1;32m     84\u001b[0m         \u001b[0msample\u001b[0m \u001b[0;34m=\u001b[0m \u001b[0;34m[\u001b[0m\u001b[0ma\u001b[0m\u001b[0;34m.\u001b[0m\u001b[0mtake\u001b[0m\u001b[0;34m(\u001b[0m\u001b[0mresampler\u001b[0m\u001b[0;34m,\u001b[0m \u001b[0maxis\u001b[0m\u001b[0;34m=\u001b[0m\u001b[0;36m0\u001b[0m\u001b[0;34m)\u001b[0m \u001b[0;32mfor\u001b[0m \u001b[0ma\u001b[0m \u001b[0;32min\u001b[0m \u001b[0margs\u001b[0m\u001b[0;34m]\u001b[0m\u001b[0;34m\u001b[0m\u001b[0;34m\u001b[0m\u001b[0m\n\u001b[1;32m     85\u001b[0m         \u001b[0mboot_dist\u001b[0m\u001b[0;34m.\u001b[0m\u001b[0mappend\u001b[0m\u001b[0;34m(\u001b[0m\u001b[0mf\u001b[0m\u001b[0;34m(\u001b[0m\u001b[0;34m*\u001b[0m\u001b[0msample\u001b[0m\u001b[0;34m,\u001b[0m \u001b[0;34m**\u001b[0m\u001b[0mfunc_kwargs\u001b[0m\u001b[0;34m)\u001b[0m\u001b[0;34m)\u001b[0m\u001b[0;34m\u001b[0m\u001b[0;34m\u001b[0m\u001b[0m\n",
      "\u001b[0;32m_generator.pyx\u001b[0m in \u001b[0;36mnumpy.random._generator.Generator.integers\u001b[0;34m()\u001b[0m\n",
      "\u001b[0;32m_bounded_integers.pyx\u001b[0m in \u001b[0;36mnumpy.random._bounded_integers._rand_int64\u001b[0;34m()\u001b[0m\n",
      "\u001b[0;32m<__array_function__ internals>\u001b[0m in \u001b[0;36mprod\u001b[0;34m(*args, **kwargs)\u001b[0m\n",
      "\u001b[0;32m~/Library/Python/3.8/lib/python/site-packages/numpy/core/fromnumeric.py\u001b[0m in \u001b[0;36mprod\u001b[0;34m(a, axis, dtype, out, keepdims, initial, where)\u001b[0m\n\u001b[1;32m   2959\u001b[0m     \u001b[0;36m10\u001b[0m\u001b[0;34m\u001b[0m\u001b[0;34m\u001b[0m\u001b[0m\n\u001b[1;32m   2960\u001b[0m     \"\"\"\n\u001b[0;32m-> 2961\u001b[0;31m     return _wrapreduction(a, np.multiply, 'prod', axis, dtype, out,\n\u001b[0m\u001b[1;32m   2962\u001b[0m                           keepdims=keepdims, initial=initial, where=where)\n\u001b[1;32m   2963\u001b[0m \u001b[0;34m\u001b[0m\u001b[0m\n",
      "\u001b[0;32m~/Library/Python/3.8/lib/python/site-packages/numpy/core/fromnumeric.py\u001b[0m in \u001b[0;36m_wrapreduction\u001b[0;34m(obj, ufunc, method, axis, dtype, out, **kwargs)\u001b[0m\n\u001b[1;32m     77\u001b[0m     \u001b[0;32mif\u001b[0m \u001b[0mtype\u001b[0m\u001b[0;34m(\u001b[0m\u001b[0mobj\u001b[0m\u001b[0;34m)\u001b[0m \u001b[0;32mis\u001b[0m \u001b[0;32mnot\u001b[0m \u001b[0mmu\u001b[0m\u001b[0;34m.\u001b[0m\u001b[0mndarray\u001b[0m\u001b[0;34m:\u001b[0m\u001b[0;34m\u001b[0m\u001b[0;34m\u001b[0m\u001b[0m\n\u001b[1;32m     78\u001b[0m         \u001b[0;32mtry\u001b[0m\u001b[0;34m:\u001b[0m\u001b[0;34m\u001b[0m\u001b[0;34m\u001b[0m\u001b[0m\n\u001b[0;32m---> 79\u001b[0;31m             \u001b[0mreduction\u001b[0m \u001b[0;34m=\u001b[0m \u001b[0mgetattr\u001b[0m\u001b[0;34m(\u001b[0m\u001b[0mobj\u001b[0m\u001b[0;34m,\u001b[0m \u001b[0mmethod\u001b[0m\u001b[0;34m)\u001b[0m\u001b[0;34m\u001b[0m\u001b[0;34m\u001b[0m\u001b[0m\n\u001b[0m\u001b[1;32m     80\u001b[0m         \u001b[0;32mexcept\u001b[0m \u001b[0mAttributeError\u001b[0m\u001b[0;34m:\u001b[0m\u001b[0;34m\u001b[0m\u001b[0;34m\u001b[0m\u001b[0m\n\u001b[1;32m     81\u001b[0m             \u001b[0;32mpass\u001b[0m\u001b[0;34m\u001b[0m\u001b[0;34m\u001b[0m\u001b[0m\n",
      "\u001b[0;31mKeyboardInterrupt\u001b[0m: "
     ]
    }
   ],
=======
   "execution_count": null,
   "metadata": {},
   "outputs": [],
>>>>>>> f7d01d9fff2d7784b47e7d04e473e38fc80fea8d
   "source": [
    "df_train_id2.columns = [' AccX_2 (g)',' AccY_2 (g)',' AccZ_2 (g)',' GyroX_2 (deg/s)',' GyroY_2 (deg/s)',' GyroZ_2 (deg/s)',' MagX_2 (uT)',' MagY_2 (uT)',' MagZ_2 (uT)', 'EulerX_2 (deg)', ' EulerY_2 (deg)', ' EulerZ_2 (deg)',' QuatW_2',' QuatX_2',' QuatY_2',' QuatZ_2']\n",
    "\n",
    "df_train_id3.columns = [' AccX_3 (g)',' AccY_3 (g)',' AccZ_3 (g)',' GyroX_3 (deg/s)',' GyroY_3 (deg/s)',' GyroZ_3 (deg/s)',' MagX_3 (uT)',' MagY_3 (uT)',' MagZ_3 (uT)', 'EulerX_3 (deg)', ' EulerY_3 (deg)', ' EulerZ_3 (deg)',' QuatW_3',' QuatX_3',' QuatY_3',' QuatZ_3']\n",
    "\n"
   ]
  },
  {
   "cell_type": "code",
   "execution_count": null,
   "metadata": {},
   "outputs": [],
   "source": [
    "min_len = len(df_train_id1.index)\n",
    "df_train_id1.index = [i for i in range(min_len)]\n",
    "df_train_id2.index = [i for i in range(min_len)]\n",
    "df_train_id3.index = [i for i in range(min_len)]\n",
    "df_train = pd.concat([df_train_id1,df_train_id2,df_train_id3],axis=1)\n",
    "df_train"
   ]
  },
  {
   "cell_type": "code",
   "execution_count": null,
   "metadata": {
    "scrolled": false
   },
   "outputs": [],
   "source": [
    "x_train = df_train.drop([' TimeStamp (s)'],axis=1)\n",
    "x_train = x_train.drop(['Pose', ' FrameNumber', ' LinAccX (g)', ' LinAccY (g)', ' LinAccZ (g)', ' Pressure (kPa)',\n",
    "                      ' Altitude (m)', ' Temperature (degC)', ' HeaveMotion (m)'],axis=1)\n",
    "# x_train[x_train['SensorId'] == 1]\n",
    "x_train"
   ]
  },
  {
   "cell_type": "code",
   "execution_count": null,
   "metadata": {},
   "outputs": [],
   "source": [
    "print(y_train)\n",
    "print(len(y_train))"
   ]
  },
  {
   "cell_type": "code",
   "execution_count": null,
   "metadata": {},
   "outputs": [],
   "source": [
    "csv_file = \"../../data/test_data/Simon_test_1.csv\"\n",
    "annot_file = \"../../data/annotation/Simon_test_1.txt\"\n",
    "\"\"\"\n",
    "csv_file = \"../../data/train_data/data_martin_1_sub.csv\"\n",
    "annot_file = \"../../data/annotation/martin_train_1_sub.txt\"\n",
    "\"\"\"\n",
    "knn_test = struct_data(csv_file, annot_file, POSE_MAP)\n",
    "s_poses = knn_test.get_timestamp_and_pose()\n",
    "print(s_poses)\n",
    "df_test, df_stamped_poses = knn_test.align_poses(s_poses)\n",
    "df_test[\"SensorId\"] = np.ones(len(df_test.index)) \n",
    "\n",
    "y_test = df_stamped_poses #df_test[\"Pose\"]"
   ]
  },
  {
   "cell_type": "code",
   "execution_count": null,
   "metadata": {
    "scrolled": false
   },
   "outputs": [],
   "source": [
    "knn_test.df"
   ]
  },
  {
   "cell_type": "code",
   "execution_count": null,
   "metadata": {},
   "outputs": [],
   "source": [
    "x_test = df_test.drop([' TimeStamp (s)'],axis=1)\n",
    "x_test = x_test.drop(['Pose'],axis=1)\n",
    "x_test"
   ]
  },
  {
   "cell_type": "code",
   "execution_count": null,
   "metadata": {
    "scrolled": true
   },
   "outputs": [],
   "source": [
    "\"\"\"\n",
    "from sklearn import svm\n",
    "from sklearn.pipeline import make_pipeline\n",
    "from sklearn.preprocessing import StandardScaler\n",
    "from sklearn.neighbors import NeighborhoodComponentsAnalysis,KNeighborsClassifier\n",
    "from sklearn.model_selection import train_test_split\n",
    "from sklearn.pipeline import Pipeline\n",
    "from sklearn.neighbors import KNeighborsClassifier\n",
    "\n",
    "k = 1\n",
    "accuracy_array = []\n",
    "k_array = []\n",
    "\n",
    "for num in range(20):\n",
    "    \n",
    "    neigh = KNeighborsClassifier(n_neighbors=k)\n",
    "    neigh.fit(x_train,y_train)\n",
    "    predictions = neigh.predict(x_test)\n",
    "    number_of_corrects = 0\n",
    "\n",
    "    print(y_test[1200:1230])\n",
    "   \n",
    "    for n in range(len(predictions)):\n",
    "        if(predictions[n] == y_test[n]):\n",
    "            number_of_corrects += 1\n",
    "\n",
    "    print(\"number of correct: {}\".format(number_of_corrects))\n",
    "    print(\"number of guesses: {}\".format(len(predictions)))\n",
    "    print(\"% correct: {}\".format(number_of_corrects/len(predictions)*100))\n",
    "    accuracy_array.append(number_of_corrects/len(predictions)*100)\n",
    "    k_array.append(k)\n",
    "    print(\"K: {}\".format(k))\n",
    "    k += 1\n",
    "    print(accuracy_array)\n",
    "    print(k_array)\n",
    "\n",
    "resframe = pd.DataFrame({'k':k_array, '%':accuracy_array})\n",
    "resframe\n",
    "    \n",
    "\n",
    "sns.lineplot(data=resframe,x=\"k\",y=\"%\")\n",
    "\"\"\"\n"
   ]
  },
  {
   "cell_type": "code",
   "execution_count": null,
   "metadata": {},
   "outputs": [],
   "source": [
    "from sklearn.neighbors import NeighborhoodComponentsAnalysis,KNeighborsClassifier\n",
    "from sklearn.model_selection import train_test_split\n",
    "from sklearn.pipeline import Pipeline\n",
    "from sklearn.neighbors import KNeighborsClassifier\n",
    "\n",
    "print(x_train.shape)\n",
    "print(y_train.shape)\n",
    "print(x_test.shape)\n",
    "\n",
    "#x_train = x_train.drop(['SensorId'], axis=1)\n",
    "#x_test = x_test.drop(['SensorId'], axis=1)\n",
    "\n",
    "neigh = KNeighborsClassifier(n_neighbors=1)\n",
    "neigh.fit(x_train,y_train)\n",
    "predictions = neigh.predict(x_test)\n"
   ]
  },
  {
   "cell_type": "code",
   "execution_count": null,
   "metadata": {},
   "outputs": [],
   "source": [
    "x_test"
   ]
  },
  {
   "cell_type": "code",
   "execution_count": null,
   "metadata": {
    "tags": []
   },
   "outputs": [],
   "source": [
    "\"\"\"\n",
    "for num in range(len(predictions)):\n",
    "    print(predictions[num])\n",
    "\"\"\""
   ]
  },
  {
   "cell_type": "code",
   "execution_count": null,
   "metadata": {},
   "outputs": [],
   "source": [
    "df_predict = pd.DataFrame({'x':df_test[' TimeStamp (s)'],'y':predictions})\n",
    "sns.lineplot(data=df_predict,x='x',y='y')"
   ]
  },
  {
   "cell_type": "code",
   "execution_count": null,
   "metadata": {},
   "outputs": [],
   "source": [
    "from sklearn.metrics import classification_report, confusion_matrix\n",
    "print(confusion_matrix(y_test, predictions))\n",
    "print(classification_report(y_test, predictions, zero_division=True))"
   ]
  },
  {
   "cell_type": "code",
   "execution_count": null,
   "metadata": {
    "scrolled": true
   },
   "outputs": [],
   "source": [
    "sns.heatmap(confusion_matrix(y_test, predictions), cmap=\"YlGnBu\", annot=True, fmt=\"d\")"
   ]
  },
  {
   "cell_type": "code",
   "execution_count": null,
   "metadata": {},
   "outputs": [],
   "source": [
    "number_of_corrects = 0\n",
    "for num in range(len(predictions)):\n",
    "    if(predictions[num] == y_test[num]):\n",
    "        number_of_corrects += 1\n",
    "\n",
    "print(\"number of correct: {}\".format(number_of_corrects))\n",
    "print(\"number of guesses: {}\".format(len(predictions)))\n",
    "print(\"% correct: {}\".format(number_of_corrects/len(predictions)*100))"
   ]
  },
  {
   "cell_type": "markdown",
   "metadata": {},
   "source": []
  }
 ],
 "metadata": {
  "kernelspec": {
   "name": "python3",
   "display_name": "Python 3.8.2 64-bit",
   "metadata": {
    "interpreter": {
     "hash": "31f2aee4e71d21fbe5cf8b01ff0e069b9275f58929596ceb00d14d90e3e16cd6"
    }
   }
  },
  "language_info": {
   "codemirror_mode": {
    "name": "ipython",
    "version": 3
   },
   "file_extension": ".py",
   "mimetype": "text/x-python",
   "name": "python",
   "nbconvert_exporter": "python",
   "pygments_lexer": "ipython3",
   "version": "3.8.2-final"
  }
 },
 "nbformat": 4,
 "nbformat_minor": 4
}