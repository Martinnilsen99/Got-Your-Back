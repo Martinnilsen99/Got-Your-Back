{
 "cells": [
  {
   "cell_type": "code",
   "execution_count": null,
   "metadata": {},
   "outputs": [],
   "source": [
    "import pandas as pd\n",
    "import numpy as np\n",
    "import seaborn as sns\n",
    "import sys\n",
    "sys.path.insert(1, os.path.join(sys.path[0], '..'))\n",
    "from struct_data import struct_data\n",
    "\n",
    "csv_f_name = \"../../data/train_data/Simon_train_3.csv\"\n",
    "annot_f_name = \"../../data/train_data/simon_train_3.txt\"\n",
    "\n",
    "POSE_MAP= {\n",
    "    \"rett\": 0,\n",
    "    \"fram\": 1,\n",
    "    \"fram-hoyre\": 2,\n",
    "    \"hoyre\": 3,\n",
    "    \"bak-hoyre\": 4,\n",
    "    \"bak\": 5,\n",
    "    \"bak-venstre\": 6,\n",
    "    \"venstre\": 7,\n",
    "    \"fram-venstre\": 8\n",
    "}\n",
    "# :\n",
    "\n",
    "knn_train = struct_data(csv_f_name, annot_f_name, POSE_MAP)"
   ]
  },
  {
   "cell_type": "code",
   "execution_count": null,
   "metadata": {},
   "outputs": [],
   "source": [
    "stamped_poses = knn_train.get_timestamp_and_pose()\n",
    "print(stamped_poses)\n",
    "\n",
    "df_train, df_stamped_poses = knn_train.align_poses(stamped_poses)\n",
    "\n",
    "print(len(knn_train.df.index))\n",
    "#print(len(df_stamped_poses))\n",
    "y_train = knn_train.df[\"Pose\"]\n",
    "#df['Pose'].hist(bins=4)\n",
    "sns.lineplot(data=df_train, x=\"Timestamp\", y='Pose')"
   ]
  },
  {
   "cell_type": "code",
   "execution_count": null,
   "metadata": {
    "scrolled": false
   },
   "outputs": [],
   "source": [
    "x_train = df_train.drop(['Timestamp'],axis=1)\n",
    "x_train = x_train.drop(['Pose'],axis=1)\n",
    "x_train"
   ]
  },
  {
   "cell_type": "code",
   "execution_count": null,
   "metadata": {},
   "outputs": [],
   "source": [
    "print(y_train)\n",
    "print(len(y_train))"
   ]
  },
  {
   "cell_type": "code",
   "execution_count": null,
   "metadata": {},
   "outputs": [],
   "source": [
    "csv_file = \"../../data/test_data/Simon_test_1.csv\"\n",
    "annot_file = \"../../data/annotation/Simon_test_1.txt\"\n",
    "\n",
    "knn_test = struct_data(csv_file, annot_file, POSE_MAP)\n",
    "s_poses = knn_test.get_timestamp_and_pose()\n",
    "print(s_poses)\n",
    "df_test, df_stamped_poses = knn_test.align_poses(s_poses)\n",
    "y_test = df_stamped_poses #df_test[\"Pose\"]"
   ]
  },
  {
   "cell_type": "code",
   "execution_count": null,
   "metadata": {
    "scrolled": false
   },
   "outputs": [],
   "source": [
    "knn_test.df"
   ]
  },
  {
   "cell_type": "code",
   "execution_count": null,
   "metadata": {},
   "outputs": [],
   "source": [
    "x_test = df_test.drop(['Timestamp'],axis=1)\n",
    "x_test = x_test.drop(['Pose'],axis=1)\n",
    "x_test"
   ]
  },
  {
   "cell_type": "code",
   "execution_count": null,
   "metadata": {
    "scrolled": true
   },
   "outputs": [],
   "source": [
    "from sklearn import svm\n",
    "from sklearn.pipeline import make_pipeline\n",
    "from sklearn.preprocessing import StandardScaler\n",
    "from sklearn.neighbors import NeighborhoodComponentsAnalysis,KNeighborsClassifier\n",
    "from sklearn.model_selection import train_test_split\n",
    "from sklearn.pipeline import Pipeline\n",
    "from sklearn.neighbors import KNeighborsClassifier\n",
    "\n",
    "k = 1\n",
    "accuracy_array = []\n",
    "k_array = []\n",
    "\n",
    "for num in range(20):\n",
    "    \n",
    "    neigh = KNeighborsClassifier(n_neighbors=k)\n",
    "    neigh.fit(x_train,y_train)\n",
    "    predictions = neigh.predict(x_test)\n",
    "    number_of_corrects = 0\n",
    "\n",
    "    print(y_test[1200:1230])\n",
    "   \n",
    "    for n in range(len(predictions)):\n",
    "        if(predictions[n] == y_test[n]):\n",
    "            number_of_corrects += 1\n",
    "\n",
    "    print(\"number of correct: {}\".format(number_of_corrects))\n",
    "    print(\"number of guesses: {}\".format(len(predictions)))\n",
    "    print(\"% correct: {}\".format(number_of_corrects/len(predictions)*100))\n",
    "    accuracy_array.append(number_of_corrects/len(predictions)*100)\n",
    "    k_array.append(k)\n",
    "    print(\"K: {}\".format(k))\n",
    "    k += 1\n",
    "    print(accuracy_array)\n",
    "    print(k_array)\n",
    "\n",
    "resframe = pd.DataFrame({'k':k_array, '%':accuracy_array})\n",
    "resframe\n",
    "    \n",
    "\n",
    "sns.lineplot(data=resframe,x=\"k\",y=\"%\")\n"
   ]
  },
  {
   "cell_type": "code",
   "execution_count": null,
   "metadata": {},
   "outputs": [],
   "source": [
    "from sklearn.neighbors import NeighborhoodComponentsAnalysis,KNeighborsClassifier\n",
    "from sklearn.model_selection import train_test_split\n",
    "from sklearn.pipeline import Pipeline\n",
    "from sklearn.neighbors import KNeighborsClassifier\n",
    "\n",
    "neigh = KNeighborsClassifier(n_neighbors=1)\n",
    "neigh.fit(x_train,y_train)\n",
    "predictions = neigh.predict(x_test)\n"
   ]
  },
  {
   "cell_type": "code",
   "execution_count": null,
   "metadata": {},
   "outputs": [],
   "source": [
    "for num in range(len(predictions)):\n",
    "    print(predictions[num])"
   ]
  },
  {
   "cell_type": "code",
   "execution_count": null,
   "metadata": {},
   "outputs": [],
   "source": [
    "df_predict = pd.DataFrame({'x':df_test['Timestamp'],'y':predictions})\n",
    "sns.lineplot(data=df_predict,x='x',y='y')"
   ]
  },
  {
   "cell_type": "code",
   "execution_count": null,
   "metadata": {},
   "outputs": [],
   "source": [
    "from sklearn.metrics import classification_report, confusion_matrix\n",
    "print(confusion_matrix(y_test, predictions))\n",
    "print(classification_report(y_test, predictions, zero_division=True))"
   ]
  },
  {
   "cell_type": "code",
   "execution_count": null,
   "metadata": {
    "scrolled": true
   },
   "outputs": [],
   "source": [
    "sns.heatmap(confusion_matrix(y_test, predictions), cmap=\"YlGnBu\", annot=True, fmt=\"d\")"
   ]
  },
  {
   "cell_type": "code",
   "execution_count": null,
   "metadata": {},
   "outputs": [],
   "source": [
    "number_of_corrects = 0\n",
    "for num in range(len(predictions)):\n",
    "    if(predictions[num] == y_test[num]):\n",
    "        number_of_corrects += 1\n",
    "\n",
    "print(\"number of correct: {}\".format(number_of_corrects))\n",
    "print(\"number of guesses: {}\".format(len(predictions)))\n",
    "print(\"% correct: {}\".format(number_of_corrects/len(predictions)*100))"
   ]
  },
  {
   "cell_type": "markdown",
   "metadata": {},
   "source": []
  }
 ],
 "metadata": {
  "kernelspec": {
   "name": "python3",
   "display_name": "Python 3",
   "language": "python"
  },
  "language_info": {
   "codemirror_mode": {
    "name": "ipython",
    "version": 3
   },
   "file_extension": ".py",
   "mimetype": "text/x-python",
   "name": "python",
   "nbconvert_exporter": "python",
   "pygments_lexer": "ipython3",
   "version": "3.8.0-final"
  }
 },
 "nbformat": 4,
 "nbformat_minor": 4
}