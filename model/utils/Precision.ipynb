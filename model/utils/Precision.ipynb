{
 "cells": [
  {
   "cell_type": "markdown",
   "source": "## Import",
   "metadata": {
    "tags": [],
    "cell_id": "00000-3118a38c-13f9-4485-ac5a-42285c725a90",
    "deepnote_cell_type": "markdown"
   }
  },
  {
   "cell_type": "code",
   "metadata": {
    "deepnote_to_be_reexecuted": false,
    "source_hash": "d7c854c0",
    "execution_millis": 6621,
    "execution_start": 1621342377275,
    "cell_id": "00001-4519a5ea-f8e5-4825-bcf4-1d1ef1f1ba6e",
    "output_cleared": true,
    "deepnote_cell_type": "code"
   },
   "source": "import sys; sys.path.insert(0, '..')\nimport os\nimport time\nimport pandas as pd\nimport numpy as np\nimport seaborn as sns\nfrom matplotlib import pyplot as plt\nfrom tabulate import tabulate\nfrom dataclasses import dataclass\nfrom joblib import load\nfrom keras.models import Sequential, load_model\nfrom keras.layers import Conv1D, ZeroPadding1D, AveragePooling1D, MaxPooling1D, BatchNormalization, Activation, Dropout, Flatten, Dense\nfrom keras.utils import to_categorical\nfrom keras.optimizers import RMSprop, Adam\nfrom keras.losses import CategoricalCrossentropy\nfrom keras import activations\nfrom sklearn.metrics import confusion_matrix\nfrom utils.df_utils import df_wrapper\nfrom utils.declarations import training_files, testing_files, POSE_MAP",
   "execution_count": 1,
   "outputs": []
  },
  {
   "cell_type": "markdown",
   "source": "## Define data",
   "metadata": {
    "tags": [],
    "cell_id": "00002-978bd07d-50c5-4183-9402-d4112a486525",
    "deepnote_cell_type": "markdown"
   }
  },
  {
   "cell_type": "code",
   "metadata": {
    "deepnote_to_be_reexecuted": false,
    "source_hash": "7339921f",
    "execution_millis": 4,
    "execution_start": 1621342383899,
    "cell_id": "00003-2ae436be-76d1-4cdc-abd8-2906e2d8e489",
    "output_cleared": true,
    "deepnote_cell_type": "code"
   },
   "source": "AMOUNT_OF_SENSORS = 3\nVALIDATION_TESTSET = \"004\"",
   "execution_count": 2,
   "outputs": []
  },
  {
   "cell_type": "markdown",
   "source": "## Load dataframes",
   "metadata": {
    "tags": [],
    "cell_id": "00004-6cacf89f-a734-4c2d-aae1-b3cb0c887d12",
    "deepnote_cell_type": "markdown"
   }
  },
  {
   "cell_type": "code",
   "metadata": {
    "deepnote_to_be_reexecuted": false,
    "source_hash": "19d6529d",
    "execution_start": 1621342383909,
    "execution_millis": 692,
    "cell_id": "00005-345109f5-c066-42ee-bdb3-a8494ad880cc",
    "output_cleared": false,
    "deepnote_cell_type": "code"
   },
   "source": "pd.set_option('io.hdf.default.format', 'table')\n\nx_train_arr = list()\nfor key in training_files:\n    x_train_arr.append(pd.read_hdf(f\"../../data/preprocessed_data/train_arr_{AMOUNT_OF_SENSORS}.h5\", f\"df{key}\"))\n\nx_test_dict = dict()\ny_test_dict = dict()\nfor key in testing_files:\n    x_test_dict[key] = pd.read_hdf(f\"../../data/preprocessed_data/test_dict_{AMOUNT_OF_SENSORS}.h5\", f\"df{key}\")\n    y_test = x_test_dict[key][\"Pose\"]\n    y_test.index = [i for i in range(len(y_test))]\n    y_test_dict[key] = y_test\n\nx_train = pd.concat([df.drop([' TimeStamp (s)', 'Pose'],axis=1) for df in x_train_arr])\ny_train = pd.concat([df['Pose'] for df in x_train_arr])\nx_test = x_test_dict[VALIDATION_TESTSET].drop([' TimeStamp (s)', 'Pose'], axis=1) \ny_test = y_test_dict[VALIDATION_TESTSET]\nx_test_dict.pop(VALIDATION_TESTSET, None)\n",
   "execution_count": 3,
   "outputs": [
    {
     "output_type": "execute_result",
     "execution_count": 3,
     "data": {
      "application/vnd.deepnote.dataframe.v2+json": {
       "row_count": 8367,
       "column_count": 41,
       "columns": [
        {
         "name": " TimeStamp (s)",
         "dtype": "float64",
         "stats": {
          "unique_count": 8367,
          "nan_count": 0,
          "min": "0.0",
          "max": "188.28",
          "histogram": [
           {
            "bin_start": 0,
            "bin_end": 18.828,
            "count": 863
           },
           {
            "bin_start": 18.828,
            "bin_end": 37.656,
            "count": 941
           },
           {
            "bin_start": 37.656,
            "bin_end": 56.483999999999995,
            "count": 813
           },
           {
            "bin_start": 56.483999999999995,
            "bin_end": 75.312,
            "count": 818
           },
           {
            "bin_start": 75.312,
            "bin_end": 94.14,
            "count": 790
           },
           {
            "bin_start": 94.14,
            "bin_end": 112.96799999999999,
            "count": 817
           },
           {
            "bin_start": 112.96799999999999,
            "bin_end": 131.796,
            "count": 812
           },
           {
            "bin_start": 131.796,
            "bin_end": 150.624,
            "count": 787
           },
           {
            "bin_start": 150.624,
            "bin_end": 169.452,
            "count": 784
           },
           {
            "bin_start": 169.452,
            "bin_end": 188.28,
            "count": 942
           }
          ]
         }
        },
        {
         "name": " AccX (g)",
         "dtype": "float64",
         "stats": {
          "unique_count": 8360,
          "nan_count": 0,
          "min": "-0.28953907",
          "max": "0.44891724",
          "histogram": [
           {
            "bin_start": -0.28953907,
            "bin_end": -0.21569343900000001,
            "count": 813
           },
           {
            "bin_start": -0.21569343900000001,
            "bin_end": -0.14184780800000002,
            "count": 1248
           },
           {
            "bin_start": -0.14184780800000002,
            "bin_end": -0.06800217700000002,
            "count": 134
           },
           {
            "bin_start": -0.06800217700000002,
            "bin_end": 0.00584345399999997,
            "count": 905
           },
           {
            "bin_start": 0.00584345399999997,
            "bin_end": 0.07968908499999994,
            "count": 1745
           },
           {
            "bin_start": 0.07968908499999994,
            "bin_end": 0.15353471599999996,
            "count": 82
           },
           {
            "bin_start": 0.15353471599999996,
            "bin_end": 0.22738034699999998,
            "count": 2468
           },
           {
            "bin_start": 0.22738034699999998,
            "bin_end": 0.30122597799999995,
            "count": 40
           },
           {
            "bin_start": 0.30122597799999995,
            "bin_end": 0.3750716089999999,
            "count": 323
           },
           {
            "bin_start": 0.3750716089999999,
            "bin_end": 0.44891724,
            "count": 609
           }
          ]
         }
        },
        {
         "name": " AccY (g)",
         "dtype": "float64",
         "stats": {
          "unique_count": 8328,
          "nan_count": 0,
          "min": "-1.04324532",
          "max": "-0.74618787",
          "histogram": [
           {
            "bin_start": -1.04324532,
            "bin_end": -1.013539575,
            "count": 13
           },
           {
            "bin_start": -1.013539575,
            "bin_end": -0.98383383,
            "count": 931
           },
           {
            "bin_start": -0.98383383,
            "bin_end": -0.954128085,
            "count": 54
           },
           {
            "bin_start": -0.954128085,
            "bin_end": -0.92442234,
            "count": 390
           },
           {
            "bin_start": -0.92442234,
            "bin_end": -0.894716595,
            "count": 3534
           },
           {
            "bin_start": -0.894716595,
            "bin_end": -0.86501085,
            "count": 749
           },
           {
            "bin_start": -0.86501085,
            "bin_end": -0.835305105,
            "count": 22
           },
           {
            "bin_start": -0.835305105,
            "bin_end": -0.80559936,
            "count": 87
           },
           {
            "bin_start": -0.80559936,
            "bin_end": -0.775893615,
            "count": 1172
           },
           {
            "bin_start": -0.775893615,
            "bin_end": -0.74618787,
            "count": 1415
           }
          ]
         }
        },
        {
         "name": " AccZ (g)",
         "dtype": "float64",
         "stats": {
          "unique_count": 8365,
          "nan_count": 0,
          "min": "-0.64195377",
          "max": "0.14923012",
          "histogram": [
           {
            "bin_start": -0.64195377,
            "bin_end": -0.562835381,
            "count": 2660
           },
           {
            "bin_start": -0.562835381,
            "bin_end": -0.48371699199999996,
            "count": 17
           },
           {
            "bin_start": -0.48371699199999996,
            "bin_end": -0.404598603,
            "count": 717
           },
           {
            "bin_start": -0.404598603,
            "bin_end": -0.325480214,
            "count": 2284
           },
           {
            "bin_start": -0.325480214,
            "bin_end": -0.24636182499999998,
            "count": 783
           },
           {
            "bin_start": -0.24636182499999998,
            "bin_end": -0.16724343600000002,
            "count": 53
           },
           {
            "bin_start": -0.16724343600000002,
            "bin_end": -0.08812504700000001,
            "count": 866
           },
           {
            "bin_start": -0.08812504700000001,
            "bin_end": -0.009006658,
            "count": 21
           },
           {
            "bin_start": -0.009006658,
            "bin_end": 0.07011173100000001,
            "count": 948
           },
           {
            "bin_start": 0.07011173100000001,
            "bin_end": 0.14923012,
            "count": 18
           }
          ]
         }
        },
        {
         "name": " GyroX (deg/s)",
         "dtype": "float64",
         "stats": {
          "unique_count": 8367,
          "nan_count": 0,
          "min": "-16.09510803",
          "max": "44.46062088",
          "histogram": [
           {
            "bin_start": -16.09510803,
            "bin_end": -10.039535138999998,
            "count": 18
           },
           {
            "bin_start": -10.039535138999998,
            "bin_end": -3.983962247999999,
            "count": 122
           },
           {
            "bin_start": -3.983962247999999,
            "bin_end": 2.0716106429999996,
            "count": 7931
           },
           {
            "bin_start": 2.0716106429999996,
            "bin_end": 8.127183534,
            "count": 222
           },
           {
            "bin_start": 8.127183534,
            "bin_end": 14.182756425000001,
            "count": 56
           },
           {
            "bin_start": 14.182756425000001,
            "bin_end": 20.238329315999998,
            "count": 5
           },
           {
            "bin_start": 20.238329315999998,
            "bin_end": 26.293902207000002,
            "count": 4
           },
           {
            "bin_start": 26.293902207000002,
            "bin_end": 32.349475098,
            "count": 1
           },
           {
            "bin_start": 32.349475098,
            "bin_end": 38.405047988999996,
            "count": 2
           },
           {
            "bin_start": 38.405047988999996,
            "bin_end": 44.46062088,
            "count": 6
           }
          ]
         }
        },
        {
         "name": " GyroY (deg/s)",
         "dtype": "float64",
         "stats": {
          "unique_count": 8367,
          "nan_count": 0,
          "min": "-19.1764946",
          "max": "22.80661774",
          "histogram": [
           {
            "bin_start": -19.1764946,
            "bin_end": -14.978183366000001,
            "count": 7
           },
           {
            "bin_start": -14.978183366000001,
            "bin_end": -10.779872132000001,
            "count": 21
           },
           {
            "bin_start": -10.779872132000001,
            "bin_end": -6.581560898000001,
            "count": 44
           },
           {
            "bin_start": -6.581560898000001,
            "bin_end": -2.383249664000001,
            "count": 248
           },
           {
            "bin_start": -2.383249664000001,
            "bin_end": 1.815061570000001,
            "count": 7669
           },
           {
            "bin_start": 1.815061570000001,
            "bin_end": 6.013372803999999,
            "count": 327
           },
           {
            "bin_start": 6.013372803999999,
            "bin_end": 10.211684037999998,
            "count": 30
           },
           {
            "bin_start": 10.211684037999998,
            "bin_end": 14.409995272,
            "count": 12
           },
           {
            "bin_start": 14.409995272,
            "bin_end": 18.608306506,
            "count": 4
           },
           {
            "bin_start": 18.608306506,
            "bin_end": 22.80661774,
            "count": 5
           }
          ]
         }
        },
        {
         "name": " GyroZ (deg/s)",
         "dtype": "float64",
         "stats": {
          "unique_count": 8366,
          "nan_count": 0,
          "min": "-14.98489571",
          "max": "29.06977654",
          "histogram": [
           {
            "bin_start": -14.98489571,
            "bin_end": -10.579428485000001,
            "count": 14
           },
           {
            "bin_start": -10.579428485000001,
            "bin_end": -6.1739612600000005,
            "count": 44
           },
           {
            "bin_start": -6.1739612600000005,
            "bin_end": -1.7684940349999998,
            "count": 207
           },
           {
            "bin_start": -1.7684940349999998,
            "bin_end": 2.636973189999999,
            "count": 7875
           },
           {
            "bin_start": 2.636973189999999,
            "bin_end": 7.042440414999998,
            "count": 143
           },
           {
            "bin_start": 7.042440414999998,
            "bin_end": 11.44790764,
            "count": 39
           },
           {
            "bin_start": 11.44790764,
            "bin_end": 15.853374865,
            "count": 17
           },
           {
            "bin_start": 15.853374865,
            "bin_end": 20.258842089999998,
            "count": 11
           },
           {
            "bin_start": 20.258842089999998,
            "bin_end": 24.664309315,
            "count": 13
           },
           {
            "bin_start": 24.664309315,
            "bin_end": 29.06977654,
            "count": 4
           }
          ]
         }
        },
        {
         "name": " QuatW",
         "dtype": "float64",
         "stats": {
          "unique_count": 8317,
          "nan_count": 0,
          "min": "-0.90282989",
          "max": "-0.69004273",
          "histogram": [
           {
            "bin_start": -0.90282989,
            "bin_end": -0.881551174,
            "count": 2655
           },
           {
            "bin_start": -0.881551174,
            "bin_end": -0.8602724580000001,
            "count": 22
           },
           {
            "bin_start": -0.8602724580000001,
            "bin_end": -0.838993742,
            "count": 198
           },
           {
            "bin_start": -0.838993742,
            "bin_end": -0.817715026,
            "count": 1494
           },
           {
            "bin_start": -0.817715026,
            "bin_end": -0.79643631,
            "count": 1900
           },
           {
            "bin_start": -0.79643631,
            "bin_end": -0.7751575940000001,
            "count": 203
           },
           {
            "bin_start": -0.7751575940000001,
            "bin_end": -0.7538788780000001,
            "count": 4
           },
           {
            "bin_start": -0.7538788780000001,
            "bin_end": -0.732600162,
            "count": 60
           },
           {
            "bin_start": -0.732600162,
            "bin_end": -0.711321446,
            "count": 867
           },
           {
            "bin_start": -0.711321446,
            "bin_end": -0.69004273,
            "count": 964
           }
          ]
         }
        },
        {
         "name": " QuatX",
         "dtype": "float64",
         "stats": {
          "unique_count": 8328,
          "nan_count": 0,
          "min": "0.41180971",
          "max": "0.72269017",
          "histogram": [
           {
            "bin_start": 0.41180971,
            "bin_end": 0.442897756,
            "count": 1293
           },
           {
            "bin_start": 0.442897756,
            "bin_end": 0.473985802,
            "count": 1384
           },
           {
            "bin_start": 0.473985802,
            "bin_end": 0.505073848,
            "count": 0
           },
           {
            "bin_start": 0.505073848,
            "bin_end": 0.536161894,
            "count": 263
           },
           {
            "bin_start": 0.536161894,
            "bin_end": 0.56724994,
            "count": 1398
           },
           {
            "bin_start": 0.56724994,
            "bin_end": 0.598337986,
            "count": 2061
           },
           {
            "bin_start": 0.598337986,
            "bin_end": 0.629426032,
            "count": 84
           },
           {
            "bin_start": 0.629426032,
            "bin_end": 0.6605140780000001,
            "count": 791
           },
           {
            "bin_start": 0.6605140780000001,
            "bin_end": 0.691602124,
            "count": 127
           },
           {
            "bin_start": 0.691602124,
            "bin_end": 0.72269017,
            "count": 966
           }
          ]
         }
        },
        {
         "name": " QuatY",
         "dtype": "float64",
         "stats": {
          "unique_count": 8361,
          "nan_count": 0,
          "min": "-0.05786819",
          "max": "0.1228468",
          "histogram": [
           {
            "bin_start": -0.05786819,
            "bin_end": -0.039796690999999995,
            "count": 789
           },
           {
            "bin_start": -0.039796690999999995,
            "bin_end": -0.021725191999999997,
            "count": 1211
           },
           {
            "bin_start": -0.021725191999999997,
            "bin_end": -0.0036536929999999995,
            "count": 86
           },
           {
            "bin_start": -0.0036536929999999995,
            "bin_end": 0.014417806000000005,
            "count": 1613
           },
           {
            "bin_start": 0.014417806000000005,
            "bin_end": 0.03248930500000001,
            "count": 423
           },
           {
            "bin_start": 0.03248930500000001,
            "bin_end": 0.050560804,
            "count": 1742
           },
           {
            "bin_start": 0.050560804,
            "bin_end": 0.06863230300000002,
            "count": 396
           },
           {
            "bin_start": 0.06863230300000002,
            "bin_end": 0.08670380200000001,
            "count": 1446
           },
           {
            "bin_start": 0.08670380200000001,
            "bin_end": 0.104775301,
            "count": 22
           },
           {
            "bin_start": 0.104775301,
            "bin_end": 0.1228468,
            "count": 639
           }
          ]
         }
        },
        {
         "name": " QuatZ",
         "dtype": "float64",
         "stats": {
          "unique_count": 8362,
          "nan_count": 0,
          "min": "-0.21029948",
          "max": "0.17275326",
          "histogram": [
           {
            "bin_start": -0.21029948,
            "bin_end": -0.171994206,
            "count": 917
           },
           {
            "bin_start": -0.171994206,
            "bin_end": -0.133688932,
            "count": 1007
           },
           {
            "bin_start": -0.133688932,
            "bin_end": -0.09538365800000001,
            "count": 147
           },
           {
            "bin_start": -0.09538365800000001,
            "bin_end": -0.05707838400000001,
            "count": 730
           },
           {
            "bin_start": -0.05707838400000001,
            "bin_end": -0.01877311000000001,
            "count": 834
           },
           {
            "bin_start": -0.01877311000000001,
            "bin_end": 0.01953216399999999,
            "count": 994
           },
           {
            "bin_start": 0.01953216399999999,
            "bin_end": 0.05783743799999999,
            "count": 639
           },
           {
            "bin_start": 0.05783743799999999,
            "bin_end": 0.09614271199999999,
            "count": 1091
           },
           {
            "bin_start": 0.09614271199999999,
            "bin_end": 0.134447986,
            "count": 1198
           },
           {
            "bin_start": 0.134447986,
            "bin_end": 0.17275326,
            "count": 810
           }
          ]
         }
        },
        {
         "name": " LinAccX (g)",
         "dtype": "float64"
        },
        {
         "name": " LinAccY (g)",
         "dtype": "float64"
        },
        {
         "name": " LinAccZ (g)",
         "dtype": "float64"
        },
        {
         "name": " AccX (g).1",
         "dtype": "float64"
        },
        {
         "name": " AccY (g).1",
         "dtype": "float64"
        },
        {
         "name": " AccZ (g).1",
         "dtype": "float64"
        },
        {
         "name": " GyroX (deg/s).1",
         "dtype": "float64"
        },
        {
         "name": " GyroY (deg/s).1",
         "dtype": "float64"
        },
        {
         "name": " GyroZ (deg/s).1",
         "dtype": "float64"
        },
        {
         "name": " QuatW.1",
         "dtype": "float64"
        },
        {
         "name": " QuatX.1",
         "dtype": "float64"
        },
        {
         "name": " QuatY.1",
         "dtype": "float64"
        },
        {
         "name": " QuatZ.1",
         "dtype": "float64"
        },
        {
         "name": " LinAccX (g).1",
         "dtype": "float64"
        },
        {
         "name": " LinAccY (g).1",
         "dtype": "float64"
        },
        {
         "name": " LinAccZ (g).1",
         "dtype": "float64"
        },
        {
         "name": " AccX (g).2",
         "dtype": "float64"
        },
        {
         "name": " AccY (g).2",
         "dtype": "float64"
        },
        {
         "name": " AccZ (g).2",
         "dtype": "float64"
        },
        {
         "name": " GyroX (deg/s).2",
         "dtype": "float64"
        },
        {
         "name": " GyroY (deg/s).2",
         "dtype": "float64"
        },
        {
         "name": " GyroZ (deg/s).2",
         "dtype": "float64"
        },
        {
         "name": " QuatW.2",
         "dtype": "float64"
        },
        {
         "name": " QuatX.2",
         "dtype": "float64"
        },
        {
         "name": " QuatY.2",
         "dtype": "float64"
        },
        {
         "name": " QuatZ.2",
         "dtype": "float64"
        },
        {
         "name": " LinAccX (g).2",
         "dtype": "float64"
        },
        {
         "name": " LinAccY (g).2",
         "dtype": "float64"
        },
        {
         "name": " LinAccZ (g).2",
         "dtype": "float64"
        },
        {
         "name": "Pose",
         "dtype": "int64"
        },
        {
         "name": "_deepnote_index_column",
         "dtype": "int64"
        }
       ],
       "rows_top": [
        {
         " TimeStamp (s)": 0,
         " AccX (g)": 0.18832368,
         " AccY (g)": -0.75214458,
         " AccZ (g)": -0.63636816,
         " GyroX (deg/s)": 0.32650033,
         " GyroY (deg/s)": 0.73832387,
         " GyroZ (deg/s)": 0.47402927,
         " QuatW": -0.90275407,
         " QuatX": 0.41207197,
         " QuatY": 0.11885113,
         " QuatZ": 0.03325946,
         " LinAccX (g)": -0.00117233,
         " LinAccY (g)": 0.00029968,
         " LinAccZ (g)": 0.0041469,
         " AccX (g).1": -0.04194402,
         " AccY (g).1": -0.95990366,
         " AccZ (g).1": -0.30191875,
         " GyroX (deg/s).1": 0.35927799,
         " GyroY (deg/s).1": -0.0554365,
         " GyroZ (deg/s).1": -0.15775259,
         " QuatW.1": 0.77370238,
         " QuatX.1": -0.56141365,
         " QuatY.1": 0.18914761,
         " QuatZ.1": 0.22455013,
         " LinAccX (g).1": 0.00139106,
         " LinAccY (g).1": 0.0062276,
         " LinAccZ (g).1": 0.00382914,
         " AccX (g).2": 0.03953363,
         " AccY (g).2": -0.61799908,
         " AccZ (g).2": -0.79325187,
         " GyroX (deg/s).2": -0.02597201,
         " GyroY (deg/s).2": -0.01972009,
         " GyroZ (deg/s).2": 0.44906992,
         " QuatW.2": -0.85617447,
         " QuatX.2": 0.30240354,
         " QuatY.2": -0.12056103,
         " QuatZ.2": -0.40122631,
         " LinAccX (g).2": -0.00342602,
         " LinAccY (g).2": 0.00340531,
         " LinAccZ (g).2": 0.00523492,
         "Pose": 1,
         "_deepnote_index_column": 0
        },
        {
         " TimeStamp (s)": 0.02,
         " AccX (g)": 0.1938116,
         " AccY (g)": -0.75030273,
         " AccZ (g)": -0.63594508,
         " GyroX (deg/s)": 1.34490538,
         " GyroY (deg/s)": 0.59209311,
         " GyroZ (deg/s)": 0.25823209,
         " QuatW": -0.90265274,
         " QuatX": 0.4122383,
         " QuatY": 0.11903462,
         " QuatZ": 0.03329424,
         " LinAccX (g)": -0.00661142,
         " LinAccY (g)": -0.00175599,
         " LinAccZ (g)": 0.00399265,
         " AccX (g).1": -0.04153217,
         " AccY (g).1": -0.95973861,
         " AccZ (g).1": -0.30045134,
         " GyroX (deg/s).1": 0.49127671,
         " GyroY (deg/s).1": 0.10675973,
         " GyroZ (deg/s).1": -0.19257298,
         " QuatW.1": 0.77365214,
         " QuatX.1": -0.56148756,
         " QuatY.1": 0.18913355,
         " QuatZ.1": 0.2245498,
         " LinAccX (g).1": 0.00101145,
         " LinAccY (g).1": 0.00603254,
         " LinAccZ (g).1": 0.00245331,
         " AccX (g).2": 0.03831413,
         " AccY (g).2": -0.61777717,
         " AccZ (g).2": -0.7926414,
         " GyroX (deg/s).2": -0.10855686,
         " GyroY (deg/s).2": 0.63202876,
         " GyroZ (deg/s).2": 0.41518852,
         " QuatW.2": -0.85622048,
         " QuatX.2": 0.30242452,
         " QuatY.2": -0.12048223,
         " QuatZ.2": -0.40113592,
         " LinAccX (g).2": -0.00206112,
         " LinAccY (g).2": 0.00323001,
         " LinAccZ (g).2": 0.00459476,
         "Pose": 1,
         "_deepnote_index_column": 1
        },
        {
         " TimeStamp (s)": 0.04,
         " AccX (g)": 0.19543427,
         " AccY (g)": -0.75354612,
         " AccZ (g)": -0.63674653,
         " GyroX (deg/s)": 1.47045195,
         " GyroY (deg/s)": 0.47943038,
         " GyroZ (deg/s)": -0.07011244,
         " QuatW": -0.90253711,
         " QuatX": 0.41246948,
         " QuatY": 0.11911453,
         " QuatZ": 0.03328025,
         " LinAccX (g)": -0.00793538,
         " LinAccY (g)": 0.00124369,
         " LinAccZ (g)": 0.00517299,
         " AccX (g).1": -0.04194048,
         " AccY (g).1": -0.96113044,
         " AccZ (g).1": -0.3001979,
         " GyroX (deg/s).1": 0.4815143,
         " GyroY (deg/s).1": 0.19998085,
         " GyroZ (deg/s).1": -0.25453141,
         " QuatW.1": 0.77359897,
         " QuatX.1": -0.5615685,
         " QuatY.1": 0.18911538,
         " QuatZ.1": 0.22454624,
         " LinAccX (g).1": 0.00150913,
         " LinAccY (g).1": 0.00737286,
         " LinAccZ (g).1": 0.00235273,
         " AccX (g).2": 0.03626948,
         " AccY (g).2": -0.61669672,
         " AccZ (g).2": -0.79329616,
         " GyroX (deg/s).2": 0.17935626,
         " GyroY (deg/s).2": 0.3770541,
         " GyroZ (deg/s).2": 0.13852729,
         " QuatW.2": -0.85623991,
         " QuatX.2": 0.3023935,
         " QuatY.2": -0.12038168,
         " QuatZ.2": -0.40114799,
         " LinAccX (g).2": 0.00007737,
         " LinAccY (g).2": 0.00212879,
         " LinAccZ (g).2": 0.00526998,
         "Pose": 1,
         "_deepnote_index_column": 2
        },
        {
         " TimeStamp (s)": 0.06,
         " AccX (g)": 0.19612934,
         " AccY (g)": -0.75259745,
         " AccZ (g)": -0.6354813,
         " GyroX (deg/s)": 1.07761121,
         " GyroY (deg/s)": -0.00105463,
         " GyroZ (deg/s)": -0.27556914,
         " QuatW": -0.90246868,
         " QuatX": 0.41261756,
         " QuatY": 0.11913651,
         " QuatZ": 0.03322143,
         " LinAccX (g)": -0.00852535,
         " LinAccY (g)": 0.00000455,
         " LinAccZ (g)": 0.00428504,
         " AccX (g).1": -0.04093924,
         " AccY (g).1": -0.96356863,
         " AccZ (g).1": -0.30118701,
         " GyroX (deg/s).1": 0.28652751,
         " GyroY (deg/s).1": 0.10474725,
         " GyroZ (deg/s).1": -0.20003527,
         " QuatW.1": 0.77356619,
         " QuatX.1": -0.5616166,
         " QuatY.1": 0.18909308,
         " QuatZ.1": 0.22455701,
         " LinAccX (g).1": 0.00057761,
         " LinAccY (g).1": 0.00976184,
         " LinAccZ (g).1": 0.00349,
         " AccX (g).2": 0.03868086,
         " AccY (g).2": -0.61888844,
         " AccZ (g).2": -0.79809898,
         " GyroX (deg/s).2": 0.07621136,
         " GyroY (deg/s).2": -0.01993809,
         " GyroZ (deg/s).2": 0.04909065,
         " QuatW.2": -0.85623878,
         " QuatX.2": 0.30240396,
         " QuatY.2": -0.1203946,
         " QuatZ.2": -0.40113848,
         " LinAccX (g).2": -0.00222541,
         " LinAccY (g).2": 0.00445303,
         " LinAccZ (g).2": 0.00997447,
         "Pose": 1,
         "_deepnote_index_column": 3
        },
        {
         " TimeStamp (s)": 0.08,
         " AccX (g)": 0.19655588,
         " AccY (g)": -0.74618787,
         " AccZ (g)": -0.64195377,
         " GyroX (deg/s)": -0.07201591,
         " GyroY (deg/s)": -0.30692649,
         " GyroZ (deg/s)": -0.0284351,
         " QuatW": -0.90267754,
         " QuatX": 0.41209701,
         " QuatY": 0.11941268,
         " QuatZ": 0.03301562,
         " LinAccX (g)": -0.0084865,
         " LinAccY (g)": -0.00601422,
         " LinAccZ (g)": 0.01043069,
         " AccX (g).1": -0.04352123,
         " AccY (g).1": -0.96361536,
         " AccZ (g).1": -0.29966792,
         " GyroX (deg/s).1": 0.15362221,
         " GyroY (deg/s).1": 0.02397159,
         " GyroZ (deg/s).1": -0.36063156,
         " QuatW.1": 0.77353883,
         " QuatX.1": -0.56165087,
         " QuatY.1": 0.18905808,
         " QuatZ.1": 0.22459534,
         " LinAccX (g).1": 0.00325793,
         " LinAccY (g).1": 0.00978625,
         " LinAccZ (g).1": 0.002029,
         " AccX (g).2": 0.04096965,
         " AccY (g).2": -0.6136173,
         " AccZ (g).2": -0.79819691,
         " GyroX (deg/s).2": 0.47889119,
         " GyroY (deg/s).2": 0.24303223,
         " GyroZ (deg/s).2": 0.33225662,
         " QuatW.2": -0.85624284,
         " QuatX.2": 0.30248621,
         " QuatY.2": -0.12040751,
         " QuatZ.2": -0.40106398,
         " LinAccX (g).2": -0.00453774,
         " LinAccY (g).2": -0.00089381,
         " LinAccZ (g).2": 0.01013035,
         "Pose": 1,
         "_deepnote_index_column": 4
        },
        {
         " TimeStamp (s)": 0.1,
         " AccX (g)": 0.19376986,
         " AccY (g)": -0.74834311,
         " AccZ (g)": -0.63997525,
         " GyroX (deg/s)": 0.69854492,
         " GyroY (deg/s)": -0.26178718,
         " GyroZ (deg/s)": 0.1034383,
         " QuatW": -0.90263009,
         " QuatX": 0.41221479,
         " QuatY": 0.11937143,
         " QuatZ": 0.0329917,
         " LinAccX (g)": -0.00545011,
         " LinAccY (g)": -0.00359656,
         " LinAccZ (g)": 0.00821386,
         " AccX (g).1": -0.04319106,
         " AccY (g).1": -0.96273148,
         " AccZ (g).1": -0.29857987,
         " GyroX (deg/s).1": 0.12264849,
         " GyroY (deg/s).1": 0.45711097,
         " GyroZ (deg/s).1": -0.42004469,
         " QuatW.1": 0.77351809,
         " QuatX.1": -0.56169564,
         " QuatY.1": 0.18900876,
         " QuatZ.1": 0.22459608,
         " LinAccX (g).1": 0.00303341,
         " LinAccY (g).1": 0.00887849,
         " LinAccZ (g).1": 0.00100332,
         " AccX (g).2": 0.03715688,
         " AccY (g).2": -0.61648458,
         " AccZ (g).2": -0.79697376,
         " GyroX (deg/s).2": 0.47966868,
         " GyroY (deg/s).2": 0.34837875,
         " GyroZ (deg/s).2": 0.22996195,
         " QuatW.2": -0.85624921,
         " QuatX.2": 0.30250677,
         " QuatY.2": -0.12035941,
         " QuatZ.2": -0.40104941,
         " LinAccX (g).2": -0.0006864,
         " LinAccY (g).2": 0.00190556,
         " LinAccZ (g).2": 0.00896199,
         "Pose": 1,
         "_deepnote_index_column": 5
        },
        {
         " TimeStamp (s)": 0.12,
         " AccX (g)": 0.19294684,
         " AccY (g)": -0.75545371,
         " AccZ (g)": -0.63512486,
         " GyroX (deg/s)": 1.38152063,
         " GyroY (deg/s)": -0.42009085,
         " GyroZ (deg/s)": -0.08905641,
         " QuatW": -0.90253717,
         " QuatX": 0.41243085,
         " QuatY": 0.11934596,
         " QuatZ": 0.03292468,
         " LinAccX (g)": -0.00467423,
         " LinAccY (g)": 0.00327795,
         " LinAccZ (g)": 0.00363065,
         " AccX (g).1": -0.04029557,
         " AccY (g).1": -0.96108174,
         " AccZ (g).1": -0.29836383,
         " GyroX (deg/s).1": 0.02198985,
         " GyroY (deg/s).1": 0.31971627,
         " GyroZ (deg/s).1": -0.47599435,
         " QuatW.1": 0.77350682,
         " QuatX.1": -0.56172729,
         " QuatY.1": 0.18892227,
         " QuatZ.1": 0.22462904,
         " LinAccX (g).1": 0.00029733,
         " LinAccY (g).1": 0.00721105,
         " LinAccZ (g).1": 0.00082248,
         " AccX (g).2": 0.03548186,
         " AccY (g).2": -0.61882472,
         " AccZ (g).2": -0.79464841,
         " GyroX (deg/s).2": 0.04722637,
         " GyroY (deg/s).2": 0.25820798,
         " GyroZ (deg/s).2": -0.17375499,
         " QuatW.2": -0.85624087,
         " QuatX.2": 0.30252689,
         " QuatY.2": -0.12031268,
         " QuatZ.2": -0.40106621,
         " LinAccX (g).2": 0.00110075,
         " LinAccY (g).2": 0.00422682,
         " LinAccZ (g).2": 0.00665658,
         "Pose": 1,
         "_deepnote_index_column": 6
        },
        {
         " TimeStamp (s)": 0.14,
         " AccX (g)": 0.19359019,
         " AccY (g)": -0.75119984,
         " AccZ (g)": -0.63412845,
         " GyroX (deg/s)": 1.28497398,
         " GyroY (deg/s)": -0.50749379,
         " GyroZ (deg/s)": 0.43336898,
         " QuatW": -0.90245593,
         " QuatX": 0.41263661,
         " QuatY": 0.11924733,
         " QuatZ": 0.03293104,
         " LinAccX (g)": -0.00542713,
         " LinAccY (g)": -0.00128232,
         " LinAccZ (g)": 0.00296669,
         " AccX (g).1": -0.04023663,
         " AccY (g).1": -0.96282601,
         " AccZ (g).1": -0.29794496,
         " GyroX (deg/s).1": -0.12067328,
         " GyroY (deg/s).1": 0.15488946,
         " GyroZ (deg/s).1": -0.39105806,
         " QuatW.1": 0.77344376,
         " QuatX.1": -0.56180972,
         " QuatY.1": 0.1888808,
         " QuatZ.1": 0.22467442,
         " LinAccX (g).1": 0.00041049,
         " LinAccY (g).1": 0.00895498,
         " LinAccZ (g).1": 0.00038163,
         " AccX (g).2": 0.03378703,
         " AccY (g).2": -0.61662489,
         " AccZ (g).2": -0.79055572,
         " GyroX (deg/s).2": -0.53678697,
         " GyroY (deg/s).2": -0.05118927,
         " GyroZ (deg/s).2": -0.60114408,
         " QuatW.2": -0.85622877,
         " QuatX.2": 0.30241284,
         " QuatY.2": -0.1202657,
         " QuatZ.2": -0.40119204,
         " LinAccX (g).2": 0.00290431,
         " LinAccY (g).2": 0.00211834,
         " LinAccZ (g).2": 0.0024977,
         "Pose": 1,
         "_deepnote_index_column": 7
        },
        {
         " TimeStamp (s)": 0.16,
         " AccX (g)": 0.1937851,
         " AccY (g)": -0.75031817,
         " AccZ (g)": -0.63392806,
         " GyroX (deg/s)": 0.87807381,
         " GyroY (deg/s)": -0.41014093,
         " GyroZ (deg/s)": 0.46485353,
         " QuatW": -0.90239847,
         " QuatX": 0.41278881,
         " QuatY": 0.11914838,
         " QuatZ": 0.03295748,
         " LinAccX (g)": -0.00582955,
         " LinAccY (g)": -0.00242001,
         " LinAccZ (g)": 0.00300974,
         " AccX (g).1": -0.03887793,
         " AccY (g).1": -0.96299738,
         " AccZ (g).1": -0.29850122,
         " GyroX (deg/s).1": -0.13806994,
         " GyroY (deg/s).1": -0.03736934,
         " GyroZ (deg/s).1": -0.1630079,
         " QuatW.1": 0.77345371,
         " QuatX.1": -0.56179011,
         " QuatY.1": 0.18886581,
         " QuatZ.1": 0.22470191,
         " LinAccX (g).1": -0.0008146,
         " LinAccY (g).1": 0.00907182,
         " LinAccZ (g).1": 0.00109494,
         " AccX (g).2": 0.03909376,
         " AccY (g).2": -0.61493301,
         " AccZ (g).2": -0.79259008,
         " GyroX (deg/s).2": -0.87531668,
         " GyroY (deg/s).2": -0.31862012,
         " GyroZ (deg/s).2": -0.77722257,
         " QuatW.2": -0.85621488,
         " QuatX.2": 0.30227572,
         " QuatY.2": -0.12021346,
         " QuatZ.2": -0.40134043,
         " LinAccX (g).2": -0.00234778,
         " LinAccY (g).2": 0.00068314,
         " LinAccZ (g).2": 0.00433453,
         "Pose": 1,
         "_deepnote_index_column": 8
        },
        {
         " TimeStamp (s)": 0.18,
         " AccX (g)": 0.19207846,
         " AccY (g)": -0.74829149,
         " AccZ (g)": -0.63518,
         " GyroX (deg/s)": 0.45157063,
         " GyroY (deg/s)": -0.26863128,
         " GyroZ (deg/s)": 0.41558772,
         " QuatW": -0.90241206,
         " QuatX": 0.41274992,
         " QuatY": 0.11918211,
         " QuatZ": 0.03295147,
         " LinAccX (g)": -0.00420431,
         " LinAccY (g)": -0.00452155,
         " LinAccZ (g)": 0.00432676,
         " AccX (g).1": -0.03847904,
         " AccY (g).1": -0.96070695,
         " AccZ (g).1": -0.29952851,
         " GyroX (deg/s).1": -0.23238227,
         " GyroY (deg/s).1": -0.075356,
         " GyroZ (deg/s).1": -0.01859893,
         " QuatW.1": 0.77347147,
         " QuatX.1": -0.56175923,
         " QuatY.1": 0.18886396,
         " QuatZ.1": 0.22471943,
         " LinAccX (g).1": -0.0012118,
         " LinAccY (g).1": 0.00680392,
         " LinAccZ (g).1": 0.00204959,
         " AccX (g).2": 0.04156511,
         " AccY (g).2": -0.61505032,
         " AccZ (g).2": -0.79679286,
         " GyroX (deg/s).2": -0.42165056,
         " GyroY (deg/s).2": -0.43925601,
         " GyroZ (deg/s).2": -0.50260371,
         " QuatW.2": -0.85619408,
         " QuatX.2": 0.30219626,
         " QuatY.2": -0.12022618,
         " QuatZ.2": -0.40144098,
         " LinAccX (g).2": -0.00479015,
         " LinAccY (g).2": 0.0010074,
         " LinAccZ (g).2": 0.00837741,
         "Pose": 1,
         "_deepnote_index_column": 9
        },
        {
         " TimeStamp (s)": 0.2,
         " AccX (g)": 0.19237457,
         " AccY (g)": -0.74720573,
         " AccZ (g)": -0.63792992,
         " GyroX (deg/s)": 0.06624839,
         " GyroY (deg/s)": 0.0784953,
         " GyroZ (deg/s)": 0.26140675,
         " QuatW": -0.90240443,
         " QuatX": 0.41276401,
         " QuatY": 0.11917794,
         " QuatZ": 0.0329965,
         " LinAccX (g)": -0.0045045,
         " LinAccY (g)": -0.00560929,
         " LinAccZ (g)": 0.00707785,
         " AccX (g).1": -0.03953905,
         " AccY (g).1": -0.95986128,
         " AccZ (g).1": -0.29886439,
         " GyroX (deg/s).1": -0.25213292,
         " GyroY (deg/s).1": -0.01168988,
         " GyroZ (deg/s).1": -0.08979439,
         " QuatW.1": 0.77345872,
         " QuatX.1": -0.56176645,
         " QuatY.1": 0.18887594,
         " QuatZ.1": 0.22473508,
         " LinAccX (g).1": -0.00014386,
         " LinAccY (g).1": 0.00596472,
         " LinAccZ (g).1": 0.00136402,
         " AccX (g).2": 0.03999239,
         " AccY (g).2": -0.6140154,
         " AccZ (g).2": -0.79798627,
         " GyroX (deg/s).2": -0.03004637,
         " GyroY (deg/s).2": -0.21849763,
         " GyroZ (deg/s).2": -0.1114425,
         " QuatW.2": -0.85622162,
         " QuatX.2": 0.30198336,
         " QuatY.2": -0.12004077,
         " QuatZ.2": -0.40159801,
         " LinAccX (g).2": -0.00310862,
         " LinAccY (g).2": 0.00026786,
         " LinAccZ (g).2": 0.00934605,
         "Pose": 1,
         "_deepnote_index_column": 10
        },
        {
         " TimeStamp (s)": 0.22,
         " AccX (g)": 0.19279389,
         " AccY (g)": -0.75070953,
         " AccZ (g)": -0.6383785,
         " GyroX (deg/s)": 0.05779919,
         " GyroY (deg/s)": 0.04672476,
         " GyroZ (deg/s)": 0.10232551,
         " QuatW": -0.9026075,
         " QuatX": 0.41227731,
         " QuatY": 0.11937141,
         " QuatZ": 0.03282715,
         " LinAccX (g)": -0.00493652,
         " LinAccY (g)": -0.00211998,
         " LinAccZ (g)": 0.00753982,
         " AccX (g).1": -0.03667844,
         " AccY (g).1": -0.96224844,
         " AccZ (g).1": -0.29928818,
         " GyroX (deg/s).1": -0.06122371,
         " GyroY (deg/s).1": 0.15030722,
         " GyroZ (deg/s).1": 0.07469454,
         " QuatW.1": 0.77347213,
         " QuatX.1": -0.56176054,
         " QuatY.1": 0.18886313,
         " QuatZ.1": 0.22471504,
         " LinAccX (g).1": -0.00300233,
         " LinAccY (g).1": 0.00835332,
         " LinAccZ (g).1": 0.00178281,
         " AccX (g).2": 0.03461979,
         " AccY (g).2": -0.61328864,
         " AccZ (g).2": -0.79405534,
         " GyroX (deg/s).2": -0.08143999,
         " GyroY (deg/s).2": -0.04944183,
         " GyroZ (deg/s).2": -0.09479104,
         " QuatW.2": -0.85621858,
         " QuatX.2": 0.30196652,
         " QuatY.2": -0.12003494,
         " QuatZ.2": -0.40161887,
         " LinAccX (g).2": 0.00237224,
         " LinAccY (g).2": -0.00024457,
         " LinAccZ (g).2": 0.0052533,
         "Pose": 1,
         "_deepnote_index_column": 11
        }
       ],
       "rows_bottom": [
        {
         " TimeStamp (s)": 188.06,
         " AccX (g)": 0.196464,
         " AccY (g)": -0.78695965,
         " AccZ (g)": -0.60891628,
         " GyroX (deg/s)": 0.07396606,
         " GyroY (deg/s)": -0.14286186,
         " GyroZ (deg/s)": -0.87183976,
         " QuatW": -0.88218468,
         " QuatX": 0.44528866,
         " QuatY": 0.03046257,
         " QuatZ": -0.15013449,
         " LinAccX (g)": -0.00917842,
         " LinAccY (g)": 0.0104721,
         " LinAccZ (g)": 0.00725928,
         " AccX (g).1": 0.31052008,
         " AccY (g).1": -0.90273309,
         " AccZ (g).1": -0.31673464,
         " GyroX (deg/s).1": 0.28623912,
         " GyroY (deg/s).1": -0.35600072,
         " GyroZ (deg/s).1": -0.18085666,
         " QuatW.1": 0.73720276,
         " QuatX.1": -0.58341157,
         " QuatY.1": 0.05763274,
         " QuatZ.1": 0.33591908,
         " LinAccX (g).1": -0.00354333,
         " LinAccY (g).1": 0.00382771,
         " LinAccZ (g).1": 0.0041097,
         " AccX (g).2": 0.17712168,
         " AccY (g).2": -0.69703209,
         " AccZ (g).2": -0.69948524,
         " GyroX (deg/s).2": -0.32189408,
         " GyroY (deg/s).2": 2.35406566,
         " GyroZ (deg/s).2": -0.12983951,
         " QuatW.2": -0.76292092,
         " QuatX.2": 0.37026107,
         " QuatY.2": -0.11615063,
         " QuatZ.2": -0.51707602,
         " LinAccX (g).2": 0.02822195,
         " LinAccY (g).2": 0.01176946,
         " LinAccZ (g).2": 0.0007371,
         "Pose": 2,
         "_deepnote_index_column": 9403
        },
        {
         " TimeStamp (s)": 188.08,
         " AccX (g)": 0.18621619,
         " AccY (g)": -0.78191251,
         " AccZ (g)": -0.60319108,
         " GyroX (deg/s)": 0.45338735,
         " GyroY (deg/s)": 2.0623908,
         " GyroZ (deg/s)": 0.2142399,
         " QuatW": -0.88214082,
         " QuatX": 0.44542786,
         " QuatY": 0.03070241,
         " QuatZ": -0.14993046,
         " LinAccX (g)": 0.00139653,
         " LinAccY (g)": 0.0053488,
         " LinAccZ (g)": 0.00173432,
         " AccX (g).1": 0.30776346,
         " AccY (g).1": -0.90483391,
         " AccZ (g).1": -0.30958885,
         " GyroX (deg/s).1": 0.15570882,
         " GyroY (deg/s).1": -0.75387019,
         " GyroZ (deg/s).1": -0.230681,
         " QuatW.1": 0.73716533,
         " QuatX.1": -0.58339465,
         " QuatY.1": 0.05770604,
         " QuatZ.1": 0.33601782,
         " LinAccX (g).1": -0.00079177,
         " LinAccY (g).1": 0.0059335,
         " LinAccZ (g).1": -0.00305543,
         " AccX (g).2": 0.17416343,
         " AccY (g).2": -0.688582,
         " AccZ (g).2": -0.70542443,
         " GyroX (deg/s).2": -3.71720648,
         " GyroY (deg/s).2": 1.18038678,
         " GyroZ (deg/s).2": -1.58140957,
         " QuatW.2": -0.76302826,
         " QuatX.2": 0.36990085,
         " QuatY.2": -0.11559386,
         " QuatZ.2": -0.51730001,
         " LinAccX (g).2": 0.03186548,
         " LinAccY (g).2": 0.00400008,
         " LinAccZ (g).2": 0.00621095,
         "Pose": 2,
         "_deepnote_index_column": 9404
        },
        {
         " TimeStamp (s)": 188.1,
         " AccX (g)": 0.17502984,
         " AccY (g)": -0.77374148,
         " AccZ (g)": -0.59805661,
         " GyroX (deg/s)": 0.80585307,
         " GyroY (deg/s)": 1.41916144,
         " GyroZ (deg/s)": 0.67513412,
         " QuatW": -0.88209826,
         " QuatX": 0.44556588,
         " QuatY": 0.03083147,
         " QuatZ": -0.14974411,
         " LinAccX (g)": 0.01276354,
         " LinAccY (g)": -0.00303154,
         " LinAccZ (g)": -0.00307323,
         " AccX (g).1": 0.3060585,
         " AccY (g).1": -0.90469444,
         " AccZ (g).1": -0.31334823,
         " GyroX (deg/s).1": 0.06189271,
         " GyroY (deg/s).1": 0.09502199,
         " GyroZ (deg/s).1": -0.208939,
         " QuatW.1": 0.73714781,
         " QuatX.1": -0.58342558,
         " QuatY.1": 0.05771432,
         " QuatZ.1": 0.33600119,
         " LinAccX (g).1": 0.00091491,
         " LinAccY (g).1": 0.00578082,
         " LinAccZ (g).1": 0.00074369,
         " AccX (g).2": 0.19804105,
         " AccY (g).2": -0.69124907,
         " AccZ (g).2": -0.72168851,
         " GyroX (deg/s).2": 0.34979281,
         " GyroY (deg/s).2": -2.05332327,
         " GyroZ (deg/s).2": -1.1360085,
         " QuatW.2": -0.76300406,
         " QuatX.2": 0.36969343,
         " QuatY.2": -0.11584786,
         " QuatZ.2": -0.51742715,
         " LinAccX (g).2": 0.00805682,
         " LinAccY (g).2": 0.0073231,
         " LinAccZ (g).2": 0.02185359,
         "Pose": 2,
         "_deepnote_index_column": 9405
        },
        {
         " TimeStamp (s)": 188.12,
         " AccX (g)": 0.18537475,
         " AccY (g)": -0.77631944,
         " AccZ (g)": -0.60715306,
         " GyroX (deg/s)": -0.88999355,
         " GyroY (deg/s)": -1.34586191,
         " GyroZ (deg/s)": -0.67617404,
         " QuatW": -0.88215333,
         " QuatX": 0.44538897,
         " QuatY": 0.03072471,
         " QuatZ": -0.14996773,
         " LinAccX (g)": 0.00242603,
         " LinAccY (g)": -0.00040618,
         " LinAccZ (g)": 0.00596418,
         " AccX (g).1": 0.3087025,
         " AccY (g).1": -0.90178692,
         " AccZ (g).1": -0.31774023,
         " GyroX (deg/s).1": 0.2962434,
         " GyroY (deg/s).1": -0.11353721,
         " GyroZ (deg/s).1": -0.22636475,
         " QuatW.1": 0.73710716,
         " QuatX.1": -0.58345526,
         " QuatY.1": 0.05772199,
         " QuatZ.1": 0.33603752,
         " LinAccX (g).1": -0.00169369,
         " LinAccY (g).1": 0.00285711,
         " LinAccZ (g).1": 0.00521708,
         " AccX (g).2": 0.20225567,
         " AccY (g).2": -0.6905269,
         " AccZ (g).2": -0.7140156,
         " GyroX (deg/s).2": 2.55446362,
         " GyroY (deg/s).2": -0.0119753,
         " GyroZ (deg/s).2": 0.30687752,
         " QuatW.2": -0.76287705,
         " QuatX.2": 0.37004399,
         " QuatY.2": -0.11606605,
         " QuatZ.2": -0.51731497,
         " LinAccX (g).2": 0.0034394,
         " LinAccY (g).2": 0.00617084,
         " LinAccZ (g).2": 0.01448267,
         "Pose": 2,
         "_deepnote_index_column": 9406
        },
        {
         " TimeStamp (s)": 188.14,
         " AccX (g)": 0.19459501,
         " AccY (g)": -0.77875,
         " AccZ (g)": -0.60579664,
         " GyroX (deg/s)": 0.14583153,
         " GyroY (deg/s)": -1.08129263,
         " GyroZ (deg/s)": -0.711514,
         " QuatW": -0.88212448,
         " QuatX": 0.44539523,
         " QuatY": 0.03062798,
         " QuatZ": -0.15013871,
         " LinAccX (g)": -0.00683834,
         " LinAccY (g)": 0.00219057,
         " LinAccZ (g)": 0.0043792,
         " AccX (g).1": 0.30804199,
         " AccY (g).1": -0.90371472,
         " AccZ (g).1": -0.31225091,
         " GyroX (deg/s).1": 0.1085104,
         " GyroY (deg/s).1": 0.03432627,
         " GyroZ (deg/s).1": -0.13493069,
         " QuatW.1": 0.73702723,
         " QuatX.1": -0.58357704,
         " QuatY.1": 0.05776888,
         " QuatZ.1": 0.33599341,
         " LinAccX (g).1": -0.00099289,
         " LinAccY (g).1": 0.00478561,
         " LinAccZ (g).1": -0.0002348,
         " AccX (g).2": 0.17138807,
         " AccY (g).2": -0.69073308,
         " AccZ (g).2": -0.69414073,
         " GyroX (deg/s).2": 0.46779528,
         " GyroY (deg/s).2": 2.25126147,
         " GyroZ (deg/s).2": 0.15506509,
         " QuatW.2": -0.76290756,
         " QuatX.2": 0.37011895,
         " QuatY.2": -0.11626113,
         " QuatZ.2": -0.51717257,
         " LinAccX (g).2": 0.03461991,
         " LinAccY (g).2": 0.00592191,
         " LinAccZ (g).2": -0.00485451,
         "Pose": 2,
         "_deepnote_index_column": 9407
        },
        {
         " TimeStamp (s)": 188.16,
         " AccX (g)": 0.18340272,
         " AccY (g)": -0.77967459,
         " AccZ (g)": -0.59790152,
         " GyroX (deg/s)": 0.88791895,
         " GyroY (deg/s)": 1.47416127,
         " GyroZ (deg/s)": 0.58322448,
         " QuatW": -0.88206565,
         " QuatX": 0.44557276,
         " QuatY": 0.03079517,
         " QuatZ": -0.149923,
         " LinAccX (g)": 0.00444678,
         " LinAccY (g)": 0.00298307,
         " LinAccZ (g)": -0.00331622,
         " AccX (g).1": 0.30833414,
         " AccY (g).1": -0.90926129,
         " AccZ (g).1": -0.30990723,
         " GyroX (deg/s).1": 0.09452952,
         " GyroY (deg/s).1": 1.01795173,
         " GyroZ (deg/s).1": -0.00702999,
         " QuatW.1": 0.73703021,
         " QuatX.1": -0.5836488,
         " QuatY.1": 0.05763867,
         " QuatZ.1": 0.33588436,
         " LinAccX (g).1": -0.00127369,
         " LinAccY (g).1": 0.01021451,
         " LinAccZ (g).1": -0.00222881,
         " AccX (g).2": 0.17111227,
         " AccY (g).2": -0.68812978,
         " AccZ (g).2": -0.70347512,
         " GyroX (deg/s).2": -3.51195812,
         " GyroY (deg/s).2": 0.6443693,
         " GyroZ (deg/s).2": -1.6511631,
         " QuatW.2": -0.76298404,
         " QuatX.2": 0.36972928,
         " QuatY.2": -0.11578259,
         " QuatZ.2": -0.51744568,
         " LinAccX (g).2": 0.03461837,
         " LinAccY (g).2": 0.0035904,
         " LinAccZ (g).2": 0.00413207,
         "Pose": 2,
         "_deepnote_index_column": 9408
        },
        {
         " TimeStamp (s)": 188.18,
         " AccX (g)": 0.17511971,
         " AccY (g)": -0.77279359,
         " AccZ (g)": -0.59762853,
         " GyroX (deg/s)": 0.53433728,
         " GyroY (deg/s)": 0.2671575,
         " GyroZ (deg/s)": 0.69349921,
         " QuatW": -0.88212037,
         " QuatX": 0.44555211,
         " QuatY": 0.03058624,
         " QuatZ": -0.14970464,
         " LinAccX (g)": 0.0125264,
         " LinAccY (g)": -0.00411086,
         " LinAccZ (g)": -0.00337759,
         " AccX (g).1": 0.31259185,
         " AccY (g).1": -0.90688896,
         " AccZ (g).1": -0.31392595,
         " GyroX (deg/s).1": 0.03261919,
         " GyroY (deg/s).1": 1.16486764,
         " GyroZ (deg/s).1": 0.05018259,
         " QuatW.1": 0.73704541,
         " QuatX.1": -0.58371419,
         " QuatY.1": 0.05749453,
         " QuatZ.1": 0.33576232,
         " LinAccX (g).1": -0.00542452,
         " LinAccY (g).1": 0.00782737,
         " LinAccZ (g).1": 0.00193787,
         " AccX (g).2": 0.19973409,
         " AccY (g).2": -0.69239205,
         " AccZ (g).2": -0.72028911,
         " GyroX (deg/s).2": -0.53545034,
         " GyroY (deg/s).2": -2.83187318,
         " GyroZ (deg/s).2": -1.7899251,
         " QuatW.2": -0.76279277,
         " QuatX.2": 0.3694661,
         " QuatY.2": -0.11602532,
         " QuatZ.2": -0.51786125,
         " LinAccX (g).2": 0.0061241,
         " LinAccY (g).2": 0.0085856,
         " LinAccZ (g).2": 0.0202669,
         "Pose": 2,
         "_deepnote_index_column": 9409
        },
        {
         " TimeStamp (s)": 188.2,
         " AccX (g)": 0.18645027,
         " AccY (g)": -0.77730829,
         " AccZ (g)": -0.6075604,
         " GyroX (deg/s)": -1.49573314,
         " GyroY (deg/s)": -2.14902544,
         " GyroZ (deg/s)": -0.84246856,
         " QuatW": -0.88222313,
         " QuatX": 0.44526312,
         " QuatY": 0.03034754,
         " QuatZ": -0.15000755,
         " LinAccX (g)": 0.00080826,
         " LinAccY (g)": 0.00057979,
         " LinAccZ (g)": 0.00620607,
         " AccX (g).1": 0.31177408,
         " AccY (g).1": -0.90419585,
         " AccZ (g).1": -0.31477231,
         " GyroX (deg/s).1": 0.05540812,
         " GyroY (deg/s).1": 0.76212567,
         " GyroZ (deg/s).1": -0.09085306,
         " QuatW.1": 0.73703218,
         " QuatX.1": -0.58377028,
         " QuatY.1": 0.05737807,
         " QuatZ.1": 0.33571368,
         " LinAccX (g).1": -0.00445879,
         " LinAccY (g).1": 0.00515335,
         " LinAccZ (g).1": 0.0028751,
         " AccX (g).2": 0.21001826,
         " AccY (g).2": -0.68874067,
         " AccZ (g).2": -0.720438,
         " GyroX (deg/s).2": 1.76100218,
         " GyroY (deg/s).2": -0.80871707,
         " GyroZ (deg/s).2": -0.37744012,
         " QuatW.2": -0.76283926,
         " QuatX.2": 0.3695735,
         " QuatY.2": -0.11601382,
         " QuatZ.2": -0.51771867,
         " LinAccX (g).2": -0.00442889,
         " LinAccY (g).2": 0.00488436,
         " LinAccZ (g).2": 0.02038538,
         "Pose": 2,
         "_deepnote_index_column": 9410
        },
        {
         " TimeStamp (s)": 188.22,
         " AccX (g)": 0.19845571,
         " AccY (g)": -0.78178275,
         " AccZ (g)": -0.61272281,
         " GyroX (deg/s)": -0.59016448,
         " GyroY (deg/s)": -1.52082384,
         " GyroZ (deg/s)": -1.14458966,
         " QuatW": -0.8822524,
         " QuatX": 0.44510266,
         " QuatY": 0.03045282,
         " QuatZ": -0.1502901,
         " LinAccX (g)": -0.01134764,
         " LinAccY (g)": 0.00537674,
         " LinAccZ (g)": 0.01090538,
         " AccX (g).1": 0.31178856,
         " AccY (g).1": -0.89987957,
         " AccZ (g).1": -0.31315044,
         " GyroX (deg/s).1": 0.06644425,
         " GyroY (deg/s).1": 0.20926803,
         " GyroZ (deg/s).1": -0.03856022,
         " QuatW.1": 0.73702341,
         " QuatX.1": -0.58378959,
         " QuatY.1": 0.05736068,
         " QuatZ.1": 0.33570239,
         " LinAccX (g).1": -0.00438242,
         " LinAccY (g).1": 0.00083561,
         " LinAccZ (g).1": 0.00134698,
         " AccX (g).2": 0.17478889,
         " AccY (g).2": -0.69181776,
         " AccZ (g).2": -0.7010814,
         " GyroX (deg/s).2": 0.61198157,
         " GyroY (deg/s).2": 2.33271575,
         " GyroZ (deg/s).2": -0.05790745,
         " QuatW.2": -0.76284939,
         " QuatX.2": 0.36983076,
         " QuatY.2": -0.11572259,
         " QuatZ.2": -0.51758516,
         " LinAccX (g).2": 0.03113958,
         " LinAccY (g).2": 0.00770459,
         " LinAccZ (g).2": 0.00137957,
         "Pose": 2,
         "_deepnote_index_column": 9411
        },
        {
         " TimeStamp (s)": 188.24,
         " AccX (g)": 0.18499619,
         " AccY (g)": -0.7833128,
         " AccZ (g)": -0.6042977,
         " GyroX (deg/s)": 0.78157812,
         " GyroY (deg/s)": 1.25842631,
         " GyroZ (deg/s)": 0.10942301,
         " QuatW": -0.88219041,
         " QuatX": 0.44525462,
         " QuatY": 0.0306359,
         " QuatZ": -0.15016608,
         " LinAccX (g)": 0.00263252,
         " LinAccY (g)": 0.0070057,
         " LinAccZ (g)": 0.00251473,
         " AccX (g).1": 0.30787021,
         " AccY (g).1": -0.90317148,
         " AccZ (g).1": -0.30823544,
         " GyroX (deg/s).1": 0.12717317,
         " GyroY (deg/s).1": 0.086677,
         " GyroZ (deg/s).1": 0.01360322,
         " QuatW.1": 0.73696506,
         " QuatX.1": -0.58388197,
         " QuatY.1": 0.05738392,
         " QuatZ.1": 0.3356657,
         " LinAccX (g).1": -0.00046364,
         " LinAccY (g).1": 0.00411735,
         " LinAccZ (g).1": -0.0035381,
         " AccX (g).2": 0.16963063,
         " AccY (g).2": -0.69433546,
         " AccZ (g).2": -0.70595801,
         " GyroX (deg/s).2": -3.01217914,
         " GyroY (deg/s).2": 0.84863937,
         " GyroZ (deg/s).2": -1.90010226,
         " QuatW.2": -0.76295185,
         " QuatX.2": 0.36940143,
         " QuatY.2": -0.11544519,
         " QuatZ.2": -0.51780266,
         " LinAccX (g).2": 0.0370079,
         " LinAccY (g).2": 0.01070232,
         " LinAccZ (g).2": 0.00599645,
         "Pose": 2,
         "_deepnote_index_column": 9412
        },
        {
         " TimeStamp (s)": 188.26,
         " AccX (g)": 0.17392813,
         " AccY (g)": -0.77694595,
         " AccZ (g)": -0.60041553,
         " GyroX (deg/s)": 0.1854928,
         " GyroY (deg/s)": 0.58444536,
         " GyroZ (deg/s)": -0.03987862,
         " QuatW": -0.8821857,
         " QuatX": 0.44526497,
         " QuatY": 0.03071155,
         " QuatZ": -0.15014747,
         " LinAccX (g)": 0.01394085,
         " LinAccY (g)": 0.00049667,
         " LinAccZ (g)": -0.00110895,
         " AccX (g).1": 0.30994898,
         " AccY (g).1": -0.90264559,
         " AccZ (g).1": -0.31341234,
         " GyroX (deg/s).1": 0.02620478,
         " GyroY (deg/s).1": 0.4341476,
         " GyroZ (deg/s).1": -0.13317668,
         " QuatW.1": 0.7369557,
         " QuatX.1": -0.58391452,
         " QuatY.1": 0.05732016,
         " QuatZ.1": 0.33564049,
         " LinAccX (g).1": -0.00251346,
         " LinAccY (g).1": 0.00352391,
         " LinAccZ (g).1": 0.00186193,
         " AccX (g).2": 0.19422893,
         " AccY (g).2": -0.69643372,
         " AccZ (g).2": -0.72322887,
         " GyroX (deg/s).2": -0.20192499,
         " GyroY (deg/s).2": -2.61677098,
         " GyroZ (deg/s).2": -1.67788529,
         " QuatW.2": -0.7627551,
         " QuatX.2": 0.36919919,
         " QuatY.2": -0.1156985,
         " QuatZ.2": -0.51817995,
         " LinAccX (g).2": 0.01209404,
         " LinAccY (g).2": 0.01337379,
         " LinAccZ (g).2": 0.02261481,
         "Pose": 2,
         "_deepnote_index_column": 9413
        },
        {
         " TimeStamp (s)": 188.28,
         " AccX (g)": 0.18273188,
         " AccY (g)": -0.77797192,
         " AccZ (g)": -0.60940307,
         " GyroX (deg/s)": -2.02077198,
         " GyroY (deg/s)": -1.73873866,
         " GyroZ (deg/s)": -1.25659192,
         " QuatW": -0.88234341,
         " QuatX": 0.44486278,
         " QuatY": 0.03056362,
         " QuatZ": -0.15044285,
         " LinAccX (g)": 0.00511367,
         " LinAccY (g)": 0.00183283,
         " LinAccZ (g)": 0.00747109,
         " AccX (g).1": 0.31142542,
         " AccY (g).1": -0.90254778,
         " AccZ (g).1": -0.31665611,
         " GyroX (deg/s).1": 0.06769581,
         " GyroY (deg/s).1": 0.28665018,
         " GyroZ (deg/s).1": -0.18019873,
         " QuatW.1": 0.73693955,
         " QuatX.1": -0.58394504,
         " QuatY.1": 0.05727072,
         " QuatZ.1": 0.3356314,
         " LinAccX (g).1": -0.00389137,
         " LinAccY (g).1": 0.00344064,
         " LinAccZ (g).1": 0.00516097,
         " AccX (g).2": 0.20796612,
         " AccY (g).2": -0.69138259,
         " AccZ (g).2": -0.71972311,
         " GyroX (deg/s).2": 2.08389354,
         " GyroY (deg/s).2": -0.69743228,
         " GyroZ (deg/s).2": -0.19302642,
         " QuatW.2": -0.76260382,
         " QuatX.2": 0.36944506,
         " QuatY.2": -0.11592443,
         " QuatZ.2": -0.51817685,
         " LinAccX (g).2": -0.00197192,
         " LinAccY (g).2": 0.00802656,
         " LinAccZ (g).2": 0.01930116,
         "Pose": 2,
         "_deepnote_index_column": 9414
        }
       ]
      },
      "text/plain": "       TimeStamp (s)   AccX (g)   AccY (g)   AccZ (g)   GyroX (deg/s)  \\\n0               0.00   0.188324  -0.752145  -0.636368        0.326500   \n1               0.02   0.193812  -0.750303  -0.635945        1.344905   \n2               0.04   0.195434  -0.753546  -0.636747        1.470452   \n3               0.06   0.196129  -0.752597  -0.635481        1.077611   \n4               0.08   0.196556  -0.746188  -0.641954       -0.072016   \n...              ...        ...        ...        ...             ...   \n9410          188.20   0.186450  -0.777308  -0.607560       -1.495733   \n9411          188.22   0.198456  -0.781783  -0.612723       -0.590164   \n9412          188.24   0.184996  -0.783313  -0.604298        0.781578   \n9413          188.26   0.173928  -0.776946  -0.600416        0.185493   \n9414          188.28   0.182732  -0.777972  -0.609403       -2.020772   \n\n       GyroY (deg/s)   GyroZ (deg/s)     QuatW     QuatX     QuatY  ...  \\\n0           0.738324        0.474029 -0.902754  0.412072  0.118851  ...   \n1           0.592093        0.258232 -0.902653  0.412238  0.119035  ...   \n2           0.479430       -0.070112 -0.902537  0.412469  0.119115  ...   \n3          -0.001055       -0.275569 -0.902469  0.412618  0.119137  ...   \n4          -0.306926       -0.028435 -0.902678  0.412097  0.119413  ...   \n...              ...             ...       ...       ...       ...  ...   \n9410       -2.149025       -0.842469 -0.882223  0.445263  0.030348  ...   \n9411       -1.520824       -1.144590 -0.882252  0.445103  0.030453  ...   \n9412        1.258426        0.109423 -0.882190  0.445255  0.030636  ...   \n9413        0.584445       -0.039879 -0.882186  0.445265  0.030712  ...   \n9414       -1.738739       -1.256592 -0.882343  0.444863  0.030564  ...   \n\n       GyroY (deg/s)   GyroZ (deg/s)     QuatW     QuatX     QuatY     QuatZ  \\\n0          -0.019720        0.449070 -0.856174  0.302404 -0.120561 -0.401226   \n1           0.632029        0.415189 -0.856220  0.302425 -0.120482 -0.401136   \n2           0.377054        0.138527 -0.856240  0.302393 -0.120382 -0.401148   \n3          -0.019938        0.049091 -0.856239  0.302404 -0.120395 -0.401138   \n4           0.243032        0.332257 -0.856243  0.302486 -0.120408 -0.401064   \n...              ...             ...       ...       ...       ...       ...   \n9410       -0.808717       -0.377440 -0.762839  0.369573 -0.116014 -0.517719   \n9411        2.332716       -0.057907 -0.762849  0.369831 -0.115723 -0.517585   \n9412        0.848639       -1.900102 -0.762952  0.369401 -0.115445 -0.517803   \n9413       -2.616771       -1.677885 -0.762755  0.369199 -0.115698 -0.518180   \n9414       -0.697432       -0.193026 -0.762604  0.369445 -0.115924 -0.518177   \n\n       LinAccX (g)   LinAccY (g)   LinAccZ (g)  Pose  \n0        -0.003426      0.003405      0.005235     1  \n1        -0.002061      0.003230      0.004595     1  \n2         0.000077      0.002129      0.005270     1  \n3        -0.002225      0.004453      0.009974     1  \n4        -0.004538     -0.000894      0.010130     1  \n...            ...           ...           ...   ...  \n9410     -0.004429      0.004884      0.020385     2  \n9411      0.031140      0.007705      0.001380     2  \n9412      0.037008      0.010702      0.005996     2  \n9413      0.012094      0.013374      0.022615     2  \n9414     -0.001972      0.008027      0.019301     2  \n\n[8367 rows x 41 columns]",
      "text/html": "<div>\n<style scoped>\n    .dataframe tbody tr th:only-of-type {\n        vertical-align: middle;\n    }\n\n    .dataframe tbody tr th {\n        vertical-align: top;\n    }\n\n    .dataframe thead th {\n        text-align: right;\n    }\n</style>\n<table border=\"1\" class=\"dataframe\">\n  <thead>\n    <tr style=\"text-align: right;\">\n      <th></th>\n      <th>TimeStamp (s)</th>\n      <th>AccX (g)</th>\n      <th>AccY (g)</th>\n      <th>AccZ (g)</th>\n      <th>GyroX (deg/s)</th>\n      <th>GyroY (deg/s)</th>\n      <th>GyroZ (deg/s)</th>\n      <th>QuatW</th>\n      <th>QuatX</th>\n      <th>QuatY</th>\n      <th>...</th>\n      <th>GyroY (deg/s)</th>\n      <th>GyroZ (deg/s)</th>\n      <th>QuatW</th>\n      <th>QuatX</th>\n      <th>QuatY</th>\n      <th>QuatZ</th>\n      <th>LinAccX (g)</th>\n      <th>LinAccY (g)</th>\n      <th>LinAccZ (g)</th>\n      <th>Pose</th>\n    </tr>\n  </thead>\n  <tbody>\n    <tr>\n      <th>0</th>\n      <td>0.00</td>\n      <td>0.188324</td>\n      <td>-0.752145</td>\n      <td>-0.636368</td>\n      <td>0.326500</td>\n      <td>0.738324</td>\n      <td>0.474029</td>\n      <td>-0.902754</td>\n      <td>0.412072</td>\n      <td>0.118851</td>\n      <td>...</td>\n      <td>-0.019720</td>\n      <td>0.449070</td>\n      <td>-0.856174</td>\n      <td>0.302404</td>\n      <td>-0.120561</td>\n      <td>-0.401226</td>\n      <td>-0.003426</td>\n      <td>0.003405</td>\n      <td>0.005235</td>\n      <td>1</td>\n    </tr>\n    <tr>\n      <th>1</th>\n      <td>0.02</td>\n      <td>0.193812</td>\n      <td>-0.750303</td>\n      <td>-0.635945</td>\n      <td>1.344905</td>\n      <td>0.592093</td>\n      <td>0.258232</td>\n      <td>-0.902653</td>\n      <td>0.412238</td>\n      <td>0.119035</td>\n      <td>...</td>\n      <td>0.632029</td>\n      <td>0.415189</td>\n      <td>-0.856220</td>\n      <td>0.302425</td>\n      <td>-0.120482</td>\n      <td>-0.401136</td>\n      <td>-0.002061</td>\n      <td>0.003230</td>\n      <td>0.004595</td>\n      <td>1</td>\n    </tr>\n    <tr>\n      <th>2</th>\n      <td>0.04</td>\n      <td>0.195434</td>\n      <td>-0.753546</td>\n      <td>-0.636747</td>\n      <td>1.470452</td>\n      <td>0.479430</td>\n      <td>-0.070112</td>\n      <td>-0.902537</td>\n      <td>0.412469</td>\n      <td>0.119115</td>\n      <td>...</td>\n      <td>0.377054</td>\n      <td>0.138527</td>\n      <td>-0.856240</td>\n      <td>0.302393</td>\n      <td>-0.120382</td>\n      <td>-0.401148</td>\n      <td>0.000077</td>\n      <td>0.002129</td>\n      <td>0.005270</td>\n      <td>1</td>\n    </tr>\n    <tr>\n      <th>3</th>\n      <td>0.06</td>\n      <td>0.196129</td>\n      <td>-0.752597</td>\n      <td>-0.635481</td>\n      <td>1.077611</td>\n      <td>-0.001055</td>\n      <td>-0.275569</td>\n      <td>-0.902469</td>\n      <td>0.412618</td>\n      <td>0.119137</td>\n      <td>...</td>\n      <td>-0.019938</td>\n      <td>0.049091</td>\n      <td>-0.856239</td>\n      <td>0.302404</td>\n      <td>-0.120395</td>\n      <td>-0.401138</td>\n      <td>-0.002225</td>\n      <td>0.004453</td>\n      <td>0.009974</td>\n      <td>1</td>\n    </tr>\n    <tr>\n      <th>4</th>\n      <td>0.08</td>\n      <td>0.196556</td>\n      <td>-0.746188</td>\n      <td>-0.641954</td>\n      <td>-0.072016</td>\n      <td>-0.306926</td>\n      <td>-0.028435</td>\n      <td>-0.902678</td>\n      <td>0.412097</td>\n      <td>0.119413</td>\n      <td>...</td>\n      <td>0.243032</td>\n      <td>0.332257</td>\n      <td>-0.856243</td>\n      <td>0.302486</td>\n      <td>-0.120408</td>\n      <td>-0.401064</td>\n      <td>-0.004538</td>\n      <td>-0.000894</td>\n      <td>0.010130</td>\n      <td>1</td>\n    </tr>\n    <tr>\n      <th>...</th>\n      <td>...</td>\n      <td>...</td>\n      <td>...</td>\n      <td>...</td>\n      <td>...</td>\n      <td>...</td>\n      <td>...</td>\n      <td>...</td>\n      <td>...</td>\n      <td>...</td>\n      <td>...</td>\n      <td>...</td>\n      <td>...</td>\n      <td>...</td>\n      <td>...</td>\n      <td>...</td>\n      <td>...</td>\n      <td>...</td>\n      <td>...</td>\n      <td>...</td>\n      <td>...</td>\n    </tr>\n    <tr>\n      <th>9410</th>\n      <td>188.20</td>\n      <td>0.186450</td>\n      <td>-0.777308</td>\n      <td>-0.607560</td>\n      <td>-1.495733</td>\n      <td>-2.149025</td>\n      <td>-0.842469</td>\n      <td>-0.882223</td>\n      <td>0.445263</td>\n      <td>0.030348</td>\n      <td>...</td>\n      <td>-0.808717</td>\n      <td>-0.377440</td>\n      <td>-0.762839</td>\n      <td>0.369573</td>\n      <td>-0.116014</td>\n      <td>-0.517719</td>\n      <td>-0.004429</td>\n      <td>0.004884</td>\n      <td>0.020385</td>\n      <td>2</td>\n    </tr>\n    <tr>\n      <th>9411</th>\n      <td>188.22</td>\n      <td>0.198456</td>\n      <td>-0.781783</td>\n      <td>-0.612723</td>\n      <td>-0.590164</td>\n      <td>-1.520824</td>\n      <td>-1.144590</td>\n      <td>-0.882252</td>\n      <td>0.445103</td>\n      <td>0.030453</td>\n      <td>...</td>\n      <td>2.332716</td>\n      <td>-0.057907</td>\n      <td>-0.762849</td>\n      <td>0.369831</td>\n      <td>-0.115723</td>\n      <td>-0.517585</td>\n      <td>0.031140</td>\n      <td>0.007705</td>\n      <td>0.001380</td>\n      <td>2</td>\n    </tr>\n    <tr>\n      <th>9412</th>\n      <td>188.24</td>\n      <td>0.184996</td>\n      <td>-0.783313</td>\n      <td>-0.604298</td>\n      <td>0.781578</td>\n      <td>1.258426</td>\n      <td>0.109423</td>\n      <td>-0.882190</td>\n      <td>0.445255</td>\n      <td>0.030636</td>\n      <td>...</td>\n      <td>0.848639</td>\n      <td>-1.900102</td>\n      <td>-0.762952</td>\n      <td>0.369401</td>\n      <td>-0.115445</td>\n      <td>-0.517803</td>\n      <td>0.037008</td>\n      <td>0.010702</td>\n      <td>0.005996</td>\n      <td>2</td>\n    </tr>\n    <tr>\n      <th>9413</th>\n      <td>188.26</td>\n      <td>0.173928</td>\n      <td>-0.776946</td>\n      <td>-0.600416</td>\n      <td>0.185493</td>\n      <td>0.584445</td>\n      <td>-0.039879</td>\n      <td>-0.882186</td>\n      <td>0.445265</td>\n      <td>0.030712</td>\n      <td>...</td>\n      <td>-2.616771</td>\n      <td>-1.677885</td>\n      <td>-0.762755</td>\n      <td>0.369199</td>\n      <td>-0.115698</td>\n      <td>-0.518180</td>\n      <td>0.012094</td>\n      <td>0.013374</td>\n      <td>0.022615</td>\n      <td>2</td>\n    </tr>\n    <tr>\n      <th>9414</th>\n      <td>188.28</td>\n      <td>0.182732</td>\n      <td>-0.777972</td>\n      <td>-0.609403</td>\n      <td>-2.020772</td>\n      <td>-1.738739</td>\n      <td>-1.256592</td>\n      <td>-0.882343</td>\n      <td>0.444863</td>\n      <td>0.030564</td>\n      <td>...</td>\n      <td>-0.697432</td>\n      <td>-0.193026</td>\n      <td>-0.762604</td>\n      <td>0.369445</td>\n      <td>-0.115924</td>\n      <td>-0.518177</td>\n      <td>-0.001972</td>\n      <td>0.008027</td>\n      <td>0.019301</td>\n      <td>2</td>\n    </tr>\n  </tbody>\n</table>\n<p>8367 rows × 41 columns</p>\n</div>"
     },
     "metadata": {}
    }
   ]
  },
  {
   "cell_type": "markdown",
   "source": "## Adjust dataframes",
   "metadata": {
    "tags": [],
    "cell_id": "00006-9ef49e59-2906-4ac0-ad2d-06c4d08540ac",
    "deepnote_cell_type": "markdown"
   }
  },
  {
   "cell_type": "code",
   "metadata": {
    "deepnote_to_be_reexecuted": false,
    "source_hash": "f6a772e3",
    "execution_millis": 12,
    "execution_start": 1621342384598,
    "cell_id": "00007-cf6c56e3-b831-4b63-b2b9-405b004270e2",
    "output_cleared": false,
    "deepnote_cell_type": "code"
   },
   "source": "# Create numpy arrays\nx_train_numpy = x_train.values\nx_test_numpy = x_test.values\ny_train_numpy = y_train.values\ny_test_numpy = y_test.values\n\n# Hot encode categories into numbers\ny_train = to_categorical(y_train_numpy,9)\ny_test = to_categorical(y_test_numpy,9)",
   "execution_count": 4,
   "outputs": []
  },
  {
   "cell_type": "markdown",
   "source": "## Precision",
   "metadata": {
    "tags": [],
    "cell_id": "00016-2a14a2c8-6a86-4b40-a555-bcc31468f9af",
    "deepnote_cell_type": "markdown"
   }
  },
  {
   "cell_type": "code",
   "metadata": {
    "deepnote_to_be_reexecuted": false,
    "source_hash": "5efa8ab",
    "execution_millis": 2176,
    "execution_start": 1621348689725,
    "cell_id": "00017-2e2471bf-e3e2-4696-8f2e-93baa479fb6d",
    "output_cleared": false,
    "deepnote_cell_type": "code"
   },
   "source": "model_type: \"ANN\" or \"CNN\" or \"LSTM\" or \"RFC\" = \"RFC\"\nids = [1]\nPRINT_CLASSIFICATION_MATRIX = False\n\nfor run_i in ids:\n    if model_type != \"RFC\":\n        model = load_model(f\"../models/{model_type}_{AMOUNT_OF_SENSORS}_sensor{'er' if AMOUNT_OF_SENSORS > 1 else ''}_{run_i}.h5\")\n    else:\n        model = load(f\"../models/RFC_model_{AMOUNT_OF_SENSORS}.joblib\")\n    print(\"Classification accuracy:\")\n    classification_dict = dict()\n    accuracy_list = list() \n\n    for key in x_test_dict:\n        x_test_numpy = x_test_dict[key].drop([' TimeStamp (s)', 'Pose'], axis=1).values\n        if model_type == \"RFC\": \n            x_test_numpy = x_test_dict[key].drop([' TimeStamp (s)', 'Pose'], axis=1)\n        if model_type == \"CNN\":\n            x_test_numpy = x_test_numpy.reshape(x_test_numpy.shape[0],x_test_numpy.shape[1], 1)\n        classify = model.predict(x_test_numpy)\n        classifications = [i.argmax() for i in classify]\n        if model_type == 'RFC': classifications = classify\n        annotated_positions = y_test_dict[key].to_numpy()\n        correct_classifications = (classifications == annotated_positions).sum()\n        accuracy_list.append(round(correct_classifications/len(classifications)*100,2))\n        print(f\"{key}: {accuracy_list[-1]}%\")\n        classification_dict[key] = classifications\n    print(f\"Average accuracy: {round(sum(accuracy_list)/len(accuracy_list),2)}%\")\n    \n\n    if PRINT_CLASSIFICATION_MATRIX:\n        width=16\n        height=4*len(x_test_dict)\n        fig, axes = plt.subplots(len(x_test_dict), 4, figsize=(width, height))\n        for i, key in enumerate(x_test_dict):\n            cols = [f\"{key}: Model classifications\", f\"{key}: Model heatmap\", f\"{key}: Annotated classifications\", f\"{key}: Annotated heatmap\"]\n            df_predict = pd.DataFrame({' Timestamp (s)': x_test_dict[key][' TimeStamp (s)'],'Pose':classification_dict[key]})\n            sns.lineplot(ax=axes[i, 0], data=df_predict,x=' Timestamp (s)',y='Pose')\n            sns.heatmap(ax=axes[i, 1], data=confusion_matrix(y_test_dict[key], classification_dict[key]), cmap=\"YlGnBu\", annot=True, fmt=\"d\")\n            sns.lineplot(ax=axes[i, 2], data=x_test_dict[key], x=\" TimeStamp (s)\", y='Pose')\n            sns.heatmap(ax=axes[i, 3], data=confusion_matrix(y_test_dict[key], y_test_dict[key].to_numpy()), cmap=\"YlGnBu\", annot=True, fmt=\"d\")\n            for ax, col in zip(axes[i], cols): ax.set_title(col)\n        fig.tight_layout()\n        plt.show()\n        fig.savefig(f\"{model_type}_plot.png\")",
   "execution_count": 6,
   "outputs": [
    {
     "name": "stdout",
     "text": "Classification accuracy:\n001: 94.93%\n002: 76.92%\n003: 89.29%\n005: 78.08%\n006: 85.91%\n007: 85.22%\n008: 44.51%\n009: 88.49%\n010: 82.25%\nAverage accuracy: 80.62%\n",
     "output_type": "stream"
    }
   ]
  },
  {
   "cell_type": "markdown",
   "source": "<a style='text-decoration:none;line-height:16px;display:flex;color:#5B5B62;padding:10px;justify-content:end;' href='https://deepnote.com?utm_source=created-in-deepnote-cell&projectId=59d486bc-e14d-4632-9064-12272fc72d11' target=\"_blank\">\n<img alt='Created in deepnote.com' style='display:inline;max-height:16px;margin:0px;margin-right:7.5px;' src='data:image/svg+xml;base64,PD94bWwgdmVyc2lvbj0iMS4wIiBlbmNvZGluZz0iVVRGLTgiPz4KPHN2ZyB3aWR0aD0iODBweCIgaGVpZ2h0PSI4MHB4IiB2aWV3Qm94PSIwIDAgODAgODAiIHZlcnNpb249IjEuMSIgeG1sbnM9Imh0dHA6Ly93d3cudzMub3JnLzIwMDAvc3ZnIiB4bWxuczp4bGluaz0iaHR0cDovL3d3dy53My5vcmcvMTk5OS94bGluayI+CiAgICA8IS0tIEdlbmVyYXRvcjogU2tldGNoIDU0LjEgKDc2NDkwKSAtIGh0dHBzOi8vc2tldGNoYXBwLmNvbSAtLT4KICAgIDx0aXRsZT5Hcm91cCAzPC90aXRsZT4KICAgIDxkZXNjPkNyZWF0ZWQgd2l0aCBTa2V0Y2guPC9kZXNjPgogICAgPGcgaWQ9IkxhbmRpbmciIHN0cm9rZT0ibm9uZSIgc3Ryb2tlLXdpZHRoPSIxIiBmaWxsPSJub25lIiBmaWxsLXJ1bGU9ImV2ZW5vZGQiPgogICAgICAgIDxnIGlkPSJBcnRib2FyZCIgdHJhbnNmb3JtPSJ0cmFuc2xhdGUoLTEyMzUuMDAwMDAwLCAtNzkuMDAwMDAwKSI+CiAgICAgICAgICAgIDxnIGlkPSJHcm91cC0zIiB0cmFuc2Zvcm09InRyYW5zbGF0ZSgxMjM1LjAwMDAwMCwgNzkuMDAwMDAwKSI+CiAgICAgICAgICAgICAgICA8cG9seWdvbiBpZD0iUGF0aC0yMCIgZmlsbD0iIzAyNjVCNCIgcG9pbnRzPSIyLjM3NjIzNzYyIDgwIDM4LjA0NzY2NjcgODAgNTcuODIxNzgyMiA3My44MDU3NTkyIDU3LjgyMTc4MjIgMzIuNzU5MjczOSAzOS4xNDAyMjc4IDMxLjY4MzE2ODMiPjwvcG9seWdvbj4KICAgICAgICAgICAgICAgIDxwYXRoIGQ9Ik0zNS4wMDc3MTgsODAgQzQyLjkwNjIwMDcsNzYuNDU0OTM1OCA0Ny41NjQ5MTY3LDcxLjU0MjI2NzEgNDguOTgzODY2LDY1LjI2MTk5MzkgQzUxLjExMjI4OTksNTUuODQxNTg0MiA0MS42NzcxNzk1LDQ5LjIxMjIyODQgMjUuNjIzOTg0Niw0OS4yMTIyMjg0IEMyNS40ODQ5Mjg5LDQ5LjEyNjg0NDggMjkuODI2MTI5Niw0My4yODM4MjQ4IDM4LjY0NzU4NjksMzEuNjgzMTY4MyBMNzIuODcxMjg3MSwzMi41NTQ0MjUgTDY1LjI4MDk3Myw2Ny42NzYzNDIxIEw1MS4xMTIyODk5LDc3LjM3NjE0NCBMMzUuMDA3NzE4LDgwIFoiIGlkPSJQYXRoLTIyIiBmaWxsPSIjMDAyODY4Ij48L3BhdGg+CiAgICAgICAgICAgICAgICA8cGF0aCBkPSJNMCwzNy43MzA0NDA1IEwyNy4xMTQ1MzcsMC4yNTcxMTE0MzYgQzYyLjM3MTUxMjMsLTEuOTkwNzE3MDEgODAsMTAuNTAwMzkyNyA4MCwzNy43MzA0NDA1IEM4MCw2NC45NjA0ODgyIDY0Ljc3NjUwMzgsNzkuMDUwMzQxNCAzNC4zMjk1MTEzLDgwIEM0Ny4wNTUzNDg5LDc3LjU2NzA4MDggNTMuNDE4MjY3Nyw3MC4zMTM2MTAzIDUzLjQxODI2NzcsNTguMjM5NTg4NSBDNTMuNDE4MjY3Nyw0MC4xMjg1NTU3IDM2LjMwMzk1NDQsMzcuNzMwNDQwNSAyNS4yMjc0MTcsMzcuNzMwNDQwNSBDMTcuODQzMDU4NiwzNy43MzA0NDA1IDkuNDMzOTE5NjYsMzcuNzMwNDQwNSAwLDM3LjczMDQ0MDUgWiIgaWQ9IlBhdGgtMTkiIGZpbGw9IiMzNzkzRUYiPjwvcGF0aD4KICAgICAgICAgICAgPC9nPgogICAgICAgIDwvZz4KICAgIDwvZz4KPC9zdmc+' > </img>\nCreated in <span style='font-weight:600;margin-left:4px;'>Deepnote</span></a>",
   "metadata": {
    "tags": [],
    "created_in_deepnote_cell": true,
    "deepnote_cell_type": "markdown"
   }
  }
 ],
 "nbformat": 4,
 "nbformat_minor": 2,
 "metadata": {
  "language_info": {
   "codemirror_mode": {
    "name": "ipython",
    "version": 3
   },
   "file_extension": ".py",
   "mimetype": "text/x-python",
   "name": "python",
   "nbconvert_exporter": "python",
   "pygments_lexer": "ipython3",
   "version": "3.8.2"
  },
  "orig_nbformat": 2,
  "kernelspec": {
   "name": "python38264bit6348f0fb647549c7908291a257a0f019",
   "display_name": "Python 3.8.2 64-bit ('3.8')"
  },
  "deepnote_notebook_id": "a0e61e86-e9d2-427d-a99c-e7ca7e1b3e97",
  "deepnote": {},
  "deepnote_execution_queue": [],
  "metadata": {
   "interpreter": {
    "hash": "082e9a3bcad0a290d0001e938aa60b99250c6c2ef33a923c00b70f9826caf4b7"
   }
  }
 }
}