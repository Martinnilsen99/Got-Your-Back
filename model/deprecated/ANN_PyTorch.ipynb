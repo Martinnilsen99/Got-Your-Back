{
 "metadata": {
  "language_info": {
   "codemirror_mode": {
    "name": "ipython",
    "version": 3
   },
   "file_extension": ".py",
   "mimetype": "text/x-python",
   "name": "python",
   "nbconvert_exporter": "python",
   "pygments_lexer": "ipython3",
   "version": "3.8.2-final"
  },
  "orig_nbformat": 2,
  "kernelspec": {
   "name": "python38264bit6348f0fb647549c7908291a257a0f019",
   "display_name": "Python 3.8.2 64-bit",
   "language": "python"
  }
 },
 "nbformat": 4,
 "nbformat_minor": 2,
 "cells": [
  {
   "source": [
    "### Pytorch Model\n",
    "\n",
    "Lager en enkel modell med 2 lineære lag"
   ],
   "cell_type": "markdown",
   "metadata": {}
  },
  {
   "cell_type": "code",
   "execution_count": null,
   "metadata": {},
   "outputs": [],
   "source": [
    "import torch\n",
    "import torch.nn as nn\n",
    "import torch.optim as optim\n",
    "\n",
    "class Model(nn.Module):\n",
    "    def __init__(self, input_shape=49, output_shape=9, lr=0.001):\n",
    "        super(Model, self).__init__()\n",
    "        self.input_shape = input_shape\n",
    "        self.output_shape = output_shape\n",
    "        self.lr = lr\n",
    "        self.net = torch.nn.Sequential(\n",
    "            torch.nn.Linear(input_shape, 25),\n",
    "            torch.nn.ReLU(),\n",
    "            torch.nn.Linear(25, output_shape),\n",
    "        )\n",
    "        self.opt = optim.SGD(self.net.parameters(), lr=lr, momentum=0.9)\n",
    "        #self.opt = optim.Adam(self.net.parameters(), lr=lr)\n",
    "        #self.opt = optim.RMSprop(self.net.parameters(), lr=lr)\n",
    "        self.criterion = nn.CrossEntropyLoss()\n",
    "\n",
    "    def forward(self, x):\n",
    "        return self.net(x)\n",
    "    \n",
    "    def accuracy(self, x, y):\n",
    "        return torch.mean(torch.eq(self.forward(x).argmax(1), y.argmax(1)).float())\n",
    "\n",
    "    \"\"\"\n",
    "    # Uses Cross Entropy\n",
    "    def loss(self, x, y):\n",
    "        return torch.nn.functional.binary_cross_entropy_with_logits(self.f(x), y)\n",
    "    \"\"\"\n",
    "    def loss(self, x, y):\n",
    "        return self.criterion(self.forward(x), y)\n"
   ]
  },
  {
   "source": [
    "### Training\n",
    "\n",
    "Denne er hentet ut fra [Pytorch egen nettside](https://pytorch.org/tutorials/beginner/blitz/cifar10_tutorial.html)"
   ],
   "cell_type": "markdown",
   "metadata": {}
  },
  {
   "cell_type": "code",
   "execution_count": null,
   "metadata": {},
   "outputs": [],
   "source": [
    "LR = 0.001\n",
    "EPOCH = 100\n",
    "AMOUNT_OF_SENSORS = 3\n",
    "\n",
    "model = Model(input_shape=(AMOUNT_OF_SENSORS*16)+1, output_shape=len(POSE_MAP), lr=LR)\n",
    "\n",
    "#Vi må dele opp i rader og skille ut en 7tensor med dataattributter og en tensor med labels\n",
    "for epoch in range(2):  # loop over the dataset multiple times\n",
    "    running_loss = 0.0\n",
    "    for i, data in enumerate(x_train, 0):\n",
    "        # zero the parameter gradients\n",
    "        model.opt.zero_grad()\n",
    "\n",
    "        # forward + backward + optimize\n",
    "        outputs = model.forward(inputs)\n",
    "        loss = model.criterion(outputs, labels)\n",
    "        loss.backward()\n",
    "        model.opt.step()\n",
    "\n",
    "        # print statistics\n",
    "        running_loss += loss.item()\n",
    "        if i % 2000 == 1999:    # print every 2000 mini-batches\n",
    "            print('[%d, %5d] loss: %.3f' %\n",
    "                    (epoch + 1, i + 1, running_loss / 2000))\n",
    "            running_loss = 0.0\n",
    "\n",
    "print('Finished Training')\n",
    "\n",
    "results = []\n",
    "for index, epoch in enumerate(range(EPOCH)):\n",
    "    model.opt.zero_grad()\n",
    "\n",
    "    # forward + backward + optimize\n",
    "    loss = model.loss(torch.tensor(x_train.values), torch.tensor(y_train.values))\n",
    "    loss.backward()\n",
    "    model.opt.step()\n",
    "\n",
    "    if (index+1) % 10 == 0:\n",
    "        print(f'epoch = {index+1}, loss = {model.loss(x_train, y_train).item()}, accuracy = {model.accuracy(x_test, y_test).item() * 100}%')\n",
    "        results.append([index+1, model.loss(x_train, y_train).item(),\n",
    "                        model.accuracy(x_test, y_test).item() * 100])\n",
    "\n",
    "    model.loss(x_train, y_train).backward()  # Compute loss gradients\n",
    "    model.opt.step()  # Perform optimization by adjusting W and b\n",
    "\n",
    "print(tabulate.tabulate(results, headers=['epoch', 'loss', 'accuracy']))"
   ]
  }
 ]
}