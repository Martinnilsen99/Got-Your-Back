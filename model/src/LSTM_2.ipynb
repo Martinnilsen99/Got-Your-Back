{
 "metadata": {
  "language_info": {
   "codemirror_mode": {
    "name": "ipython",
    "version": 3
   },
   "file_extension": ".py",
   "mimetype": "text/x-python",
   "name": "python",
   "nbconvert_exporter": "python",
   "pygments_lexer": "ipython3",
   "version": "3.8.5"
  },
  "orig_nbformat": 2,
  "kernelspec": {
   "name": "python385jvsc74a57bd0f4fde45515710cbe4f4cf44a8ddef1b298277709bd6c5462499553af68a98f2e",
   "display_name": "Python 3.8.5 64-bit"
  },
  "metadata": {
   "interpreter": {
    "hash": "f4fde45515710cbe4f4cf44a8ddef1b298277709bd6c5462499553af68a98f2e"
   }
  }
 },
 "nbformat": 4,
 "nbformat_minor": 2,
 "cells": [
  {
   "cell_type": "code",
   "execution_count": 1,
   "metadata": {},
   "outputs": [],
   "source": [
    "import sys; sys.path.insert(0, '..')\n",
    "import os\n",
    "import time\n",
    "import pandas as pd\n",
    "import numpy as np\n",
    "import seaborn as sns\n",
    "from matplotlib import pyplot as plt\n",
    "from tabulate import tabulate\n",
    "from dataclasses import dataclass\n",
    "from keras.models import Sequential\n",
    "from keras.layers import Dense, Dropout, LSTM\n",
    "from keras.utils import to_categorical\n",
    "from keras.optimizers import RMSprop, Adam\n",
    "from keras.losses import CategoricalCrossentropy\n",
    "from keras import activations\n",
    "from sklearn.metrics import confusion_matrix\n",
    "from utils.df_utils import df_wrapper\n",
    "from utils.declarations import training_files, testing_files, POSE_MAP"
   ]
  },
  {
   "cell_type": "code",
   "execution_count": 2,
   "metadata": {},
   "outputs": [],
   "source": [
    "AMOUNT_OF_SENSORS = 2\n",
    "VALIDATION_TESTSET = \"004\""
   ]
  },
  {
   "cell_type": "code",
   "execution_count": 3,
   "metadata": {},
   "outputs": [],
   "source": [
    "x_train_arr = []\n",
    "for key in training_files:\n",
    "    elem = df_wrapper(training_files[key].csv_file)\n",
    "    elem.concat_sensor_data(AMOUNT_OF_SENSORS)\n",
    "    elem.align_poses(training_files[key].annot_file, POSE_MAP)\n",
    "    x_train_arr.append(elem)\n",
    "\n",
    "x_train = pd.concat([x.df.drop([' TimeStamp (s)', 'Pose'],axis=1) for x in x_train_arr])\n",
    "y_train = pd.concat([x.df['Pose'] for x in x_train_arr])"
   ]
  },
  {
   "cell_type": "code",
   "execution_count": 4,
   "metadata": {},
   "outputs": [],
   "source": [
    "x_test_dict = dict()\n",
    "y_test_dict = dict()\n",
    "for key in testing_files:\n",
    "    elem = df_wrapper(testing_files[key].csv_file)\n",
    "    elem.concat_sensor_data(AMOUNT_OF_SENSORS)\n",
    "    elem.align_poses(testing_files[key].annot_file, POSE_MAP)\n",
    "    y_test = elem.df[\"Pose\"]\n",
    "    y_test.index = [i for i in range(len(y_test))]\n",
    "    x_test_dict[key] = elem.df\n",
    "    y_test_dict[key] = y_test\n",
    "\n",
    "x_test = x_test_dict[VALIDATION_TESTSET].drop([' TimeStamp (s)', 'Pose'], axis=1) \n",
    "y_test = y_test_dict[VALIDATION_TESTSET]"
   ]
  },
  {
   "cell_type": "code",
   "execution_count": 5,
   "metadata": {},
   "outputs": [],
   "source": [
    "# Create numpy arrays\n",
    "x_train_numpy = x_train.values\n",
    "x_test_numpy = x_test.values\n",
    "y_train_numpy = y_train.values\n",
    "y_test_numpy = y_test.values"
   ]
  },
  {
   "cell_type": "code",
   "execution_count": 6,
   "metadata": {},
   "outputs": [
    {
     "output_type": "stream",
     "name": "stdout",
     "text": [
      "TRAINING SHAPES BEFORE 3D RESHAPE\nx_train_numpy:  (467979, 26)\ny_train_numpy:  (467979,)\nTESTING SHAPES BEFORE 3D RESHAPE\nx_test_numpy:  (8367, 26)\ny_test_numpy:  (8367,)\n"
     ]
    }
   ],
   "source": [
    "print(\"TRAINING SHAPES BEFORE 3D RESHAPE\")\n",
    "print(\"x_train_numpy: \", x_train_numpy.shape)\n",
    "print(\"y_train_numpy: \", y_train_numpy.shape)\n",
    "\n",
    "print(\"TESTING SHAPES BEFORE 3D RESHAPE\")\n",
    "print(\"x_test_numpy: \", x_test_numpy.shape)\n",
    "print(\"y_test_numpy: \", y_test_numpy.shape)"
   ]
  },
  {
   "cell_type": "code",
   "execution_count": 7,
   "metadata": {},
   "outputs": [],
   "source": [
    "from scipy import stats\n",
    "\n",
    "NUM_TIMESTAMPS = 100\n",
    "\n",
    "def create_3d_array(array):\n",
    "\n",
    "    arr_3d = []\n",
    "    temp_2d = []\n",
    "    for i in range(1,len(array)):\n",
    "        temp_2d.append(array[i])\n",
    "        if i % NUM_TIMESTAMPS == 0:\n",
    "            arr_3d.append(temp_2d)\n",
    "            temp_2d = []\n",
    "    \n",
    "    return arr_3d\n",
    "\n",
    "def create_2d_y_array(array):\n",
    "    arr_2d_y_train = []\n",
    "    temp_y_train = []\n",
    "    mode_arr = []\n",
    "\n",
    "    for i in range(1,len(array)):\n",
    "        #temp_2d.append(array[0])\n",
    "        temp_y_train.append(array[i])\n",
    "        if i % NUM_TIMESTAMPS == 0:\n",
    "            mode_arr.append(temp_y_train)\n",
    "\n",
    "            temp_y_train = []\n",
    "            #temp_2d = []\n",
    "\n",
    "    y_train_to_be_encoded = []\n",
    "\n",
    "    for i in range(len(mode_arr)):\n",
    "        mode = stats.mode(mode_arr[i])\n",
    "        y_train_to_be_encoded.append(mode.mode[0])\n",
    "\n",
    "    #ONE HOT ENCODING\n",
    "    encoding = []\n",
    "    for value in y_train_to_be_encoded:\n",
    "        vector = [0 for _ in range(9)]\n",
    "        vector[value] = 1\n",
    "        encoding.append(vector)\n",
    "    \n",
    "    return np.array(encoding)"
   ]
  },
  {
   "cell_type": "code",
   "execution_count": 8,
   "metadata": {},
   "outputs": [],
   "source": [
    "x_train_3d = np.array(create_3d_array(x_train_numpy))\n",
    "y_train_2d = np.array(create_2d_y_array(y_train_numpy))\n",
    "x_test_3d = np.array(create_3d_array(x_test_numpy))\n",
    "y_test_2d = np.array(create_2d_y_array(y_test_numpy))\n",
    "\n"
   ]
  },
  {
   "cell_type": "code",
   "execution_count": 9,
   "metadata": {},
   "outputs": [
    {
     "output_type": "stream",
     "name": "stdout",
     "text": [
      "TRAINING DATA AFTER 3D RESHAPE\nx_train_3d:  (4679, 100, 26)\ny_train_2d:  (4679, 9)\n\nTESTING DATA AFTER 3D RESHAPE\nx_test_3d:  (83, 100, 26)\nx_test_2d:  (83, 9)\n"
     ]
    }
   ],
   "source": [
    "print(\"TRAINING DATA AFTER 3D RESHAPE\")\n",
    "print(\"x_train_3d: \", np.shape(x_train_3d))\n",
    "print(\"y_train_2d: \", np.shape(y_train_2d))\n",
    "\n",
    "print(\"\\nTESTING DATA AFTER 3D RESHAPE\")\n",
    "print(\"x_test_3d: \", np.shape(x_test_3d))\n",
    "print(\"x_test_2d: \", np.shape(y_test_2d))"
   ]
  },
  {
   "cell_type": "code",
   "execution_count": null,
   "metadata": {},
   "outputs": [],
   "source": []
  },
  {
   "cell_type": "code",
   "execution_count": 30,
   "metadata": {},
   "outputs": [],
   "source": [
    "\n",
    "OPTIM = Adam(learning_rate=0.0001)\n",
    "# OPTIM = RMSprop(learning_rate=LR)\n"
   ]
  },
  {
   "cell_type": "code",
   "execution_count": 31,
   "metadata": {},
   "outputs": [],
   "source": [
    "model = Sequential()\n",
    "model.add(LSTM(128, activation='sigmoid', input_shape=[x_train_3d.shape[1], x_train_3d.shape[2]]))\n",
    "model.add(Dense(128, activation='relu')) \n",
    "model.add(Dropout(rate=0.2))\n",
    "model.add(Dense(64, activation='relu'))\n",
    "model.add(Dropout(rate=0.2))\n",
    "model.add(Dense(10, activation='relu'))\n",
    "model.add(Dropout(rate=0.2))\n",
    "model.add(Dense(9, activation='softmax'))\n",
    "\n",
    "model.compile(optimizer=OPTIM, loss=CategoricalCrossentropy(), metrics=['accuracy'])"
   ]
  },
  {
   "cell_type": "code",
   "execution_count": 32,
   "metadata": {
    "tags": []
   },
   "outputs": [
    {
     "output_type": "stream",
     "name": "stdout",
     "text": [
      "Epoch 1/120\n",
      "24/24 [==============================] - 7s 203ms/step - loss: 2.2200 - accuracy: 0.1067 - val_loss: 2.2039 - val_accuracy: 0.1205\n",
      "Epoch 2/120\n",
      "24/24 [==============================] - 7s 303ms/step - loss: 2.2039 - accuracy: 0.1136 - val_loss: 2.1987 - val_accuracy: 0.0602\n",
      "Epoch 3/120\n",
      "24/24 [==============================] - 8s 344ms/step - loss: 2.1933 - accuracy: 0.1182 - val_loss: 2.1979 - val_accuracy: 0.0723\n",
      "Epoch 4/120\n",
      "24/24 [==============================] - 9s 362ms/step - loss: 2.1977 - accuracy: 0.1129 - val_loss: 2.1962 - val_accuracy: 0.0964\n",
      "Epoch 5/120\n",
      "24/24 [==============================] - 8s 319ms/step - loss: 2.1964 - accuracy: 0.1159 - val_loss: 2.1952 - val_accuracy: 0.1084\n",
      "Epoch 6/120\n",
      "24/24 [==============================] - 5s 200ms/step - loss: 2.1942 - accuracy: 0.1075 - val_loss: 2.1970 - val_accuracy: 0.0361\n",
      "Epoch 7/120\n",
      "24/24 [==============================] - 4s 182ms/step - loss: 2.1937 - accuracy: 0.1096 - val_loss: 2.1953 - val_accuracy: 0.0602\n",
      "Epoch 8/120\n",
      "24/24 [==============================] - 5s 227ms/step - loss: 2.1906 - accuracy: 0.1181 - val_loss: 2.1895 - val_accuracy: 0.1446\n",
      "Epoch 9/120\n",
      "24/24 [==============================] - 5s 192ms/step - loss: 2.1881 - accuracy: 0.1291 - val_loss: 2.1892 - val_accuracy: 0.1566\n",
      "Epoch 10/120\n",
      "24/24 [==============================] - 5s 225ms/step - loss: 2.1830 - accuracy: 0.1353 - val_loss: 2.1846 - val_accuracy: 0.2410\n",
      "Epoch 11/120\n",
      "24/24 [==============================] - 9s 371ms/step - loss: 2.1788 - accuracy: 0.1269 - val_loss: 2.1804 - val_accuracy: 0.0843\n",
      "Epoch 12/120\n",
      "24/24 [==============================] - 8s 354ms/step - loss: 2.1675 - accuracy: 0.1507 - val_loss: 2.1730 - val_accuracy: 0.1325\n",
      "Epoch 13/120\n",
      "24/24 [==============================] - 9s 363ms/step - loss: 2.1574 - accuracy: 0.1655 - val_loss: 2.1573 - val_accuracy: 0.2169\n",
      "Epoch 14/120\n",
      "24/24 [==============================] - 9s 363ms/step - loss: 2.1378 - accuracy: 0.1965 - val_loss: 2.1423 - val_accuracy: 0.2771\n",
      "Epoch 15/120\n",
      "24/24 [==============================] - 9s 383ms/step - loss: 2.1155 - accuracy: 0.2006 - val_loss: 2.1194 - val_accuracy: 0.2410\n",
      "Epoch 16/120\n",
      "24/24 [==============================] - 8s 332ms/step - loss: 2.0935 - accuracy: 0.2032 - val_loss: 2.0792 - val_accuracy: 0.3855\n",
      "Epoch 17/120\n",
      "24/24 [==============================] - 8s 346ms/step - loss: 2.0532 - accuracy: 0.2194 - val_loss: 2.0670 - val_accuracy: 0.2410\n",
      "Epoch 18/120\n",
      "24/24 [==============================] - 8s 352ms/step - loss: 2.0216 - accuracy: 0.2217 - val_loss: 2.0026 - val_accuracy: 0.3855\n",
      "Epoch 19/120\n",
      "24/24 [==============================] - 8s 317ms/step - loss: 1.9894 - accuracy: 0.2284 - val_loss: 1.9893 - val_accuracy: 0.3373\n",
      "Epoch 20/120\n",
      "24/24 [==============================] - 8s 323ms/step - loss: 1.9506 - accuracy: 0.2320 - val_loss: 1.9202 - val_accuracy: 0.3494\n",
      "Epoch 21/120\n",
      "24/24 [==============================] - 8s 350ms/step - loss: 1.9028 - accuracy: 0.2414 - val_loss: 1.8689 - val_accuracy: 0.2771\n",
      "Epoch 22/120\n",
      "24/24 [==============================] - 8s 352ms/step - loss: 1.8744 - accuracy: 0.2292 - val_loss: 1.8271 - val_accuracy: 0.2530\n",
      "Epoch 23/120\n",
      "24/24 [==============================] - 8s 349ms/step - loss: 1.8355 - accuracy: 0.2499 - val_loss: 1.7913 - val_accuracy: 0.1928\n",
      "Epoch 24/120\n",
      "24/24 [==============================] - 9s 363ms/step - loss: 1.8110 - accuracy: 0.2431 - val_loss: 1.7586 - val_accuracy: 0.2048\n",
      "Epoch 25/120\n",
      "24/24 [==============================] - 8s 319ms/step - loss: 1.7873 - accuracy: 0.2681 - val_loss: 1.7410 - val_accuracy: 0.1928\n",
      "Epoch 26/120\n",
      "24/24 [==============================] - 8s 352ms/step - loss: 1.7623 - accuracy: 0.2783 - val_loss: 1.6995 - val_accuracy: 0.1928\n",
      "Epoch 27/120\n",
      "24/24 [==============================] - 8s 354ms/step - loss: 1.7314 - accuracy: 0.2805 - val_loss: 1.6722 - val_accuracy: 0.3133\n",
      "Epoch 28/120\n",
      "24/24 [==============================] - 8s 345ms/step - loss: 1.7163 - accuracy: 0.2821 - val_loss: 1.6465 - val_accuracy: 0.3012\n",
      "Epoch 29/120\n",
      "24/24 [==============================] - 8s 350ms/step - loss: 1.6991 - accuracy: 0.2878 - val_loss: 1.6431 - val_accuracy: 0.3133\n",
      "Epoch 30/120\n",
      "24/24 [==============================] - 10s 414ms/step - loss: 1.6826 - accuracy: 0.2908 - val_loss: 1.5820 - val_accuracy: 0.4337\n",
      "Epoch 31/120\n",
      "24/24 [==============================] - 10s 408ms/step - loss: 1.6575 - accuracy: 0.2953 - val_loss: 1.5461 - val_accuracy: 0.3855\n",
      "Epoch 32/120\n",
      "24/24 [==============================] - 9s 364ms/step - loss: 1.6272 - accuracy: 0.3113 - val_loss: 1.5084 - val_accuracy: 0.5060\n",
      "Epoch 33/120\n",
      "24/24 [==============================] - 11s 441ms/step - loss: 1.6037 - accuracy: 0.3384 - val_loss: 1.4667 - val_accuracy: 0.5181\n",
      "Epoch 34/120\n",
      "24/24 [==============================] - 8s 338ms/step - loss: 1.5653 - accuracy: 0.3504 - val_loss: 1.4291 - val_accuracy: 0.6145\n",
      "Epoch 35/120\n",
      "24/24 [==============================] - 5s 198ms/step - loss: 1.5164 - accuracy: 0.3833 - val_loss: 1.3765 - val_accuracy: 0.6506\n",
      "Epoch 36/120\n",
      "24/24 [==============================] - 4s 180ms/step - loss: 1.5012 - accuracy: 0.3957 - val_loss: 1.3251 - val_accuracy: 0.6627\n",
      "Epoch 37/120\n",
      "24/24 [==============================] - 4s 181ms/step - loss: 1.4543 - accuracy: 0.4237 - val_loss: 1.3244 - val_accuracy: 0.6265\n",
      "Epoch 38/120\n",
      "24/24 [==============================] - 4s 176ms/step - loss: 1.4220 - accuracy: 0.4409 - val_loss: 1.2384 - val_accuracy: 0.8554\n",
      "Epoch 39/120\n",
      "24/24 [==============================] - 4s 187ms/step - loss: 1.3904 - accuracy: 0.4615 - val_loss: 1.1850 - val_accuracy: 0.7831\n",
      "Epoch 40/120\n",
      "24/24 [==============================] - 9s 381ms/step - loss: 1.3535 - accuracy: 0.4716 - val_loss: 1.1370 - val_accuracy: 0.7831\n",
      "Epoch 41/120\n",
      "24/24 [==============================] - 5s 208ms/step - loss: 1.3006 - accuracy: 0.5119 - val_loss: 1.0610 - val_accuracy: 0.7831\n",
      "Epoch 42/120\n",
      "24/24 [==============================] - 4s 178ms/step - loss: 1.2715 - accuracy: 0.5095 - val_loss: 1.0431 - val_accuracy: 0.7831\n",
      "Epoch 43/120\n",
      "24/24 [==============================] - 4s 173ms/step - loss: 1.2406 - accuracy: 0.5253 - val_loss: 0.9645 - val_accuracy: 0.7831\n",
      "Epoch 44/120\n",
      "24/24 [==============================] - 4s 173ms/step - loss: 1.1972 - accuracy: 0.5430 - val_loss: 0.9672 - val_accuracy: 0.7831\n",
      "Epoch 45/120\n",
      "24/24 [==============================] - 4s 170ms/step - loss: 1.1817 - accuracy: 0.5474 - val_loss: 0.9118 - val_accuracy: 0.7831\n",
      "Epoch 46/120\n",
      "24/24 [==============================] - 4s 169ms/step - loss: 1.1433 - accuracy: 0.5575 - val_loss: 0.8746 - val_accuracy: 0.7831\n",
      "Epoch 47/120\n",
      "24/24 [==============================] - 4s 170ms/step - loss: 1.0894 - accuracy: 0.5837 - val_loss: 0.8317 - val_accuracy: 0.7831\n",
      "Epoch 48/120\n",
      "24/24 [==============================] - 4s 172ms/step - loss: 1.0857 - accuracy: 0.5715 - val_loss: 0.8282 - val_accuracy: 0.7831\n",
      "Epoch 49/120\n",
      "24/24 [==============================] - 4s 172ms/step - loss: 1.0381 - accuracy: 0.5907 - val_loss: 0.7957 - val_accuracy: 0.7831\n",
      "Epoch 50/120\n",
      "24/24 [==============================] - 4s 171ms/step - loss: 0.9941 - accuracy: 0.6231 - val_loss: 0.7394 - val_accuracy: 0.7831\n",
      "Epoch 51/120\n",
      "24/24 [==============================] - 4s 171ms/step - loss: 1.0227 - accuracy: 0.5996 - val_loss: 0.7599 - val_accuracy: 0.7831\n",
      "Epoch 52/120\n",
      "24/24 [==============================] - 4s 171ms/step - loss: 0.9974 - accuracy: 0.6061 - val_loss: 0.6937 - val_accuracy: 0.7831\n",
      "Epoch 53/120\n",
      "24/24 [==============================] - 4s 172ms/step - loss: 0.9561 - accuracy: 0.6262 - val_loss: 0.7021 - val_accuracy: 0.7831\n",
      "Epoch 54/120\n",
      "24/24 [==============================] - 4s 176ms/step - loss: 0.9425 - accuracy: 0.6217 - val_loss: 0.6606 - val_accuracy: 0.7831\n",
      "Epoch 55/120\n",
      "24/24 [==============================] - 4s 173ms/step - loss: 0.9120 - accuracy: 0.6330 - val_loss: 0.6506 - val_accuracy: 0.7831\n",
      "Epoch 56/120\n",
      "24/24 [==============================] - 4s 171ms/step - loss: 0.9103 - accuracy: 0.6452 - val_loss: 0.6462 - val_accuracy: 0.7831\n",
      "Epoch 57/120\n",
      "24/24 [==============================] - 4s 174ms/step - loss: 0.8934 - accuracy: 0.6427 - val_loss: 0.6210 - val_accuracy: 0.7831\n",
      "Epoch 58/120\n",
      "24/24 [==============================] - 4s 171ms/step - loss: 0.8697 - accuracy: 0.6599 - val_loss: 0.5887 - val_accuracy: 0.7952\n",
      "Epoch 59/120\n",
      "24/24 [==============================] - 4s 175ms/step - loss: 0.8510 - accuracy: 0.6437 - val_loss: 0.6092 - val_accuracy: 0.7831\n",
      "Epoch 60/120\n",
      "24/24 [==============================] - 4s 177ms/step - loss: 0.8062 - accuracy: 0.6586 - val_loss: 0.5734 - val_accuracy: 0.7952\n",
      "Epoch 61/120\n",
      "24/24 [==============================] - 4s 169ms/step - loss: 0.8053 - accuracy: 0.6702 - val_loss: 0.5520 - val_accuracy: 0.7831\n",
      "Epoch 62/120\n",
      "24/24 [==============================] - 4s 173ms/step - loss: 0.7967 - accuracy: 0.6736 - val_loss: 0.5774 - val_accuracy: 0.7590\n",
      "Epoch 63/120\n",
      "24/24 [==============================] - 4s 171ms/step - loss: 0.7923 - accuracy: 0.6785 - val_loss: 0.5363 - val_accuracy: 0.7831\n",
      "Epoch 64/120\n",
      "24/24 [==============================] - 4s 170ms/step - loss: 0.7387 - accuracy: 0.7071 - val_loss: 0.5394 - val_accuracy: 0.7711\n",
      "Epoch 65/120\n",
      "24/24 [==============================] - 4s 172ms/step - loss: 0.7369 - accuracy: 0.6956 - val_loss: 0.4809 - val_accuracy: 0.7831\n",
      "Epoch 66/120\n",
      "24/24 [==============================] - 4s 171ms/step - loss: 0.7426 - accuracy: 0.6961 - val_loss: 0.4856 - val_accuracy: 0.8795\n",
      "Epoch 67/120\n",
      "24/24 [==============================] - 4s 169ms/step - loss: 0.7249 - accuracy: 0.7055 - val_loss: 0.4756 - val_accuracy: 0.8916\n",
      "Epoch 68/120\n",
      "24/24 [==============================] - 4s 185ms/step - loss: 0.7226 - accuracy: 0.7074 - val_loss: 0.4519 - val_accuracy: 0.8916\n",
      "Epoch 69/120\n",
      "24/24 [==============================] - 4s 171ms/step - loss: 0.6755 - accuracy: 0.7290 - val_loss: 0.4578 - val_accuracy: 0.8795\n",
      "Epoch 70/120\n",
      "24/24 [==============================] - 4s 175ms/step - loss: 0.6898 - accuracy: 0.7240 - val_loss: 0.4534 - val_accuracy: 0.8916\n",
      "Epoch 71/120\n",
      "24/24 [==============================] - 4s 171ms/step - loss: 0.6673 - accuracy: 0.7283 - val_loss: 0.4375 - val_accuracy: 0.8916\n",
      "Epoch 72/120\n",
      "24/24 [==============================] - 4s 169ms/step - loss: 0.6657 - accuracy: 0.7340 - val_loss: 0.4199 - val_accuracy: 0.8916\n",
      "Epoch 73/120\n",
      "24/24 [==============================] - 4s 172ms/step - loss: 0.6463 - accuracy: 0.7466 - val_loss: 0.4069 - val_accuracy: 0.8916\n",
      "Epoch 74/120\n",
      "24/24 [==============================] - 4s 171ms/step - loss: 0.6244 - accuracy: 0.7553 - val_loss: 0.4327 - val_accuracy: 0.8916\n",
      "Epoch 75/120\n",
      "24/24 [==============================] - 4s 170ms/step - loss: 0.6365 - accuracy: 0.7379 - val_loss: 0.4042 - val_accuracy: 0.8916\n",
      "Epoch 76/120\n",
      "24/24 [==============================] - 4s 171ms/step - loss: 0.6221 - accuracy: 0.7484 - val_loss: 0.4078 - val_accuracy: 0.8916\n",
      "Epoch 77/120\n",
      "24/24 [==============================] - 4s 171ms/step - loss: 0.6044 - accuracy: 0.7586 - val_loss: 0.3922 - val_accuracy: 0.8916\n",
      "Epoch 78/120\n",
      "24/24 [==============================] - 4s 170ms/step - loss: 0.5972 - accuracy: 0.7598 - val_loss: 0.4012 - val_accuracy: 0.8916\n",
      "Epoch 79/120\n",
      "24/24 [==============================] - 4s 172ms/step - loss: 0.5843 - accuracy: 0.7615 - val_loss: 0.3799 - val_accuracy: 0.8916\n",
      "Epoch 80/120\n",
      "24/24 [==============================] - 4s 171ms/step - loss: 0.5919 - accuracy: 0.7559 - val_loss: 0.3862 - val_accuracy: 0.8916\n",
      "Epoch 81/120\n",
      "24/24 [==============================] - 4s 171ms/step - loss: 0.5799 - accuracy: 0.7666 - val_loss: 0.3829 - val_accuracy: 0.8916\n",
      "Epoch 82/120\n",
      "24/24 [==============================] - 4s 169ms/step - loss: 0.5711 - accuracy: 0.7702 - val_loss: 0.3658 - val_accuracy: 0.8916\n",
      "Epoch 83/120\n",
      "24/24 [==============================] - 4s 172ms/step - loss: 0.5485 - accuracy: 0.7780 - val_loss: 0.3772 - val_accuracy: 0.8916\n",
      "Epoch 84/120\n",
      "24/24 [==============================] - 4s 174ms/step - loss: 0.5396 - accuracy: 0.7772 - val_loss: 0.4106 - val_accuracy: 0.8675\n",
      "Epoch 85/120\n",
      "24/24 [==============================] - 4s 180ms/step - loss: 0.5443 - accuracy: 0.7842 - val_loss: 0.3673 - val_accuracy: 0.8916\n",
      "Epoch 86/120\n",
      "24/24 [==============================] - 4s 170ms/step - loss: 0.5449 - accuracy: 0.7780 - val_loss: 0.3612 - val_accuracy: 0.8916\n",
      "Epoch 87/120\n",
      "24/24 [==============================] - 4s 172ms/step - loss: 0.5192 - accuracy: 0.7858 - val_loss: 0.3481 - val_accuracy: 0.8916\n",
      "Epoch 88/120\n",
      "24/24 [==============================] - 4s 170ms/step - loss: 0.4920 - accuracy: 0.7967 - val_loss: 0.3506 - val_accuracy: 0.8916\n",
      "Epoch 89/120\n",
      "24/24 [==============================] - 4s 169ms/step - loss: 0.5272 - accuracy: 0.7881 - val_loss: 0.3455 - val_accuracy: 0.8916\n",
      "Epoch 90/120\n",
      "24/24 [==============================] - 4s 171ms/step - loss: 0.5167 - accuracy: 0.7933 - val_loss: 0.3420 - val_accuracy: 0.8916\n",
      "Epoch 91/120\n",
      "24/24 [==============================] - 4s 172ms/step - loss: 0.4924 - accuracy: 0.7977 - val_loss: 0.3204 - val_accuracy: 0.8916\n",
      "Epoch 92/120\n",
      "24/24 [==============================] - 4s 170ms/step - loss: 0.4903 - accuracy: 0.7986 - val_loss: 0.3217 - val_accuracy: 0.8916\n",
      "Epoch 93/120\n",
      "24/24 [==============================] - 4s 170ms/step - loss: 0.4644 - accuracy: 0.8087 - val_loss: 0.3071 - val_accuracy: 0.8916\n",
      "Epoch 94/120\n",
      "24/24 [==============================] - 4s 168ms/step - loss: 0.4788 - accuracy: 0.7995 - val_loss: 0.3369 - val_accuracy: 0.8916\n",
      "Epoch 95/120\n",
      "24/24 [==============================] - 4s 178ms/step - loss: 0.4844 - accuracy: 0.7896 - val_loss: 0.3157 - val_accuracy: 0.8916\n",
      "Epoch 96/120\n",
      "24/24 [==============================] - 4s 171ms/step - loss: 0.4936 - accuracy: 0.7899 - val_loss: 0.3661 - val_accuracy: 0.8675\n",
      "Epoch 97/120\n",
      "24/24 [==============================] - 4s 168ms/step - loss: 0.4571 - accuracy: 0.8140 - val_loss: 0.3599 - val_accuracy: 0.8916\n",
      "Epoch 98/120\n",
      "24/24 [==============================] - 4s 168ms/step - loss: 0.4709 - accuracy: 0.7970 - val_loss: 0.3333 - val_accuracy: 0.8916\n",
      "Epoch 99/120\n",
      "24/24 [==============================] - 4s 184ms/step - loss: 0.4889 - accuracy: 0.7957 - val_loss: 0.3101 - val_accuracy: 0.8916\n",
      "Epoch 100/120\n",
      "24/24 [==============================] - 5s 211ms/step - loss: 0.4476 - accuracy: 0.8158 - val_loss: 0.3100 - val_accuracy: 0.8916\n",
      "Epoch 101/120\n",
      "24/24 [==============================] - 4s 186ms/step - loss: 0.4648 - accuracy: 0.8117 - val_loss: 0.3402 - val_accuracy: 0.8916\n",
      "Epoch 102/120\n",
      "24/24 [==============================] - 4s 185ms/step - loss: 0.4329 - accuracy: 0.8216 - val_loss: 0.3009 - val_accuracy: 0.8916\n",
      "Epoch 103/120\n",
      "24/24 [==============================] - 4s 172ms/step - loss: 0.4472 - accuracy: 0.8100 - val_loss: 0.2887 - val_accuracy: 0.8916\n",
      "Epoch 104/120\n",
      "24/24 [==============================] - 5s 188ms/step - loss: 0.4361 - accuracy: 0.8157 - val_loss: 0.3035 - val_accuracy: 0.8916\n",
      "Epoch 105/120\n",
      "24/24 [==============================] - 5s 197ms/step - loss: 0.4462 - accuracy: 0.8246 - val_loss: 0.3483 - val_accuracy: 0.8795\n",
      "Epoch 106/120\n",
      "24/24 [==============================] - 5s 209ms/step - loss: 0.4213 - accuracy: 0.8246 - val_loss: 0.3109 - val_accuracy: 0.8916\n",
      "Epoch 107/120\n",
      "24/24 [==============================] - 4s 182ms/step - loss: 0.4213 - accuracy: 0.8279 - val_loss: 0.2909 - val_accuracy: 0.8916\n",
      "Epoch 108/120\n",
      "24/24 [==============================] - 4s 172ms/step - loss: 0.4211 - accuracy: 0.8344 - val_loss: 0.2959 - val_accuracy: 0.8916\n",
      "Epoch 109/120\n",
      "24/24 [==============================] - 4s 177ms/step - loss: 0.4031 - accuracy: 0.8511 - val_loss: 0.2922 - val_accuracy: 0.8916\n",
      "Epoch 110/120\n",
      "24/24 [==============================] - 4s 176ms/step - loss: 0.4161 - accuracy: 0.8353 - val_loss: 0.2864 - val_accuracy: 0.8916\n",
      "Epoch 111/120\n",
      "24/24 [==============================] - 4s 187ms/step - loss: 0.4362 - accuracy: 0.8263 - val_loss: 0.3186 - val_accuracy: 0.8916\n",
      "Epoch 112/120\n",
      "24/24 [==============================] - 5s 195ms/step - loss: 0.4004 - accuracy: 0.8452 - val_loss: 0.3322 - val_accuracy: 0.8916\n",
      "Epoch 113/120\n",
      "24/24 [==============================] - 5s 207ms/step - loss: 0.4130 - accuracy: 0.8391 - val_loss: 0.3195 - val_accuracy: 0.8916\n",
      "Epoch 114/120\n",
      "24/24 [==============================] - 5s 205ms/step - loss: 0.4076 - accuracy: 0.8399 - val_loss: 0.2819 - val_accuracy: 0.9036\n",
      "Epoch 115/120\n",
      "24/24 [==============================] - 5s 191ms/step - loss: 0.4216 - accuracy: 0.8342 - val_loss: 0.3386 - val_accuracy: 0.8795\n",
      "Epoch 116/120\n",
      "24/24 [==============================] - 5s 190ms/step - loss: 0.4161 - accuracy: 0.8388 - val_loss: 0.2788 - val_accuracy: 0.8916\n",
      "Epoch 117/120\n",
      "24/24 [==============================] - 5s 189ms/step - loss: 0.3908 - accuracy: 0.8557 - val_loss: 0.3274 - val_accuracy: 0.8916\n",
      "Epoch 118/120\n",
      "24/24 [==============================] - 5s 189ms/step - loss: 0.4019 - accuracy: 0.8385 - val_loss: 0.3017 - val_accuracy: 0.9036\n",
      "Epoch 119/120\n",
      "24/24 [==============================] - 4s 167ms/step - loss: 0.3931 - accuracy: 0.8475 - val_loss: 0.2785 - val_accuracy: 0.8916\n",
      "Epoch 120/120\n",
      "24/24 [==============================] - 4s 167ms/step - loss: 0.3800 - accuracy: 0.8593 - val_loss: 0.3050 - val_accuracy: 0.8916\n"
     ]
    },
    {
     "output_type": "execute_result",
     "data": {
      "text/plain": [
       "<tensorflow.python.keras.callbacks.History at 0x1a33db10a90>"
      ]
     },
     "metadata": {},
     "execution_count": 32
    }
   ],
   "source": [
    "model.fit(x=x_train_3d, y=y_train_2d, batch_size=200, epochs=120, validation_data=(x_test_3d, y_test_2d))"
   ]
  },
  {
   "cell_type": "code",
   "execution_count": 33,
   "metadata": {},
   "outputs": [
    {
     "output_type": "execute_result",
     "data": {
      "text/plain": [
       "<AxesSubplot:>"
      ]
     },
     "metadata": {},
     "execution_count": 33
    },
    {
     "output_type": "display_data",
     "data": {
      "text/plain": "<Figure size 432x288 with 1 Axes>",
      "image/svg+xml": "<?xml version=\"1.0\" encoding=\"utf-8\" standalone=\"no\"?>\r\n<!DOCTYPE svg PUBLIC \"-//W3C//DTD SVG 1.1//EN\"\r\n  \"http://www.w3.org/Graphics/SVG/1.1/DTD/svg11.dtd\">\r\n<!-- Created with matplotlib (https://matplotlib.org/) -->\r\n<svg height=\"248.518125pt\" version=\"1.1\" viewBox=\"0 0 372.103125 248.518125\" width=\"372.103125pt\" xmlns=\"http://www.w3.org/2000/svg\" xmlns:xlink=\"http://www.w3.org/1999/xlink\">\r\n <metadata>\r\n  <rdf:RDF xmlns:cc=\"http://creativecommons.org/ns#\" xmlns:dc=\"http://purl.org/dc/elements/1.1/\" xmlns:rdf=\"http://www.w3.org/1999/02/22-rdf-syntax-ns#\">\r\n   <cc:Work>\r\n    <dc:type rdf:resource=\"http://purl.org/dc/dcmitype/StillImage\"/>\r\n    <dc:date>2021-05-14T13:15:38.058626</dc:date>\r\n    <dc:format>image/svg+xml</dc:format>\r\n    <dc:creator>\r\n     <cc:Agent>\r\n      <dc:title>Matplotlib v3.3.4, https://matplotlib.org/</dc:title>\r\n     </cc:Agent>\r\n    </dc:creator>\r\n   </cc:Work>\r\n  </rdf:RDF>\r\n </metadata>\r\n <defs>\r\n  <style type=\"text/css\">*{stroke-linecap:butt;stroke-linejoin:round;}</style>\r\n </defs>\r\n <g id=\"figure_1\">\r\n  <g id=\"patch_1\">\r\n   <path d=\"M 0 248.518125 \r\nL 372.103125 248.518125 \r\nL 372.103125 0 \r\nL 0 0 \r\nz\r\n\" style=\"fill:none;\"/>\r\n  </g>\r\n  <g id=\"axes_1\">\r\n   <g id=\"patch_2\">\r\n    <path d=\"M 30.103125 224.64 \r\nL 364.903125 224.64 \r\nL 364.903125 7.2 \r\nL 30.103125 7.2 \r\nz\r\n\" style=\"fill:#ffffff;\"/>\r\n   </g>\r\n   <g id=\"matplotlib.axis_1\">\r\n    <g id=\"xtick_1\">\r\n     <g id=\"line2d_1\">\r\n      <defs>\r\n       <path d=\"M 0 0 \r\nL 0 3.5 \r\n\" id=\"m21e9b93ed4\" style=\"stroke:#000000;stroke-width:0.8;\"/>\r\n      </defs>\r\n      <g>\r\n       <use style=\"stroke:#000000;stroke-width:0.8;\" x=\"45.321307\" xlink:href=\"#m21e9b93ed4\" y=\"224.64\"/>\r\n      </g>\r\n     </g>\r\n     <g id=\"text_1\">\r\n      <!-- 0 -->\r\n      <g transform=\"translate(42.140057 239.238438)scale(0.1 -0.1)\">\r\n       <defs>\r\n        <path d=\"M 31.78125 66.40625 \r\nQ 24.171875 66.40625 20.328125 58.90625 \r\nQ 16.5 51.421875 16.5 36.375 \r\nQ 16.5 21.390625 20.328125 13.890625 \r\nQ 24.171875 6.390625 31.78125 6.390625 \r\nQ 39.453125 6.390625 43.28125 13.890625 \r\nQ 47.125 21.390625 47.125 36.375 \r\nQ 47.125 51.421875 43.28125 58.90625 \r\nQ 39.453125 66.40625 31.78125 66.40625 \r\nz\r\nM 31.78125 74.21875 \r\nQ 44.046875 74.21875 50.515625 64.515625 \r\nQ 56.984375 54.828125 56.984375 36.375 \r\nQ 56.984375 17.96875 50.515625 8.265625 \r\nQ 44.046875 -1.421875 31.78125 -1.421875 \r\nQ 19.53125 -1.421875 13.0625 8.265625 \r\nQ 6.59375 17.96875 6.59375 36.375 \r\nQ 6.59375 54.828125 13.0625 64.515625 \r\nQ 19.53125 74.21875 31.78125 74.21875 \r\nz\r\n\" id=\"DejaVuSans-48\"/>\r\n       </defs>\r\n       <use xlink:href=\"#DejaVuSans-48\"/>\r\n      </g>\r\n     </g>\r\n    </g>\r\n    <g id=\"xtick_2\">\r\n     <g id=\"line2d_2\">\r\n      <g>\r\n       <use style=\"stroke:#000000;stroke-width:0.8;\" x=\"96.474859\" xlink:href=\"#m21e9b93ed4\" y=\"224.64\"/>\r\n      </g>\r\n     </g>\r\n     <g id=\"text_2\">\r\n      <!-- 20 -->\r\n      <g transform=\"translate(90.112359 239.238438)scale(0.1 -0.1)\">\r\n       <defs>\r\n        <path d=\"M 19.1875 8.296875 \r\nL 53.609375 8.296875 \r\nL 53.609375 0 \r\nL 7.328125 0 \r\nL 7.328125 8.296875 \r\nQ 12.9375 14.109375 22.625 23.890625 \r\nQ 32.328125 33.6875 34.8125 36.53125 \r\nQ 39.546875 41.84375 41.421875 45.53125 \r\nQ 43.3125 49.21875 43.3125 52.78125 \r\nQ 43.3125 58.59375 39.234375 62.25 \r\nQ 35.15625 65.921875 28.609375 65.921875 \r\nQ 23.96875 65.921875 18.8125 64.3125 \r\nQ 13.671875 62.703125 7.8125 59.421875 \r\nL 7.8125 69.390625 \r\nQ 13.765625 71.78125 18.9375 73 \r\nQ 24.125 74.21875 28.421875 74.21875 \r\nQ 39.75 74.21875 46.484375 68.546875 \r\nQ 53.21875 62.890625 53.21875 53.421875 \r\nQ 53.21875 48.921875 51.53125 44.890625 \r\nQ 49.859375 40.875 45.40625 35.40625 \r\nQ 44.1875 33.984375 37.640625 27.21875 \r\nQ 31.109375 20.453125 19.1875 8.296875 \r\nz\r\n\" id=\"DejaVuSans-50\"/>\r\n       </defs>\r\n       <use xlink:href=\"#DejaVuSans-50\"/>\r\n       <use x=\"63.623047\" xlink:href=\"#DejaVuSans-48\"/>\r\n      </g>\r\n     </g>\r\n    </g>\r\n    <g id=\"xtick_3\">\r\n     <g id=\"line2d_3\">\r\n      <g>\r\n       <use style=\"stroke:#000000;stroke-width:0.8;\" x=\"147.628411\" xlink:href=\"#m21e9b93ed4\" y=\"224.64\"/>\r\n      </g>\r\n     </g>\r\n     <g id=\"text_3\">\r\n      <!-- 40 -->\r\n      <g transform=\"translate(141.265911 239.238438)scale(0.1 -0.1)\">\r\n       <defs>\r\n        <path d=\"M 37.796875 64.3125 \r\nL 12.890625 25.390625 \r\nL 37.796875 25.390625 \r\nz\r\nM 35.203125 72.90625 \r\nL 47.609375 72.90625 \r\nL 47.609375 25.390625 \r\nL 58.015625 25.390625 \r\nL 58.015625 17.1875 \r\nL 47.609375 17.1875 \r\nL 47.609375 0 \r\nL 37.796875 0 \r\nL 37.796875 17.1875 \r\nL 4.890625 17.1875 \r\nL 4.890625 26.703125 \r\nz\r\n\" id=\"DejaVuSans-52\"/>\r\n       </defs>\r\n       <use xlink:href=\"#DejaVuSans-52\"/>\r\n       <use x=\"63.623047\" xlink:href=\"#DejaVuSans-48\"/>\r\n      </g>\r\n     </g>\r\n    </g>\r\n    <g id=\"xtick_4\">\r\n     <g id=\"line2d_4\">\r\n      <g>\r\n       <use style=\"stroke:#000000;stroke-width:0.8;\" x=\"198.781964\" xlink:href=\"#m21e9b93ed4\" y=\"224.64\"/>\r\n      </g>\r\n     </g>\r\n     <g id=\"text_4\">\r\n      <!-- 60 -->\r\n      <g transform=\"translate(192.419464 239.238438)scale(0.1 -0.1)\">\r\n       <defs>\r\n        <path d=\"M 33.015625 40.375 \r\nQ 26.375 40.375 22.484375 35.828125 \r\nQ 18.609375 31.296875 18.609375 23.390625 \r\nQ 18.609375 15.53125 22.484375 10.953125 \r\nQ 26.375 6.390625 33.015625 6.390625 \r\nQ 39.65625 6.390625 43.53125 10.953125 \r\nQ 47.40625 15.53125 47.40625 23.390625 \r\nQ 47.40625 31.296875 43.53125 35.828125 \r\nQ 39.65625 40.375 33.015625 40.375 \r\nz\r\nM 52.59375 71.296875 \r\nL 52.59375 62.3125 \r\nQ 48.875 64.0625 45.09375 64.984375 \r\nQ 41.3125 65.921875 37.59375 65.921875 \r\nQ 27.828125 65.921875 22.671875 59.328125 \r\nQ 17.53125 52.734375 16.796875 39.40625 \r\nQ 19.671875 43.65625 24.015625 45.921875 \r\nQ 28.375 48.1875 33.59375 48.1875 \r\nQ 44.578125 48.1875 50.953125 41.515625 \r\nQ 57.328125 34.859375 57.328125 23.390625 \r\nQ 57.328125 12.15625 50.6875 5.359375 \r\nQ 44.046875 -1.421875 33.015625 -1.421875 \r\nQ 20.359375 -1.421875 13.671875 8.265625 \r\nQ 6.984375 17.96875 6.984375 36.375 \r\nQ 6.984375 53.65625 15.1875 63.9375 \r\nQ 23.390625 74.21875 37.203125 74.21875 \r\nQ 40.921875 74.21875 44.703125 73.484375 \r\nQ 48.484375 72.75 52.59375 71.296875 \r\nz\r\n\" id=\"DejaVuSans-54\"/>\r\n       </defs>\r\n       <use xlink:href=\"#DejaVuSans-54\"/>\r\n       <use x=\"63.623047\" xlink:href=\"#DejaVuSans-48\"/>\r\n      </g>\r\n     </g>\r\n    </g>\r\n    <g id=\"xtick_5\">\r\n     <g id=\"line2d_5\">\r\n      <g>\r\n       <use style=\"stroke:#000000;stroke-width:0.8;\" x=\"249.935516\" xlink:href=\"#m21e9b93ed4\" y=\"224.64\"/>\r\n      </g>\r\n     </g>\r\n     <g id=\"text_5\">\r\n      <!-- 80 -->\r\n      <g transform=\"translate(243.573016 239.238438)scale(0.1 -0.1)\">\r\n       <defs>\r\n        <path d=\"M 31.78125 34.625 \r\nQ 24.75 34.625 20.71875 30.859375 \r\nQ 16.703125 27.09375 16.703125 20.515625 \r\nQ 16.703125 13.921875 20.71875 10.15625 \r\nQ 24.75 6.390625 31.78125 6.390625 \r\nQ 38.8125 6.390625 42.859375 10.171875 \r\nQ 46.921875 13.96875 46.921875 20.515625 \r\nQ 46.921875 27.09375 42.890625 30.859375 \r\nQ 38.875 34.625 31.78125 34.625 \r\nz\r\nM 21.921875 38.8125 \r\nQ 15.578125 40.375 12.03125 44.71875 \r\nQ 8.5 49.078125 8.5 55.328125 \r\nQ 8.5 64.0625 14.71875 69.140625 \r\nQ 20.953125 74.21875 31.78125 74.21875 \r\nQ 42.671875 74.21875 48.875 69.140625 \r\nQ 55.078125 64.0625 55.078125 55.328125 \r\nQ 55.078125 49.078125 51.53125 44.71875 \r\nQ 48 40.375 41.703125 38.8125 \r\nQ 48.828125 37.15625 52.796875 32.3125 \r\nQ 56.78125 27.484375 56.78125 20.515625 \r\nQ 56.78125 9.90625 50.3125 4.234375 \r\nQ 43.84375 -1.421875 31.78125 -1.421875 \r\nQ 19.734375 -1.421875 13.25 4.234375 \r\nQ 6.78125 9.90625 6.78125 20.515625 \r\nQ 6.78125 27.484375 10.78125 32.3125 \r\nQ 14.796875 37.15625 21.921875 38.8125 \r\nz\r\nM 18.3125 54.390625 \r\nQ 18.3125 48.734375 21.84375 45.5625 \r\nQ 25.390625 42.390625 31.78125 42.390625 \r\nQ 38.140625 42.390625 41.71875 45.5625 \r\nQ 45.3125 48.734375 45.3125 54.390625 \r\nQ 45.3125 60.0625 41.71875 63.234375 \r\nQ 38.140625 66.40625 31.78125 66.40625 \r\nQ 25.390625 66.40625 21.84375 63.234375 \r\nQ 18.3125 60.0625 18.3125 54.390625 \r\nz\r\n\" id=\"DejaVuSans-56\"/>\r\n       </defs>\r\n       <use xlink:href=\"#DejaVuSans-56\"/>\r\n       <use x=\"63.623047\" xlink:href=\"#DejaVuSans-48\"/>\r\n      </g>\r\n     </g>\r\n    </g>\r\n    <g id=\"xtick_6\">\r\n     <g id=\"line2d_6\">\r\n      <g>\r\n       <use style=\"stroke:#000000;stroke-width:0.8;\" x=\"301.089068\" xlink:href=\"#m21e9b93ed4\" y=\"224.64\"/>\r\n      </g>\r\n     </g>\r\n     <g id=\"text_6\">\r\n      <!-- 100 -->\r\n      <g transform=\"translate(291.545318 239.238438)scale(0.1 -0.1)\">\r\n       <defs>\r\n        <path d=\"M 12.40625 8.296875 \r\nL 28.515625 8.296875 \r\nL 28.515625 63.921875 \r\nL 10.984375 60.40625 \r\nL 10.984375 69.390625 \r\nL 28.421875 72.90625 \r\nL 38.28125 72.90625 \r\nL 38.28125 8.296875 \r\nL 54.390625 8.296875 \r\nL 54.390625 0 \r\nL 12.40625 0 \r\nz\r\n\" id=\"DejaVuSans-49\"/>\r\n       </defs>\r\n       <use xlink:href=\"#DejaVuSans-49\"/>\r\n       <use x=\"63.623047\" xlink:href=\"#DejaVuSans-48\"/>\r\n       <use x=\"127.246094\" xlink:href=\"#DejaVuSans-48\"/>\r\n      </g>\r\n     </g>\r\n    </g>\r\n    <g id=\"xtick_7\">\r\n     <g id=\"line2d_7\">\r\n      <g>\r\n       <use style=\"stroke:#000000;stroke-width:0.8;\" x=\"352.242621\" xlink:href=\"#m21e9b93ed4\" y=\"224.64\"/>\r\n      </g>\r\n     </g>\r\n     <g id=\"text_7\">\r\n      <!-- 120 -->\r\n      <g transform=\"translate(342.698871 239.238438)scale(0.1 -0.1)\">\r\n       <use xlink:href=\"#DejaVuSans-49\"/>\r\n       <use x=\"63.623047\" xlink:href=\"#DejaVuSans-50\"/>\r\n       <use x=\"127.246094\" xlink:href=\"#DejaVuSans-48\"/>\r\n      </g>\r\n     </g>\r\n    </g>\r\n   </g>\r\n   <g id=\"matplotlib.axis_2\">\r\n    <g id=\"ytick_1\">\r\n     <g id=\"line2d_8\">\r\n      <defs>\r\n       <path d=\"M 0 0 \r\nL -3.5 0 \r\n\" id=\"mbf37e75ad8\" style=\"stroke:#000000;stroke-width:0.8;\"/>\r\n      </defs>\r\n      <g>\r\n       <use style=\"stroke:#000000;stroke-width:0.8;\" x=\"30.103125\" xlink:href=\"#mbf37e75ad8\" y=\"218.040165\"/>\r\n      </g>\r\n     </g>\r\n     <g id=\"text_8\">\r\n      <!-- 0.0 -->\r\n      <g transform=\"translate(7.2 221.839384)scale(0.1 -0.1)\">\r\n       <defs>\r\n        <path d=\"M 10.6875 12.40625 \r\nL 21 12.40625 \r\nL 21 0 \r\nL 10.6875 0 \r\nz\r\n\" id=\"DejaVuSans-46\"/>\r\n       </defs>\r\n       <use xlink:href=\"#DejaVuSans-48\"/>\r\n       <use x=\"63.623047\" xlink:href=\"#DejaVuSans-46\"/>\r\n       <use x=\"95.410156\" xlink:href=\"#DejaVuSans-48\"/>\r\n      </g>\r\n     </g>\r\n    </g>\r\n    <g id=\"ytick_2\">\r\n     <g id=\"line2d_9\">\r\n      <g>\r\n       <use style=\"stroke:#000000;stroke-width:0.8;\" x=\"30.103125\" xlink:href=\"#mbf37e75ad8\" y=\"172.614245\"/>\r\n      </g>\r\n     </g>\r\n     <g id=\"text_9\">\r\n      <!-- 0.5 -->\r\n      <g transform=\"translate(7.2 176.413463)scale(0.1 -0.1)\">\r\n       <defs>\r\n        <path d=\"M 10.796875 72.90625 \r\nL 49.515625 72.90625 \r\nL 49.515625 64.59375 \r\nL 19.828125 64.59375 \r\nL 19.828125 46.734375 \r\nQ 21.96875 47.46875 24.109375 47.828125 \r\nQ 26.265625 48.1875 28.421875 48.1875 \r\nQ 40.625 48.1875 47.75 41.5 \r\nQ 54.890625 34.8125 54.890625 23.390625 \r\nQ 54.890625 11.625 47.5625 5.09375 \r\nQ 40.234375 -1.421875 26.90625 -1.421875 \r\nQ 22.3125 -1.421875 17.546875 -0.640625 \r\nQ 12.796875 0.140625 7.71875 1.703125 \r\nL 7.71875 11.625 \r\nQ 12.109375 9.234375 16.796875 8.0625 \r\nQ 21.484375 6.890625 26.703125 6.890625 \r\nQ 35.15625 6.890625 40.078125 11.328125 \r\nQ 45.015625 15.765625 45.015625 23.390625 \r\nQ 45.015625 31 40.078125 35.4375 \r\nQ 35.15625 39.890625 26.703125 39.890625 \r\nQ 22.75 39.890625 18.8125 39.015625 \r\nQ 14.890625 38.140625 10.796875 36.28125 \r\nz\r\n\" id=\"DejaVuSans-53\"/>\r\n       </defs>\r\n       <use xlink:href=\"#DejaVuSans-48\"/>\r\n       <use x=\"63.623047\" xlink:href=\"#DejaVuSans-46\"/>\r\n       <use x=\"95.410156\" xlink:href=\"#DejaVuSans-53\"/>\r\n      </g>\r\n     </g>\r\n    </g>\r\n    <g id=\"ytick_3\">\r\n     <g id=\"line2d_10\">\r\n      <g>\r\n       <use style=\"stroke:#000000;stroke-width:0.8;\" x=\"30.103125\" xlink:href=\"#mbf37e75ad8\" y=\"127.188324\"/>\r\n      </g>\r\n     </g>\r\n     <g id=\"text_10\">\r\n      <!-- 1.0 -->\r\n      <g transform=\"translate(7.2 130.987543)scale(0.1 -0.1)\">\r\n       <use xlink:href=\"#DejaVuSans-49\"/>\r\n       <use x=\"63.623047\" xlink:href=\"#DejaVuSans-46\"/>\r\n       <use x=\"95.410156\" xlink:href=\"#DejaVuSans-48\"/>\r\n      </g>\r\n     </g>\r\n    </g>\r\n    <g id=\"ytick_4\">\r\n     <g id=\"line2d_11\">\r\n      <g>\r\n       <use style=\"stroke:#000000;stroke-width:0.8;\" x=\"30.103125\" xlink:href=\"#mbf37e75ad8\" y=\"81.762404\"/>\r\n      </g>\r\n     </g>\r\n     <g id=\"text_11\">\r\n      <!-- 1.5 -->\r\n      <g transform=\"translate(7.2 85.561623)scale(0.1 -0.1)\">\r\n       <use xlink:href=\"#DejaVuSans-49\"/>\r\n       <use x=\"63.623047\" xlink:href=\"#DejaVuSans-46\"/>\r\n       <use x=\"95.410156\" xlink:href=\"#DejaVuSans-53\"/>\r\n      </g>\r\n     </g>\r\n    </g>\r\n    <g id=\"ytick_5\">\r\n     <g id=\"line2d_12\">\r\n      <g>\r\n       <use style=\"stroke:#000000;stroke-width:0.8;\" x=\"30.103125\" xlink:href=\"#mbf37e75ad8\" y=\"36.336484\"/>\r\n      </g>\r\n     </g>\r\n     <g id=\"text_12\">\r\n      <!-- 2.0 -->\r\n      <g transform=\"translate(7.2 40.135703)scale(0.1 -0.1)\">\r\n       <use xlink:href=\"#DejaVuSans-50\"/>\r\n       <use x=\"63.623047\" xlink:href=\"#DejaVuSans-46\"/>\r\n       <use x=\"95.410156\" xlink:href=\"#DejaVuSans-48\"/>\r\n      </g>\r\n     </g>\r\n    </g>\r\n   </g>\r\n   <g id=\"line2d_13\">\r\n    <path clip-path=\"url(#p934415bfc1)\" d=\"M 45.321307 17.083636 \r\nL 47.878984 17.867648 \r\nL 50.436662 18.486149 \r\nL 52.99434 18.388481 \r\nL 55.552017 18.503478 \r\nL 58.109695 18.783812 \r\nL 60.667373 18.641219 \r\nL 63.22505 19.092824 \r\nL 65.782728 19.192182 \r\nL 68.340405 19.697051 \r\nL 70.898083 20.271755 \r\nL 73.455761 20.999925 \r\nL 76.013438 22.698215 \r\nL 78.571116 24.130144 \r\nL 81.128793 26.07853 \r\nL 83.686471 28.560485 \r\nL 86.244149 32.221545 \r\nL 88.801826 35.155691 \r\nL 91.359504 38.736291 \r\nL 93.917182 41.798127 \r\nL 96.474859 45.72778 \r\nL 99.032537 48.773067 \r\nL 101.590214 52.004951 \r\nL 104.147892 54.112533 \r\nL 106.70557 56.496062 \r\nL 109.263247 59.270665 \r\nL 111.820925 59.970774 \r\nL 114.378602 62.111323 \r\nL 116.93628 63.397421 \r\nL 119.493958 66.343978 \r\nL 122.051635 67.689003 \r\nL 124.609313 70.31966 \r\nL 127.166991 73.224791 \r\nL 129.724668 75.724162 \r\nL 132.282346 79.788437 \r\nL 134.840023 83.115152 \r\nL 137.397701 85.845405 \r\nL 139.955379 89.40363 \r\nL 142.513056 92.398664 \r\nL 145.070734 96.348191 \r\nL 147.628411 99.987947 \r\nL 150.186089 103.206726 \r\nL 152.743767 106.737171 \r\nL 155.301444 109.631168 \r\nL 157.859122 111.455579 \r\nL 160.4168 115.380846 \r\nL 162.974477 118.928554 \r\nL 165.532155 120.087059 \r\nL 168.089832 123.194252 \r\nL 170.64751 126.695856 \r\nL 173.205188 126.25168 \r\nL 175.762865 127.951861 \r\nL 178.320543 131.049811 \r\nL 180.87822 133.591068 \r\nL 183.435898 134.59726 \r\nL 185.993576 136.72563 \r\nL 188.551253 136.276067 \r\nL 191.108931 138.850741 \r\nL 193.666609 140.840694 \r\nL 196.224286 143.737854 \r\nL 198.781964 144.55942 \r\nL 201.339641 145.484643 \r\nL 203.897319 146.717049 \r\nL 206.454997 150.185728 \r\nL 209.012674 150.040596 \r\nL 211.570352 151.516658 \r\nL 214.12803 151.779847 \r\nL 216.685707 153.105356 \r\nL 219.243385 156.453147 \r\nL 221.801062 155.431847 \r\nL 224.35874 157.507945 \r\nL 226.916418 158.397542 \r\nL 229.474095 159.626481 \r\nL 232.031773 161.293559 \r\nL 234.58945 160.580914 \r\nL 237.147128 161.830042 \r\nL 239.704806 162.881716 \r\nL 242.262483 162.200387 \r\nL 244.820161 165.623638 \r\nL 247.377839 165.011982 \r\nL 249.935516 165.902196 \r\nL 252.493194 165.899992 \r\nL 255.050871 168.433841 \r\nL 257.608549 169.159715 \r\nL 260.166227 168.816175 \r\nL 262.723904 169.137605 \r\nL 265.281582 171.294611 \r\nL 267.839259 173.061753 \r\nL 270.396937 170.214687 \r\nL 272.954615 172.596878 \r\nL 275.512292 172.835203 \r\nL 278.06997 173.724224 \r\nL 280.627648 174.595214 \r\nL 283.185325 174.38511 \r\nL 285.743003 174.724707 \r\nL 288.30068 174.219521 \r\nL 290.858358 176.902169 \r\nL 293.416036 175.540403 \r\nL 295.973713 174.200541 \r\nL 298.531391 176.631383 \r\nL 301.089068 176.887844 \r\nL 303.646746 179.619467 \r\nL 306.204424 177.363246 \r\nL 308.762101 178.865187 \r\nL 311.319779 178.260118 \r\nL 313.877457 180.553105 \r\nL 316.435134 179.775449 \r\nL 318.992812 180.254241 \r\nL 321.550489 179.950486 \r\nL 324.108167 180.647698 \r\nL 326.665845 179.852669 \r\nL 329.223522 180.687941 \r\nL 331.7812 181.72427 \r\nL 334.338877 180.679872 \r\nL 336.896555 180.059459 \r\nL 339.454233 180.912 \r\nL 342.01191 182.808795 \r\nL 344.569588 182.540889 \r\nL 347.127266 183.083586 \r\nL 349.684943 182.354799 \r\n\" style=\"fill:none;stroke:#1f77b4;stroke-linecap:square;stroke-width:1.5;\"/>\r\n   </g>\r\n   <g id=\"line2d_14\">\r\n    <path clip-path=\"url(#p934415bfc1)\" d=\"M 45.321307 208.234613 \r\nL 47.878984 207.322017 \r\nL 50.436662 207.341434 \r\nL 52.99434 207.729772 \r\nL 55.552017 207.3026 \r\nL 58.109695 207.826857 \r\nL 60.667373 208.098694 \r\nL 63.22505 207.457935 \r\nL 65.782728 206.739509 \r\nL 68.340405 205.749245 \r\nL 70.898083 205.768662 \r\nL 73.455761 204.079388 \r\nL 76.013438 202.351281 \r\nL 78.571116 200.429004 \r\nL 81.128793 199.904748 \r\nL 83.686471 199.302822 \r\nL 86.244149 198.312558 \r\nL 88.801826 197.28346 \r\nL 91.359504 197.166959 \r\nL 93.917182 197.069874 \r\nL 96.474859 196.46795 \r\nL 99.032537 196.021361 \r\nL 101.590214 194.914594 \r\nL 104.147892 195.341768 \r\nL 106.70557 193.982583 \r\nL 109.263247 191.84672 \r\nL 111.820925 193.011737 \r\nL 114.378602 192.448643 \r\nL 116.93628 192.137974 \r\nL 119.493958 190.642869 \r\nL 122.051635 191.613715 \r\nL 124.609313 190.273948 \r\nL 127.166991 186.7789 \r\nL 129.724668 186.060472 \r\nL 132.282346 183.167349 \r\nL 134.840023 181.070321 \r\nL 137.397701 179.924721 \r\nL 139.955379 177.381103 \r\nL 142.513056 176.021917 \r\nL 145.070734 174.157891 \r\nL 147.628411 172.313285 \r\nL 150.186089 171.070601 \r\nL 152.743767 169.78908 \r\nL 155.301444 168.352229 \r\nL 157.859122 167.730884 \r\nL 160.4168 166.585284 \r\nL 162.974477 165.400852 \r\nL 165.532155 165.633857 \r\nL 168.089832 164.682424 \r\nL 170.64751 162.235894 \r\nL 173.205188 162.546564 \r\nL 175.762865 162.83782 \r\nL 178.320543 161.381545 \r\nL 180.87822 161.090294 \r\nL 183.435898 160.177699 \r\nL 185.993576 159.187434 \r\nL 188.551253 160.294202 \r\nL 191.108931 158.799094 \r\nL 193.666609 159.206853 \r\nL 196.224286 158.080666 \r\nL 198.781964 157.226322 \r\nL 201.339641 157.420495 \r\nL 203.897319 156.003058 \r\nL 206.454997 154.372034 \r\nL 209.012674 155.265211 \r\nL 211.570352 154.255532 \r\nL 214.12803 154.022527 \r\nL 216.685707 153.964276 \r\nL 219.243385 151.770165 \r\nL 221.801062 152.76043 \r\nL 224.35874 152.042002 \r\nL 226.916418 150.974072 \r\nL 229.474095 150.313895 \r\nL 232.031773 149.809053 \r\nL 234.58945 151.032323 \r\nL 237.147128 149.867304 \r\nL 239.704806 149.925555 \r\nL 242.262483 150.08089 \r\nL 244.820161 148.042114 \r\nL 247.377839 148.915877 \r\nL 249.935516 148.605202 \r\nL 252.493194 148.139197 \r\nL 255.050871 147.148932 \r\nL 257.608549 147.226602 \r\nL 260.166227 147.129519 \r\nL 262.723904 147.284854 \r\nL 265.281582 146.275169 \r\nL 267.839259 145.459663 \r\nL 270.396937 146.760598 \r\nL 272.954615 145.207239 \r\nL 275.512292 145.770333 \r\nL 278.06997 145.459663 \r\nL 280.627648 144.954821 \r\nL 283.185325 145.381993 \r\nL 285.743003 145.65383 \r\nL 288.30068 145.498495 \r\nL 290.858358 144.061639 \r\nL 293.416036 145.304323 \r\nL 295.973713 145.265491 \r\nL 298.531391 144.702403 \r\nL 301.089068 143.770389 \r\nL 303.646746 142.566537 \r\nL 306.204424 144.275225 \r\nL 308.762101 143.36263 \r\nL 311.319779 142.857794 \r\nL 313.877457 142.469454 \r\nL 316.435134 142.275281 \r\nL 318.992812 141.886947 \r\nL 321.550489 142.236449 \r\nL 324.108167 142.042282 \r\nL 326.665845 142.450035 \r\nL 329.223522 141.673356 \r\nL 331.7812 141.1491 \r\nL 334.338877 141.828696 \r\nL 336.896555 141.731607 \r\nL 339.454233 141.576272 \r\nL 342.01191 140.624845 \r\nL 344.569588 141.032598 \r\nL 347.127266 140.702509 \r\nL 349.684943 140.683096 \r\n\" style=\"fill:none;stroke:#ff7f0e;stroke-linecap:square;stroke-width:1.5;\"/>\r\n   </g>\r\n   <g id=\"line2d_15\">\r\n    <path clip-path=\"url(#p934415bfc1)\" d=\"M 45.321307 17.815835 \r\nL 47.878984 18.28022 \r\nL 50.436662 18.357744 \r\nL 52.99434 18.513918 \r\nL 55.552017 18.602663 \r\nL 58.109695 18.440683 \r\nL 60.667373 18.589623 \r\nL 63.22505 19.117236 \r\nL 65.782728 19.147777 \r\nL 68.340405 19.562538 \r\nL 70.898083 19.943161 \r\nL 73.455761 20.61954 \r\nL 76.013438 22.042631 \r\nL 78.571116 23.411396 \r\nL 81.128793 25.487559 \r\nL 83.686471 29.140279 \r\nL 86.244149 30.250523 \r\nL 88.801826 36.101725 \r\nL 91.359504 37.312616 \r\nL 93.917182 43.585855 \r\nL 96.474859 48.249234 \r\nL 99.032537 52.045608 \r\nL 101.590214 55.300496 \r\nL 104.147892 58.263884 \r\nL 106.70557 59.866586 \r\nL 109.263247 63.637292 \r\nL 111.820925 66.116378 \r\nL 114.378602 68.450726 \r\nL 116.93628 68.765879 \r\nL 119.493958 74.310862 \r\nL 122.051635 77.576829 \r\nL 124.609313 80.995776 \r\nL 127.166991 84.78694 \r\nL 129.724668 88.208194 \r\nL 132.282346 92.98032 \r\nL 134.840023 97.651378 \r\nL 137.397701 97.716664 \r\nL 139.955379 105.52824 \r\nL 142.513056 110.384194 \r\nL 145.070734 114.740575 \r\nL 147.628411 121.65049 \r\nL 150.186089 123.270726 \r\nL 152.743767 130.411062 \r\nL 155.301444 130.169382 \r\nL 157.859122 135.205754 \r\nL 160.4168 138.58459 \r\nL 162.974477 142.47416 \r\nL 165.532155 142.796277 \r\nL 168.089832 145.749842 \r\nL 170.64751 150.860477 \r\nL 173.205188 149.004854 \r\nL 175.762865 155.012505 \r\nL 178.320543 154.24957 \r\nL 180.87822 158.025161 \r\nL 183.435898 158.929622 \r\nL 185.993576 159.335632 \r\nL 188.551253 161.621649 \r\nL 191.108931 164.556234 \r\nL 193.666609 162.695991 \r\nL 196.224286 165.941575 \r\nL 198.781964 167.894142 \r\nL 201.339641 165.58218 \r\nL 203.897319 169.316664 \r\nL 206.454997 169.035242 \r\nL 209.012674 174.3499 \r\nL 211.570352 173.92653 \r\nL 214.12803 174.835001 \r\nL 216.685707 176.986338 \r\nL 219.243385 176.448068 \r\nL 221.801062 176.84378 \r\nL 224.35874 178.29125 \r\nL 226.916418 179.894943 \r\nL 229.474095 181.073381 \r\nL 232.031773 178.730165 \r\nL 234.58945 181.318001 \r\nL 237.147128 180.994286 \r\nL 239.704806 182.409985 \r\nL 242.262483 181.59182 \r\nL 244.820161 183.52392 \r\nL 247.377839 182.950754 \r\nL 249.935516 183.257371 \r\nL 252.493194 184.808463 \r\nL 255.050871 183.767929 \r\nL 257.608549 180.740138 \r\nL 260.166227 184.666401 \r\nL 262.723904 185.225027 \r\nL 265.281582 186.410975 \r\nL 267.839259 186.185197 \r\nL 270.396937 186.650126 \r\nL 272.954615 186.969152 \r\nL 275.512292 188.930079 \r\nL 278.06997 188.810008 \r\nL 280.627648 190.142004 \r\nL 283.185325 187.429676 \r\nL 285.743003 189.354914 \r\nL 288.30068 184.776524 \r\nL 290.858358 185.339182 \r\nL 293.416036 187.76284 \r\nL 295.973713 189.866098 \r\nL 298.531391 189.878832 \r\nL 301.089068 187.130849 \r\nL 303.646746 190.704673 \r\nL 306.204424 191.807931 \r\nL 308.762101 190.463615 \r\nL 311.319779 186.396243 \r\nL 313.877457 189.796645 \r\nL 316.435134 191.609029 \r\nL 318.992812 191.153232 \r\nL 321.550489 191.49183 \r\nL 324.108167 192.017743 \r\nL 326.665845 189.093104 \r\nL 329.223522 187.859379 \r\nL 331.7812 189.008478 \r\nL 334.338877 192.432625 \r\nL 336.896555 187.279006 \r\nL 339.454233 192.706526 \r\nL 342.01191 188.293288 \r\nL 344.569588 190.633872 \r\nL 347.127266 192.740029 \r\nL 349.684943 190.332519 \r\n\" style=\"fill:none;stroke:#2ca02c;stroke-linecap:square;stroke-width:1.5;\"/>\r\n   </g>\r\n   <g id=\"line2d_16\">\r\n    <path clip-path=\"url(#p934415bfc1)\" d=\"M 45.321307 207.09416 \r\nL 47.878984 212.567162 \r\nL 50.436662 211.472562 \r\nL 52.99434 209.283361 \r\nL 55.552017 208.18876 \r\nL 58.109695 214.756364 \r\nL 60.667373 212.567162 \r\nL 63.22505 204.90496 \r\nL 65.782728 203.810358 \r\nL 68.340405 196.148155 \r\nL 70.898083 210.377962 \r\nL 73.455761 205.999559 \r\nL 76.013438 198.337356 \r\nL 78.571116 192.864354 \r\nL 81.128793 196.148155 \r\nL 83.686471 183.012951 \r\nL 86.244149 196.148155 \r\nL 88.801826 183.012951 \r\nL 91.359504 187.391352 \r\nL 93.917182 186.29675 \r\nL 96.474859 192.864354 \r\nL 99.032537 195.053554 \r\nL 101.590214 200.526558 \r\nL 104.147892 199.431957 \r\nL 106.70557 200.526558 \r\nL 109.263247 200.526558 \r\nL 111.820925 189.580552 \r\nL 114.378602 190.675152 \r\nL 116.93628 189.580552 \r\nL 119.493958 178.634546 \r\nL 122.051635 183.012951 \r\nL 124.609313 172.066942 \r\nL 127.166991 170.972342 \r\nL 129.724668 162.215539 \r\nL 132.282346 158.931739 \r\nL 134.840023 157.83714 \r\nL 137.397701 161.120939 \r\nL 139.955379 140.323533 \r\nL 142.513056 146.891131 \r\nL 145.070734 146.891131 \r\nL 147.628411 146.891131 \r\nL 150.186089 146.891131 \r\nL 152.743767 146.891131 \r\nL 155.301444 146.891131 \r\nL 157.859122 146.891131 \r\nL 160.4168 146.891131 \r\nL 162.974477 146.891131 \r\nL 165.532155 146.891131 \r\nL 168.089832 146.891131 \r\nL 170.64751 146.891131 \r\nL 173.205188 146.891131 \r\nL 175.762865 146.891131 \r\nL 178.320543 146.891131 \r\nL 180.87822 146.891131 \r\nL 183.435898 146.891131 \r\nL 185.993576 146.891131 \r\nL 188.551253 146.891131 \r\nL 191.108931 145.796531 \r\nL 193.666609 146.891131 \r\nL 196.224286 145.796531 \r\nL 198.781964 146.891131 \r\nL 201.339641 149.080336 \r\nL 203.897319 146.891131 \r\nL 206.454997 147.985736 \r\nL 209.012674 146.891131 \r\nL 211.570352 138.134328 \r\nL 214.12803 137.039728 \r\nL 216.685707 137.039728 \r\nL 219.243385 138.134328 \r\nL 221.801062 137.039728 \r\nL 224.35874 137.039728 \r\nL 226.916418 137.039728 \r\nL 229.474095 137.039728 \r\nL 232.031773 137.039728 \r\nL 234.58945 137.039728 \r\nL 237.147128 137.039728 \r\nL 239.704806 137.039728 \r\nL 242.262483 137.039728 \r\nL 244.820161 137.039728 \r\nL 247.377839 137.039728 \r\nL 249.935516 137.039728 \r\nL 252.493194 137.039728 \r\nL 255.050871 137.039728 \r\nL 257.608549 139.228927 \r\nL 260.166227 137.039728 \r\nL 262.723904 137.039728 \r\nL 265.281582 137.039728 \r\nL 267.839259 137.039728 \r\nL 270.396937 137.039728 \r\nL 272.954615 137.039728 \r\nL 275.512292 137.039728 \r\nL 278.06997 137.039728 \r\nL 280.627648 137.039728 \r\nL 283.185325 137.039728 \r\nL 285.743003 137.039728 \r\nL 288.30068 139.228927 \r\nL 290.858358 137.039728 \r\nL 293.416036 137.039728 \r\nL 295.973713 137.039728 \r\nL 298.531391 137.039728 \r\nL 301.089068 137.039728 \r\nL 303.646746 137.039728 \r\nL 306.204424 137.039728 \r\nL 308.762101 137.039728 \r\nL 311.319779 138.134328 \r\nL 313.877457 137.039728 \r\nL 316.435134 137.039728 \r\nL 318.992812 137.039728 \r\nL 321.550489 137.039728 \r\nL 324.108167 137.039728 \r\nL 326.665845 137.039728 \r\nL 329.223522 137.039728 \r\nL 331.7812 137.039728 \r\nL 334.338877 135.945128 \r\nL 336.896555 138.134328 \r\nL 339.454233 137.039728 \r\nL 342.01191 137.039728 \r\nL 344.569588 135.945128 \r\nL 347.127266 137.039728 \r\nL 349.684943 137.039728 \r\n\" style=\"fill:none;stroke:#d62728;stroke-linecap:square;stroke-width:1.5;\"/>\r\n   </g>\r\n   <g id=\"patch_3\">\r\n    <path d=\"M 30.103125 224.64 \r\nL 30.103125 7.2 \r\n\" style=\"fill:none;stroke:#000000;stroke-linecap:square;stroke-linejoin:miter;stroke-width:0.8;\"/>\r\n   </g>\r\n   <g id=\"patch_4\">\r\n    <path d=\"M 364.903125 224.64 \r\nL 364.903125 7.2 \r\n\" style=\"fill:none;stroke:#000000;stroke-linecap:square;stroke-linejoin:miter;stroke-width:0.8;\"/>\r\n   </g>\r\n   <g id=\"patch_5\">\r\n    <path d=\"M 30.103125 224.64 \r\nL 364.903125 224.64 \r\n\" style=\"fill:none;stroke:#000000;stroke-linecap:square;stroke-linejoin:miter;stroke-width:0.8;\"/>\r\n   </g>\r\n   <g id=\"patch_6\">\r\n    <path d=\"M 30.103125 7.2 \r\nL 364.903125 7.2 \r\n\" style=\"fill:none;stroke:#000000;stroke-linecap:square;stroke-linejoin:miter;stroke-width:0.8;\"/>\r\n   </g>\r\n   <g id=\"legend_1\">\r\n    <g id=\"patch_7\">\r\n     <path d=\"M 260.959375 74.46875 \r\nL 357.903125 74.46875 \r\nQ 359.903125 74.46875 359.903125 72.46875 \r\nL 359.903125 14.2 \r\nQ 359.903125 12.2 357.903125 12.2 \r\nL 260.959375 12.2 \r\nQ 258.959375 12.2 258.959375 14.2 \r\nL 258.959375 72.46875 \r\nQ 258.959375 74.46875 260.959375 74.46875 \r\nz\r\n\" style=\"fill:#ffffff;opacity:0.8;stroke:#cccccc;stroke-linejoin:miter;\"/>\r\n    </g>\r\n    <g id=\"line2d_17\">\r\n     <path d=\"M 262.959375 20.298438 \r\nL 282.959375 20.298438 \r\n\" style=\"fill:none;stroke:#1f77b4;stroke-linecap:square;stroke-width:1.5;\"/>\r\n    </g>\r\n    <g id=\"line2d_18\"/>\r\n    <g id=\"text_13\">\r\n     <!-- loss -->\r\n     <g transform=\"translate(290.959375 23.798438)scale(0.1 -0.1)\">\r\n      <defs>\r\n       <path d=\"M 9.421875 75.984375 \r\nL 18.40625 75.984375 \r\nL 18.40625 0 \r\nL 9.421875 0 \r\nz\r\n\" id=\"DejaVuSans-108\"/>\r\n       <path d=\"M 30.609375 48.390625 \r\nQ 23.390625 48.390625 19.1875 42.75 \r\nQ 14.984375 37.109375 14.984375 27.296875 \r\nQ 14.984375 17.484375 19.15625 11.84375 \r\nQ 23.34375 6.203125 30.609375 6.203125 \r\nQ 37.796875 6.203125 41.984375 11.859375 \r\nQ 46.1875 17.53125 46.1875 27.296875 \r\nQ 46.1875 37.015625 41.984375 42.703125 \r\nQ 37.796875 48.390625 30.609375 48.390625 \r\nz\r\nM 30.609375 56 \r\nQ 42.328125 56 49.015625 48.375 \r\nQ 55.71875 40.765625 55.71875 27.296875 \r\nQ 55.71875 13.875 49.015625 6.21875 \r\nQ 42.328125 -1.421875 30.609375 -1.421875 \r\nQ 18.84375 -1.421875 12.171875 6.21875 \r\nQ 5.515625 13.875 5.515625 27.296875 \r\nQ 5.515625 40.765625 12.171875 48.375 \r\nQ 18.84375 56 30.609375 56 \r\nz\r\n\" id=\"DejaVuSans-111\"/>\r\n       <path d=\"M 44.28125 53.078125 \r\nL 44.28125 44.578125 \r\nQ 40.484375 46.53125 36.375 47.5 \r\nQ 32.28125 48.484375 27.875 48.484375 \r\nQ 21.1875 48.484375 17.84375 46.4375 \r\nQ 14.5 44.390625 14.5 40.28125 \r\nQ 14.5 37.15625 16.890625 35.375 \r\nQ 19.28125 33.59375 26.515625 31.984375 \r\nL 29.59375 31.296875 \r\nQ 39.15625 29.25 43.1875 25.515625 \r\nQ 47.21875 21.78125 47.21875 15.09375 \r\nQ 47.21875 7.46875 41.1875 3.015625 \r\nQ 35.15625 -1.421875 24.609375 -1.421875 \r\nQ 20.21875 -1.421875 15.453125 -0.5625 \r\nQ 10.6875 0.296875 5.421875 2 \r\nL 5.421875 11.28125 \r\nQ 10.40625 8.6875 15.234375 7.390625 \r\nQ 20.0625 6.109375 24.8125 6.109375 \r\nQ 31.15625 6.109375 34.5625 8.28125 \r\nQ 37.984375 10.453125 37.984375 14.40625 \r\nQ 37.984375 18.0625 35.515625 20.015625 \r\nQ 33.0625 21.96875 24.703125 23.78125 \r\nL 21.578125 24.515625 \r\nQ 13.234375 26.265625 9.515625 29.90625 \r\nQ 5.8125 33.546875 5.8125 39.890625 \r\nQ 5.8125 47.609375 11.28125 51.796875 \r\nQ 16.75 56 26.8125 56 \r\nQ 31.78125 56 36.171875 55.265625 \r\nQ 40.578125 54.546875 44.28125 53.078125 \r\nz\r\n\" id=\"DejaVuSans-115\"/>\r\n      </defs>\r\n      <use xlink:href=\"#DejaVuSans-108\"/>\r\n      <use x=\"27.783203\" xlink:href=\"#DejaVuSans-111\"/>\r\n      <use x=\"88.964844\" xlink:href=\"#DejaVuSans-115\"/>\r\n      <use x=\"141.064453\" xlink:href=\"#DejaVuSans-115\"/>\r\n     </g>\r\n    </g>\r\n    <g id=\"line2d_19\">\r\n     <path d=\"M 262.959375 34.976562 \r\nL 282.959375 34.976562 \r\n\" style=\"fill:none;stroke:#ff7f0e;stroke-linecap:square;stroke-width:1.5;\"/>\r\n    </g>\r\n    <g id=\"line2d_20\"/>\r\n    <g id=\"text_14\">\r\n     <!-- accuracy -->\r\n     <g transform=\"translate(290.959375 38.476562)scale(0.1 -0.1)\">\r\n      <defs>\r\n       <path d=\"M 34.28125 27.484375 \r\nQ 23.390625 27.484375 19.1875 25 \r\nQ 14.984375 22.515625 14.984375 16.5 \r\nQ 14.984375 11.71875 18.140625 8.90625 \r\nQ 21.296875 6.109375 26.703125 6.109375 \r\nQ 34.1875 6.109375 38.703125 11.40625 \r\nQ 43.21875 16.703125 43.21875 25.484375 \r\nL 43.21875 27.484375 \r\nz\r\nM 52.203125 31.203125 \r\nL 52.203125 0 \r\nL 43.21875 0 \r\nL 43.21875 8.296875 \r\nQ 40.140625 3.328125 35.546875 0.953125 \r\nQ 30.953125 -1.421875 24.3125 -1.421875 \r\nQ 15.921875 -1.421875 10.953125 3.296875 \r\nQ 6 8.015625 6 15.921875 \r\nQ 6 25.140625 12.171875 29.828125 \r\nQ 18.359375 34.515625 30.609375 34.515625 \r\nL 43.21875 34.515625 \r\nL 43.21875 35.40625 \r\nQ 43.21875 41.609375 39.140625 45 \r\nQ 35.0625 48.390625 27.6875 48.390625 \r\nQ 23 48.390625 18.546875 47.265625 \r\nQ 14.109375 46.140625 10.015625 43.890625 \r\nL 10.015625 52.203125 \r\nQ 14.9375 54.109375 19.578125 55.046875 \r\nQ 24.21875 56 28.609375 56 \r\nQ 40.484375 56 46.34375 49.84375 \r\nQ 52.203125 43.703125 52.203125 31.203125 \r\nz\r\n\" id=\"DejaVuSans-97\"/>\r\n       <path d=\"M 48.78125 52.59375 \r\nL 48.78125 44.1875 \r\nQ 44.96875 46.296875 41.140625 47.34375 \r\nQ 37.3125 48.390625 33.40625 48.390625 \r\nQ 24.65625 48.390625 19.8125 42.84375 \r\nQ 14.984375 37.3125 14.984375 27.296875 \r\nQ 14.984375 17.28125 19.8125 11.734375 \r\nQ 24.65625 6.203125 33.40625 6.203125 \r\nQ 37.3125 6.203125 41.140625 7.25 \r\nQ 44.96875 8.296875 48.78125 10.40625 \r\nL 48.78125 2.09375 \r\nQ 45.015625 0.34375 40.984375 -0.53125 \r\nQ 36.96875 -1.421875 32.421875 -1.421875 \r\nQ 20.0625 -1.421875 12.78125 6.34375 \r\nQ 5.515625 14.109375 5.515625 27.296875 \r\nQ 5.515625 40.671875 12.859375 48.328125 \r\nQ 20.21875 56 33.015625 56 \r\nQ 37.15625 56 41.109375 55.140625 \r\nQ 45.0625 54.296875 48.78125 52.59375 \r\nz\r\n\" id=\"DejaVuSans-99\"/>\r\n       <path d=\"M 8.5 21.578125 \r\nL 8.5 54.6875 \r\nL 17.484375 54.6875 \r\nL 17.484375 21.921875 \r\nQ 17.484375 14.15625 20.5 10.265625 \r\nQ 23.53125 6.390625 29.59375 6.390625 \r\nQ 36.859375 6.390625 41.078125 11.03125 \r\nQ 45.3125 15.671875 45.3125 23.6875 \r\nL 45.3125 54.6875 \r\nL 54.296875 54.6875 \r\nL 54.296875 0 \r\nL 45.3125 0 \r\nL 45.3125 8.40625 \r\nQ 42.046875 3.421875 37.71875 1 \r\nQ 33.40625 -1.421875 27.6875 -1.421875 \r\nQ 18.265625 -1.421875 13.375 4.4375 \r\nQ 8.5 10.296875 8.5 21.578125 \r\nz\r\nM 31.109375 56 \r\nz\r\n\" id=\"DejaVuSans-117\"/>\r\n       <path d=\"M 41.109375 46.296875 \r\nQ 39.59375 47.171875 37.8125 47.578125 \r\nQ 36.03125 48 33.890625 48 \r\nQ 26.265625 48 22.1875 43.046875 \r\nQ 18.109375 38.09375 18.109375 28.8125 \r\nL 18.109375 0 \r\nL 9.078125 0 \r\nL 9.078125 54.6875 \r\nL 18.109375 54.6875 \r\nL 18.109375 46.1875 \r\nQ 20.953125 51.171875 25.484375 53.578125 \r\nQ 30.03125 56 36.53125 56 \r\nQ 37.453125 56 38.578125 55.875 \r\nQ 39.703125 55.765625 41.0625 55.515625 \r\nz\r\n\" id=\"DejaVuSans-114\"/>\r\n       <path d=\"M 32.171875 -5.078125 \r\nQ 28.375 -14.84375 24.75 -17.8125 \r\nQ 21.140625 -20.796875 15.09375 -20.796875 \r\nL 7.90625 -20.796875 \r\nL 7.90625 -13.28125 \r\nL 13.1875 -13.28125 \r\nQ 16.890625 -13.28125 18.9375 -11.515625 \r\nQ 21 -9.765625 23.484375 -3.21875 \r\nL 25.09375 0.875 \r\nL 2.984375 54.6875 \r\nL 12.5 54.6875 \r\nL 29.59375 11.921875 \r\nL 46.6875 54.6875 \r\nL 56.203125 54.6875 \r\nz\r\n\" id=\"DejaVuSans-121\"/>\r\n      </defs>\r\n      <use xlink:href=\"#DejaVuSans-97\"/>\r\n      <use x=\"61.279297\" xlink:href=\"#DejaVuSans-99\"/>\r\n      <use x=\"116.259766\" xlink:href=\"#DejaVuSans-99\"/>\r\n      <use x=\"171.240234\" xlink:href=\"#DejaVuSans-117\"/>\r\n      <use x=\"234.619141\" xlink:href=\"#DejaVuSans-114\"/>\r\n      <use x=\"275.732422\" xlink:href=\"#DejaVuSans-97\"/>\r\n      <use x=\"337.011719\" xlink:href=\"#DejaVuSans-99\"/>\r\n      <use x=\"391.992188\" xlink:href=\"#DejaVuSans-121\"/>\r\n     </g>\r\n    </g>\r\n    <g id=\"line2d_21\">\r\n     <path d=\"M 262.959375 49.654688 \r\nL 282.959375 49.654688 \r\n\" style=\"fill:none;stroke:#2ca02c;stroke-linecap:square;stroke-width:1.5;\"/>\r\n    </g>\r\n    <g id=\"line2d_22\"/>\r\n    <g id=\"text_15\">\r\n     <!-- val_loss -->\r\n     <g transform=\"translate(290.959375 53.154688)scale(0.1 -0.1)\">\r\n      <defs>\r\n       <path d=\"M 2.984375 54.6875 \r\nL 12.5 54.6875 \r\nL 29.59375 8.796875 \r\nL 46.6875 54.6875 \r\nL 56.203125 54.6875 \r\nL 35.6875 0 \r\nL 23.484375 0 \r\nz\r\n\" id=\"DejaVuSans-118\"/>\r\n       <path d=\"M 50.984375 -16.609375 \r\nL 50.984375 -23.578125 \r\nL -0.984375 -23.578125 \r\nL -0.984375 -16.609375 \r\nz\r\n\" id=\"DejaVuSans-95\"/>\r\n      </defs>\r\n      <use xlink:href=\"#DejaVuSans-118\"/>\r\n      <use x=\"59.179688\" xlink:href=\"#DejaVuSans-97\"/>\r\n      <use x=\"120.458984\" xlink:href=\"#DejaVuSans-108\"/>\r\n      <use x=\"148.242188\" xlink:href=\"#DejaVuSans-95\"/>\r\n      <use x=\"198.242188\" xlink:href=\"#DejaVuSans-108\"/>\r\n      <use x=\"226.025391\" xlink:href=\"#DejaVuSans-111\"/>\r\n      <use x=\"287.207031\" xlink:href=\"#DejaVuSans-115\"/>\r\n      <use x=\"339.306641\" xlink:href=\"#DejaVuSans-115\"/>\r\n     </g>\r\n    </g>\r\n    <g id=\"line2d_23\">\r\n     <path d=\"M 262.959375 64.610938 \r\nL 282.959375 64.610938 \r\n\" style=\"fill:none;stroke:#d62728;stroke-linecap:square;stroke-width:1.5;\"/>\r\n    </g>\r\n    <g id=\"line2d_24\"/>\r\n    <g id=\"text_16\">\r\n     <!-- val_accuracy -->\r\n     <g transform=\"translate(290.959375 68.110938)scale(0.1 -0.1)\">\r\n      <use xlink:href=\"#DejaVuSans-118\"/>\r\n      <use x=\"59.179688\" xlink:href=\"#DejaVuSans-97\"/>\r\n      <use x=\"120.458984\" xlink:href=\"#DejaVuSans-108\"/>\r\n      <use x=\"148.242188\" xlink:href=\"#DejaVuSans-95\"/>\r\n      <use x=\"198.242188\" xlink:href=\"#DejaVuSans-97\"/>\r\n      <use x=\"259.521484\" xlink:href=\"#DejaVuSans-99\"/>\r\n      <use x=\"314.501953\" xlink:href=\"#DejaVuSans-99\"/>\r\n      <use x=\"369.482422\" xlink:href=\"#DejaVuSans-117\"/>\r\n      <use x=\"432.861328\" xlink:href=\"#DejaVuSans-114\"/>\r\n      <use x=\"473.974609\" xlink:href=\"#DejaVuSans-97\"/>\r\n      <use x=\"535.253906\" xlink:href=\"#DejaVuSans-99\"/>\r\n      <use x=\"590.234375\" xlink:href=\"#DejaVuSans-121\"/>\r\n     </g>\r\n    </g>\r\n   </g>\r\n  </g>\r\n </g>\r\n <defs>\r\n  <clipPath id=\"p934415bfc1\">\r\n   <rect height=\"217.44\" width=\"334.8\" x=\"30.103125\" y=\"7.2\"/>\r\n  </clipPath>\r\n </defs>\r\n</svg>\r\n",
      "image/png": "[encoded data removed]"
     },
     "metadata": {
      "needs_background": "light"
     }
    }
   ],
   "source": [
    "history = pd.DataFrame(model.history.history)\n",
    "history.plot()"
   ]
  },
  {
   "cell_type": "code",
   "execution_count": 34,
   "metadata": {},
   "outputs": [
    {
     "output_type": "stream",
     "name": "stdout",
     "text": [
      "Classification accuracy:\n",
      "001\n",
      "3/3 [==============================] - 0s 15ms/step - loss: 1.9188 - accuracy: 0.7561\n",
      "002\n",
      "3/3 [==============================] - 0s 13ms/step - loss: 1.3020 - accuracy: 0.6538\n",
      "003\n",
      "4/4 [==============================] - 0s 13ms/step - loss: 0.6034 - accuracy: 0.8400\n",
      "004\n",
      "3/3 [==============================] - 0s 14ms/step - loss: 0.3050 - accuracy: 0.8916\n",
      "005\n",
      "3/3 [==============================] - 0s 15ms/step - loss: 0.2664 - accuracy: 0.9778\n",
      "006\n",
      "3/3 [==============================] - 0s 12ms/step - loss: 0.2886 - accuracy: 0.9726\n",
      "007\n",
      "1/1 [==============================] - 0s 27ms/step - loss: 0.5939 - accuracy: 0.8571\n",
      "008\n",
      "1/1 [==============================] - 0s 30ms/step - loss: 1.7526 - accuracy: 0.6000\n",
      "009\n",
      "3/3 [==============================] - 0s 14ms/step - loss: 1.1395 - accuracy: 0.6750\n",
      "010\n",
      "3/3 [==============================] - 0s 13ms/step - loss: 1.9878 - accuracy: 0.5542\n"
     ]
    }
   ],
   "source": [
    "print(\"Classification accuracy:\")\n",
    "classification_dict = dict()\n",
    "accuracy_list = list() \n",
    "\n",
    "\n",
    "for key in x_test_dict:\n",
    "    x_test_numpy_temp = x_test_dict[key].drop([' TimeStamp (s)', 'Pose'], axis=1).values\n",
    "    x_test_numpy_temp_3d = np.array(create_3d_array(x_test_numpy_temp))\n",
    "    y_test_temp = np.array(create_2d_y_array(y_test_dict[key]))\n",
    "    print(key)\n",
    "    classify = model.evaluate(x_test_numpy_temp_3d, y_test_temp)\n",
    "    # classifications = [i.argmax() for i in classify]\n",
    "    # annotated_positions = y_test_dict[key].to_numpy()\n",
    "    # correct_classifications = (classifications == annotated_positions).sum()\n",
    "    # accuracy_list.append(round(correct_classifications/len(classifications)*100,2))\n",
    "    # print(f\"{key}: {accuracy_list[-1]}%\")\n",
    "    # classification_dict[key] = classifications\n",
    "\n",
    "# print(f\"Average accuracy: {round(sum(accuracy_list)/len(accuracy_list),2)}%\")"
   ]
  },
  {
   "cell_type": "code",
   "execution_count": 36,
   "metadata": {},
   "outputs": [],
   "source": [
    "model.save(\"LSTM_2_sensorer_3.h5\")"
   ]
  }
 ]
}