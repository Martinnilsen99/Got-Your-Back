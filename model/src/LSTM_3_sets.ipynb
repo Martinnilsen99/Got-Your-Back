{
 "metadata": {
  "language_info": {
   "codemirror_mode": {
    "name": "ipython",
    "version": 3
   },
   "file_extension": ".py",
   "mimetype": "text/x-python",
   "name": "python",
   "nbconvert_exporter": "python",
   "pygments_lexer": "ipython3",
   "version": "3.8.5"
  },
  "orig_nbformat": 2,
  "kernelspec": {
   "name": "python385jvsc74a57bd0f4fde45515710cbe4f4cf44a8ddef1b298277709bd6c5462499553af68a98f2e",
   "display_name": "Python 3.8.5 64-bit"
  },
  "metadata": {
   "interpreter": {
    "hash": "f4fde45515710cbe4f4cf44a8ddef1b298277709bd6c5462499553af68a98f2e"
   }
  }
 },
 "nbformat": 4,
 "nbformat_minor": 2,
 "cells": [
  {
   "cell_type": "code",
   "execution_count": 1,
   "metadata": {},
   "outputs": [],
   "source": [
    "import sys; sys.path.insert(0, '..')\n",
    "import os\n",
    "import time\n",
    "import keras\n",
    "import pandas as pd\n",
    "import numpy as np\n",
    "import seaborn as sns\n",
    "from matplotlib import pyplot as plt\n",
    "from tabulate import tabulate\n",
    "sys.path.insert(1, '../utils')\n",
    "from utils.df_utils import df_wrapper\n",
    "from dataclasses import dataclass\n",
    "from keras.models import Sequential\n",
    "from keras.layers import Dense, Dropout, LSTM\n",
    "import tensorflow as tf\n",
    "from tensorflow.keras.utils import to_categorical\n",
    "from keras.optimizers import RMSprop, Adam, SGD\n",
    "from sklearn.preprocessing import MinMaxScaler\n",
    "from keras.utils import to_categorical\n",
    "from utils.declarations import training_files, testing_files, POSE_MAP"
   ]
  },
  {
   "cell_type": "code",
   "execution_count": 2,
   "metadata": {},
   "outputs": [
    {
     "output_type": "stream",
     "name": "stdout",
     "text": [
      "001\n",
      "..\\utils\\df_utils.py:37: SettingWithCopyWarning: \n",
      "A value is trying to be set on a copy of a slice from a DataFrame.\n",
      "Try using .loc[row_indexer,col_indexer] = value instead\n",
      "\n",
      "See the caveats in the documentation: https://pandas.pydata.org/pandas-docs/stable/user_guide/indexing.html#returning-a-view-versus-a-copy\n",
      "  self.df_arr[i][\" TimeStamp (s)\"] = self.df_arr[i][\" TimeStamp (s)\"] - \\\n",
      "002\n",
      "..\\utils\\df_utils.py:37: SettingWithCopyWarning: \n",
      "A value is trying to be set on a copy of a slice from a DataFrame.\n",
      "Try using .loc[row_indexer,col_indexer] = value instead\n",
      "\n",
      "See the caveats in the documentation: https://pandas.pydata.org/pandas-docs/stable/user_guide/indexing.html#returning-a-view-versus-a-copy\n",
      "  self.df_arr[i][\" TimeStamp (s)\"] = self.df_arr[i][\" TimeStamp (s)\"] - \\\n",
      "003\n",
      "..\\utils\\df_utils.py:37: SettingWithCopyWarning: \n",
      "A value is trying to be set on a copy of a slice from a DataFrame.\n",
      "Try using .loc[row_indexer,col_indexer] = value instead\n",
      "\n",
      "See the caveats in the documentation: https://pandas.pydata.org/pandas-docs/stable/user_guide/indexing.html#returning-a-view-versus-a-copy\n",
      "  self.df_arr[i][\" TimeStamp (s)\"] = self.df_arr[i][\" TimeStamp (s)\"] - \\\n",
      "004\n",
      "..\\utils\\df_utils.py:37: SettingWithCopyWarning: \n",
      "A value is trying to be set on a copy of a slice from a DataFrame.\n",
      "Try using .loc[row_indexer,col_indexer] = value instead\n",
      "\n",
      "See the caveats in the documentation: https://pandas.pydata.org/pandas-docs/stable/user_guide/indexing.html#returning-a-view-versus-a-copy\n",
      "  self.df_arr[i][\" TimeStamp (s)\"] = self.df_arr[i][\" TimeStamp (s)\"] - \\\n",
      "005\n",
      "..\\utils\\df_utils.py:37: SettingWithCopyWarning: \n",
      "A value is trying to be set on a copy of a slice from a DataFrame.\n",
      "Try using .loc[row_indexer,col_indexer] = value instead\n",
      "\n",
      "See the caveats in the documentation: https://pandas.pydata.org/pandas-docs/stable/user_guide/indexing.html#returning-a-view-versus-a-copy\n",
      "  self.df_arr[i][\" TimeStamp (s)\"] = self.df_arr[i][\" TimeStamp (s)\"] - \\\n",
      "006\n",
      "..\\utils\\df_utils.py:37: SettingWithCopyWarning: \n",
      "A value is trying to be set on a copy of a slice from a DataFrame.\n",
      "Try using .loc[row_indexer,col_indexer] = value instead\n",
      "\n",
      "See the caveats in the documentation: https://pandas.pydata.org/pandas-docs/stable/user_guide/indexing.html#returning-a-view-versus-a-copy\n",
      "  self.df_arr[i][\" TimeStamp (s)\"] = self.df_arr[i][\" TimeStamp (s)\"] - \\\n",
      "009\n",
      "..\\utils\\df_utils.py:37: SettingWithCopyWarning: \n",
      "A value is trying to be set on a copy of a slice from a DataFrame.\n",
      "Try using .loc[row_indexer,col_indexer] = value instead\n",
      "\n",
      "See the caveats in the documentation: https://pandas.pydata.org/pandas-docs/stable/user_guide/indexing.html#returning-a-view-versus-a-copy\n",
      "  self.df_arr[i][\" TimeStamp (s)\"] = self.df_arr[i][\" TimeStamp (s)\"] - \\\n"
     ]
    }
   ],
   "source": [
    "\n",
    "num_string = \"004\"\n",
    "# ONLY ONE SET\n",
    "# x_train_wrapper = df_wrapper(training_files[num_string].csv_file)\n",
    "# x_train_wrapper.concat_sensor_data(3)\n",
    "# x_train_wrapper.align_poses(training_files[num_string].annot_file, POSE_MAP)\n",
    "\n",
    "#ADD ALL SETS, except 007 and 008\n",
    "x_train_arr = []\n",
    "for i in range(1,10):\n",
    "    if i == 7 or i == 8:\n",
    "        pass\n",
    "    else:\n",
    "        num_string = \"00\" + str(i)\n",
    "        print(num_string)\n",
    "        elem = df_wrapper(training_files[num_string].csv_file)\n",
    "        elem.concat_sensor_data(3)\n",
    "        elem.align_poses(training_files[num_string].annot_file, POSE_MAP)\n",
    "        x_train_arr.append(elem)"
   ]
  },
  {
   "cell_type": "code",
   "execution_count": 3,
   "metadata": {},
   "outputs": [
    {
     "output_type": "stream",
     "name": "stdout",
     "text": [
      "x_train shape after drop:  (466981, 39)\ny_train shape after drop:  (466981,)\n"
     ]
    }
   ],
   "source": [
    "# ONLY ONE SET\n",
    "# x_train = x_train_wrapper.df.drop([' TimeStamp (s)', 'Pose'], axis=1)\n",
    "# y_train = x_train_wrapper.df['Pose']\n",
    "\n",
    "# ALL TRAINING SETS\n",
    "x_train = pd.concat([x.df.drop([' TimeStamp (s)', 'Pose'], axis=1) for x in x_train_arr])\n",
    "y_train = pd.concat([x.df['Pose'] for x in x_train_arr])\n",
    "\n",
    "print(\"x_train shape after drop: \", np.shape(x_train))\n",
    "print(\"y_train shape after drop: \", np.shape(y_train))"
   ]
  },
  {
   "cell_type": "code",
   "execution_count": 4,
   "metadata": {},
   "outputs": [],
   "source": [
    "testing_csv = testing_files[\"004\"].csv_file\n",
    "testing_annot = testing_files[\"004\"].annot_file\n"
   ]
  },
  {
   "cell_type": "code",
   "execution_count": 5,
   "metadata": {},
   "outputs": [
    {
     "output_type": "stream",
     "name": "stderr",
     "text": [
      "..\\utils\\df_utils.py:37: SettingWithCopyWarning: \n",
      "A value is trying to be set on a copy of a slice from a DataFrame.\n",
      "Try using .loc[row_indexer,col_indexer] = value instead\n",
      "\n",
      "See the caveats in the documentation: https://pandas.pydata.org/pandas-docs/stable/user_guide/indexing.html#returning-a-view-versus-a-copy\n",
      "  self.df_arr[i][\" TimeStamp (s)\"] = self.df_arr[i][\" TimeStamp (s)\"] - \\\n",
      "x_test shape after drop:  (8367, 39)\n",
      "y_test shape after drop:  (8367,)\n"
     ]
    }
   ],
   "source": [
    "\n",
    "x_test_wrapper = df_wrapper(testing_csv)\n",
    "x_test_wrapper.concat_sensor_data(3)\n",
    "x_test_wrapper.align_poses(testing_annot, POSE_MAP)\n",
    "\n",
    "\n",
    "y_test = x_test_wrapper.df['Pose']\n",
    "x_test = x_test_wrapper.df.drop([' TimeStamp (s)', 'Pose'],axis=1)\n",
    "\n",
    "print(\"x_test shape after drop: \", np.shape(x_test))\n",
    "print(\"y_test shape after drop: \", np.shape(y_test))"
   ]
  },
  {
   "cell_type": "code",
   "execution_count": 6,
   "metadata": {},
   "outputs": [],
   "source": [
    "#sns.lineplot(data=x_test_wrapper.df, x=\" TimeStamp (s)\", y=\"Pose\")"
   ]
  },
  {
   "cell_type": "code",
   "execution_count": 7,
   "metadata": {},
   "outputs": [
    {
     "output_type": "stream",
     "name": "stdout",
     "text": [
      "(466981, 39)\n(466981,)\nTEST\n(8367, 39)\n(8367,)\n"
     ]
    }
   ],
   "source": [
    "# Create numpy arrays\n",
    "x_train_numpy = x_train.values\n",
    "y_train_numpy = y_train.values\n",
    "\n",
    "x_test_numpy = x_test.values\n",
    "y_test_numpy = y_test.values\n",
    "\n",
    "# Hot encode categories into numbers\n",
    "#y_train = to_categorical(y_train_numpy,9)\n",
    "\n",
    "print(x_train_numpy.shape)\n",
    "print(y_train_numpy.shape)\n",
    "\n",
    "print(\"TEST\")\n",
    "print(x_test_numpy.shape)\n",
    "print(y_test_numpy.shape)\n",
    "\n",
    "\n"
   ]
  },
  {
   "cell_type": "code",
   "execution_count": 8,
   "metadata": {},
   "outputs": [
    {
     "output_type": "execute_result",
     "data": {
      "text/plain": [
       "RobustScaler()"
      ]
     },
     "metadata": {},
     "execution_count": 8
    }
   ],
   "source": [
    "from sklearn.preprocessing import RobustScaler\n",
    "scaler = RobustScaler()\n",
    "scaler.fit(x_train_numpy)\n",
    "scaler.fit(x_test_numpy)"
   ]
  },
  {
   "cell_type": "code",
   "execution_count": 9,
   "metadata": {},
   "outputs": [],
   "source": [
    "\n",
    "from scipy import stats\n",
    "\n",
    "NUM_TIMESTAMPS = 100\n",
    "\n",
    "def create_3d_array(array, num_timestamps):\n",
    "\n",
    "    arr_3d = []\n",
    "    temp_2d = []\n",
    "    for i in range(1,len(array)):\n",
    "        temp_2d.append(array[i])\n",
    "        if i % NUM_TIMESTAMPS == 0:\n",
    "            arr_3d.append(temp_2d)\n",
    "            temp_2d = []\n",
    "    \n",
    "    return arr_3d\n",
    "\n",
    "def create_2d_y_array(array, num_timestamps):\n",
    "    arr_2d_y_train = []\n",
    "    temp_y_train = []\n",
    "    mode_arr = []\n",
    "\n",
    "    for i in range(1,len(array)):\n",
    "        #temp_2d.append(array[0])\n",
    "        temp_y_train.append(array[i])\n",
    "        if i % NUM_TIMESTAMPS == 0:\n",
    "            mode_arr.append(temp_y_train)\n",
    "\n",
    "            temp_y_train = []\n",
    "            #temp_2d = []\n",
    "\n",
    "    y_train_to_be_encoded = []\n",
    "\n",
    "    for i in range(len(mode_arr)):\n",
    "        mode = stats.mode(mode_arr[i])\n",
    "        y_train_to_be_encoded.append(mode.mode[0])\n",
    "\n",
    "    #ONE HOT ENCODING\n",
    "    encoding = []\n",
    "    for value in y_train_to_be_encoded:\n",
    "        vector = [0 for _ in range(9)]\n",
    "        vector[value] = 1\n",
    "        encoding.append(vector)\n",
    "    \n",
    "    return np.array(encoding)\n",
    "\n",
    "\n"
   ]
  },
  {
   "cell_type": "code",
   "execution_count": 10,
   "metadata": {},
   "outputs": [
    {
     "output_type": "stream",
     "name": "stdout",
     "text": [
      "(4669, 100, 39)\n(4669, 9)\n"
     ]
    }
   ],
   "source": [
    "\n",
    "x_train = np.array(create_3d_array(x_train_numpy, NUM_TIMESTAMPS))\n",
    "y_train = np.array(create_2d_y_array(y_train_numpy, NUM_TIMESTAMPS))\n",
    "\n",
    "x_test = np.array(create_3d_array(x_test_numpy, NUM_TIMESTAMPS))\n",
    "y_test = np.array(create_2d_y_array(y_test_numpy, NUM_TIMESTAMPS))\n",
    "print(np.shape(x_train))\n",
    "print(np.shape(y_train))\n"
   ]
  },
  {
   "cell_type": "code",
   "execution_count": 11,
   "metadata": {},
   "outputs": [
    {
     "output_type": "stream",
     "name": "stdout",
     "text": [
      "(83, 100, 39)\n"
     ]
    }
   ],
   "source": [
    "\n",
    "print(np.shape(x_test))"
   ]
  },
  {
   "cell_type": "code",
   "execution_count": 38,
   "metadata": {},
   "outputs": [],
   "source": [
    "from keras.layers import LSTM\n",
    "from tensorflow.keras import layers\n",
    "\n",
    "OPTIM = Adam(learning_rate=0.00005)\n",
    "\n",
    "model = Sequential()\n",
    "model.add(LSTM(1024, activation='sigmoid', return_sequences=True, input_shape=[x_train.shape[1], x_train.shape[2]]))\n",
    "model.add(Dense(1024, activation='relu'))\n",
    "model.add(Dropout(rate=0.2))\n",
    "model.add(Dense(700, activation='relu'))\n",
    "model.add(Dropout(rate=0.2))\n",
    "model.add(Dense(100, activation='relu'))\n",
    "model.add(Dropout(rate=0.2))\n",
    "model.add(LSTM(100, activation='sigmoid', input_shape=[x_train.shape[1], x_train.shape[2]]))\n",
    "model.add(Dense(9, activation='softmax'))\n",
    "model.compile(optimizer=OPTIM,  loss=keras.losses.CategoricalCrossentropy(), metrics=['accuracy'])"
   ]
  },
  {
   "cell_type": "code",
   "execution_count": 39,
   "metadata": {
    "tags": []
   },
   "outputs": [
    {
     "output_type": "stream",
     "name": "stdout",
     "text": [
      "Epoch 1/10\n",
      "146/146 [==============================] - 386s 3s/step - loss: 2.1356 - accuracy: 0.2140 - val_loss: 1.1915 - val_accuracy: 0.7711\n",
      "Epoch 2/10\n",
      "146/146 [==============================] - 396s 3s/step - loss: 0.8304 - accuracy: 0.9113 - val_loss: 0.3715 - val_accuracy: 0.9639\n",
      "Epoch 3/10\n",
      "146/146 [==============================] - 378s 3s/step - loss: 0.2301 - accuracy: 0.9881 - val_loss: 0.2990 - val_accuracy: 0.8916\n",
      "Epoch 4/10\n",
      "146/146 [==============================] - 399s 3s/step - loss: 0.1399 - accuracy: 0.9854 - val_loss: 0.2910 - val_accuracy: 0.8795\n",
      "Epoch 5/10\n",
      "146/146 [==============================] - 395s 3s/step - loss: 0.1030 - accuracy: 0.9885 - val_loss: 0.2952 - val_accuracy: 0.9639\n",
      "Epoch 6/10\n",
      "146/146 [==============================] - 374s 3s/step - loss: 0.0818 - accuracy: 0.9898 - val_loss: 0.2898 - val_accuracy: 0.8916\n",
      "Epoch 7/10\n",
      "146/146 [==============================] - 363s 2s/step - loss: 0.0667 - accuracy: 0.9923 - val_loss: 0.2888 - val_accuracy: 0.8795\n",
      "Epoch 8/10\n",
      "146/146 [==============================] - 394s 3s/step - loss: 0.0545 - accuracy: 0.9942 - val_loss: 0.2763 - val_accuracy: 0.9518\n",
      "Epoch 9/10\n",
      "146/146 [==============================] - 378s 3s/step - loss: 0.0503 - accuracy: 0.9936 - val_loss: 0.4657 - val_accuracy: 0.8795\n",
      "Epoch 10/10\n",
      "146/146 [==============================] - 365s 2s/step - loss: 0.0482 - accuracy: 0.9930 - val_loss: 0.3002 - val_accuracy: 0.8795\n"
     ]
    },
    {
     "output_type": "execute_result",
     "data": {
      "text/plain": [
       "<tensorflow.python.keras.callbacks.History at 0x1fffec723d0>"
      ]
     },
     "metadata": {},
     "execution_count": 39
    }
   ],
   "source": [
    "\n",
    "#model.fit(x=np.array(arr_3d_x_train), batch_size=512, y=y_train, shuffle=False, epochs=10)\n",
    "\n",
    "model.fit(x=x_train, y=y_train, batch_size=32, epochs=10, validation_data=(x_test,y_test))\n",
    "#model.reset_states()\n",
    "\n"
   ]
  },
  {
   "cell_type": "code",
   "execution_count": 6,
   "metadata": {},
   "outputs": [
    {
     "output_type": "error",
     "ename": "NameError",
     "evalue": "name 'plt' is not defined",
     "traceback": [
      "\u001b[1;31m---------------------------------------------------------------------------\u001b[0m",
      "\u001b[1;31mNameError\u001b[0m                                 Traceback (most recent call last)",
      "\u001b[1;32m<ipython-input-6-dd132d13062e>\u001b[0m in \u001b[0;36m<module>\u001b[1;34m\u001b[0m\n\u001b[1;32m----> 1\u001b[1;33m \u001b[0mplt\u001b[0m\u001b[1;33m.\u001b[0m\u001b[0mplot\u001b[0m\u001b[1;33m(\u001b[0m\u001b[0mmodel\u001b[0m\u001b[1;33m.\u001b[0m\u001b[0mhistory\u001b[0m\u001b[1;33m.\u001b[0m\u001b[0mhistory\u001b[0m\u001b[1;33m[\u001b[0m\u001b[1;34m'accuracy'\u001b[0m\u001b[1;33m]\u001b[0m\u001b[1;33m)\u001b[0m\u001b[1;33m\u001b[0m\u001b[1;33m\u001b[0m\u001b[0m\n\u001b[0m\u001b[0;32m      2\u001b[0m \u001b[0mplt\u001b[0m\u001b[1;33m.\u001b[0m\u001b[0mplot\u001b[0m\u001b[1;33m(\u001b[0m\u001b[0mmodel\u001b[0m\u001b[1;33m.\u001b[0m\u001b[0mhistory\u001b[0m\u001b[1;33m.\u001b[0m\u001b[0mhistory\u001b[0m\u001b[1;33m[\u001b[0m\u001b[1;34m'val_accuracy'\u001b[0m\u001b[1;33m]\u001b[0m\u001b[1;33m)\u001b[0m\u001b[1;33m\u001b[0m\u001b[1;33m\u001b[0m\u001b[0m\n\u001b[0;32m      3\u001b[0m \u001b[0mplt\u001b[0m\u001b[1;33m.\u001b[0m\u001b[0mplot\u001b[0m\u001b[1;33m(\u001b[0m\u001b[0mmodel\u001b[0m\u001b[1;33m.\u001b[0m\u001b[0mhistory\u001b[0m\u001b[1;33m.\u001b[0m\u001b[0mhistory\u001b[0m\u001b[1;33m[\u001b[0m\u001b[1;34m'loss'\u001b[0m\u001b[1;33m]\u001b[0m\u001b[1;33m)\u001b[0m\u001b[1;33m\u001b[0m\u001b[1;33m\u001b[0m\u001b[0m\n\u001b[0;32m      4\u001b[0m \u001b[0mplt\u001b[0m\u001b[1;33m.\u001b[0m\u001b[0mplot\u001b[0m\u001b[1;33m(\u001b[0m\u001b[0mmodel\u001b[0m\u001b[1;33m.\u001b[0m\u001b[0mhistory\u001b[0m\u001b[1;33m.\u001b[0m\u001b[0mhistory\u001b[0m\u001b[1;33m[\u001b[0m\u001b[1;34m'val_loss'\u001b[0m\u001b[1;33m]\u001b[0m\u001b[1;33m)\u001b[0m\u001b[1;33m\u001b[0m\u001b[1;33m\u001b[0m\u001b[0m\n\u001b[0;32m      5\u001b[0m \u001b[0mplt\u001b[0m\u001b[1;33m.\u001b[0m\u001b[0mplot\u001b[0m\u001b[1;33m(\u001b[0m\u001b[1;33m)\u001b[0m\u001b[1;33m\u001b[0m\u001b[1;33m\u001b[0m\u001b[0m\n",
      "\u001b[1;31mNameError\u001b[0m: name 'plt' is not defined"
     ]
    }
   ],
   "source": [
    "plt.plot(model.history.history['accuracy'])\n",
    "plt.plot(model.history.history['val_accuracy'])\n",
    "plt.plot(model.history.history['loss'])\n",
    "plt.plot(model.history.history['val_loss'])\n",
    "plt.plot()\n",
    "plt.title('accuracy, val_acc, loss, val_loss')\n",
    "plt.ylabel('loss')\n",
    "plt.xlabel('epoch')\n",
    "plt.legend(['accuracy', 'val_arrucary', 'loss', 'val_loss'], loc='upper right')\n",
    "plt.ylim(top=2)\n",
    "axes=plt.gca()\n",
    "\n",
    "plt.show()"
   ]
  },
  {
   "cell_type": "code",
   "execution_count": 41,
   "metadata": {},
   "outputs": [
    {
     "output_type": "stream",
     "name": "stdout",
     "text": [
      "3/3 [==============================] - 1s 446ms/step - loss: 0.3002 - accuracy: 0.8795\n"
     ]
    },
    {
     "output_type": "execute_result",
     "data": {
      "text/plain": [
       "[0.300163209438324, 0.8795180916786194]"
      ]
     },
     "metadata": {},
     "execution_count": 41
    }
   ],
   "source": [
    "from sklearn.metrics import confusion_matrix\n",
    "\n",
    "predictions = model.predict(x_test)\n",
    "model.evaluate(x_test,y_test)\n"
   ]
  },
  {
   "cell_type": "code",
   "execution_count": 42,
   "metadata": {},
   "outputs": [
    {
     "output_type": "execute_result",
     "data": {
      "text/plain": [
       "<AxesSubplot:>"
      ]
     },
     "metadata": {},
     "execution_count": 42
    },
    {
     "output_type": "display_data",
     "data": {
      "text/plain": "<Figure size 432x288 with 2 Axes>",
      "image/svg+xml": "<?xml version=\"1.0\" encoding=\"utf-8\" standalone=\"no\"?>\r\n<!DOCTYPE svg PUBLIC \"-//W3C//DTD SVG 1.1//EN\"\r\n  \"http://www.w3.org/Graphics/SVG/1.1/DTD/svg11.dtd\">\r\n<!-- Created with matplotlib (https://matplotlib.org/) -->\r\n<svg height=\"248.518125pt\" version=\"1.1\" viewBox=\"0 0 346.255125 248.518125\" width=\"346.255125pt\" xmlns=\"http://www.w3.org/2000/svg\" xmlns:xlink=\"http://www.w3.org/1999/xlink\">\r\n <metadata>\r\n  <rdf:RDF xmlns:cc=\"http://creativecommons.org/ns#\" xmlns:dc=\"http://purl.org/dc/elements/1.1/\" xmlns:rdf=\"http://www.w3.org/1999/02/22-rdf-syntax-ns#\">\r\n   <cc:Work>\r\n    <dc:type rdf:resource=\"http://purl.org/dc/dcmitype/StillImage\"/>\r\n    <dc:date>2021-04-19T16:03:30.039412</dc:date>\r\n    <dc:format>image/svg+xml</dc:format>\r\n    <dc:creator>\r\n     <cc:Agent>\r\n      <dc:title>Matplotlib v3.3.4, https://matplotlib.org/</dc:title>\r\n     </cc:Agent>\r\n    </dc:creator>\r\n   </cc:Work>\r\n  </rdf:RDF>\r\n </metadata>\r\n <defs>\r\n  <style type=\"text/css\">*{stroke-linecap:butt;stroke-linejoin:round;}</style>\r\n </defs>\r\n <g id=\"figure_1\">\r\n  <g id=\"patch_1\">\r\n   <path d=\"M -0 248.518125 \r\nL 346.255125 248.518125 \r\nL 346.255125 0 \r\nL -0 0 \r\nz\r\n\" style=\"fill:none;\"/>\r\n  </g>\r\n  <g id=\"axes_1\">\r\n   <g id=\"patch_2\">\r\n    <path d=\"M 23.878125 224.64 \r\nL 291.718125 224.64 \r\nL 291.718125 7.2 \r\nL 23.878125 7.2 \r\nz\r\n\" style=\"fill:#ffffff;\"/>\r\n   </g>\r\n   <g id=\"QuadMesh_1\">\r\n    <path clip-path=\"url(#p56fbe86bf8)\" d=\"M 23.878125 7.2 \r\nL 53.638125 7.2 \r\nL 53.638125 31.36 \r\nL 23.878125 31.36 \r\nL 23.878125 7.2 \r\n\" style=\"fill:#2094c0;\"/>\r\n    <path clip-path=\"url(#p56fbe86bf8)\" d=\"M 53.638125 7.2 \r\nL 83.398125 7.2 \r\nL 83.398125 31.36 \r\nL 53.638125 31.36 \r\nL 53.638125 7.2 \r\n\" style=\"fill:#ffffd9;\"/>\r\n    <path clip-path=\"url(#p56fbe86bf8)\" d=\"M 83.398125 7.2 \r\nL 113.158125 7.2 \r\nL 113.158125 31.36 \r\nL 83.398125 31.36 \r\nL 83.398125 7.2 \r\n\" style=\"fill:#ffffd9;\"/>\r\n    <path clip-path=\"url(#p56fbe86bf8)\" d=\"M 113.158125 7.2 \r\nL 142.918125 7.2 \r\nL 142.918125 31.36 \r\nL 113.158125 31.36 \r\nL 113.158125 7.2 \r\n\" style=\"fill:#ffffd9;\"/>\r\n    <path clip-path=\"url(#p56fbe86bf8)\" d=\"M 142.918125 7.2 \r\nL 172.678125 7.2 \r\nL 172.678125 31.36 \r\nL 142.918125 31.36 \r\nL 142.918125 7.2 \r\n\" style=\"fill:#ffffd9;\"/>\r\n    <path clip-path=\"url(#p56fbe86bf8)\" d=\"M 172.678125 7.2 \r\nL 202.438125 7.2 \r\nL 202.438125 31.36 \r\nL 172.678125 31.36 \r\nL 172.678125 7.2 \r\n\" style=\"fill:#ffffd9;\"/>\r\n    <path clip-path=\"url(#p56fbe86bf8)\" d=\"M 202.438125 7.2 \r\nL 232.198125 7.2 \r\nL 232.198125 31.36 \r\nL 202.438125 31.36 \r\nL 202.438125 7.2 \r\n\" style=\"fill:#ffffd9;\"/>\r\n    <path clip-path=\"url(#p56fbe86bf8)\" d=\"M 232.198125 7.2 \r\nL 261.958125 7.2 \r\nL 261.958125 31.36 \r\nL 232.198125 31.36 \r\nL 232.198125 7.2 \r\n\" style=\"fill:#ffffd9;\"/>\r\n    <path clip-path=\"url(#p56fbe86bf8)\" d=\"M 261.958125 7.2 \r\nL 291.718125 7.2 \r\nL 291.718125 31.36 \r\nL 261.958125 31.36 \r\nL 261.958125 7.2 \r\n\" style=\"fill:#f4fbc1;\"/>\r\n    <path clip-path=\"url(#p56fbe86bf8)\" d=\"M 23.878125 31.36 \r\nL 53.638125 31.36 \r\nL 53.638125 55.52 \r\nL 23.878125 55.52 \r\nL 23.878125 31.36 \r\n\" style=\"fill:#ffffd9;\"/>\r\n    <path clip-path=\"url(#p56fbe86bf8)\" d=\"M 53.638125 31.36 \r\nL 83.398125 31.36 \r\nL 83.398125 55.52 \r\nL 53.638125 55.52 \r\nL 53.638125 31.36 \r\n\" style=\"fill:#53bdc1;\"/>\r\n    <path clip-path=\"url(#p56fbe86bf8)\" d=\"M 83.398125 31.36 \r\nL 113.158125 31.36 \r\nL 113.158125 55.52 \r\nL 83.398125 55.52 \r\nL 83.398125 31.36 \r\n\" style=\"fill:#ffffd9;\"/>\r\n    <path clip-path=\"url(#p56fbe86bf8)\" d=\"M 113.158125 31.36 \r\nL 142.918125 31.36 \r\nL 142.918125 55.52 \r\nL 113.158125 55.52 \r\nL 113.158125 31.36 \r\n\" style=\"fill:#ffffd9;\"/>\r\n    <path clip-path=\"url(#p56fbe86bf8)\" d=\"M 142.918125 31.36 \r\nL 172.678125 31.36 \r\nL 172.678125 55.52 \r\nL 142.918125 55.52 \r\nL 142.918125 31.36 \r\n\" style=\"fill:#ffffd9;\"/>\r\n    <path clip-path=\"url(#p56fbe86bf8)\" d=\"M 172.678125 31.36 \r\nL 202.438125 31.36 \r\nL 202.438125 55.52 \r\nL 172.678125 55.52 \r\nL 172.678125 31.36 \r\n\" style=\"fill:#ffffd9;\"/>\r\n    <path clip-path=\"url(#p56fbe86bf8)\" d=\"M 202.438125 31.36 \r\nL 232.198125 31.36 \r\nL 232.198125 55.52 \r\nL 202.438125 55.52 \r\nL 202.438125 31.36 \r\n\" style=\"fill:#ffffd9;\"/>\r\n    <path clip-path=\"url(#p56fbe86bf8)\" d=\"M 232.198125 31.36 \r\nL 261.958125 31.36 \r\nL 261.958125 55.52 \r\nL 232.198125 55.52 \r\nL 232.198125 31.36 \r\n\" style=\"fill:#ffffd9;\"/>\r\n    <path clip-path=\"url(#p56fbe86bf8)\" d=\"M 261.958125 31.36 \r\nL 291.718125 31.36 \r\nL 291.718125 55.52 \r\nL 261.958125 55.52 \r\nL 261.958125 31.36 \r\n\" style=\"fill:#ffffd9;\"/>\r\n    <path clip-path=\"url(#p56fbe86bf8)\" d=\"M 23.878125 55.52 \r\nL 53.638125 55.52 \r\nL 53.638125 79.68 \r\nL 23.878125 79.68 \r\nL 23.878125 55.52 \r\n\" style=\"fill:#ffffd9;\"/>\r\n    <path clip-path=\"url(#p56fbe86bf8)\" d=\"M 53.638125 55.52 \r\nL 83.398125 55.52 \r\nL 83.398125 79.68 \r\nL 53.638125 79.68 \r\nL 53.638125 55.52 \r\n\" style=\"fill:#ffffd9;\"/>\r\n    <path clip-path=\"url(#p56fbe86bf8)\" d=\"M 83.398125 55.52 \r\nL 113.158125 55.52 \r\nL 113.158125 79.68 \r\nL 83.398125 79.68 \r\nL 83.398125 55.52 \r\n\" style=\"fill:#2258a5;\"/>\r\n    <path clip-path=\"url(#p56fbe86bf8)\" d=\"M 113.158125 55.52 \r\nL 142.918125 55.52 \r\nL 142.918125 79.68 \r\nL 113.158125 79.68 \r\nL 113.158125 55.52 \r\n\" style=\"fill:#ffffd9;\"/>\r\n    <path clip-path=\"url(#p56fbe86bf8)\" d=\"M 142.918125 55.52 \r\nL 172.678125 55.52 \r\nL 172.678125 79.68 \r\nL 142.918125 79.68 \r\nL 142.918125 55.52 \r\n\" style=\"fill:#ffffd9;\"/>\r\n    <path clip-path=\"url(#p56fbe86bf8)\" d=\"M 172.678125 55.52 \r\nL 202.438125 55.52 \r\nL 202.438125 79.68 \r\nL 172.678125 79.68 \r\nL 172.678125 55.52 \r\n\" style=\"fill:#ffffd9;\"/>\r\n    <path clip-path=\"url(#p56fbe86bf8)\" d=\"M 202.438125 55.52 \r\nL 232.198125 55.52 \r\nL 232.198125 79.68 \r\nL 202.438125 79.68 \r\nL 202.438125 55.52 \r\n\" style=\"fill:#ffffd9;\"/>\r\n    <path clip-path=\"url(#p56fbe86bf8)\" d=\"M 232.198125 55.52 \r\nL 261.958125 55.52 \r\nL 261.958125 79.68 \r\nL 232.198125 79.68 \r\nL 232.198125 55.52 \r\n\" style=\"fill:#ffffd9;\"/>\r\n    <path clip-path=\"url(#p56fbe86bf8)\" d=\"M 261.958125 55.52 \r\nL 291.718125 55.52 \r\nL 291.718125 79.68 \r\nL 261.958125 79.68 \r\nL 261.958125 55.52 \r\n\" style=\"fill:#ffffd9;\"/>\r\n    <path clip-path=\"url(#p56fbe86bf8)\" d=\"M 23.878125 79.68 \r\nL 53.638125 79.68 \r\nL 53.638125 103.84 \r\nL 23.878125 103.84 \r\nL 23.878125 79.68 \r\n\" style=\"fill:#ffffd9;\"/>\r\n    <path clip-path=\"url(#p56fbe86bf8)\" d=\"M 53.638125 79.68 \r\nL 83.398125 79.68 \r\nL 83.398125 103.84 \r\nL 53.638125 103.84 \r\nL 53.638125 79.68 \r\n\" style=\"fill:#ffffd9;\"/>\r\n    <path clip-path=\"url(#p56fbe86bf8)\" d=\"M 83.398125 79.68 \r\nL 113.158125 79.68 \r\nL 113.158125 103.84 \r\nL 83.398125 103.84 \r\nL 83.398125 79.68 \r\n\" style=\"fill:#ffffd9;\"/>\r\n    <path clip-path=\"url(#p56fbe86bf8)\" d=\"M 113.158125 79.68 \r\nL 142.918125 79.68 \r\nL 142.918125 103.84 \r\nL 113.158125 103.84 \r\nL 113.158125 79.68 \r\n\" style=\"fill:#2094c0;\"/>\r\n    <path clip-path=\"url(#p56fbe86bf8)\" d=\"M 142.918125 79.68 \r\nL 172.678125 79.68 \r\nL 172.678125 103.84 \r\nL 142.918125 103.84 \r\nL 142.918125 79.68 \r\n\" style=\"fill:#ffffd9;\"/>\r\n    <path clip-path=\"url(#p56fbe86bf8)\" d=\"M 172.678125 79.68 \r\nL 202.438125 79.68 \r\nL 202.438125 103.84 \r\nL 172.678125 103.84 \r\nL 172.678125 79.68 \r\n\" style=\"fill:#ffffd9;\"/>\r\n    <path clip-path=\"url(#p56fbe86bf8)\" d=\"M 202.438125 79.68 \r\nL 232.198125 79.68 \r\nL 232.198125 103.84 \r\nL 202.438125 103.84 \r\nL 202.438125 79.68 \r\n\" style=\"fill:#ffffd9;\"/>\r\n    <path clip-path=\"url(#p56fbe86bf8)\" d=\"M 232.198125 79.68 \r\nL 261.958125 79.68 \r\nL 261.958125 103.84 \r\nL 232.198125 103.84 \r\nL 232.198125 79.68 \r\n\" style=\"fill:#ffffd9;\"/>\r\n    <path clip-path=\"url(#p56fbe86bf8)\" d=\"M 261.958125 79.68 \r\nL 291.718125 79.68 \r\nL 291.718125 103.84 \r\nL 261.958125 103.84 \r\nL 261.958125 79.68 \r\n\" style=\"fill:#ffffd9;\"/>\r\n    <path clip-path=\"url(#p56fbe86bf8)\" d=\"M 23.878125 103.84 \r\nL 53.638125 103.84 \r\nL 53.638125 128 \r\nL 23.878125 128 \r\nL 23.878125 103.84 \r\n\" style=\"fill:#ffffd9;\"/>\r\n    <path clip-path=\"url(#p56fbe86bf8)\" d=\"M 53.638125 103.84 \r\nL 83.398125 103.84 \r\nL 83.398125 128 \r\nL 53.638125 128 \r\nL 53.638125 103.84 \r\n\" style=\"fill:#ffffd9;\"/>\r\n    <path clip-path=\"url(#p56fbe86bf8)\" d=\"M 83.398125 103.84 \r\nL 113.158125 103.84 \r\nL 113.158125 128 \r\nL 83.398125 128 \r\nL 83.398125 103.84 \r\n\" style=\"fill:#ffffd9;\"/>\r\n    <path clip-path=\"url(#p56fbe86bf8)\" d=\"M 113.158125 103.84 \r\nL 142.918125 103.84 \r\nL 142.918125 128 \r\nL 113.158125 128 \r\nL 113.158125 103.84 \r\n\" style=\"fill:#ffffd9;\"/>\r\n    <path clip-path=\"url(#p56fbe86bf8)\" d=\"M 142.918125 103.84 \r\nL 172.678125 103.84 \r\nL 172.678125 128 \r\nL 142.918125 128 \r\nL 142.918125 103.84 \r\n\" style=\"fill:#2075b3;\"/>\r\n    <path clip-path=\"url(#p56fbe86bf8)\" d=\"M 172.678125 103.84 \r\nL 202.438125 103.84 \r\nL 202.438125 128 \r\nL 172.678125 128 \r\nL 172.678125 103.84 \r\n\" style=\"fill:#ffffd9;\"/>\r\n    <path clip-path=\"url(#p56fbe86bf8)\" d=\"M 202.438125 103.84 \r\nL 232.198125 103.84 \r\nL 232.198125 128 \r\nL 202.438125 128 \r\nL 202.438125 103.84 \r\n\" style=\"fill:#ffffd9;\"/>\r\n    <path clip-path=\"url(#p56fbe86bf8)\" d=\"M 232.198125 103.84 \r\nL 261.958125 103.84 \r\nL 261.958125 128 \r\nL 232.198125 128 \r\nL 232.198125 103.84 \r\n\" style=\"fill:#ffffd9;\"/>\r\n    <path clip-path=\"url(#p56fbe86bf8)\" d=\"M 261.958125 103.84 \r\nL 291.718125 103.84 \r\nL 291.718125 128 \r\nL 261.958125 128 \r\nL 261.958125 103.84 \r\n\" style=\"fill:#ffffd9;\"/>\r\n    <path clip-path=\"url(#p56fbe86bf8)\" d=\"M 23.878125 128 \r\nL 53.638125 128 \r\nL 53.638125 152.16 \r\nL 23.878125 152.16 \r\nL 23.878125 128 \r\n\" style=\"fill:#ffffd9;\"/>\r\n    <path clip-path=\"url(#p56fbe86bf8)\" d=\"M 53.638125 128 \r\nL 83.398125 128 \r\nL 83.398125 152.16 \r\nL 53.638125 152.16 \r\nL 53.638125 128 \r\n\" style=\"fill:#ffffd9;\"/>\r\n    <path clip-path=\"url(#p56fbe86bf8)\" d=\"M 83.398125 128 \r\nL 113.158125 128 \r\nL 113.158125 152.16 \r\nL 83.398125 152.16 \r\nL 83.398125 128 \r\n\" style=\"fill:#ffffd9;\"/>\r\n    <path clip-path=\"url(#p56fbe86bf8)\" d=\"M 113.158125 128 \r\nL 142.918125 128 \r\nL 142.918125 152.16 \r\nL 113.158125 152.16 \r\nL 113.158125 128 \r\n\" style=\"fill:#ffffd9;\"/>\r\n    <path clip-path=\"url(#p56fbe86bf8)\" d=\"M 142.918125 128 \r\nL 172.678125 128 \r\nL 172.678125 152.16 \r\nL 142.918125 152.16 \r\nL 142.918125 128 \r\n\" style=\"fill:#ffffd9;\"/>\r\n    <path clip-path=\"url(#p56fbe86bf8)\" d=\"M 172.678125 128 \r\nL 202.438125 128 \r\nL 202.438125 152.16 \r\nL 172.678125 152.16 \r\nL 172.678125 128 \r\n\" style=\"fill:#2258a5;\"/>\r\n    <path clip-path=\"url(#p56fbe86bf8)\" d=\"M 202.438125 128 \r\nL 232.198125 128 \r\nL 232.198125 152.16 \r\nL 202.438125 152.16 \r\nL 202.438125 128 \r\n\" style=\"fill:#ffffd9;\"/>\r\n    <path clip-path=\"url(#p56fbe86bf8)\" d=\"M 232.198125 128 \r\nL 261.958125 128 \r\nL 261.958125 152.16 \r\nL 232.198125 152.16 \r\nL 232.198125 128 \r\n\" style=\"fill:#ffffd9;\"/>\r\n    <path clip-path=\"url(#p56fbe86bf8)\" d=\"M 261.958125 128 \r\nL 291.718125 128 \r\nL 291.718125 152.16 \r\nL 261.958125 152.16 \r\nL 261.958125 128 \r\n\" style=\"fill:#ffffd9;\"/>\r\n    <path clip-path=\"url(#p56fbe86bf8)\" d=\"M 23.878125 152.16 \r\nL 53.638125 152.16 \r\nL 53.638125 176.32 \r\nL 23.878125 176.32 \r\nL 23.878125 152.16 \r\n\" style=\"fill:#ffffd9;\"/>\r\n    <path clip-path=\"url(#p56fbe86bf8)\" d=\"M 53.638125 152.16 \r\nL 83.398125 152.16 \r\nL 83.398125 176.32 \r\nL 53.638125 176.32 \r\nL 53.638125 152.16 \r\n\" style=\"fill:#ffffd9;\"/>\r\n    <path clip-path=\"url(#p56fbe86bf8)\" d=\"M 83.398125 152.16 \r\nL 113.158125 152.16 \r\nL 113.158125 176.32 \r\nL 83.398125 176.32 \r\nL 83.398125 152.16 \r\n\" style=\"fill:#ffffd9;\"/>\r\n    <path clip-path=\"url(#p56fbe86bf8)\" d=\"M 113.158125 152.16 \r\nL 142.918125 152.16 \r\nL 142.918125 176.32 \r\nL 113.158125 176.32 \r\nL 113.158125 152.16 \r\n\" style=\"fill:#ffffd9;\"/>\r\n    <path clip-path=\"url(#p56fbe86bf8)\" d=\"M 142.918125 152.16 \r\nL 172.678125 152.16 \r\nL 172.678125 176.32 \r\nL 142.918125 176.32 \r\nL 142.918125 152.16 \r\n\" style=\"fill:#f4fbc1;\"/>\r\n    <path clip-path=\"url(#p56fbe86bf8)\" d=\"M 172.678125 152.16 \r\nL 202.438125 152.16 \r\nL 202.438125 176.32 \r\nL 172.678125 176.32 \r\nL 172.678125 152.16 \r\n\" style=\"fill:#ffffd9;\"/>\r\n    <path clip-path=\"url(#p56fbe86bf8)\" d=\"M 202.438125 152.16 \r\nL 232.198125 152.16 \r\nL 232.198125 176.32 \r\nL 202.438125 176.32 \r\nL 202.438125 152.16 \r\n\" style=\"fill:#ffffd9;\"/>\r\n    <path clip-path=\"url(#p56fbe86bf8)\" d=\"M 232.198125 152.16 \r\nL 261.958125 152.16 \r\nL 261.958125 176.32 \r\nL 232.198125 176.32 \r\nL 232.198125 152.16 \r\n\" style=\"fill:#36abc3;\"/>\r\n    <path clip-path=\"url(#p56fbe86bf8)\" d=\"M 261.958125 152.16 \r\nL 291.718125 152.16 \r\nL 291.718125 176.32 \r\nL 261.958125 176.32 \r\nL 261.958125 152.16 \r\n\" style=\"fill:#ffffd9;\"/>\r\n    <path clip-path=\"url(#p56fbe86bf8)\" d=\"M 23.878125 176.32 \r\nL 53.638125 176.32 \r\nL 53.638125 200.48 \r\nL 23.878125 200.48 \r\nL 23.878125 176.32 \r\n\" style=\"fill:#ffffd9;\"/>\r\n    <path clip-path=\"url(#p56fbe86bf8)\" d=\"M 53.638125 176.32 \r\nL 83.398125 176.32 \r\nL 83.398125 200.48 \r\nL 53.638125 200.48 \r\nL 53.638125 176.32 \r\n\" style=\"fill:#ffffd9;\"/>\r\n    <path clip-path=\"url(#p56fbe86bf8)\" d=\"M 83.398125 176.32 \r\nL 113.158125 176.32 \r\nL 113.158125 200.48 \r\nL 83.398125 200.48 \r\nL 83.398125 176.32 \r\n\" style=\"fill:#ffffd9;\"/>\r\n    <path clip-path=\"url(#p56fbe86bf8)\" d=\"M 113.158125 176.32 \r\nL 142.918125 176.32 \r\nL 142.918125 200.48 \r\nL 113.158125 200.48 \r\nL 113.158125 176.32 \r\n\" style=\"fill:#ffffd9;\"/>\r\n    <path clip-path=\"url(#p56fbe86bf8)\" d=\"M 142.918125 176.32 \r\nL 172.678125 176.32 \r\nL 172.678125 200.48 \r\nL 142.918125 200.48 \r\nL 142.918125 176.32 \r\n\" style=\"fill:#ffffd9;\"/>\r\n    <path clip-path=\"url(#p56fbe86bf8)\" d=\"M 172.678125 176.32 \r\nL 202.438125 176.32 \r\nL 202.438125 200.48 \r\nL 172.678125 200.48 \r\nL 172.678125 176.32 \r\n\" style=\"fill:#ffffd9;\"/>\r\n    <path clip-path=\"url(#p56fbe86bf8)\" d=\"M 202.438125 176.32 \r\nL 232.198125 176.32 \r\nL 232.198125 200.48 \r\nL 202.438125 200.48 \r\nL 202.438125 176.32 \r\n\" style=\"fill:#ffffd9;\"/>\r\n    <path clip-path=\"url(#p56fbe86bf8)\" d=\"M 232.198125 176.32 \r\nL 261.958125 176.32 \r\nL 261.958125 200.48 \r\nL 232.198125 200.48 \r\nL 232.198125 176.32 \r\n\" style=\"fill:#081d58;\"/>\r\n    <path clip-path=\"url(#p56fbe86bf8)\" d=\"M 261.958125 176.32 \r\nL 291.718125 176.32 \r\nL 291.718125 200.48 \r\nL 261.958125 200.48 \r\nL 261.958125 176.32 \r\n\" style=\"fill:#ffffd9;\"/>\r\n    <path clip-path=\"url(#p56fbe86bf8)\" d=\"M 23.878125 200.48 \r\nL 53.638125 200.48 \r\nL 53.638125 224.64 \r\nL 23.878125 224.64 \r\nL 23.878125 200.48 \r\n\" style=\"fill:#ffffd9;\"/>\r\n    <path clip-path=\"url(#p56fbe86bf8)\" d=\"M 53.638125 200.48 \r\nL 83.398125 200.48 \r\nL 83.398125 224.64 \r\nL 53.638125 224.64 \r\nL 53.638125 200.48 \r\n\" style=\"fill:#ffffd9;\"/>\r\n    <path clip-path=\"url(#p56fbe86bf8)\" d=\"M 83.398125 200.48 \r\nL 113.158125 200.48 \r\nL 113.158125 224.64 \r\nL 83.398125 224.64 \r\nL 83.398125 200.48 \r\n\" style=\"fill:#ffffd9;\"/>\r\n    <path clip-path=\"url(#p56fbe86bf8)\" d=\"M 113.158125 200.48 \r\nL 142.918125 200.48 \r\nL 142.918125 224.64 \r\nL 113.158125 224.64 \r\nL 113.158125 200.48 \r\n\" style=\"fill:#ffffd9;\"/>\r\n    <path clip-path=\"url(#p56fbe86bf8)\" d=\"M 142.918125 200.48 \r\nL 172.678125 200.48 \r\nL 172.678125 224.64 \r\nL 142.918125 224.64 \r\nL 142.918125 200.48 \r\n\" style=\"fill:#ffffd9;\"/>\r\n    <path clip-path=\"url(#p56fbe86bf8)\" d=\"M 172.678125 200.48 \r\nL 202.438125 200.48 \r\nL 202.438125 224.64 \r\nL 172.678125 224.64 \r\nL 172.678125 200.48 \r\n\" style=\"fill:#ffffd9;\"/>\r\n    <path clip-path=\"url(#p56fbe86bf8)\" d=\"M 202.438125 200.48 \r\nL 232.198125 200.48 \r\nL 232.198125 224.64 \r\nL 202.438125 224.64 \r\nL 202.438125 200.48 \r\n\" style=\"fill:#ffffd9;\"/>\r\n    <path clip-path=\"url(#p56fbe86bf8)\" d=\"M 232.198125 200.48 \r\nL 261.958125 200.48 \r\nL 261.958125 224.64 \r\nL 232.198125 224.64 \r\nL 232.198125 200.48 \r\n\" style=\"fill:#f4fbc1;\"/>\r\n    <path clip-path=\"url(#p56fbe86bf8)\" d=\"M 261.958125 200.48 \r\nL 291.718125 200.48 \r\nL 291.718125 224.64 \r\nL 261.958125 224.64 \r\nL 261.958125 200.48 \r\n\" style=\"fill:#2075b3;\"/>\r\n   </g>\r\n   <g id=\"matplotlib.axis_1\">\r\n    <g id=\"xtick_1\">\r\n     <g id=\"line2d_1\">\r\n      <defs>\r\n       <path d=\"M 0 0 \r\nL 0 3.5 \r\n\" id=\"m5d00073346\" style=\"stroke:#000000;stroke-width:0.8;\"/>\r\n      </defs>\r\n      <g>\r\n       <use style=\"stroke:#000000;stroke-width:0.8;\" x=\"38.758125\" xlink:href=\"#m5d00073346\" y=\"224.64\"/>\r\n      </g>\r\n     </g>\r\n     <g id=\"text_1\">\r\n      <!-- 0 -->\r\n      <g transform=\"translate(35.576875 239.238438)scale(0.1 -0.1)\">\r\n       <defs>\r\n        <path d=\"M 31.78125 66.40625 \r\nQ 24.171875 66.40625 20.328125 58.90625 \r\nQ 16.5 51.421875 16.5 36.375 \r\nQ 16.5 21.390625 20.328125 13.890625 \r\nQ 24.171875 6.390625 31.78125 6.390625 \r\nQ 39.453125 6.390625 43.28125 13.890625 \r\nQ 47.125 21.390625 47.125 36.375 \r\nQ 47.125 51.421875 43.28125 58.90625 \r\nQ 39.453125 66.40625 31.78125 66.40625 \r\nz\r\nM 31.78125 74.21875 \r\nQ 44.046875 74.21875 50.515625 64.515625 \r\nQ 56.984375 54.828125 56.984375 36.375 \r\nQ 56.984375 17.96875 50.515625 8.265625 \r\nQ 44.046875 -1.421875 31.78125 -1.421875 \r\nQ 19.53125 -1.421875 13.0625 8.265625 \r\nQ 6.59375 17.96875 6.59375 36.375 \r\nQ 6.59375 54.828125 13.0625 64.515625 \r\nQ 19.53125 74.21875 31.78125 74.21875 \r\nz\r\n\" id=\"DejaVuSans-48\"/>\r\n       </defs>\r\n       <use xlink:href=\"#DejaVuSans-48\"/>\r\n      </g>\r\n     </g>\r\n    </g>\r\n    <g id=\"xtick_2\">\r\n     <g id=\"line2d_2\">\r\n      <g>\r\n       <use style=\"stroke:#000000;stroke-width:0.8;\" x=\"68.518125\" xlink:href=\"#m5d00073346\" y=\"224.64\"/>\r\n      </g>\r\n     </g>\r\n     <g id=\"text_2\">\r\n      <!-- 1 -->\r\n      <g transform=\"translate(65.336875 239.238438)scale(0.1 -0.1)\">\r\n       <defs>\r\n        <path d=\"M 12.40625 8.296875 \r\nL 28.515625 8.296875 \r\nL 28.515625 63.921875 \r\nL 10.984375 60.40625 \r\nL 10.984375 69.390625 \r\nL 28.421875 72.90625 \r\nL 38.28125 72.90625 \r\nL 38.28125 8.296875 \r\nL 54.390625 8.296875 \r\nL 54.390625 0 \r\nL 12.40625 0 \r\nz\r\n\" id=\"DejaVuSans-49\"/>\r\n       </defs>\r\n       <use xlink:href=\"#DejaVuSans-49\"/>\r\n      </g>\r\n     </g>\r\n    </g>\r\n    <g id=\"xtick_3\">\r\n     <g id=\"line2d_3\">\r\n      <g>\r\n       <use style=\"stroke:#000000;stroke-width:0.8;\" x=\"98.278125\" xlink:href=\"#m5d00073346\" y=\"224.64\"/>\r\n      </g>\r\n     </g>\r\n     <g id=\"text_3\">\r\n      <!-- 2 -->\r\n      <g transform=\"translate(95.096875 239.238438)scale(0.1 -0.1)\">\r\n       <defs>\r\n        <path d=\"M 19.1875 8.296875 \r\nL 53.609375 8.296875 \r\nL 53.609375 0 \r\nL 7.328125 0 \r\nL 7.328125 8.296875 \r\nQ 12.9375 14.109375 22.625 23.890625 \r\nQ 32.328125 33.6875 34.8125 36.53125 \r\nQ 39.546875 41.84375 41.421875 45.53125 \r\nQ 43.3125 49.21875 43.3125 52.78125 \r\nQ 43.3125 58.59375 39.234375 62.25 \r\nQ 35.15625 65.921875 28.609375 65.921875 \r\nQ 23.96875 65.921875 18.8125 64.3125 \r\nQ 13.671875 62.703125 7.8125 59.421875 \r\nL 7.8125 69.390625 \r\nQ 13.765625 71.78125 18.9375 73 \r\nQ 24.125 74.21875 28.421875 74.21875 \r\nQ 39.75 74.21875 46.484375 68.546875 \r\nQ 53.21875 62.890625 53.21875 53.421875 \r\nQ 53.21875 48.921875 51.53125 44.890625 \r\nQ 49.859375 40.875 45.40625 35.40625 \r\nQ 44.1875 33.984375 37.640625 27.21875 \r\nQ 31.109375 20.453125 19.1875 8.296875 \r\nz\r\n\" id=\"DejaVuSans-50\"/>\r\n       </defs>\r\n       <use xlink:href=\"#DejaVuSans-50\"/>\r\n      </g>\r\n     </g>\r\n    </g>\r\n    <g id=\"xtick_4\">\r\n     <g id=\"line2d_4\">\r\n      <g>\r\n       <use style=\"stroke:#000000;stroke-width:0.8;\" x=\"128.038125\" xlink:href=\"#m5d00073346\" y=\"224.64\"/>\r\n      </g>\r\n     </g>\r\n     <g id=\"text_4\">\r\n      <!-- 3 -->\r\n      <g transform=\"translate(124.856875 239.238438)scale(0.1 -0.1)\">\r\n       <defs>\r\n        <path d=\"M 40.578125 39.3125 \r\nQ 47.65625 37.796875 51.625 33 \r\nQ 55.609375 28.21875 55.609375 21.1875 \r\nQ 55.609375 10.40625 48.1875 4.484375 \r\nQ 40.765625 -1.421875 27.09375 -1.421875 \r\nQ 22.515625 -1.421875 17.65625 -0.515625 \r\nQ 12.796875 0.390625 7.625 2.203125 \r\nL 7.625 11.71875 \r\nQ 11.71875 9.328125 16.59375 8.109375 \r\nQ 21.484375 6.890625 26.8125 6.890625 \r\nQ 36.078125 6.890625 40.9375 10.546875 \r\nQ 45.796875 14.203125 45.796875 21.1875 \r\nQ 45.796875 27.640625 41.28125 31.265625 \r\nQ 36.765625 34.90625 28.71875 34.90625 \r\nL 20.21875 34.90625 \r\nL 20.21875 43.015625 \r\nL 29.109375 43.015625 \r\nQ 36.375 43.015625 40.234375 45.921875 \r\nQ 44.09375 48.828125 44.09375 54.296875 \r\nQ 44.09375 59.90625 40.109375 62.90625 \r\nQ 36.140625 65.921875 28.71875 65.921875 \r\nQ 24.65625 65.921875 20.015625 65.03125 \r\nQ 15.375 64.15625 9.8125 62.3125 \r\nL 9.8125 71.09375 \r\nQ 15.4375 72.65625 20.34375 73.4375 \r\nQ 25.25 74.21875 29.59375 74.21875 \r\nQ 40.828125 74.21875 47.359375 69.109375 \r\nQ 53.90625 64.015625 53.90625 55.328125 \r\nQ 53.90625 49.265625 50.4375 45.09375 \r\nQ 46.96875 40.921875 40.578125 39.3125 \r\nz\r\n\" id=\"DejaVuSans-51\"/>\r\n       </defs>\r\n       <use xlink:href=\"#DejaVuSans-51\"/>\r\n      </g>\r\n     </g>\r\n    </g>\r\n    <g id=\"xtick_5\">\r\n     <g id=\"line2d_5\">\r\n      <g>\r\n       <use style=\"stroke:#000000;stroke-width:0.8;\" x=\"157.798125\" xlink:href=\"#m5d00073346\" y=\"224.64\"/>\r\n      </g>\r\n     </g>\r\n     <g id=\"text_5\">\r\n      <!-- 4 -->\r\n      <g transform=\"translate(154.616875 239.238438)scale(0.1 -0.1)\">\r\n       <defs>\r\n        <path d=\"M 37.796875 64.3125 \r\nL 12.890625 25.390625 \r\nL 37.796875 25.390625 \r\nz\r\nM 35.203125 72.90625 \r\nL 47.609375 72.90625 \r\nL 47.609375 25.390625 \r\nL 58.015625 25.390625 \r\nL 58.015625 17.1875 \r\nL 47.609375 17.1875 \r\nL 47.609375 0 \r\nL 37.796875 0 \r\nL 37.796875 17.1875 \r\nL 4.890625 17.1875 \r\nL 4.890625 26.703125 \r\nz\r\n\" id=\"DejaVuSans-52\"/>\r\n       </defs>\r\n       <use xlink:href=\"#DejaVuSans-52\"/>\r\n      </g>\r\n     </g>\r\n    </g>\r\n    <g id=\"xtick_6\">\r\n     <g id=\"line2d_6\">\r\n      <g>\r\n       <use style=\"stroke:#000000;stroke-width:0.8;\" x=\"187.558125\" xlink:href=\"#m5d00073346\" y=\"224.64\"/>\r\n      </g>\r\n     </g>\r\n     <g id=\"text_6\">\r\n      <!-- 5 -->\r\n      <g transform=\"translate(184.376875 239.238438)scale(0.1 -0.1)\">\r\n       <defs>\r\n        <path d=\"M 10.796875 72.90625 \r\nL 49.515625 72.90625 \r\nL 49.515625 64.59375 \r\nL 19.828125 64.59375 \r\nL 19.828125 46.734375 \r\nQ 21.96875 47.46875 24.109375 47.828125 \r\nQ 26.265625 48.1875 28.421875 48.1875 \r\nQ 40.625 48.1875 47.75 41.5 \r\nQ 54.890625 34.8125 54.890625 23.390625 \r\nQ 54.890625 11.625 47.5625 5.09375 \r\nQ 40.234375 -1.421875 26.90625 -1.421875 \r\nQ 22.3125 -1.421875 17.546875 -0.640625 \r\nQ 12.796875 0.140625 7.71875 1.703125 \r\nL 7.71875 11.625 \r\nQ 12.109375 9.234375 16.796875 8.0625 \r\nQ 21.484375 6.890625 26.703125 6.890625 \r\nQ 35.15625 6.890625 40.078125 11.328125 \r\nQ 45.015625 15.765625 45.015625 23.390625 \r\nQ 45.015625 31 40.078125 35.4375 \r\nQ 35.15625 39.890625 26.703125 39.890625 \r\nQ 22.75 39.890625 18.8125 39.015625 \r\nQ 14.890625 38.140625 10.796875 36.28125 \r\nz\r\n\" id=\"DejaVuSans-53\"/>\r\n       </defs>\r\n       <use xlink:href=\"#DejaVuSans-53\"/>\r\n      </g>\r\n     </g>\r\n    </g>\r\n    <g id=\"xtick_7\">\r\n     <g id=\"line2d_7\">\r\n      <g>\r\n       <use style=\"stroke:#000000;stroke-width:0.8;\" x=\"217.318125\" xlink:href=\"#m5d00073346\" y=\"224.64\"/>\r\n      </g>\r\n     </g>\r\n     <g id=\"text_7\">\r\n      <!-- 6 -->\r\n      <g transform=\"translate(214.136875 239.238438)scale(0.1 -0.1)\">\r\n       <defs>\r\n        <path d=\"M 33.015625 40.375 \r\nQ 26.375 40.375 22.484375 35.828125 \r\nQ 18.609375 31.296875 18.609375 23.390625 \r\nQ 18.609375 15.53125 22.484375 10.953125 \r\nQ 26.375 6.390625 33.015625 6.390625 \r\nQ 39.65625 6.390625 43.53125 10.953125 \r\nQ 47.40625 15.53125 47.40625 23.390625 \r\nQ 47.40625 31.296875 43.53125 35.828125 \r\nQ 39.65625 40.375 33.015625 40.375 \r\nz\r\nM 52.59375 71.296875 \r\nL 52.59375 62.3125 \r\nQ 48.875 64.0625 45.09375 64.984375 \r\nQ 41.3125 65.921875 37.59375 65.921875 \r\nQ 27.828125 65.921875 22.671875 59.328125 \r\nQ 17.53125 52.734375 16.796875 39.40625 \r\nQ 19.671875 43.65625 24.015625 45.921875 \r\nQ 28.375 48.1875 33.59375 48.1875 \r\nQ 44.578125 48.1875 50.953125 41.515625 \r\nQ 57.328125 34.859375 57.328125 23.390625 \r\nQ 57.328125 12.15625 50.6875 5.359375 \r\nQ 44.046875 -1.421875 33.015625 -1.421875 \r\nQ 20.359375 -1.421875 13.671875 8.265625 \r\nQ 6.984375 17.96875 6.984375 36.375 \r\nQ 6.984375 53.65625 15.1875 63.9375 \r\nQ 23.390625 74.21875 37.203125 74.21875 \r\nQ 40.921875 74.21875 44.703125 73.484375 \r\nQ 48.484375 72.75 52.59375 71.296875 \r\nz\r\n\" id=\"DejaVuSans-54\"/>\r\n       </defs>\r\n       <use xlink:href=\"#DejaVuSans-54\"/>\r\n      </g>\r\n     </g>\r\n    </g>\r\n    <g id=\"xtick_8\">\r\n     <g id=\"line2d_8\">\r\n      <g>\r\n       <use style=\"stroke:#000000;stroke-width:0.8;\" x=\"247.078125\" xlink:href=\"#m5d00073346\" y=\"224.64\"/>\r\n      </g>\r\n     </g>\r\n     <g id=\"text_8\">\r\n      <!-- 7 -->\r\n      <g transform=\"translate(243.896875 239.238438)scale(0.1 -0.1)\">\r\n       <defs>\r\n        <path d=\"M 8.203125 72.90625 \r\nL 55.078125 72.90625 \r\nL 55.078125 68.703125 \r\nL 28.609375 0 \r\nL 18.3125 0 \r\nL 43.21875 64.59375 \r\nL 8.203125 64.59375 \r\nz\r\n\" id=\"DejaVuSans-55\"/>\r\n       </defs>\r\n       <use xlink:href=\"#DejaVuSans-55\"/>\r\n      </g>\r\n     </g>\r\n    </g>\r\n    <g id=\"xtick_9\">\r\n     <g id=\"line2d_9\">\r\n      <g>\r\n       <use style=\"stroke:#000000;stroke-width:0.8;\" x=\"276.838125\" xlink:href=\"#m5d00073346\" y=\"224.64\"/>\r\n      </g>\r\n     </g>\r\n     <g id=\"text_9\">\r\n      <!-- 8 -->\r\n      <g transform=\"translate(273.656875 239.238438)scale(0.1 -0.1)\">\r\n       <defs>\r\n        <path d=\"M 31.78125 34.625 \r\nQ 24.75 34.625 20.71875 30.859375 \r\nQ 16.703125 27.09375 16.703125 20.515625 \r\nQ 16.703125 13.921875 20.71875 10.15625 \r\nQ 24.75 6.390625 31.78125 6.390625 \r\nQ 38.8125 6.390625 42.859375 10.171875 \r\nQ 46.921875 13.96875 46.921875 20.515625 \r\nQ 46.921875 27.09375 42.890625 30.859375 \r\nQ 38.875 34.625 31.78125 34.625 \r\nz\r\nM 21.921875 38.8125 \r\nQ 15.578125 40.375 12.03125 44.71875 \r\nQ 8.5 49.078125 8.5 55.328125 \r\nQ 8.5 64.0625 14.71875 69.140625 \r\nQ 20.953125 74.21875 31.78125 74.21875 \r\nQ 42.671875 74.21875 48.875 69.140625 \r\nQ 55.078125 64.0625 55.078125 55.328125 \r\nQ 55.078125 49.078125 51.53125 44.71875 \r\nQ 48 40.375 41.703125 38.8125 \r\nQ 48.828125 37.15625 52.796875 32.3125 \r\nQ 56.78125 27.484375 56.78125 20.515625 \r\nQ 56.78125 9.90625 50.3125 4.234375 \r\nQ 43.84375 -1.421875 31.78125 -1.421875 \r\nQ 19.734375 -1.421875 13.25 4.234375 \r\nQ 6.78125 9.90625 6.78125 20.515625 \r\nQ 6.78125 27.484375 10.78125 32.3125 \r\nQ 14.796875 37.15625 21.921875 38.8125 \r\nz\r\nM 18.3125 54.390625 \r\nQ 18.3125 48.734375 21.84375 45.5625 \r\nQ 25.390625 42.390625 31.78125 42.390625 \r\nQ 38.140625 42.390625 41.71875 45.5625 \r\nQ 45.3125 48.734375 45.3125 54.390625 \r\nQ 45.3125 60.0625 41.71875 63.234375 \r\nQ 38.140625 66.40625 31.78125 66.40625 \r\nQ 25.390625 66.40625 21.84375 63.234375 \r\nQ 18.3125 60.0625 18.3125 54.390625 \r\nz\r\n\" id=\"DejaVuSans-56\"/>\r\n       </defs>\r\n       <use xlink:href=\"#DejaVuSans-56\"/>\r\n      </g>\r\n     </g>\r\n    </g>\r\n   </g>\r\n   <g id=\"matplotlib.axis_2\">\r\n    <g id=\"ytick_1\">\r\n     <g id=\"line2d_10\">\r\n      <defs>\r\n       <path d=\"M 0 0 \r\nL -3.5 0 \r\n\" id=\"mf6bf6fedea\" style=\"stroke:#000000;stroke-width:0.8;\"/>\r\n      </defs>\r\n      <g>\r\n       <use style=\"stroke:#000000;stroke-width:0.8;\" x=\"23.878125\" xlink:href=\"#mf6bf6fedea\" y=\"19.28\"/>\r\n      </g>\r\n     </g>\r\n     <g id=\"text_10\">\r\n      <!-- 0 -->\r\n      <g transform=\"translate(14.798438 21.843281)rotate(-90)scale(0.1 -0.1)\">\r\n       <use xlink:href=\"#DejaVuSans-48\"/>\r\n      </g>\r\n     </g>\r\n    </g>\r\n    <g id=\"ytick_2\">\r\n     <g id=\"line2d_11\">\r\n      <g>\r\n       <use style=\"stroke:#000000;stroke-width:0.8;\" x=\"23.878125\" xlink:href=\"#mf6bf6fedea\" y=\"43.44\"/>\r\n      </g>\r\n     </g>\r\n     <g id=\"text_11\">\r\n      <!-- 1 -->\r\n      <g transform=\"translate(14.798438 46.003281)rotate(-90)scale(0.1 -0.1)\">\r\n       <use xlink:href=\"#DejaVuSans-49\"/>\r\n      </g>\r\n     </g>\r\n    </g>\r\n    <g id=\"ytick_3\">\r\n     <g id=\"line2d_12\">\r\n      <g>\r\n       <use style=\"stroke:#000000;stroke-width:0.8;\" x=\"23.878125\" xlink:href=\"#mf6bf6fedea\" y=\"67.6\"/>\r\n      </g>\r\n     </g>\r\n     <g id=\"text_12\">\r\n      <!-- 2 -->\r\n      <g transform=\"translate(14.798438 70.163281)rotate(-90)scale(0.1 -0.1)\">\r\n       <use xlink:href=\"#DejaVuSans-50\"/>\r\n      </g>\r\n     </g>\r\n    </g>\r\n    <g id=\"ytick_4\">\r\n     <g id=\"line2d_13\">\r\n      <g>\r\n       <use style=\"stroke:#000000;stroke-width:0.8;\" x=\"23.878125\" xlink:href=\"#mf6bf6fedea\" y=\"91.76\"/>\r\n      </g>\r\n     </g>\r\n     <g id=\"text_13\">\r\n      <!-- 3 -->\r\n      <g transform=\"translate(14.798438 94.323281)rotate(-90)scale(0.1 -0.1)\">\r\n       <use xlink:href=\"#DejaVuSans-51\"/>\r\n      </g>\r\n     </g>\r\n    </g>\r\n    <g id=\"ytick_5\">\r\n     <g id=\"line2d_14\">\r\n      <g>\r\n       <use style=\"stroke:#000000;stroke-width:0.8;\" x=\"23.878125\" xlink:href=\"#mf6bf6fedea\" y=\"115.92\"/>\r\n      </g>\r\n     </g>\r\n     <g id=\"text_14\">\r\n      <!-- 4 -->\r\n      <g transform=\"translate(14.798438 118.483281)rotate(-90)scale(0.1 -0.1)\">\r\n       <use xlink:href=\"#DejaVuSans-52\"/>\r\n      </g>\r\n     </g>\r\n    </g>\r\n    <g id=\"ytick_6\">\r\n     <g id=\"line2d_15\">\r\n      <g>\r\n       <use style=\"stroke:#000000;stroke-width:0.8;\" x=\"23.878125\" xlink:href=\"#mf6bf6fedea\" y=\"140.08\"/>\r\n      </g>\r\n     </g>\r\n     <g id=\"text_15\">\r\n      <!-- 5 -->\r\n      <g transform=\"translate(14.798438 142.643281)rotate(-90)scale(0.1 -0.1)\">\r\n       <use xlink:href=\"#DejaVuSans-53\"/>\r\n      </g>\r\n     </g>\r\n    </g>\r\n    <g id=\"ytick_7\">\r\n     <g id=\"line2d_16\">\r\n      <g>\r\n       <use style=\"stroke:#000000;stroke-width:0.8;\" x=\"23.878125\" xlink:href=\"#mf6bf6fedea\" y=\"164.24\"/>\r\n      </g>\r\n     </g>\r\n     <g id=\"text_16\">\r\n      <!-- 6 -->\r\n      <g transform=\"translate(14.798438 166.803281)rotate(-90)scale(0.1 -0.1)\">\r\n       <use xlink:href=\"#DejaVuSans-54\"/>\r\n      </g>\r\n     </g>\r\n    </g>\r\n    <g id=\"ytick_8\">\r\n     <g id=\"line2d_17\">\r\n      <g>\r\n       <use style=\"stroke:#000000;stroke-width:0.8;\" x=\"23.878125\" xlink:href=\"#mf6bf6fedea\" y=\"188.4\"/>\r\n      </g>\r\n     </g>\r\n     <g id=\"text_17\">\r\n      <!-- 7 -->\r\n      <g transform=\"translate(14.798438 190.963281)rotate(-90)scale(0.1 -0.1)\">\r\n       <use xlink:href=\"#DejaVuSans-55\"/>\r\n      </g>\r\n     </g>\r\n    </g>\r\n    <g id=\"ytick_9\">\r\n     <g id=\"line2d_18\">\r\n      <g>\r\n       <use style=\"stroke:#000000;stroke-width:0.8;\" x=\"23.878125\" xlink:href=\"#mf6bf6fedea\" y=\"212.56\"/>\r\n      </g>\r\n     </g>\r\n     <g id=\"text_18\">\r\n      <!-- 8 -->\r\n      <g transform=\"translate(14.798438 215.123281)rotate(-90)scale(0.1 -0.1)\">\r\n       <use xlink:href=\"#DejaVuSans-56\"/>\r\n      </g>\r\n     </g>\r\n    </g>\r\n   </g>\r\n   <g id=\"text_19\">\r\n    <!-- 8 -->\r\n    <g style=\"fill:#ffffff;\" transform=\"translate(35.576875 22.039375)scale(0.1 -0.1)\">\r\n     <use xlink:href=\"#DejaVuSans-56\"/>\r\n    </g>\r\n   </g>\r\n   <g id=\"text_20\">\r\n    <!-- 0 -->\r\n    <g style=\"fill:#262626;\" transform=\"translate(65.336875 22.039375)scale(0.1 -0.1)\">\r\n     <use xlink:href=\"#DejaVuSans-48\"/>\r\n    </g>\r\n   </g>\r\n   <g id=\"text_21\">\r\n    <!-- 0 -->\r\n    <g style=\"fill:#262626;\" transform=\"translate(95.096875 22.039375)scale(0.1 -0.1)\">\r\n     <use xlink:href=\"#DejaVuSans-48\"/>\r\n    </g>\r\n   </g>\r\n   <g id=\"text_22\">\r\n    <!-- 0 -->\r\n    <g style=\"fill:#262626;\" transform=\"translate(124.856875 22.039375)scale(0.1 -0.1)\">\r\n     <use xlink:href=\"#DejaVuSans-48\"/>\r\n    </g>\r\n   </g>\r\n   <g id=\"text_23\">\r\n    <!-- 0 -->\r\n    <g style=\"fill:#262626;\" transform=\"translate(154.616875 22.039375)scale(0.1 -0.1)\">\r\n     <use xlink:href=\"#DejaVuSans-48\"/>\r\n    </g>\r\n   </g>\r\n   <g id=\"text_24\">\r\n    <!-- 0 -->\r\n    <g style=\"fill:#262626;\" transform=\"translate(184.376875 22.039375)scale(0.1 -0.1)\">\r\n     <use xlink:href=\"#DejaVuSans-48\"/>\r\n    </g>\r\n   </g>\r\n   <g id=\"text_25\">\r\n    <!-- 0 -->\r\n    <g style=\"fill:#262626;\" transform=\"translate(214.136875 22.039375)scale(0.1 -0.1)\">\r\n     <use xlink:href=\"#DejaVuSans-48\"/>\r\n    </g>\r\n   </g>\r\n   <g id=\"text_26\">\r\n    <!-- 0 -->\r\n    <g style=\"fill:#262626;\" transform=\"translate(243.896875 22.039375)scale(0.1 -0.1)\">\r\n     <use xlink:href=\"#DejaVuSans-48\"/>\r\n    </g>\r\n   </g>\r\n   <g id=\"text_27\">\r\n    <!-- 1 -->\r\n    <g style=\"fill:#262626;\" transform=\"translate(273.656875 22.039375)scale(0.1 -0.1)\">\r\n     <use xlink:href=\"#DejaVuSans-49\"/>\r\n    </g>\r\n   </g>\r\n   <g id=\"text_28\">\r\n    <!-- 0 -->\r\n    <g style=\"fill:#262626;\" transform=\"translate(35.576875 46.199375)scale(0.1 -0.1)\">\r\n     <use xlink:href=\"#DejaVuSans-48\"/>\r\n    </g>\r\n   </g>\r\n   <g id=\"text_29\">\r\n    <!-- 6 -->\r\n    <g style=\"fill:#262626;\" transform=\"translate(65.336875 46.199375)scale(0.1 -0.1)\">\r\n     <use xlink:href=\"#DejaVuSans-54\"/>\r\n    </g>\r\n   </g>\r\n   <g id=\"text_30\">\r\n    <!-- 0 -->\r\n    <g style=\"fill:#262626;\" transform=\"translate(95.096875 46.199375)scale(0.1 -0.1)\">\r\n     <use xlink:href=\"#DejaVuSans-48\"/>\r\n    </g>\r\n   </g>\r\n   <g id=\"text_31\">\r\n    <!-- 0 -->\r\n    <g style=\"fill:#262626;\" transform=\"translate(124.856875 46.199375)scale(0.1 -0.1)\">\r\n     <use xlink:href=\"#DejaVuSans-48\"/>\r\n    </g>\r\n   </g>\r\n   <g id=\"text_32\">\r\n    <!-- 0 -->\r\n    <g style=\"fill:#262626;\" transform=\"translate(154.616875 46.199375)scale(0.1 -0.1)\">\r\n     <use xlink:href=\"#DejaVuSans-48\"/>\r\n    </g>\r\n   </g>\r\n   <g id=\"text_33\">\r\n    <!-- 0 -->\r\n    <g style=\"fill:#262626;\" transform=\"translate(184.376875 46.199375)scale(0.1 -0.1)\">\r\n     <use xlink:href=\"#DejaVuSans-48\"/>\r\n    </g>\r\n   </g>\r\n   <g id=\"text_34\">\r\n    <!-- 0 -->\r\n    <g style=\"fill:#262626;\" transform=\"translate(214.136875 46.199375)scale(0.1 -0.1)\">\r\n     <use xlink:href=\"#DejaVuSans-48\"/>\r\n    </g>\r\n   </g>\r\n   <g id=\"text_35\">\r\n    <!-- 0 -->\r\n    <g style=\"fill:#262626;\" transform=\"translate(243.896875 46.199375)scale(0.1 -0.1)\">\r\n     <use xlink:href=\"#DejaVuSans-48\"/>\r\n    </g>\r\n   </g>\r\n   <g id=\"text_36\">\r\n    <!-- 0 -->\r\n    <g style=\"fill:#262626;\" transform=\"translate(273.656875 46.199375)scale(0.1 -0.1)\">\r\n     <use xlink:href=\"#DejaVuSans-48\"/>\r\n    </g>\r\n   </g>\r\n   <g id=\"text_37\">\r\n    <!-- 0 -->\r\n    <g style=\"fill:#262626;\" transform=\"translate(35.576875 70.359375)scale(0.1 -0.1)\">\r\n     <use xlink:href=\"#DejaVuSans-48\"/>\r\n    </g>\r\n   </g>\r\n   <g id=\"text_38\">\r\n    <!-- 0 -->\r\n    <g style=\"fill:#262626;\" transform=\"translate(65.336875 70.359375)scale(0.1 -0.1)\">\r\n     <use xlink:href=\"#DejaVuSans-48\"/>\r\n    </g>\r\n   </g>\r\n   <g id=\"text_39\">\r\n    <!-- 10 -->\r\n    <g style=\"fill:#ffffff;\" transform=\"translate(91.915625 70.359375)scale(0.1 -0.1)\">\r\n     <use xlink:href=\"#DejaVuSans-49\"/>\r\n     <use x=\"63.623047\" xlink:href=\"#DejaVuSans-48\"/>\r\n    </g>\r\n   </g>\r\n   <g id=\"text_40\">\r\n    <!-- 0 -->\r\n    <g style=\"fill:#262626;\" transform=\"translate(124.856875 70.359375)scale(0.1 -0.1)\">\r\n     <use xlink:href=\"#DejaVuSans-48\"/>\r\n    </g>\r\n   </g>\r\n   <g id=\"text_41\">\r\n    <!-- 0 -->\r\n    <g style=\"fill:#262626;\" transform=\"translate(154.616875 70.359375)scale(0.1 -0.1)\">\r\n     <use xlink:href=\"#DejaVuSans-48\"/>\r\n    </g>\r\n   </g>\r\n   <g id=\"text_42\">\r\n    <!-- 0 -->\r\n    <g style=\"fill:#262626;\" transform=\"translate(184.376875 70.359375)scale(0.1 -0.1)\">\r\n     <use xlink:href=\"#DejaVuSans-48\"/>\r\n    </g>\r\n   </g>\r\n   <g id=\"text_43\">\r\n    <!-- 0 -->\r\n    <g style=\"fill:#262626;\" transform=\"translate(214.136875 70.359375)scale(0.1 -0.1)\">\r\n     <use xlink:href=\"#DejaVuSans-48\"/>\r\n    </g>\r\n   </g>\r\n   <g id=\"text_44\">\r\n    <!-- 0 -->\r\n    <g style=\"fill:#262626;\" transform=\"translate(243.896875 70.359375)scale(0.1 -0.1)\">\r\n     <use xlink:href=\"#DejaVuSans-48\"/>\r\n    </g>\r\n   </g>\r\n   <g id=\"text_45\">\r\n    <!-- 0 -->\r\n    <g style=\"fill:#262626;\" transform=\"translate(273.656875 70.359375)scale(0.1 -0.1)\">\r\n     <use xlink:href=\"#DejaVuSans-48\"/>\r\n    </g>\r\n   </g>\r\n   <g id=\"text_46\">\r\n    <!-- 0 -->\r\n    <g style=\"fill:#262626;\" transform=\"translate(35.576875 94.519375)scale(0.1 -0.1)\">\r\n     <use xlink:href=\"#DejaVuSans-48\"/>\r\n    </g>\r\n   </g>\r\n   <g id=\"text_47\">\r\n    <!-- 0 -->\r\n    <g style=\"fill:#262626;\" transform=\"translate(65.336875 94.519375)scale(0.1 -0.1)\">\r\n     <use xlink:href=\"#DejaVuSans-48\"/>\r\n    </g>\r\n   </g>\r\n   <g id=\"text_48\">\r\n    <!-- 0 -->\r\n    <g style=\"fill:#262626;\" transform=\"translate(95.096875 94.519375)scale(0.1 -0.1)\">\r\n     <use xlink:href=\"#DejaVuSans-48\"/>\r\n    </g>\r\n   </g>\r\n   <g id=\"text_49\">\r\n    <!-- 8 -->\r\n    <g style=\"fill:#ffffff;\" transform=\"translate(124.856875 94.519375)scale(0.1 -0.1)\">\r\n     <use xlink:href=\"#DejaVuSans-56\"/>\r\n    </g>\r\n   </g>\r\n   <g id=\"text_50\">\r\n    <!-- 0 -->\r\n    <g style=\"fill:#262626;\" transform=\"translate(154.616875 94.519375)scale(0.1 -0.1)\">\r\n     <use xlink:href=\"#DejaVuSans-48\"/>\r\n    </g>\r\n   </g>\r\n   <g id=\"text_51\">\r\n    <!-- 0 -->\r\n    <g style=\"fill:#262626;\" transform=\"translate(184.376875 94.519375)scale(0.1 -0.1)\">\r\n     <use xlink:href=\"#DejaVuSans-48\"/>\r\n    </g>\r\n   </g>\r\n   <g id=\"text_52\">\r\n    <!-- 0 -->\r\n    <g style=\"fill:#262626;\" transform=\"translate(214.136875 94.519375)scale(0.1 -0.1)\">\r\n     <use xlink:href=\"#DejaVuSans-48\"/>\r\n    </g>\r\n   </g>\r\n   <g id=\"text_53\">\r\n    <!-- 0 -->\r\n    <g style=\"fill:#262626;\" transform=\"translate(243.896875 94.519375)scale(0.1 -0.1)\">\r\n     <use xlink:href=\"#DejaVuSans-48\"/>\r\n    </g>\r\n   </g>\r\n   <g id=\"text_54\">\r\n    <!-- 0 -->\r\n    <g style=\"fill:#262626;\" transform=\"translate(273.656875 94.519375)scale(0.1 -0.1)\">\r\n     <use xlink:href=\"#DejaVuSans-48\"/>\r\n    </g>\r\n   </g>\r\n   <g id=\"text_55\">\r\n    <!-- 0 -->\r\n    <g style=\"fill:#262626;\" transform=\"translate(35.576875 118.679375)scale(0.1 -0.1)\">\r\n     <use xlink:href=\"#DejaVuSans-48\"/>\r\n    </g>\r\n   </g>\r\n   <g id=\"text_56\">\r\n    <!-- 0 -->\r\n    <g style=\"fill:#262626;\" transform=\"translate(65.336875 118.679375)scale(0.1 -0.1)\">\r\n     <use xlink:href=\"#DejaVuSans-48\"/>\r\n    </g>\r\n   </g>\r\n   <g id=\"text_57\">\r\n    <!-- 0 -->\r\n    <g style=\"fill:#262626;\" transform=\"translate(95.096875 118.679375)scale(0.1 -0.1)\">\r\n     <use xlink:href=\"#DejaVuSans-48\"/>\r\n    </g>\r\n   </g>\r\n   <g id=\"text_58\">\r\n    <!-- 0 -->\r\n    <g style=\"fill:#262626;\" transform=\"translate(124.856875 118.679375)scale(0.1 -0.1)\">\r\n     <use xlink:href=\"#DejaVuSans-48\"/>\r\n    </g>\r\n   </g>\r\n   <g id=\"text_59\">\r\n    <!-- 9 -->\r\n    <g style=\"fill:#ffffff;\" transform=\"translate(154.616875 118.679375)scale(0.1 -0.1)\">\r\n     <defs>\r\n      <path d=\"M 10.984375 1.515625 \r\nL 10.984375 10.5 \r\nQ 14.703125 8.734375 18.5 7.8125 \r\nQ 22.3125 6.890625 25.984375 6.890625 \r\nQ 35.75 6.890625 40.890625 13.453125 \r\nQ 46.046875 20.015625 46.78125 33.40625 \r\nQ 43.953125 29.203125 39.59375 26.953125 \r\nQ 35.25 24.703125 29.984375 24.703125 \r\nQ 19.046875 24.703125 12.671875 31.3125 \r\nQ 6.296875 37.9375 6.296875 49.421875 \r\nQ 6.296875 60.640625 12.9375 67.421875 \r\nQ 19.578125 74.21875 30.609375 74.21875 \r\nQ 43.265625 74.21875 49.921875 64.515625 \r\nQ 56.59375 54.828125 56.59375 36.375 \r\nQ 56.59375 19.140625 48.40625 8.859375 \r\nQ 40.234375 -1.421875 26.421875 -1.421875 \r\nQ 22.703125 -1.421875 18.890625 -0.6875 \r\nQ 15.09375 0.046875 10.984375 1.515625 \r\nz\r\nM 30.609375 32.421875 \r\nQ 37.25 32.421875 41.125 36.953125 \r\nQ 45.015625 41.5 45.015625 49.421875 \r\nQ 45.015625 57.28125 41.125 61.84375 \r\nQ 37.25 66.40625 30.609375 66.40625 \r\nQ 23.96875 66.40625 20.09375 61.84375 \r\nQ 16.21875 57.28125 16.21875 49.421875 \r\nQ 16.21875 41.5 20.09375 36.953125 \r\nQ 23.96875 32.421875 30.609375 32.421875 \r\nz\r\n\" id=\"DejaVuSans-57\"/>\r\n     </defs>\r\n     <use xlink:href=\"#DejaVuSans-57\"/>\r\n    </g>\r\n   </g>\r\n   <g id=\"text_60\">\r\n    <!-- 0 -->\r\n    <g style=\"fill:#262626;\" transform=\"translate(184.376875 118.679375)scale(0.1 -0.1)\">\r\n     <use xlink:href=\"#DejaVuSans-48\"/>\r\n    </g>\r\n   </g>\r\n   <g id=\"text_61\">\r\n    <!-- 0 -->\r\n    <g style=\"fill:#262626;\" transform=\"translate(214.136875 118.679375)scale(0.1 -0.1)\">\r\n     <use xlink:href=\"#DejaVuSans-48\"/>\r\n    </g>\r\n   </g>\r\n   <g id=\"text_62\">\r\n    <!-- 0 -->\r\n    <g style=\"fill:#262626;\" transform=\"translate(243.896875 118.679375)scale(0.1 -0.1)\">\r\n     <use xlink:href=\"#DejaVuSans-48\"/>\r\n    </g>\r\n   </g>\r\n   <g id=\"text_63\">\r\n    <!-- 0 -->\r\n    <g style=\"fill:#262626;\" transform=\"translate(273.656875 118.679375)scale(0.1 -0.1)\">\r\n     <use xlink:href=\"#DejaVuSans-48\"/>\r\n    </g>\r\n   </g>\r\n   <g id=\"text_64\">\r\n    <!-- 0 -->\r\n    <g style=\"fill:#262626;\" transform=\"translate(35.576875 142.839375)scale(0.1 -0.1)\">\r\n     <use xlink:href=\"#DejaVuSans-48\"/>\r\n    </g>\r\n   </g>\r\n   <g id=\"text_65\">\r\n    <!-- 0 -->\r\n    <g style=\"fill:#262626;\" transform=\"translate(65.336875 142.839375)scale(0.1 -0.1)\">\r\n     <use xlink:href=\"#DejaVuSans-48\"/>\r\n    </g>\r\n   </g>\r\n   <g id=\"text_66\">\r\n    <!-- 0 -->\r\n    <g style=\"fill:#262626;\" transform=\"translate(95.096875 142.839375)scale(0.1 -0.1)\">\r\n     <use xlink:href=\"#DejaVuSans-48\"/>\r\n    </g>\r\n   </g>\r\n   <g id=\"text_67\">\r\n    <!-- 0 -->\r\n    <g style=\"fill:#262626;\" transform=\"translate(124.856875 142.839375)scale(0.1 -0.1)\">\r\n     <use xlink:href=\"#DejaVuSans-48\"/>\r\n    </g>\r\n   </g>\r\n   <g id=\"text_68\">\r\n    <!-- 0 -->\r\n    <g style=\"fill:#262626;\" transform=\"translate(154.616875 142.839375)scale(0.1 -0.1)\">\r\n     <use xlink:href=\"#DejaVuSans-48\"/>\r\n    </g>\r\n   </g>\r\n   <g id=\"text_69\">\r\n    <!-- 10 -->\r\n    <g style=\"fill:#ffffff;\" transform=\"translate(181.195625 142.839375)scale(0.1 -0.1)\">\r\n     <use xlink:href=\"#DejaVuSans-49\"/>\r\n     <use x=\"63.623047\" xlink:href=\"#DejaVuSans-48\"/>\r\n    </g>\r\n   </g>\r\n   <g id=\"text_70\">\r\n    <!-- 0 -->\r\n    <g style=\"fill:#262626;\" transform=\"translate(214.136875 142.839375)scale(0.1 -0.1)\">\r\n     <use xlink:href=\"#DejaVuSans-48\"/>\r\n    </g>\r\n   </g>\r\n   <g id=\"text_71\">\r\n    <!-- 0 -->\r\n    <g style=\"fill:#262626;\" transform=\"translate(243.896875 142.839375)scale(0.1 -0.1)\">\r\n     <use xlink:href=\"#DejaVuSans-48\"/>\r\n    </g>\r\n   </g>\r\n   <g id=\"text_72\">\r\n    <!-- 0 -->\r\n    <g style=\"fill:#262626;\" transform=\"translate(273.656875 142.839375)scale(0.1 -0.1)\">\r\n     <use xlink:href=\"#DejaVuSans-48\"/>\r\n    </g>\r\n   </g>\r\n   <g id=\"text_73\">\r\n    <!-- 0 -->\r\n    <g style=\"fill:#262626;\" transform=\"translate(35.576875 166.999375)scale(0.1 -0.1)\">\r\n     <use xlink:href=\"#DejaVuSans-48\"/>\r\n    </g>\r\n   </g>\r\n   <g id=\"text_74\">\r\n    <!-- 0 -->\r\n    <g style=\"fill:#262626;\" transform=\"translate(65.336875 166.999375)scale(0.1 -0.1)\">\r\n     <use xlink:href=\"#DejaVuSans-48\"/>\r\n    </g>\r\n   </g>\r\n   <g id=\"text_75\">\r\n    <!-- 0 -->\r\n    <g style=\"fill:#262626;\" transform=\"translate(95.096875 166.999375)scale(0.1 -0.1)\">\r\n     <use xlink:href=\"#DejaVuSans-48\"/>\r\n    </g>\r\n   </g>\r\n   <g id=\"text_76\">\r\n    <!-- 0 -->\r\n    <g style=\"fill:#262626;\" transform=\"translate(124.856875 166.999375)scale(0.1 -0.1)\">\r\n     <use xlink:href=\"#DejaVuSans-48\"/>\r\n    </g>\r\n   </g>\r\n   <g id=\"text_77\">\r\n    <!-- 1 -->\r\n    <g style=\"fill:#262626;\" transform=\"translate(154.616875 166.999375)scale(0.1 -0.1)\">\r\n     <use xlink:href=\"#DejaVuSans-49\"/>\r\n    </g>\r\n   </g>\r\n   <g id=\"text_78\">\r\n    <!-- 0 -->\r\n    <g style=\"fill:#262626;\" transform=\"translate(184.376875 166.999375)scale(0.1 -0.1)\">\r\n     <use xlink:href=\"#DejaVuSans-48\"/>\r\n    </g>\r\n   </g>\r\n   <g id=\"text_79\">\r\n    <!-- 0 -->\r\n    <g style=\"fill:#262626;\" transform=\"translate(214.136875 166.999375)scale(0.1 -0.1)\">\r\n     <use xlink:href=\"#DejaVuSans-48\"/>\r\n    </g>\r\n   </g>\r\n   <g id=\"text_80\">\r\n    <!-- 7 -->\r\n    <g style=\"fill:#ffffff;\" transform=\"translate(243.896875 166.999375)scale(0.1 -0.1)\">\r\n     <use xlink:href=\"#DejaVuSans-55\"/>\r\n    </g>\r\n   </g>\r\n   <g id=\"text_81\">\r\n    <!-- 0 -->\r\n    <g style=\"fill:#262626;\" transform=\"translate(273.656875 166.999375)scale(0.1 -0.1)\">\r\n     <use xlink:href=\"#DejaVuSans-48\"/>\r\n    </g>\r\n   </g>\r\n   <g id=\"text_82\">\r\n    <!-- 0 -->\r\n    <g style=\"fill:#262626;\" transform=\"translate(35.576875 191.159375)scale(0.1 -0.1)\">\r\n     <use xlink:href=\"#DejaVuSans-48\"/>\r\n    </g>\r\n   </g>\r\n   <g id=\"text_83\">\r\n    <!-- 0 -->\r\n    <g style=\"fill:#262626;\" transform=\"translate(65.336875 191.159375)scale(0.1 -0.1)\">\r\n     <use xlink:href=\"#DejaVuSans-48\"/>\r\n    </g>\r\n   </g>\r\n   <g id=\"text_84\">\r\n    <!-- 0 -->\r\n    <g style=\"fill:#262626;\" transform=\"translate(95.096875 191.159375)scale(0.1 -0.1)\">\r\n     <use xlink:href=\"#DejaVuSans-48\"/>\r\n    </g>\r\n   </g>\r\n   <g id=\"text_85\">\r\n    <!-- 0 -->\r\n    <g style=\"fill:#262626;\" transform=\"translate(124.856875 191.159375)scale(0.1 -0.1)\">\r\n     <use xlink:href=\"#DejaVuSans-48\"/>\r\n    </g>\r\n   </g>\r\n   <g id=\"text_86\">\r\n    <!-- 0 -->\r\n    <g style=\"fill:#262626;\" transform=\"translate(154.616875 191.159375)scale(0.1 -0.1)\">\r\n     <use xlink:href=\"#DejaVuSans-48\"/>\r\n    </g>\r\n   </g>\r\n   <g id=\"text_87\">\r\n    <!-- 0 -->\r\n    <g style=\"fill:#262626;\" transform=\"translate(184.376875 191.159375)scale(0.1 -0.1)\">\r\n     <use xlink:href=\"#DejaVuSans-48\"/>\r\n    </g>\r\n   </g>\r\n   <g id=\"text_88\">\r\n    <!-- 0 -->\r\n    <g style=\"fill:#262626;\" transform=\"translate(214.136875 191.159375)scale(0.1 -0.1)\">\r\n     <use xlink:href=\"#DejaVuSans-48\"/>\r\n    </g>\r\n   </g>\r\n   <g id=\"text_89\">\r\n    <!-- 13 -->\r\n    <g style=\"fill:#ffffff;\" transform=\"translate(240.715625 191.159375)scale(0.1 -0.1)\">\r\n     <use xlink:href=\"#DejaVuSans-49\"/>\r\n     <use x=\"63.623047\" xlink:href=\"#DejaVuSans-51\"/>\r\n    </g>\r\n   </g>\r\n   <g id=\"text_90\">\r\n    <!-- 0 -->\r\n    <g style=\"fill:#262626;\" transform=\"translate(273.656875 191.159375)scale(0.1 -0.1)\">\r\n     <use xlink:href=\"#DejaVuSans-48\"/>\r\n    </g>\r\n   </g>\r\n   <g id=\"text_91\">\r\n    <!-- 0 -->\r\n    <g style=\"fill:#262626;\" transform=\"translate(35.576875 215.319375)scale(0.1 -0.1)\">\r\n     <use xlink:href=\"#DejaVuSans-48\"/>\r\n    </g>\r\n   </g>\r\n   <g id=\"text_92\">\r\n    <!-- 0 -->\r\n    <g style=\"fill:#262626;\" transform=\"translate(65.336875 215.319375)scale(0.1 -0.1)\">\r\n     <use xlink:href=\"#DejaVuSans-48\"/>\r\n    </g>\r\n   </g>\r\n   <g id=\"text_93\">\r\n    <!-- 0 -->\r\n    <g style=\"fill:#262626;\" transform=\"translate(95.096875 215.319375)scale(0.1 -0.1)\">\r\n     <use xlink:href=\"#DejaVuSans-48\"/>\r\n    </g>\r\n   </g>\r\n   <g id=\"text_94\">\r\n    <!-- 0 -->\r\n    <g style=\"fill:#262626;\" transform=\"translate(124.856875 215.319375)scale(0.1 -0.1)\">\r\n     <use xlink:href=\"#DejaVuSans-48\"/>\r\n    </g>\r\n   </g>\r\n   <g id=\"text_95\">\r\n    <!-- 0 -->\r\n    <g style=\"fill:#262626;\" transform=\"translate(154.616875 215.319375)scale(0.1 -0.1)\">\r\n     <use xlink:href=\"#DejaVuSans-48\"/>\r\n    </g>\r\n   </g>\r\n   <g id=\"text_96\">\r\n    <!-- 0 -->\r\n    <g style=\"fill:#262626;\" transform=\"translate(184.376875 215.319375)scale(0.1 -0.1)\">\r\n     <use xlink:href=\"#DejaVuSans-48\"/>\r\n    </g>\r\n   </g>\r\n   <g id=\"text_97\">\r\n    <!-- 0 -->\r\n    <g style=\"fill:#262626;\" transform=\"translate(214.136875 215.319375)scale(0.1 -0.1)\">\r\n     <use xlink:href=\"#DejaVuSans-48\"/>\r\n    </g>\r\n   </g>\r\n   <g id=\"text_98\">\r\n    <!-- 1 -->\r\n    <g style=\"fill:#262626;\" transform=\"translate(243.896875 215.319375)scale(0.1 -0.1)\">\r\n     <use xlink:href=\"#DejaVuSans-49\"/>\r\n    </g>\r\n   </g>\r\n   <g id=\"text_99\">\r\n    <!-- 9 -->\r\n    <g style=\"fill:#ffffff;\" transform=\"translate(273.656875 215.319375)scale(0.1 -0.1)\">\r\n     <use xlink:href=\"#DejaVuSans-57\"/>\r\n    </g>\r\n   </g>\r\n  </g>\r\n  <g id=\"axes_2\">\r\n   <g id=\"patch_3\">\r\n    <path clip-path=\"url(#pbfc024514c)\" d=\"M 308.458125 224.64 \r\nL 308.458125 223.790625 \r\nL 308.458125 8.049375 \r\nL 308.458125 7.2 \r\nL 319.330125 7.2 \r\nL 319.330125 8.049375 \r\nL 319.330125 223.790625 \r\nL 319.330125 224.64 \r\nz\r\n\" style=\"fill:#ffffff;stroke:#ffffff;stroke-linejoin:miter;stroke-width:0.01;\"/>\r\n   </g>\r\n   <image height=\"217\" id=\"imagef505b2b359\" transform=\"scale(1 -1)translate(0 -217)\" width=\"11\" x=\"308\" xlink:href=\"data:image/png;base64,\r\niVBORw0KGgoAAAANSUhEUgAAAAsAAADZCAYAAAD2WsoCAAABb0lEQVR4nN2aQY7AIAwDjcT/37d/WUj2C5nDSHR7tizHMTQtrOqfzvDZSU2x2d1j4uwEgDtXktFEBtQMrGPMTZoiyvB8tgqEEUUyLDe6QfhhRLXws4haqZuLSPacN9lABWZec/AVZTzBbBYIfEbMpWn+IjNqd5GmsNX9SIGE+QA0sw4tK5QNVCDS/MvcsMAXRZQwnzdkmNYB8CmS5zkxLtDyGboBwGwrmBOb2Tiaz+hFb+51AOy5IYZ/TkzdIFuBJ8Nz46IC34io5wZrtxZ+NjEiGUAHlEFeE3Ay15iRZs+6T7qBZDxh3RUL9MCWdReMXxv8J8sOWSkhBS7GPMZmB4y5TDP4lZu9GDMBg/QzzdCNN9rN3PhguxEz+P432+1tMuCLVyyQRdTbGLU8M+sYmMgQ3UB5/ucFenn2ZCxvK9CmAsRcfeZgOF6iGck7SQdg6IZ1oO9dnICaPTc0MDmjr9IKFJuC7smQ8Be6vPSCG3+tXKbtOR2HywAAAABJRU5ErkJggg==\" y=\"-7\"/>\r\n   <g id=\"matplotlib.axis_3\"/>\r\n   <g id=\"matplotlib.axis_4\">\r\n    <g id=\"ytick_10\">\r\n     <g id=\"line2d_19\">\r\n      <defs>\r\n       <path d=\"M 0 0 \r\nL 3.5 0 \r\n\" id=\"md5dbda557d\" style=\"stroke:#000000;stroke-width:0.8;\"/>\r\n      </defs>\r\n      <g>\r\n       <use style=\"stroke:#000000;stroke-width:0.8;\" x=\"319.330125\" xlink:href=\"#md5dbda557d\" y=\"224.64\"/>\r\n      </g>\r\n     </g>\r\n     <g id=\"text_100\">\r\n      <!-- 0 -->\r\n      <g transform=\"translate(326.330125 228.439219)scale(0.1 -0.1)\">\r\n       <use xlink:href=\"#DejaVuSans-48\"/>\r\n      </g>\r\n     </g>\r\n    </g>\r\n    <g id=\"ytick_11\">\r\n     <g id=\"line2d_20\">\r\n      <g>\r\n       <use style=\"stroke:#000000;stroke-width:0.8;\" x=\"319.330125\" xlink:href=\"#md5dbda557d\" y=\"191.187692\"/>\r\n      </g>\r\n     </g>\r\n     <g id=\"text_101\">\r\n      <!-- 2 -->\r\n      <g transform=\"translate(326.330125 194.986911)scale(0.1 -0.1)\">\r\n       <use xlink:href=\"#DejaVuSans-50\"/>\r\n      </g>\r\n     </g>\r\n    </g>\r\n    <g id=\"ytick_12\">\r\n     <g id=\"line2d_21\">\r\n      <g>\r\n       <use style=\"stroke:#000000;stroke-width:0.8;\" x=\"319.330125\" xlink:href=\"#md5dbda557d\" y=\"157.735385\"/>\r\n      </g>\r\n     </g>\r\n     <g id=\"text_102\">\r\n      <!-- 4 -->\r\n      <g transform=\"translate(326.330125 161.534603)scale(0.1 -0.1)\">\r\n       <use xlink:href=\"#DejaVuSans-52\"/>\r\n      </g>\r\n     </g>\r\n    </g>\r\n    <g id=\"ytick_13\">\r\n     <g id=\"line2d_22\">\r\n      <g>\r\n       <use style=\"stroke:#000000;stroke-width:0.8;\" x=\"319.330125\" xlink:href=\"#md5dbda557d\" y=\"124.283077\"/>\r\n      </g>\r\n     </g>\r\n     <g id=\"text_103\">\r\n      <!-- 6 -->\r\n      <g transform=\"translate(326.330125 128.082296)scale(0.1 -0.1)\">\r\n       <use xlink:href=\"#DejaVuSans-54\"/>\r\n      </g>\r\n     </g>\r\n    </g>\r\n    <g id=\"ytick_14\">\r\n     <g id=\"line2d_23\">\r\n      <g>\r\n       <use style=\"stroke:#000000;stroke-width:0.8;\" x=\"319.330125\" xlink:href=\"#md5dbda557d\" y=\"90.830769\"/>\r\n      </g>\r\n     </g>\r\n     <g id=\"text_104\">\r\n      <!-- 8 -->\r\n      <g transform=\"translate(326.330125 94.629988)scale(0.1 -0.1)\">\r\n       <use xlink:href=\"#DejaVuSans-56\"/>\r\n      </g>\r\n     </g>\r\n    </g>\r\n    <g id=\"ytick_15\">\r\n     <g id=\"line2d_24\">\r\n      <g>\r\n       <use style=\"stroke:#000000;stroke-width:0.8;\" x=\"319.330125\" xlink:href=\"#md5dbda557d\" y=\"57.378462\"/>\r\n      </g>\r\n     </g>\r\n     <g id=\"text_105\">\r\n      <!-- 10 -->\r\n      <g transform=\"translate(326.330125 61.17768)scale(0.1 -0.1)\">\r\n       <use xlink:href=\"#DejaVuSans-49\"/>\r\n       <use x=\"63.623047\" xlink:href=\"#DejaVuSans-48\"/>\r\n      </g>\r\n     </g>\r\n    </g>\r\n    <g id=\"ytick_16\">\r\n     <g id=\"line2d_25\">\r\n      <g>\r\n       <use style=\"stroke:#000000;stroke-width:0.8;\" x=\"319.330125\" xlink:href=\"#md5dbda557d\" y=\"23.926154\"/>\r\n      </g>\r\n     </g>\r\n     <g id=\"text_106\">\r\n      <!-- 12 -->\r\n      <g transform=\"translate(326.330125 27.725373)scale(0.1 -0.1)\">\r\n       <use xlink:href=\"#DejaVuSans-49\"/>\r\n       <use x=\"63.623047\" xlink:href=\"#DejaVuSans-50\"/>\r\n      </g>\r\n     </g>\r\n    </g>\r\n   </g>\r\n   <g id=\"patch_4\">\r\n    <path d=\"M 308.458125 224.64 \r\nL 308.458125 223.790625 \r\nL 308.458125 8.049375 \r\nL 308.458125 7.2 \r\nL 319.330125 7.2 \r\nL 319.330125 8.049375 \r\nL 319.330125 223.790625 \r\nL 319.330125 224.64 \r\nz\r\n\" style=\"fill:none;\"/>\r\n   </g>\r\n  </g>\r\n </g>\r\n <defs>\r\n  <clipPath id=\"p56fbe86bf8\">\r\n   <rect height=\"217.44\" width=\"267.84\" x=\"23.878125\" y=\"7.2\"/>\r\n  </clipPath>\r\n  <clipPath id=\"pbfc024514c\">\r\n   <rect height=\"217.44\" width=\"10.872\" x=\"308.458125\" y=\"7.2\"/>\r\n  </clipPath>\r\n </defs>\r\n</svg>\r\n",
      "image/png": "[encoded data removed]"
     },
     "metadata": {
      "needs_background": "light"
     }
    }
   ],
   "source": [
    "y_test_1d = []\n",
    "predictions_1d = []\n",
    "for i in range(len(y_test)):\n",
    "    y_test_1d.append(np.argmax(y_test[i]))\n",
    "    predictions_1d.append(np.argmax(predictions[i]))\n",
    "\n",
    "sns.heatmap(data=confusion_matrix(y_test_1d,predictions_1d), cmap=\"YlGnBu\", annot=True)"
   ]
  },
  {
   "cell_type": "code",
   "execution_count": 43,
   "metadata": {},
   "outputs": [],
   "source": [
    "#model.save(\"RNN-LSTM_1bs_50hz.h5\")"
   ]
  },
  {
   "cell_type": "code",
   "execution_count": 44,
   "metadata": {
    "tags": []
   },
   "outputs": [
    {
     "output_type": "stream",
     "name": "stderr",
     "text": [
      "..\\utils\\df_utils.py:37: SettingWithCopyWarning: \n",
      "A value is trying to be set on a copy of a slice from a DataFrame.\n",
      "Try using .loc[row_indexer,col_indexer] = value instead\n",
      "\n",
      "See the caveats in the documentation: https://pandas.pydata.org/pandas-docs/stable/user_guide/indexing.html#returning-a-view-versus-a-copy\n",
      "  self.df_arr[i][\" TimeStamp (s)\"] = self.df_arr[i][\" TimeStamp (s)\"] - \\\n",
      "(4039, 39)\n",
      "(40, 100, 39)\n",
      "(40, 9)\n",
      "..\\utils\\df_utils.py:37: SettingWithCopyWarning: \n",
      "A value is trying to be set on a copy of a slice from a DataFrame.\n",
      "Try using .loc[row_indexer,col_indexer] = value instead\n",
      "\n",
      "See the caveats in the documentation: https://pandas.pydata.org/pandas-docs/stable/user_guide/indexing.html#returning-a-view-versus-a-copy\n",
      "  self.df_arr[i][\" TimeStamp (s)\"] = self.df_arr[i][\" TimeStamp (s)\"] - \\\n",
      "(8367, 39)\n",
      "(83, 100, 39)\n",
      "(83, 9)\n",
      "..\\utils\\df_utils.py:37: SettingWithCopyWarning: \n",
      "A value is trying to be set on a copy of a slice from a DataFrame.\n",
      "Try using .loc[row_indexer,col_indexer] = value instead\n",
      "\n",
      "See the caveats in the documentation: https://pandas.pydata.org/pandas-docs/stable/user_guide/indexing.html#returning-a-view-versus-a-copy\n",
      "  self.df_arr[i][\" TimeStamp (s)\"] = self.df_arr[i][\" TimeStamp (s)\"] - \\\n",
      "(9037, 39)\n",
      "(90, 100, 39)\n",
      "(90, 9)\n",
      "..\\utils\\df_utils.py:37: SettingWithCopyWarning: \n",
      "A value is trying to be set on a copy of a slice from a DataFrame.\n",
      "Try using .loc[row_indexer,col_indexer] = value instead\n",
      "\n",
      "See the caveats in the documentation: https://pandas.pydata.org/pandas-docs/stable/user_guide/indexing.html#returning-a-view-versus-a-copy\n",
      "  self.df_arr[i][\" TimeStamp (s)\"] = self.df_arr[i][\" TimeStamp (s)\"] - \\\n",
      "(7329, 39)\n",
      "(73, 100, 39)\n",
      "(73, 9)\n",
      "..\\utils\\df_utils.py:37: SettingWithCopyWarning: \n",
      "A value is trying to be set on a copy of a slice from a DataFrame.\n",
      "Try using .loc[row_indexer,col_indexer] = value instead\n",
      "\n",
      "See the caveats in the documentation: https://pandas.pydata.org/pandas-docs/stable/user_guide/indexing.html#returning-a-view-versus-a-copy\n",
      "  self.df_arr[i][\" TimeStamp (s)\"] = self.df_arr[i][\" TimeStamp (s)\"] - \\\n",
      "(1482, 39)\n",
      "(14, 100, 39)\n",
      "(14, 9)\n",
      "(1657, 39)\n",
      "(16, 100, 39)\n",
      "(16, 9)\n",
      "..\\utils\\df_utils.py:37: SettingWithCopyWarning: \n",
      "A value is trying to be set on a copy of a slice from a DataFrame.\n",
      "Try using .loc[row_indexer,col_indexer] = value instead\n",
      "\n",
      "See the caveats in the documentation: https://pandas.pydata.org/pandas-docs/stable/user_guide/indexing.html#returning-a-view-versus-a-copy\n",
      "  self.df_arr[i][\" TimeStamp (s)\"] = self.df_arr[i][\" TimeStamp (s)\"] - \\\n",
      "..\\utils\\df_utils.py:37: SettingWithCopyWarning: \n",
      "A value is trying to be set on a copy of a slice from a DataFrame.\n",
      "Try using .loc[row_indexer,col_indexer] = value instead\n",
      "\n",
      "See the caveats in the documentation: https://pandas.pydata.org/pandas-docs/stable/user_guide/indexing.html#returning-a-view-versus-a-copy\n",
      "  self.df_arr[i][\" TimeStamp (s)\"] = self.df_arr[i][\" TimeStamp (s)\"] - \\\n",
      "(8029, 39)\n",
      "(80, 100, 39)\n",
      "(80, 9)\n",
      "..\\utils\\df_utils.py:37: SettingWithCopyWarning: \n",
      "A value is trying to be set on a copy of a slice from a DataFrame.\n",
      "Try using .loc[row_indexer,col_indexer] = value instead\n",
      "\n",
      "See the caveats in the documentation: https://pandas.pydata.org/pandas-docs/stable/user_guide/indexing.html#returning-a-view-versus-a-copy\n",
      "  self.df_arr[i][\" TimeStamp (s)\"] = self.df_arr[i][\" TimeStamp (s)\"] - \\\n",
      "(7833, 39)\n",
      "(78, 100, 39)\n",
      "(78, 9)\n"
     ]
    }
   ],
   "source": [
    "x_test_dict = dict()\n",
    "y_test_dict = dict()\n",
    "for key in testing_files:\n",
    "    elem = df_wrapper(testing_files[key].csv_file)\n",
    "    elem.concat_sensor_data(3)\n",
    "    elem.align_poses(testing_files[key].annot_file, POSE_MAP)\n",
    "    y_test_it = elem.df[\"Pose\"]\n",
    "    elem.df = elem.df.drop([' TimeStamp (s)', 'Pose'],axis=1)\n",
    "    print(np.shape(elem.df))\n",
    "    # y_test.index = [i for i in range(len(y_test))]\n",
    "    x_test_dict[key] = np.array(create_3d_array(np.array(elem.df), NUM_TIMESTAMPS))\n",
    "    y_test_dict[key] = np.array(create_2d_y_array(np.array(y_test_it), NUM_TIMESTAMPS))\n",
    "    print(np.shape(x_test_dict[key]))\n",
    "    print(np.shape(y_test_dict[key]))\n",
    "\n",
    "#x_test = x_test_dict[VALIDATION_TESTSET].drop([' TimeStamp (s)', 'Pose'], axis=1) \n",
    "#y_test = y_test_dict[VALIDATION_TESTSET]"
   ]
  },
  {
   "cell_type": "code",
   "execution_count": 45,
   "metadata": {},
   "outputs": [
    {
     "output_type": "stream",
     "name": "stdout",
     "text": [
      "Classification accuracy:\n",
      "2/2 [==============================] - 1s 242ms/step - loss: 0.7169 - accuracy: 0.7250\n",
      "3/3 [==============================] - 2s 490ms/step - loss: 0.3002 - accuracy: 0.8795\n",
      "3/3 [==============================] - 2s 738ms/step - loss: 0.3259 - accuracy: 0.8333\n",
      "3/3 [==============================] - 1s 453ms/step - loss: 0.3528 - accuracy: 0.8493\n",
      "1/1 [==============================] - 0s 330ms/step - loss: 0.8596 - accuracy: 0.7857\n",
      "1/1 [==============================] - 0s 372ms/step - loss: 2.3281 - accuracy: 0.4375\n",
      "3/3 [==============================] - 1s 465ms/step - loss: 1.2350 - accuracy: 0.5250\n",
      "3/3 [==============================] - 1s 434ms/step - loss: 0.6460 - accuracy: 0.8077\n"
     ]
    }
   ],
   "source": [
    "print(\"Classification accuracy:\")\n",
    "classification_dict = dict()\n",
    "\n",
    "for key in x_test_dict:\n",
    "    #x_test = x_test_dict[key].drop([' TimeStamp (s)', 'Pose'], axis=1)\n",
    "    classifications = model.predict(x_test_dict[key])\n",
    "    model.evaluate(x_test_dict[key], y_test_dict[key])\n",
    "    #classification_dict[key] = classifications"
   ]
  }
 ]
}