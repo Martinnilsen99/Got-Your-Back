{
 "cells": [
  {
   "cell_type": "markdown",
   "source": "## Import",
   "metadata": {
    "tags": [],
    "cell_id": "00000-3118a38c-13f9-4485-ac5a-42285c725a90",
    "deepnote_cell_type": "markdown"
   }
  },
  {
   "cell_type": "code",
   "metadata": {
    "deepnote_to_be_reexecuted": false,
    "source_hash": "e4e94b1b",
    "execution_millis": 11432,
    "execution_start": 1620904227544,
    "cell_id": "00001-4519a5ea-f8e5-4825-bcf4-1d1ef1f1ba6e",
    "deepnote_cell_type": "code"
   },
   "source": "import sys; sys.path.insert(0, '..')\nimport os\nimport time\nimport pandas as pd\nimport numpy as np\nimport seaborn as sns\nfrom matplotlib import pyplot as plt\nfrom tabulate import tabulate\nfrom dataclasses import dataclass\nfrom keras.models import Sequential, load_model\nfrom keras.layers import Conv1D, ZeroPadding1D, AveragePooling1D, MaxPooling1D, BatchNormalization, Activation, Dropout, Flatten, Dense\nfrom keras.utils import to_categorical\nfrom keras.optimizers import RMSprop, Adam\nfrom keras.losses import CategoricalCrossentropy\nfrom keras import activations\nfrom sklearn.metrics import confusion_matrix\nfrom utils.df_utils import df_wrapper\nfrom utils.declarations import training_files, testing_files, POSE_MAP",
   "execution_count": 1,
   "outputs": []
  },
  {
   "cell_type": "markdown",
   "source": "## Define data",
   "metadata": {
    "tags": [],
    "cell_id": "00002-978bd07d-50c5-4183-9402-d4112a486525",
    "deepnote_cell_type": "markdown"
   }
  },
  {
   "cell_type": "code",
   "metadata": {
    "deepnote_to_be_reexecuted": false,
    "source_hash": "7339921f",
    "execution_millis": 8,
    "execution_start": 1620904238980,
    "cell_id": "00003-2ae436be-76d1-4cdc-abd8-2906e2d8e489",
    "deepnote_cell_type": "code"
   },
   "source": "AMOUNT_OF_SENSORS = 3\nVALIDATION_TESTSET = \"004\"",
   "execution_count": 2,
   "outputs": []
  },
  {
   "cell_type": "markdown",
   "source": "## Load dataframes",
   "metadata": {
    "tags": [],
    "cell_id": "00004-6cacf89f-a734-4c2d-aae1-b3cb0c887d12",
    "deepnote_cell_type": "markdown"
   }
  },
  {
   "cell_type": "code",
   "metadata": {
    "deepnote_to_be_reexecuted": false,
    "source_hash": "a8132218",
    "execution_start": 1620904238995,
    "execution_millis": 1379,
    "cell_id": "00005-345109f5-c066-42ee-bdb3-a8494ad880cc",
    "deepnote_cell_type": "code"
   },
   "source": "pd.set_option('io.hdf.default.format', 'table')\n\nx_train_arr = list()\nfor key in training_files:\n    x_train_arr.append(pd.read_hdf(f\"../../data/preprocessed_data/train_arr_{AMOUNT_OF_SENSORS}.h5\", f\"df{key}\"))\n\nx_test_dict = dict()\ny_test_dict = dict()\nfor key in testing_files:\n    x_test_dict[key] = pd.read_hdf(f\"../../data/preprocessed_data/test_dict_{AMOUNT_OF_SENSORS}.h5\", f\"df{key}\")\n    y_test = x_test_dict[key][\"Pose\"]\n    y_test.index = [i for i in range(len(y_test))]\n    y_test_dict[key] = y_test\n\nx_train = pd.concat([df.drop([' TimeStamp (s)', 'Pose'],axis=1) for df in x_train_arr])\ny_train = pd.concat([df['Pose'] for df in x_train_arr])\nx_test = x_test_dict[VALIDATION_TESTSET].drop([' TimeStamp (s)', 'Pose'], axis=1) \ny_test = y_test_dict[VALIDATION_TESTSET]\n",
   "execution_count": 3,
   "outputs": []
  },
  {
   "cell_type": "markdown",
   "source": "## Adjust dataframes",
   "metadata": {
    "tags": [],
    "cell_id": "00006-9ef49e59-2906-4ac0-ad2d-06c4d08540ac",
    "deepnote_cell_type": "markdown"
   }
  },
  {
   "cell_type": "code",
   "metadata": {
    "deepnote_to_be_reexecuted": false,
    "source_hash": "82680e6",
    "execution_millis": 83,
    "execution_start": 1620904240386,
    "cell_id": "00007-cf6c56e3-b831-4b63-b2b9-405b004270e2",
    "deepnote_cell_type": "code"
   },
   "source": "# Create numpy arrays\nx_train_numpy = x_train.values\nx_test_numpy = x_test.values\ny_train_numpy = y_train.values\ny_test_numpy = y_test.values\n\n# Hot encode categories into numbers\ny_train = to_categorical(y_train_numpy,9)\ny_test = to_categorical(y_test_numpy,9)\n\n# Change shape for CNN\nx_train_numpy = x_train_numpy.reshape(x_train_numpy.shape[0],x_train_numpy.shape[1], 1)\nx_test_numpy = x_test_numpy.reshape(x_test_numpy.shape[0],x_test_numpy.shape[1], 1)",
   "execution_count": 4,
   "outputs": []
  },
  {
   "cell_type": "markdown",
   "source": "## Precision",
   "metadata": {
    "tags": [],
    "cell_id": "00016-2a14a2c8-6a86-4b40-a555-bcc31468f9af",
    "deepnote_cell_type": "markdown"
   }
  },
  {
   "cell_type": "code",
   "metadata": {
    "deepnote_to_be_reexecuted": false,
    "source_hash": "9bfc4d0f",
    "execution_millis": 13990,
    "execution_start": 1620904467978,
    "cell_id": "00017-2e2471bf-e3e2-4696-8f2e-93baa479fb6d",
    "deepnote_cell_type": "code"
   },
   "source": "AMOUNT_OF_MODELS = 1\nPRINT_CLASSIFICATION_MATRIX = False\n\nfor run_i in range(1,AMOUNT_OF_MODELS+1):\n    model = load_model(f\"../models/CNN_model_3_{run_i}_1286432.h5\")\n\n    print(\"Classification accuracy:\")\n    classification_dict = dict()\n    accuracy_list = list() \n\n    for key in x_test_dict:\n        x_test_numpy = x_test_dict[key].drop([' TimeStamp (s)', 'Pose'], axis=1).values\n        x_test_numpy = x_test_numpy.reshape(x_test_numpy.shape[0],x_test_numpy.shape[1], 1)\n        classify = model.predict(x_test_numpy)\n        classifications = [i.argmax() for i in classify]\n        annotated_positions = y_test_dict[key].to_numpy()\n        correct_classifications = (classifications == annotated_positions).sum()\n        accuracy_list.append(round(correct_classifications/len(classifications)*100,2))\n        print(f\"{key}: {accuracy_list[-1]}%\")\n        classification_dict[key] = classifications\n\n    print(f\"Average accuracy: {round(sum(accuracy_list)/len(accuracy_list),2)}%\")\n\n    if PRINT_CLASSIFICATION_MATRIX:\n        width=16\n        height=4*len(x_test_dict)\n        fig, axes = plt.subplots(len(x_test_dict), 4, figsize=(width, height))\n        for i, key in enumerate(x_test_dict):\n            cols = [f\"{key}: Model classifications\", f\"{key}: Model heatmap\", f\"{key}: Annotated classifications\", f\"{key}: Annotated heatmap\"]\n            df_predict = pd.DataFrame({' Timestamp (s)': x_test_dict[key][' TimeStamp (s)'],'Pose':classification_dict[key]})\n            sns.lineplot(ax=axes[i, 0], data=df_predict,x=' Timestamp (s)',y='Pose')\n            sns.heatmap(ax=axes[i, 1], data=confusion_matrix(y_test_dict[key], classification_dict[key]), cmap=\"YlGnBu\", annot=True, fmt=\"d\")\n            sns.lineplot(ax=axes[i, 2], data=x_test_dict[key], x=\" TimeStamp (s)\", y='Pose')\n            sns.heatmap(ax=axes[i, 3], data=confusion_matrix(y_test_dict[key], y_test_dict[key].to_numpy()), cmap=\"YlGnBu\", annot=True, fmt=\"d\")\n            for ax, col in zip(axes[i], cols): ax.set_title(col)\n        fig.tight_layout()\n        plt.show()",
   "execution_count": 6,
   "outputs": [
    {
     "name": "stdout",
     "text": "Classification accuracy:\n001: 89.54%\n002: 80.06%\n003: 66.05%\n004: 94.01%\n005: 95.84%\n006: 93.42%\n007: 85.16%\n008: 74.53%\n009: 85.68%\n010: 99.58%\nAverage accuracy: 86.39%\n",
     "output_type": "stream"
    }
   ]
  },
  {
   "cell_type": "markdown",
   "source": "<a style='text-decoration:none;line-height:16px;display:flex;color:#5B5B62;padding:10px;justify-content:end;' href='https://deepnote.com?utm_source=created-in-deepnote-cell&projectId=59d486bc-e14d-4632-9064-12272fc72d11' target=\"_blank\">\n<img alt='Created in deepnote.com' style='display:inline;max-height:16px;margin:0px;margin-right:7.5px;' src='data:image/svg+xml;base64,PD94bWwgdmVyc2lvbj0iMS4wIiBlbmNvZGluZz0iVVRGLTgiPz4KPHN2ZyB3aWR0aD0iODBweCIgaGVpZ2h0PSI4MHB4IiB2aWV3Qm94PSIwIDAgODAgODAiIHZlcnNpb249IjEuMSIgeG1sbnM9Imh0dHA6Ly93d3cudzMub3JnLzIwMDAvc3ZnIiB4bWxuczp4bGluaz0iaHR0cDovL3d3dy53My5vcmcvMTk5OS94bGluayI+CiAgICA8IS0tIEdlbmVyYXRvcjogU2tldGNoIDU0LjEgKDc2NDkwKSAtIGh0dHBzOi8vc2tldGNoYXBwLmNvbSAtLT4KICAgIDx0aXRsZT5Hcm91cCAzPC90aXRsZT4KICAgIDxkZXNjPkNyZWF0ZWQgd2l0aCBTa2V0Y2guPC9kZXNjPgogICAgPGcgaWQ9IkxhbmRpbmciIHN0cm9rZT0ibm9uZSIgc3Ryb2tlLXdpZHRoPSIxIiBmaWxsPSJub25lIiBmaWxsLXJ1bGU9ImV2ZW5vZGQiPgogICAgICAgIDxnIGlkPSJBcnRib2FyZCIgdHJhbnNmb3JtPSJ0cmFuc2xhdGUoLTEyMzUuMDAwMDAwLCAtNzkuMDAwMDAwKSI+CiAgICAgICAgICAgIDxnIGlkPSJHcm91cC0zIiB0cmFuc2Zvcm09InRyYW5zbGF0ZSgxMjM1LjAwMDAwMCwgNzkuMDAwMDAwKSI+CiAgICAgICAgICAgICAgICA8cG9seWdvbiBpZD0iUGF0aC0yMCIgZmlsbD0iIzAyNjVCNCIgcG9pbnRzPSIyLjM3NjIzNzYyIDgwIDM4LjA0NzY2NjcgODAgNTcuODIxNzgyMiA3My44MDU3NTkyIDU3LjgyMTc4MjIgMzIuNzU5MjczOSAzOS4xNDAyMjc4IDMxLjY4MzE2ODMiPjwvcG9seWdvbj4KICAgICAgICAgICAgICAgIDxwYXRoIGQ9Ik0zNS4wMDc3MTgsODAgQzQyLjkwNjIwMDcsNzYuNDU0OTM1OCA0Ny41NjQ5MTY3LDcxLjU0MjI2NzEgNDguOTgzODY2LDY1LjI2MTk5MzkgQzUxLjExMjI4OTksNTUuODQxNTg0MiA0MS42NzcxNzk1LDQ5LjIxMjIyODQgMjUuNjIzOTg0Niw0OS4yMTIyMjg0IEMyNS40ODQ5Mjg5LDQ5LjEyNjg0NDggMjkuODI2MTI5Niw0My4yODM4MjQ4IDM4LjY0NzU4NjksMzEuNjgzMTY4MyBMNzIuODcxMjg3MSwzMi41NTQ0MjUgTDY1LjI4MDk3Myw2Ny42NzYzNDIxIEw1MS4xMTIyODk5LDc3LjM3NjE0NCBMMzUuMDA3NzE4LDgwIFoiIGlkPSJQYXRoLTIyIiBmaWxsPSIjMDAyODY4Ij48L3BhdGg+CiAgICAgICAgICAgICAgICA8cGF0aCBkPSJNMCwzNy43MzA0NDA1IEwyNy4xMTQ1MzcsMC4yNTcxMTE0MzYgQzYyLjM3MTUxMjMsLTEuOTkwNzE3MDEgODAsMTAuNTAwMzkyNyA4MCwzNy43MzA0NDA1IEM4MCw2NC45NjA0ODgyIDY0Ljc3NjUwMzgsNzkuMDUwMzQxNCAzNC4zMjk1MTEzLDgwIEM0Ny4wNTUzNDg5LDc3LjU2NzA4MDggNTMuNDE4MjY3Nyw3MC4zMTM2MTAzIDUzLjQxODI2NzcsNTguMjM5NTg4NSBDNTMuNDE4MjY3Nyw0MC4xMjg1NTU3IDM2LjMwMzk1NDQsMzcuNzMwNDQwNSAyNS4yMjc0MTcsMzcuNzMwNDQwNSBDMTcuODQzMDU4NiwzNy43MzA0NDA1IDkuNDMzOTE5NjYsMzcuNzMwNDQwNSAwLDM3LjczMDQ0MDUgWiIgaWQ9IlBhdGgtMTkiIGZpbGw9IiMzNzkzRUYiPjwvcGF0aD4KICAgICAgICAgICAgPC9nPgogICAgICAgIDwvZz4KICAgIDwvZz4KPC9zdmc+' > </img>\nCreated in <span style='font-weight:600;margin-left:4px;'>Deepnote</span></a>",
   "metadata": {
    "tags": [],
    "created_in_deepnote_cell": true,
    "deepnote_cell_type": "markdown"
   }
  }
 ],
 "nbformat": 4,
 "nbformat_minor": 2,
 "metadata": {
  "language_info": {
   "codemirror_mode": {
    "name": "ipython",
    "version": 3
   },
   "file_extension": ".py",
   "mimetype": "text/x-python",
   "name": "python",
   "nbconvert_exporter": "python",
   "pygments_lexer": "ipython3",
   "version": "3.8.2"
  },
  "orig_nbformat": 2,
  "kernelspec": {
   "name": "python38264bit6348f0fb647549c7908291a257a0f019",
   "display_name": "Python 3.8.2 64-bit ('3.8')"
  },
  "deepnote_notebook_id": "a0e61e86-e9d2-427d-a99c-e7ca7e1b3e97",
  "deepnote": {},
  "deepnote_execution_queue": [],
  "metadata": {
   "interpreter": {
    "hash": "082e9a3bcad0a290d0001e938aa60b99250c6c2ef33a923c00b70f9826caf4b7"
   }
  }
 }
}