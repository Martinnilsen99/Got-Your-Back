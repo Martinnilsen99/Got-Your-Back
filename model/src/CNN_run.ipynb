{
 "cells": [
  {
   "cell_type": "markdown",
   "source": "## Import",
   "metadata": {
    "tags": [],
    "cell_id": "00000-40862638-2436-47dd-b6e0-6fba090dcb74",
    "deepnote_cell_type": "markdown"
   }
  },
  {
   "cell_type": "code",
   "metadata": {
    "deepnote_to_be_reexecuted": false,
    "source_hash": "e4e94b1b",
    "execution_millis": 6563,
    "execution_start": 1620895940658,
    "cell_id": "00001-e2a38ae5-9b13-431d-8175-41707310d1bc",
    "deepnote_cell_type": "code"
   },
   "source": "import sys; sys.path.insert(0, '..')\nimport os\nimport time\nimport pandas as pd\nimport numpy as np\nimport seaborn as sns\nfrom matplotlib import pyplot as plt\nfrom tabulate import tabulate\nfrom dataclasses import dataclass\nfrom keras.models import Sequential, load_model\nfrom keras.layers import Conv1D, ZeroPadding1D, AveragePooling1D, MaxPooling1D, BatchNormalization, Activation, Dropout, Flatten, Dense\nfrom keras.utils import to_categorical\nfrom keras.optimizers import RMSprop, Adam\nfrom keras.losses import CategoricalCrossentropy\nfrom keras import activations\nfrom sklearn.metrics import confusion_matrix\nfrom utils.df_utils import df_wrapper\nfrom utils.declarations import training_files, testing_files, POSE_MAP",
   "execution_count": 1,
   "outputs": []
  },
  {
   "cell_type": "markdown",
   "source": "## Define data",
   "metadata": {
    "tags": [],
    "cell_id": "00002-4f3c2075-1852-4df9-8d96-964aad88747e",
    "deepnote_cell_type": "markdown"
   }
  },
  {
   "cell_type": "code",
   "metadata": {
    "deepnote_to_be_reexecuted": false,
    "source_hash": "7339921f",
    "execution_millis": 7,
    "execution_start": 1620895947225,
    "cell_id": "00003-1e30d1f7-b2cd-4d36-bf65-ffe75a24a691",
    "deepnote_cell_type": "code"
   },
   "source": "AMOUNT_OF_SENSORS = 3\nVALIDATION_TESTSET = \"004\"",
   "execution_count": 2,
   "outputs": []
  },
  {
   "cell_type": "markdown",
   "source": "## Load dataframes",
   "metadata": {
    "tags": [],
    "cell_id": "00004-0fa57beb-c151-493c-8d3d-0947c1f99f4b",
    "deepnote_cell_type": "markdown"
   }
  },
  {
   "cell_type": "code",
   "metadata": {
    "deepnote_to_be_reexecuted": false,
    "source_hash": "a8132218",
    "execution_start": 1620895947235,
    "execution_millis": 713,
    "cell_id": "00005-e1e9e15b-5e1f-435b-93df-a5f1543a4f77",
    "deepnote_cell_type": "code"
   },
   "source": "pd.set_option('io.hdf.default.format', 'table')\n\nx_train_arr = list()\nfor key in training_files:\n    x_train_arr.append(pd.read_hdf(f\"../../data/preprocessed_data/train_arr_{AMOUNT_OF_SENSORS}.h5\", f\"df{key}\"))\n\nx_test_dict = dict()\ny_test_dict = dict()\nfor key in testing_files:\n    x_test_dict[key] = pd.read_hdf(f\"../../data/preprocessed_data/test_dict_{AMOUNT_OF_SENSORS}.h5\", f\"df{key}\")\n    y_test = x_test_dict[key][\"Pose\"]\n    y_test.index = [i for i in range(len(y_test))]\n    y_test_dict[key] = y_test\n\nx_train = pd.concat([df.drop([' TimeStamp (s)', 'Pose'],axis=1) for df in x_train_arr])\ny_train = pd.concat([df['Pose'] for df in x_train_arr])\nx_test = x_test_dict[VALIDATION_TESTSET].drop([' TimeStamp (s)', 'Pose'], axis=1) \ny_test = y_test_dict[VALIDATION_TESTSET]\n",
   "execution_count": 3,
   "outputs": []
  },
  {
   "cell_type": "markdown",
   "source": "## Adjust dataframes",
   "metadata": {
    "tags": [],
    "cell_id": "00006-8649de16-4578-470e-8ad0-7acc1b9248a0",
    "deepnote_cell_type": "markdown"
   }
  },
  {
   "cell_type": "code",
   "metadata": {
    "deepnote_to_be_reexecuted": false,
    "source_hash": "82680e6",
    "execution_millis": 11,
    "execution_start": 1620895947955,
    "cell_id": "00007-a56fe708-fb56-4efb-b8ba-72e069efff24",
    "deepnote_cell_type": "code"
   },
   "source": "# Create numpy arrays\nx_train_numpy = x_train.values\nx_test_numpy = x_test.values\ny_train_numpy = y_train.values\ny_test_numpy = y_test.values\n\n# Hot encode categories into numbers\ny_train = to_categorical(y_train_numpy,9)\ny_test = to_categorical(y_test_numpy,9)\n\n# Change shape for CNN\nx_train_numpy = x_train_numpy.reshape(x_train_numpy.shape[0],x_train_numpy.shape[1], 1)\nx_test_numpy = x_test_numpy.reshape(x_test_numpy.shape[0],x_test_numpy.shape[1], 1)",
   "execution_count": 4,
   "outputs": []
  },
  {
   "cell_type": "markdown",
   "source": "## Hyperparams",
   "metadata": {
    "tags": [],
    "cell_id": "00008-34df71f0-2437-4fad-b1a9-7e4c24c38158",
    "deepnote_cell_type": "markdown"
   }
  },
  {
   "cell_type": "code",
   "metadata": {
    "deepnote_to_be_reexecuted": false,
    "source_hash": "5d8e86c1",
    "execution_millis": 11,
    "execution_start": 1620895947967,
    "cell_id": "00009-9b7375dd-e405-49ac-b993-ffff334b9693",
    "deepnote_cell_type": "code"
   },
   "source": "EPOCH = 60\nBATCH_SIZE = 192 # 160\nLR = 0.000005 #0.000005\nOPTIM = Adam(learning_rate=LR)\n#OPTIM = RMSprop(learning_rate=LR)\n\n# Shapes\nINPUT_SHAPE = (x_train_numpy.shape[1], 1)\nOUTPUT_SHAPE = 9",
   "execution_count": 5,
   "outputs": []
  },
  {
   "cell_type": "markdown",
   "source": "## Model",
   "metadata": {
    "tags": [],
    "cell_id": "00010-19ded0fc-bcae-4d7f-8317-b9bf3253c889",
    "deepnote_cell_type": "markdown"
   }
  },
  {
   "cell_type": "code",
   "metadata": {
    "tags": [],
    "deepnote_to_be_reexecuted": false,
    "source_hash": "5d60dfce",
    "execution_millis": 17,
    "execution_start": 1620895947982,
    "cell_id": "00011-d604a7aa-7c01-4735-8aa5-e2f96c9ebb5f",
    "deepnote_cell_type": "code"
   },
   "source": "ids = [2]\nAMOUNT_OF_MODELS = 1\nPRINT_HISTORY_PLOT = True\nSAVE_MODEL = True\n\nfor run_i in ids:\n    print(f\"\"\"#####################\n#####   Run {run_i}   #####\n#####################\"\"\")\n    model = Sequential()\n    model.add(BatchNormalization(input_shape=INPUT_SHAPE))\n    model.add(Conv1D(128, kernel_size=4, padding=\"same\", activation=activations.relu))\n    model.add(Conv1D(64, kernel_size=4, padding=\"same\", activation=activations.relu))\n    model.add(Conv1D(32, kernel_size=4, padding=\"same\", activation=activations.relu))\n    model.add(Dropout(0.2))\n    model.add(MaxPooling1D(pool_size=(2))) #2\n    model.add(Flatten())\n    model.add(Dense(64, activation=activations.relu))\n    model.add(Dropout(0.2))\n    model.add(Dense(OUTPUT_SHAPE, activation=activations.softmax))\n\n    model.summary()\n    model.compile(optimizer=OPTIM, loss=CategoricalCrossentropy(), metrics=['accuracy'])\n    model.fit(x=x_train_numpy, y=y_train, batch_size=BATCH_SIZE, validation_data=(x_test_numpy, y_test), shuffle=True, epochs=EPOCH)\n\n    if PRINT_HISTORY_PLOT:\n        history = pd.DataFrame(model.history.history)\n        history.plot()\n\n    print(\"\\nClassification accuracy:\")\n    classification_dict = dict()\n    accuracy_list = list() \n\n    for key in x_test_dict:\n        x_numpy = x_test_dict[key].drop([' TimeStamp (s)', 'Pose'], axis=1).values\n        x_numpy = x_numpy.reshape(x_numpy.shape[0],x_numpy.shape[1], 1)\n        classify = model.predict(x_numpy)\n        classifications = [i.argmax() for i in classify]\n        annotated_positions = y_test_dict[key].to_numpy()\n        correct_classifications = (classifications == annotated_positions).sum()\n        accuracy_list.append(round(correct_classifications/len(classifications)*100,2))\n        print(f\"{key}: {accuracy_list[-1]}%\")\n        classification_dict[key] = classifications\n\n    print(f\"Average accuracy: {round(sum(accuracy_list)/len(accuracy_list),2)}%\\n\")\n\n    if SAVE_MODEL:\n        path = f\"../models/CNN_model_{AMOUNT_OF_SENSORS}_{run_i}.h5\"\n        model.save(path)",
   "outputs": [
    {
     "name": "stdout",
     "text": "#####################\n#####   Run 2   #####\n#####################\nModel: \"sequential\"\n_________________________________________________________________\nLayer (type)                 Output Shape              Param #   \n=================================================================\nbatch_normalization (BatchNo (None, 39, 1)             4         \n_________________________________________________________________\nconv1d (Conv1D)              (None, 39, 128)           640       \n_________________________________________________________________\nconv1d_1 (Conv1D)            (None, 39, 64)            32832     \n_________________________________________________________________\nconv1d_2 (Conv1D)            (None, 39, 32)            8224      \n_________________________________________________________________\ndropout (Dropout)            (None, 39, 32)            0         \n_________________________________________________________________\nmax_pooling1d (MaxPooling1D) (None, 19, 32)            0         \n_________________________________________________________________\nflatten (Flatten)            (None, 608)               0         \n_________________________________________________________________\ndense (Dense)                (None, 64)                38976     \n_________________________________________________________________\ndropout_1 (Dropout)          (None, 64)                0         \n_________________________________________________________________\ndense_1 (Dense)              (None, 9)                 585       \n=================================================================\nTotal params: 81,261\nTrainable params: 81,259\nNon-trainable params: 2\n_________________________________________________________________\nEpoch 1/60\n   2/2433 [..............................] - ETA: 2:09 - loss: 2.2041 - accuracy: 0.1081 ",
     "output_type": "stream"
    },
    {
     "name": "stdout",
     "text": "2433/2433 [==============================] - 159s 65ms/step - loss: 0.1543 - accuracy: 0.9553 - val_loss: 0.1742 - val_accuracy: 0.9079\nEpoch 29/60\n 199/2433 [=>............................] - ETA: 2:31 - loss: 0.1809 - accuracy: 0.9456",
     "output_type": "stream"
    }
   ],
   "execution_count": null
  },
  {
   "cell_type": "markdown",
   "source": "<a style='text-decoration:none;line-height:16px;display:flex;color:#5B5B62;padding:10px;justify-content:end;' href='https://deepnote.com?utm_source=created-in-deepnote-cell&projectId=59d486bc-e14d-4632-9064-12272fc72d11' target=\"_blank\">\n<img alt='Created in deepnote.com' style='display:inline;max-height:16px;margin:0px;margin-right:7.5px;' src='data:image/svg+xml;base64,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' > </img>\nCreated in <span style='font-weight:600;margin-left:4px;'>Deepnote</span></a>",
   "metadata": {
    "tags": [],
    "created_in_deepnote_cell": true,
    "deepnote_cell_type": "markdown"
   }
  }
 ],
 "nbformat": 4,
 "nbformat_minor": 2,
 "metadata": {
  "language_info": {
   "codemirror_mode": {
    "name": "ipython",
    "version": 3
   },
   "file_extension": ".py",
   "mimetype": "text/x-python",
   "name": "python",
   "nbconvert_exporter": "python",
   "pygments_lexer": "ipython3",
   "version": "3.8.2"
  },
  "orig_nbformat": 2,
  "kernelspec": {
   "name": "python38264bit6348f0fb647549c7908291a257a0f019",
   "display_name": "Python 3.8.2 64-bit ('3.8')"
  },
  "deepnote_notebook_id": "77df12a4-ac45-4523-9eb4-275cc5fcceee",
  "deepnote": {},
  "deepnote_execution_queue": [
   {
    "cellId": "00011-d604a7aa-7c01-4735-8aa5-e2f96c9ebb5f",
    "sessionId": "ff8d1722-5c7b-4958-9156-175c88ff7835",
    "msgId": "2653edb5-3387-4a8e-8e69-3af79189624f"
   }
  ],
  "metadata": {
   "interpreter": {
    "hash": "082e9a3bcad0a290d0001e938aa60b99250c6c2ef33a923c00b70f9826caf4b7"
   }
  }
 }
}