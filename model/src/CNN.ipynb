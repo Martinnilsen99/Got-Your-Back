{
 "cells": [
  {
   "cell_type": "markdown",
   "source": [
    "## Import"
   ],
   "metadata": {
    "tags": [],
    "cell_id": "00000-b8fc7977-50da-4a7d-89f6-5f614d6044f3",
    "deepnote_cell_type": "markdown"
   }
  },
  {
   "cell_type": "code",
   "metadata": {
    "deepnote_to_be_reexecuted": false,
    "source_hash": "1a132dc2",
    "execution_millis": 6562,
    "cell_id": "00001-9c885444-bf7d-4b5d-8891-ab86dbad2e3d",
    "execution_start": 1620291391444,
    "deepnote_cell_type": "code"
   },
   "source": [
    "import sys; sys.path.insert(0, '..')\n",
    "import os\n",
    "import time\n",
    "import pandas as pd\n",
    "import numpy as np\n",
    "import seaborn as sns\n",
    "from matplotlib import pyplot as plt\n",
    "from tabulate import tabulate\n",
    "from dataclasses import dataclass\n",
    "from keras.models import Sequential\n",
    "from keras.layers import Conv1D, ZeroPadding1D, AveragePooling1D, MaxPooling1D, BatchNormalization, Activation, Dropout, Flatten, Dense\n",
    "from keras.utils import to_categorical\n",
    "from keras.optimizers import RMSprop, Adam\n",
    "from keras.losses import CategoricalCrossentropy\n",
    "from keras.callbacks import EarlyStopping\n",
    "from keras import activations\n",
    "from sklearn.metrics import confusion_matrix\n",
    "from utils.df_utils import df_wrapper\n",
    "from utils.declarations import training_files, testing_files, POSE_MAP"
   ],
   "execution_count": 13,
   "outputs": []
  },
  {
   "cell_type": "markdown",
   "source": [
    "## Define data"
   ],
   "metadata": {
    "tags": [],
    "cell_id": "00002-f375eb5f-9eec-40c6-9576-d70aa3388926",
    "deepnote_cell_type": "markdown"
   }
  },
  {
   "cell_type": "code",
   "metadata": {
    "deepnote_to_be_reexecuted": false,
    "source_hash": "7339921f",
    "execution_millis": 0,
    "cell_id": "00003-7c223c5d-8802-48cb-9402-6ace8a7d9391",
    "execution_start": 1620291398006,
    "deepnote_cell_type": "code"
   },
   "source": [
    "AMOUNT_OF_SENSORS = 3\n",
    "VALIDATION_TESTSET = \"004\""
   ],
   "execution_count": 14,
   "outputs": []
  },
  {
   "cell_type": "markdown",
   "source": [
    "## Load dataframes"
   ],
   "metadata": {
    "tags": [],
    "cell_id": "00004-4445a580-ba79-4e00-9a63-03a65821c3f9",
    "deepnote_cell_type": "markdown"
   }
  },
  {
   "cell_type": "code",
   "execution_count": 15,
   "metadata": {},
   "outputs": [
    {
     "output_type": "stream",
     "name": "stdout",
     "text": [
      "(466981, 39)\n(466981,)\n(8367, 39)\n(8367,)\n"
     ]
    }
   ],
   "source": [
    "pd.set_option('io.hdf.default.format', 'table')\n",
    "\n",
    "x_train_arr = list()\n",
    "for key in training_files:\n",
    "    x_train_arr.append(pd.read_hdf(f\"../../data/preprocessed_data/train_arr_{AMOUNT_OF_SENSORS}.h5\", f\"df{key}\"))\n",
    "\n",
    "x_test_dict = dict()\n",
    "y_test_dict = dict()\n",
    "for key in testing_files:\n",
    "    x_test_dict[key] = pd.read_hdf(f\"../../data/preprocessed_data/test_dict_{AMOUNT_OF_SENSORS}.h5\", f\"df{key}\")\n",
    "    y_test = x_test_dict[key][\"Pose\"]\n",
    "    y_test.index = [i for i in range(len(y_test))]\n",
    "    y_test_dict[key] = y_test\n",
    "\n",
    "x_train = pd.concat([df.drop([' TimeStamp (s)', 'Pose'],axis=1) for df in x_train_arr])\n",
    "y_train = pd.concat([df['Pose'] for df in x_train_arr])\n",
    "x_test = x_test_dict[VALIDATION_TESTSET].drop([' TimeStamp (s)', 'Pose'], axis=1) \n",
    "y_test = y_test_dict[VALIDATION_TESTSET]\n",
    "\n",
    "print(x_train.shape)\n",
    "print(y_train.shape)\n",
    "print(x_test.shape)\n",
    "print(y_test.shape)\n"
   ]
  },
  {
   "cell_type": "markdown",
   "source": [
    "## Adjust dataframes"
   ],
   "metadata": {
    "tags": [],
    "cell_id": "00011-0ff9211a-f8e4-4b4b-914a-e10f0dd2a844",
    "deepnote_cell_type": "markdown"
   }
  },
  {
   "cell_type": "code",
   "metadata": {
    "deepnote_to_be_reexecuted": false,
    "source_hash": "82680e6",
    "execution_millis": 5,
    "cell_id": "00012-e837d324-1430-48cb-b556-c5a9bc12cc46",
    "execution_start": 1620291656337,
    "deepnote_cell_type": "code"
   },
   "source": [
    "# Create numpy arrays\n",
    "x_train_numpy = x_train.values\n",
    "x_test_numpy = x_test.values\n",
    "y_train_numpy = y_train.values\n",
    "y_test_numpy = y_test.values\n",
    "\n",
    "# Hot encode categories into numbers\n",
    "y_train = to_categorical(y_train_numpy,9)\n",
    "y_test = to_categorical(y_test_numpy,9)\n",
    "\n",
    "# Change shape for CNN\n",
    "x_train_numpy = x_train_numpy.reshape(x_train_numpy.shape[0],x_train_numpy.shape[1], 1)\n",
    "x_test_numpy = x_test_numpy.reshape(x_test_numpy.shape[0],x_test_numpy.shape[1], 1)"
   ],
   "execution_count": 16,
   "outputs": []
  },
  {
   "cell_type": "markdown",
   "source": [
    "## Hyperparams"
   ],
   "metadata": {
    "tags": [],
    "cell_id": "00015-552eb39a-2592-4217-bf33-d392a6059a36",
    "deepnote_cell_type": "markdown"
   }
  },
  {
   "cell_type": "code",
   "metadata": {
    "deepnote_to_be_reexecuted": false,
    "source_hash": "15a794e1",
    "execution_millis": 2,
    "cell_id": "00016-3c1db92f-e009-495a-9219-10c2a3527d23",
    "execution_start": 1620291656343,
    "deepnote_cell_type": "code"
   },
   "source": [
    "EPOCH = 60\n",
    "BATCH_SIZE = 192 # 160\n",
    "LR = 0.000005 #0.000005\n",
    "OPTIM = Adam(learning_rate=LR)\n",
    "#OPTIM = RMSprop(learning_rate=LR)\n",
    "\n",
    "# Shapes\n",
    "INPUT_SHAPE = (x_train_numpy.shape[1], 1)\n",
    "OUTPUT_SHAPE = 9"
   ],
   "execution_count": 17,
   "outputs": []
  },
  {
   "cell_type": "markdown",
   "source": [
    "## Model run"
   ],
   "metadata": {
    "tags": [],
    "cell_id": "00017-19fbda57-13e5-4340-9198-f8756378b3dd",
    "deepnote_cell_type": "markdown"
   }
  },
  {
   "cell_type": "code",
   "metadata": {
    "tags": [],
    "deepnote_to_be_reexecuted": false,
    "source_hash": "fa306f58",
    "execution_millis": 86,
    "cell_id": "00018-4be9187a-23e3-47ce-8cf7-a4816da4f5fa",
    "execution_start": 1620291656393,
    "deepnote_cell_type": "code"
   },
   "source": [
    "for run_index in range(1,4):\n",
    "    \n",
    "    print(f\"\"\"#################################\n",
    "########      Run {run_index}      ########\n",
    "#################################\\n\"\"\")\n",
    "\n",
    "    model = Sequential()\n",
    "    model.add(BatchNormalization(input_shape=INPUT_SHAPE))\n",
    "    model.add(Conv1D(128, kernel_size=4, padding=\"same\", activation=activations.relu))\n",
    "    model.add(Conv1D(64, kernel_size=4, padding=\"same\", activation=activations.relu))\n",
    "    model.add(Conv1D(32, kernel_size=4, padding=\"same\", activation=activations.relu))\n",
    "    model.add(Dropout(0.2))\n",
    "    model.add(MaxPooling1D(pool_size=(2))) #2\n",
    "    model.add(Flatten())\n",
    "    model.add(Dense(64, activation=activations.relu))\n",
    "    model.add(Dropout(0.2))\n",
    "    model.add(Dense(OUTPUT_SHAPE, activation=activations.softmax))\n",
    "\n",
    "    model.summary()\n",
    "    model.compile(optimizer=OPTIM, loss=CategoricalCrossentropy(), metrics=['accuracy'])\n",
    "    model.fit(x=x_train_numpy, y=y_train, batch_size=BATCH_SIZE, validation_data=(x_test_numpy, y_test), shuffle=True, epochs=EPOCH, callbacks=[EarlyStopping(monitor='loss', patience=3)])\n",
    "\n",
    "    history = pd.DataFrame(model.history.history)\n",
    "    history.plot()\n",
    "\n",
    "    print(\"\\nClassification accuracy:\")\n",
    "    classification_dict = dict()\n",
    "    accuracy_list = list() \n",
    "\n",
    "    for key in x_test_dict:\n",
    "        x_numpy = x_test_dict[key].drop([' TimeStamp (s)', 'Pose'], axis=1).values\n",
    "        x_numpy = x_numpy.reshape(x_numpy.shape[0],x_numpy.shape[1], 1)\n",
    "        classify = model.predict(x_numpy)\n",
    "        classifications = [i.argmax() for i in classify]\n",
    "        annotated_positions = y_test_dict[key].to_numpy()\n",
    "        correct_classifications = (classifications == annotated_positions).sum()\n",
    "        accuracy_list.append(round(correct_classifications/len(classifications)*100,2))\n",
    "        print(f\"{key}: {accuracy_list[-1]}%\")\n",
    "        classification_dict[key] = classifications\n",
    "\n",
    "    print(f\"Average accuracy: {round(sum(accuracy_list)/len(accuracy_list),2)}%\\n\")\n",
    "\n",
    "    width=16\n",
    "    height=4*len(x_test_dict)\n",
    "    fig, axes = plt.subplots(len(x_test_dict), 4, figsize=(width, height))\n",
    "    for i, key in enumerate(x_test_dict):\n",
    "        cols = [f\"{key}: Model classifications\", f\"{key}: Model heatmap\", f\"{key}: Annotated classifications\", f\"{key}: Annotated heatmap\"]\n",
    "        df_predict = pd.DataFrame({' Timestamp (s)': x_test_dict[key][' TimeStamp (s)'],'Pose':classification_dict[key]})\n",
    "        sns.lineplot(ax=axes[i, 0], data=df_predict,x=' Timestamp (s)',y='Pose')\n",
    "        sns.heatmap(ax=axes[i, 1], data=confusion_matrix(y_test_dict[key], classification_dict[key]), cmap=\"YlGnBu\", annot=True, fmt=\"d\")\n",
    "        sns.lineplot(ax=axes[i, 2], data=x_test_dict[key], x=\" TimeStamp (s)\", y='Pose')\n",
    "        sns.heatmap(ax=axes[i, 3], data=confusion_matrix(y_test_dict[key], y_test_dict[key].to_numpy()), cmap=\"YlGnBu\", annot=True, fmt=\"d\")\n",
    "        for ax, col in zip(axes[i], cols): ax.set_title(col)\n",
    "    fig.tight_layout()\n",
    "    plt.show()\n",
    "\n",
    "    path = f\"../models/CNN_model_{AMOUNT_OF_SENSORS}_{run_index}.h5\"\n",
    "    model.save(path)\n",
    "\n"
   ],
   "execution_count": 12,
   "outputs": []
  },
  {
   "cell_type": "code",
   "execution_count": null,
   "metadata": {},
   "outputs": [],
   "source": []
  }
 ],
 "nbformat": 4,
 "nbformat_minor": 2,
 "metadata": {
  "language_info": {
   "codemirror_mode": {
    "name": "ipython",
    "version": 3
   },
   "file_extension": ".py",
   "mimetype": "text/x-python",
   "name": "python",
   "nbconvert_exporter": "python",
   "pygments_lexer": "ipython3",
   "version": "3.8.2"
  },
  "orig_nbformat": 2,
  "kernelspec": {
   "name": "python38264bit6348f0fb647549c7908291a257a0f019",
   "display_name": "Python 3.8.2 64-bit ('3.8')"
  },
  "deepnote_notebook_id": "45f9d180-c476-42b4-afaa-c2af89cf80a7",
  "deepnote": {},
  "deepnote_execution_queue": [],
  "metadata": {
   "interpreter": {
    "hash": "082e9a3bcad0a290d0001e938aa60b99250c6c2ef33a923c00b70f9826caf4b7"
   }
  }
 }
}