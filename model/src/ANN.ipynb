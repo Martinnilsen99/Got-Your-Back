{
  "cells": [
    {
      "cell_type": "markdown",
      "source": [
        "## Import"
      ],
      "metadata": {
        "tags": [],
        "cell_id": "00000-92ac364d-788c-449f-b0ca-edb08dfa62be",
        "deepnote_cell_type": "markdown"
      }
    },
    {
      "cell_type": "code",
      "metadata": {
        "deepnote_to_be_reexecuted": false,
        "source_hash": "501f88be",
        "execution_millis": 6689,
        "cell_id": "00001-7154e403-17b0-450f-9842-bbd21a4d43bc",
        "execution_start": 1616715659861,
        "deepnote_cell_type": "code"
      },
      "source": [
        "import sys; sys.path.insert(0, '..')\n",
        "import os\n",
        "import time\n",
        "import pandas as pd\n",
        "import numpy as np\n",
        "import seaborn as sns\n",
        "from matplotlib import pyplot as plt\n",
        "from tabulate import tabulate\n",
        "from dataclasses import dataclass\n",
        "from keras.models import Sequential\n",
        "from keras.layers import Dense, Dropout\n",
        "from keras.utils import to_categorical\n",
        "from keras.optimizers import RMSprop, Adam\n",
        "from keras.losses import CategoricalCrossentropy\n",
        "from keras import activations\n",
        "from sklearn.metrics import confusion_matrix\n",
        "from utils.df_utils import df_wrapper\n",
        "from utils.declarations import training_files, testing_files, POSE_MAP"
      ],
      "execution_count": 1,
      "outputs": []
    },
    {
      "cell_type": "markdown",
      "source": [
        "## Define data"
      ],
      "metadata": {
        "tags": [],
        "cell_id": "00002-95020b43-df03-4f34-aada-dda8d3c53933",
        "deepnote_cell_type": "markdown"
      }
    },
    {
      "cell_type": "code",
      "metadata": {
        "deepnote_to_be_reexecuted": false,
        "source_hash": "74b8be1a",
        "execution_millis": 2,
        "cell_id": "00003-7f4e4075-eaca-48fd-bdaf-65e6964f23be",
        "execution_start": 1616715666553,
        "deepnote_cell_type": "code"
      },
      "source": [
        "AMOUNT_OF_SENSORS = 3\n",
        "VALIDATION_TESTSET = \"004\""
      ],
      "execution_count": 2,
      "outputs": []
    },
    {
      "cell_type": "markdown",
      "source": [
        "## Datapreparation"
      ],
      "metadata": {
        "tags": [],
        "cell_id": "00004-a7aa3746-44e6-4f81-890d-53390acbe35b",
        "deepnote_cell_type": "markdown"
      }
    },
    {
      "cell_type": "markdown",
      "source": [
        "### Train"
      ],
      "metadata": {
        "tags": [],
        "cell_id": "00005-0e62a855-47a5-4703-a68e-e7a202be71c8",
        "deepnote_cell_type": "markdown"
      }
    },
    {
      "cell_type": "code",
      "metadata": {
        "deepnote_to_be_reexecuted": false,
        "source_hash": "198d166c",
        "execution_millis": 76178,
        "cell_id": "00006-ed14c906-9d40-4037-93a6-ec568791b409",
        "execution_start": 1616715784547,
        "deepnote_cell_type": "code"
      },
      "source": [
        "x_train_arr = []\n",
        "for key in training_files:\n",
        "    print(key)\n",
        "    elem = df_wrapper(training_files[key].csv_file)\n",
        "    elem.concat_sensor_data(AMOUNT_OF_SENSORS)\n",
        "    elem.align_poses(training_files[key].annot_file, POSE_MAP)\n",
        "    x_train_arr.append(elem)\n",
        "\n",
        "x_train = pd.concat([x.df.drop([' TimeStamp (s)', 'Pose'],axis=1) for x in x_train_arr])\n",
        "y_train = pd.concat([x.df['Pose'] for x in x_train_arr])"
      ],
      "execution_count": 3,
      "outputs": [
        {
          "output_type": "stream",
          "name": "stdout",
          "text": [
            "001\n",
            "..\\utils\\df_utils.py:37: SettingWithCopyWarning: \n",
            "A value is trying to be set on a copy of a slice from a DataFrame.\n",
            "Try using .loc[row_indexer,col_indexer] = value instead\n",
            "\n",
            "See the caveats in the documentation: https://pandas.pydata.org/pandas-docs/stable/user_guide/indexing.html#returning-a-view-versus-a-copy\n",
            "  self.df_arr[i][\" TimeStamp (s)\"] = self.df_arr[i][\" TimeStamp (s)\"] - \\\n",
            "002\n",
            "..\\utils\\df_utils.py:37: SettingWithCopyWarning: \n",
            "A value is trying to be set on a copy of a slice from a DataFrame.\n",
            "Try using .loc[row_indexer,col_indexer] = value instead\n",
            "\n",
            "See the caveats in the documentation: https://pandas.pydata.org/pandas-docs/stable/user_guide/indexing.html#returning-a-view-versus-a-copy\n",
            "  self.df_arr[i][\" TimeStamp (s)\"] = self.df_arr[i][\" TimeStamp (s)\"] - \\\n",
            "003\n",
            "..\\utils\\df_utils.py:37: SettingWithCopyWarning: \n",
            "A value is trying to be set on a copy of a slice from a DataFrame.\n",
            "Try using .loc[row_indexer,col_indexer] = value instead\n",
            "\n",
            "See the caveats in the documentation: https://pandas.pydata.org/pandas-docs/stable/user_guide/indexing.html#returning-a-view-versus-a-copy\n",
            "  self.df_arr[i][\" TimeStamp (s)\"] = self.df_arr[i][\" TimeStamp (s)\"] - \\\n",
            "004\n",
            "..\\utils\\df_utils.py:37: SettingWithCopyWarning: \n",
            "A value is trying to be set on a copy of a slice from a DataFrame.\n",
            "Try using .loc[row_indexer,col_indexer] = value instead\n",
            "\n",
            "See the caveats in the documentation: https://pandas.pydata.org/pandas-docs/stable/user_guide/indexing.html#returning-a-view-versus-a-copy\n",
            "  self.df_arr[i][\" TimeStamp (s)\"] = self.df_arr[i][\" TimeStamp (s)\"] - \\\n",
            "005\n",
            "..\\utils\\df_utils.py:37: SettingWithCopyWarning: \n",
            "A value is trying to be set on a copy of a slice from a DataFrame.\n",
            "Try using .loc[row_indexer,col_indexer] = value instead\n",
            "\n",
            "See the caveats in the documentation: https://pandas.pydata.org/pandas-docs/stable/user_guide/indexing.html#returning-a-view-versus-a-copy\n",
            "  self.df_arr[i][\" TimeStamp (s)\"] = self.df_arr[i][\" TimeStamp (s)\"] - \\\n",
            "006\n",
            "..\\utils\\df_utils.py:37: SettingWithCopyWarning: \n",
            "A value is trying to be set on a copy of a slice from a DataFrame.\n",
            "Try using .loc[row_indexer,col_indexer] = value instead\n",
            "\n",
            "See the caveats in the documentation: https://pandas.pydata.org/pandas-docs/stable/user_guide/indexing.html#returning-a-view-versus-a-copy\n",
            "  self.df_arr[i][\" TimeStamp (s)\"] = self.df_arr[i][\" TimeStamp (s)\"] - \\\n",
            "009\n",
            "..\\utils\\df_utils.py:37: SettingWithCopyWarning: \n",
            "A value is trying to be set on a copy of a slice from a DataFrame.\n",
            "Try using .loc[row_indexer,col_indexer] = value instead\n",
            "\n",
            "See the caveats in the documentation: https://pandas.pydata.org/pandas-docs/stable/user_guide/indexing.html#returning-a-view-versus-a-copy\n",
            "  self.df_arr[i][\" TimeStamp (s)\"] = self.df_arr[i][\" TimeStamp (s)\"] - \\\n",
            "010\n",
            "..\\utils\\df_utils.py:37: SettingWithCopyWarning: \n",
            "A value is trying to be set on a copy of a slice from a DataFrame.\n",
            "Try using .loc[row_indexer,col_indexer] = value instead\n",
            "\n",
            "See the caveats in the documentation: https://pandas.pydata.org/pandas-docs/stable/user_guide/indexing.html#returning-a-view-versus-a-copy\n",
            "  self.df_arr[i][\" TimeStamp (s)\"] = self.df_arr[i][\" TimeStamp (s)\"] - \\\n"
          ]
        }
      ]
    },
    {
      "cell_type": "markdown",
      "source": [
        "### Test"
      ],
      "metadata": {
        "tags": [],
        "cell_id": "00007-9adede0b-3e2f-491e-be5c-0e209191ef9c",
        "deepnote_cell_type": "markdown"
      }
    },
    {
      "cell_type": "code",
      "metadata": {
        "tags": [],
        "deepnote_to_be_reexecuted": false,
        "source_hash": "1e48518c",
        "execution_millis": 2635,
        "cell_id": "00008-42c7f2fa-197f-4a17-a213-f22d80a90711",
        "execution_start": 1616715860731,
        "deepnote_cell_type": "code"
      },
      "source": [
        "x_test_dict = dict()\n",
        "y_test_dict = dict()\n",
        "for key in testing_files:\n",
        "\n",
        "    elem = df_wrapper(testing_files[key].csv_file)\n",
        "    elem.concat_sensor_data(AMOUNT_OF_SENSORS)\n",
        "    elem.align_poses(testing_files[key].annot_file, POSE_MAP)\n",
        "    y_test = elem.df[\"Pose\"]\n",
        "    y_test.index = [i for i in range(len(y_test))]\n",
        "    x_test_dict[key] = elem.df\n",
        "    y_test_dict[key] = y_test\n",
        "\n",
        "x_test = x_test_dict[VALIDATION_TESTSET].drop([' TimeStamp (s)', 'Pose'], axis=1) \n",
        "y_test = y_test_dict[VALIDATION_TESTSET]"
      ],
      "execution_count": 4,
      "outputs": [
        {
          "output_type": "stream",
          "name": "stderr",
          "text": [
            "..\\utils\\df_utils.py:37: SettingWithCopyWarning: \n",
            "A value is trying to be set on a copy of a slice from a DataFrame.\n",
            "Try using .loc[row_indexer,col_indexer] = value instead\n",
            "\n",
            "See the caveats in the documentation: https://pandas.pydata.org/pandas-docs/stable/user_guide/indexing.html#returning-a-view-versus-a-copy\n",
            "  self.df_arr[i][\" TimeStamp (s)\"] = self.df_arr[i][\" TimeStamp (s)\"] - \\\n",
            "..\\utils\\df_utils.py:37: SettingWithCopyWarning: \n",
            "A value is trying to be set on a copy of a slice from a DataFrame.\n",
            "Try using .loc[row_indexer,col_indexer] = value instead\n",
            "\n",
            "See the caveats in the documentation: https://pandas.pydata.org/pandas-docs/stable/user_guide/indexing.html#returning-a-view-versus-a-copy\n",
            "  self.df_arr[i][\" TimeStamp (s)\"] = self.df_arr[i][\" TimeStamp (s)\"] - \\\n",
            "..\\utils\\df_utils.py:37: SettingWithCopyWarning: \n",
            "A value is trying to be set on a copy of a slice from a DataFrame.\n",
            "Try using .loc[row_indexer,col_indexer] = value instead\n",
            "\n",
            "See the caveats in the documentation: https://pandas.pydata.org/pandas-docs/stable/user_guide/indexing.html#returning-a-view-versus-a-copy\n",
            "  self.df_arr[i][\" TimeStamp (s)\"] = self.df_arr[i][\" TimeStamp (s)\"] - \\\n",
            "..\\utils\\df_utils.py:37: SettingWithCopyWarning: \n",
            "A value is trying to be set on a copy of a slice from a DataFrame.\n",
            "Try using .loc[row_indexer,col_indexer] = value instead\n",
            "\n",
            "See the caveats in the documentation: https://pandas.pydata.org/pandas-docs/stable/user_guide/indexing.html#returning-a-view-versus-a-copy\n",
            "  self.df_arr[i][\" TimeStamp (s)\"] = self.df_arr[i][\" TimeStamp (s)\"] - \\\n",
            "..\\utils\\df_utils.py:37: SettingWithCopyWarning: \n",
            "A value is trying to be set on a copy of a slice from a DataFrame.\n",
            "Try using .loc[row_indexer,col_indexer] = value instead\n",
            "\n",
            "See the caveats in the documentation: https://pandas.pydata.org/pandas-docs/stable/user_guide/indexing.html#returning-a-view-versus-a-copy\n",
            "  self.df_arr[i][\" TimeStamp (s)\"] = self.df_arr[i][\" TimeStamp (s)\"] - \\\n",
            "..\\utils\\df_utils.py:37: SettingWithCopyWarning: \n",
            "A value is trying to be set on a copy of a slice from a DataFrame.\n",
            "Try using .loc[row_indexer,col_indexer] = value instead\n",
            "\n",
            "See the caveats in the documentation: https://pandas.pydata.org/pandas-docs/stable/user_guide/indexing.html#returning-a-view-versus-a-copy\n",
            "  self.df_arr[i][\" TimeStamp (s)\"] = self.df_arr[i][\" TimeStamp (s)\"] - \\\n",
            "..\\utils\\df_utils.py:37: SettingWithCopyWarning: \n",
            "A value is trying to be set on a copy of a slice from a DataFrame.\n",
            "Try using .loc[row_indexer,col_indexer] = value instead\n",
            "\n",
            "See the caveats in the documentation: https://pandas.pydata.org/pandas-docs/stable/user_guide/indexing.html#returning-a-view-versus-a-copy\n",
            "  self.df_arr[i][\" TimeStamp (s)\"] = self.df_arr[i][\" TimeStamp (s)\"] - \\\n",
            "..\\utils\\df_utils.py:37: SettingWithCopyWarning: \n",
            "A value is trying to be set on a copy of a slice from a DataFrame.\n",
            "Try using .loc[row_indexer,col_indexer] = value instead\n",
            "\n",
            "See the caveats in the documentation: https://pandas.pydata.org/pandas-docs/stable/user_guide/indexing.html#returning-a-view-versus-a-copy\n",
            "  self.df_arr[i][\" TimeStamp (s)\"] = self.df_arr[i][\" TimeStamp (s)\"] - \\\n"
          ]
        }
      ]
    },
    {
      "cell_type": "markdown",
      "source": [
        "## Visualisation"
      ],
      "metadata": {
        "tags": [],
        "cell_id": "00009-26e2498f-8ec0-4555-b09f-7a1a25167c96",
        "deepnote_cell_type": "markdown"
      }
    },
    {
      "cell_type": "markdown",
      "source": [
        "## Adjust dataframes"
      ],
      "metadata": {
        "tags": [],
        "cell_id": "00011-a4c193de-a776-4943-b0dc-31995034b279",
        "deepnote_cell_type": "markdown"
      }
    },
    {
      "cell_type": "code",
      "metadata": {
        "deepnote_to_be_reexecuted": false,
        "source_hash": "f6a772e3",
        "execution_millis": 18,
        "cell_id": "00012-4aaa6b86-ba3e-4037-b43d-e910e2ab41e0",
        "execution_start": 1616715889210,
        "deepnote_cell_type": "code"
      },
      "source": [
        "# Create numpy arrays\n",
        "x_train_numpy = np.array(x_train)\n",
        "x_test_numpy = np.array(x_test)\n",
        "y_train_numpy = np.array(y_train)\n",
        "y_test_numpy = np.array(y_test)\n",
        "\n",
        "# Hot encode categories into numbers\n",
        "y_train = to_categorical(y_train_numpy,9)\n",
        "y_test = to_categorical(y_test_numpy,9)\n"
      ],
      "execution_count": 5,
      "outputs": []
    },
    {
      "cell_type": "code",
      "execution_count": 6,
      "metadata": {},
      "outputs": [
        {
          "output_type": "stream",
          "name": "stdout",
          "text": [
            "(548854, 39)\n(548854, 9)\n"
          ]
        }
      ],
      "source": [
        "\n",
        "print(x_train_numpy.shape)\n",
        "\n",
        "print(np.shape(y_train))"
      ]
    },
    {
      "cell_type": "markdown",
      "source": [
        "## Hyperparams"
      ],
      "metadata": {
        "tags": [],
        "cell_id": "00015-20b4f721-0af7-4a3e-a5a7-66810cbf6269",
        "deepnote_cell_type": "markdown"
      }
    },
    {
      "cell_type": "markdown",
      "source": [
        "## Model"
      ],
      "metadata": {
        "tags": [],
        "cell_id": "00017-7a736b2d-e956-4166-bb93-6769784bab7c",
        "deepnote_cell_type": "markdown"
      }
    },
    {
      "cell_type": "code",
      "metadata": {
        "tags": [],
        "deepnote_to_be_reexecuted": false,
        "source_hash": "5d9877da",
        "execution_millis": 49,
        "cell_id": "00018-8e7dcf2a-ebb3-4894-9597-ac7d9489d8ae",
        "execution_start": 1616715889282,
        "deepnote_cell_type": "code"
      },
      "source": [
        "import keras\n",
        "from keras.layers import LSTM\n",
        "from tensorflow.keras import layers\n",
        "\n",
        "OPTIM = Adam(learning_rate=0.00001)\n",
        "\n",
        "model = Sequential()\n",
        "model.add(Dense(128, activation='relu'))\n",
        "model.add(Dropout(rate=0.2))\n",
        "model.add(Dense(64, activation='relu'))\n",
        "model.add(Dropout(rate=0.2))\n",
        "model.add(Dense(32, activation='relu'))\n",
        "model.add(Dropout(rate=0.2))\n",
        "model.add(Dense(9, activation='softmax'))\n",
        "\n",
        "model.compile(optimizer=OPTIM,  loss=keras.losses.CategoricalCrossentropy(), metrics=['accuracy'])\n",
        "\n"
      ],
      "execution_count": 7,
      "outputs": []
    },
    {
      "cell_type": "code",
      "execution_count": 39,
      "metadata": {},
      "outputs": [],
      "source": []
    },
    {
      "cell_type": "markdown",
      "source": [
        "## Fit the model"
      ],
      "metadata": {
        "tags": [],
        "cell_id": "00019-4166dc7e-1b75-4ef3-bb1c-e16f074e903f",
        "deepnote_cell_type": "markdown"
      }
    },
    {
      "cell_type": "code",
      "metadata": {
        "tags": [],
        "deepnote_to_be_reexecuted": false,
        "source_hash": "6fd4db49",
        "execution_millis": 154077,
        "cell_id": "00020-2b5a836c-3eaa-4038-aec1-228cfebc94d5",
        "execution_start": 1616715889327,
        "deepnote_cell_type": "code"
      },
      "source": [
        "model.fit(x=x_train_numpy, y=y_train, batch_size=200, epochs=50, validation_data=(x_test_numpy, y_test), shuffle=True)"
      ],
      "execution_count": 110,
      "outputs": [
        {
          "output_type": "stream",
          "name": "stdout",
          "text": [
            "Epoch 1/20\n",
            "4288/4288 [==============================] - 9s 2ms/step - loss: 12.0001 - accuracy: 0.1358 - val_loss: 2.0479 - val_accuracy: 0.2231\n",
            "Epoch 2/20\n",
            "4288/4288 [==============================] - 8s 2ms/step - loss: 2.7768 - accuracy: 0.1849 - val_loss: 2.0673 - val_accuracy: 0.1035\n",
            "Epoch 3/20\n",
            "4288/4288 [==============================] - 8s 2ms/step - loss: 2.0491 - accuracy: 0.2640 - val_loss: 1.4902 - val_accuracy: 0.4065\n",
            "Epoch 4/20\n",
            "4288/4288 [==============================] - 8s 2ms/step - loss: 1.6642 - accuracy: 0.3697 - val_loss: 1.2095 - val_accuracy: 0.6418\n",
            "Epoch 5/20\n",
            "4288/4288 [==============================] - 8s 2ms/step - loss: 1.3564 - accuracy: 0.4752 - val_loss: 0.9920 - val_accuracy: 0.4954\n",
            "Epoch 6/20\n",
            "4288/4288 [==============================] - 8s 2ms/step - loss: 1.0981 - accuracy: 0.5714 - val_loss: 0.9530 - val_accuracy: 0.4336\n",
            "Epoch 7/20\n",
            "4288/4288 [==============================] - 8s 2ms/step - loss: 0.8947 - accuracy: 0.6502 - val_loss: 0.9201 - val_accuracy: 0.5271\n",
            "Epoch 8/20\n",
            "4288/4288 [==============================] - 8s 2ms/step - loss: 0.7362 - accuracy: 0.7127 - val_loss: 0.8979 - val_accuracy: 0.5372\n",
            "Epoch 9/20\n",
            "4288/4288 [==============================] - 8s 2ms/step - loss: 0.6058 - accuracy: 0.7662 - val_loss: 0.8689 - val_accuracy: 0.5432\n",
            "Epoch 10/20\n",
            "4288/4288 [==============================] - 7s 2ms/step - loss: 0.4996 - accuracy: 0.8115 - val_loss: 0.8588 - val_accuracy: 0.5271\n",
            "Epoch 11/20\n",
            "4288/4288 [==============================] - 7s 2ms/step - loss: 0.4184 - accuracy: 0.8466 - val_loss: 0.8380 - val_accuracy: 0.5221\n",
            "Epoch 12/20\n",
            "4288/4288 [==============================] - 7s 2ms/step - loss: 0.3569 - accuracy: 0.8722 - val_loss: 0.8201 - val_accuracy: 0.5405\n",
            "Epoch 13/20\n",
            "4288/4288 [==============================] - 11s 3ms/step - loss: 0.3070 - accuracy: 0.8931 - val_loss: 0.8056 - val_accuracy: 0.5619\n",
            "Epoch 14/20\n",
            "4288/4288 [==============================] - 15s 3ms/step - loss: 0.2657 - accuracy: 0.9099 - val_loss: 0.7960 - val_accuracy: 0.6123\n",
            "Epoch 15/20\n",
            "4288/4288 [==============================] - 9s 2ms/step - loss: 0.2329 - accuracy: 0.9220 - val_loss: 0.7947 - val_accuracy: 0.6979\n",
            "Epoch 16/20\n",
            "4288/4288 [==============================] - 7s 2ms/step - loss: 0.2065 - accuracy: 0.9320 - val_loss: 0.7986 - val_accuracy: 0.7478\n",
            "Epoch 17/20\n",
            "4288/4288 [==============================] - 8s 2ms/step - loss: 0.1866 - accuracy: 0.9397 - val_loss: 0.7838 - val_accuracy: 0.7447\n",
            "Epoch 18/20\n",
            "4288/4288 [==============================] - 8s 2ms/step - loss: 0.1679 - accuracy: 0.9466 - val_loss: 0.7691 - val_accuracy: 0.7580\n",
            "Epoch 19/20\n",
            "4288/4288 [==============================] - 9s 2ms/step - loss: 0.1523 - accuracy: 0.9520 - val_loss: 0.7838 - val_accuracy: 0.7412\n",
            "Epoch 20/20\n",
            "4288/4288 [==============================] - 8s 2ms/step - loss: 0.1391 - accuracy: 0.9563 - val_loss: 0.8044 - val_accuracy: 0.7681\n"
          ]
        },
        {
          "output_type": "execute_result",
          "data": {
            "text/plain": [
              "<tensorflow.python.keras.callbacks.History at 0x187a15c4b80>"
            ]
          },
          "metadata": {},
          "execution_count": 110
        }
      ]
    },
    {
      "cell_type": "markdown",
      "source": [
        "## Visualise the loss"
      ],
      "metadata": {
        "tags": [],
        "cell_id": "00021-deab7db5-559b-4469-aef7-586fdbe6c0f5",
        "deepnote_cell_type": "markdown"
      }
    },
    {
      "cell_type": "code",
      "metadata": {
        "deepnote_to_be_reexecuted": false,
        "source_hash": "2f6afac5",
        "execution_millis": 234,
        "cell_id": "00022-4f331c96-ff4d-485c-861f-2fb3536eaf37",
        "execution_start": 1616716043404,
        "deepnote_cell_type": "code"
      },
      "source": [
        "plt.plot(model.history.history['accuracy'])\n",
        "plt.plot(model.history.history['val_accuracy'])\n",
        "plt.plot(model.history.history['loss'])\n",
        "plt.plot(model.history.history['val_loss'])\n",
        "plt.plot()\n",
        "plt.title('accuracy, val_acc, loss, val_loss')\n",
        "plt.ylabel('loss')\n",
        "plt.xlabel('epoch')\n",
        "plt.legend(['accuracy', 'val_arrucary', 'loss', 'val_loss'], loc='upper right')\n",
        "plt.ylim(top=2)\n",
        "axes=plt.gca()\n",
        "\n",
        "plt.show()"
      ],
      "execution_count": 111,
      "outputs": [
        {
          "output_type": "display_data",
          "data": {
            "text/plain": "<Figure size 432x288 with 1 Axes>",
            "image/svg+xml": "<?xml version=\"1.0\" encoding=\"utf-8\" standalone=\"no\"?>\r\n<!DOCTYPE svg PUBLIC \"-//W3C//DTD SVG 1.1//EN\"\r\n  \"http://www.w3.org/Graphics/SVG/1.1/DTD/svg11.dtd\">\r\n<!-- Created with matplotlib (https://matplotlib.org/) -->\r\n<svg height=\"277.314375pt\" version=\"1.1\" viewBox=\"0 0 385.78125 277.314375\" width=\"385.78125pt\" xmlns=\"http://www.w3.org/2000/svg\" xmlns:xlink=\"http://www.w3.org/1999/xlink\">\r\n <metadata>\r\n  <rdf:RDF xmlns:cc=\"http://creativecommons.org/ns#\" xmlns:dc=\"http://purl.org/dc/elements/1.1/\" xmlns:rdf=\"http://www.w3.org/1999/02/22-rdf-syntax-ns#\">\r\n   <cc:Work>\r\n    <dc:type rdf:resource=\"http://purl.org/dc/dcmitype/StillImage\"/>\r\n    <dc:date>2021-04-30T16:02:55.034370</dc:date>\r\n    <dc:format>image/svg+xml</dc:format>\r\n    <dc:creator>\r\n     <cc:Agent>\r\n      <dc:title>Matplotlib v3.3.4, https://matplotlib.org/</dc:title>\r\n     </cc:Agent>\r\n    </dc:creator>\r\n   </cc:Work>\r\n  </rdf:RDF>\r\n </metadata>\r\n <defs>\r\n  <style type=\"text/css\">*{stroke-linecap:butt;stroke-linejoin:round;}</style>\r\n </defs>\r\n <g id=\"figure_1\">\r\n  <g id=\"patch_1\">\r\n   <path d=\"M 0 277.314375 \r\nL 385.78125 277.314375 \r\nL 385.78125 0 \r\nL 0 0 \r\nz\r\n\" style=\"fill:none;\"/>\r\n  </g>\r\n  <g id=\"axes_1\">\r\n   <g id=\"patch_2\">\r\n    <path d=\"M 43.78125 239.758125 \r\nL 378.58125 239.758125 \r\nL 378.58125 22.318125 \r\nL 43.78125 22.318125 \r\nz\r\n\" style=\"fill:#ffffff;\"/>\r\n   </g>\r\n   <g id=\"matplotlib.axis_1\">\r\n    <g id=\"xtick_1\">\r\n     <g id=\"line2d_1\">\r\n      <defs>\r\n       <path d=\"M 0 0 \r\nL 0 3.5 \r\n\" id=\"m4e6ee871c3\" style=\"stroke:#000000;stroke-width:0.8;\"/>\r\n      </defs>\r\n      <g>\r\n       <use style=\"stroke:#000000;stroke-width:0.8;\" x=\"58.999432\" xlink:href=\"#m4e6ee871c3\" y=\"239.758125\"/>\r\n      </g>\r\n     </g>\r\n     <g id=\"text_1\">\r\n      <!-- 0.0 -->\r\n      <g transform=\"translate(51.047869 254.356562)scale(0.1 -0.1)\">\r\n       <defs>\r\n        <path d=\"M 31.78125 66.40625 \r\nQ 24.171875 66.40625 20.328125 58.90625 \r\nQ 16.5 51.421875 16.5 36.375 \r\nQ 16.5 21.390625 20.328125 13.890625 \r\nQ 24.171875 6.390625 31.78125 6.390625 \r\nQ 39.453125 6.390625 43.28125 13.890625 \r\nQ 47.125 21.390625 47.125 36.375 \r\nQ 47.125 51.421875 43.28125 58.90625 \r\nQ 39.453125 66.40625 31.78125 66.40625 \r\nz\r\nM 31.78125 74.21875 \r\nQ 44.046875 74.21875 50.515625 64.515625 \r\nQ 56.984375 54.828125 56.984375 36.375 \r\nQ 56.984375 17.96875 50.515625 8.265625 \r\nQ 44.046875 -1.421875 31.78125 -1.421875 \r\nQ 19.53125 -1.421875 13.0625 8.265625 \r\nQ 6.59375 17.96875 6.59375 36.375 \r\nQ 6.59375 54.828125 13.0625 64.515625 \r\nQ 19.53125 74.21875 31.78125 74.21875 \r\nz\r\n\" id=\"DejaVuSans-48\"/>\r\n        <path d=\"M 10.6875 12.40625 \r\nL 21 12.40625 \r\nL 21 0 \r\nL 10.6875 0 \r\nz\r\n\" id=\"DejaVuSans-46\"/>\r\n       </defs>\r\n       <use xlink:href=\"#DejaVuSans-48\"/>\r\n       <use x=\"63.623047\" xlink:href=\"#DejaVuSans-46\"/>\r\n       <use x=\"95.410156\" xlink:href=\"#DejaVuSans-48\"/>\r\n      </g>\r\n     </g>\r\n    </g>\r\n    <g id=\"xtick_2\">\r\n     <g id=\"line2d_2\">\r\n      <g>\r\n       <use style=\"stroke:#000000;stroke-width:0.8;\" x=\"99.047279\" xlink:href=\"#m4e6ee871c3\" y=\"239.758125\"/>\r\n      </g>\r\n     </g>\r\n     <g id=\"text_2\">\r\n      <!-- 2.5 -->\r\n      <g transform=\"translate(91.095716 254.356562)scale(0.1 -0.1)\">\r\n       <defs>\r\n        <path d=\"M 19.1875 8.296875 \r\nL 53.609375 8.296875 \r\nL 53.609375 0 \r\nL 7.328125 0 \r\nL 7.328125 8.296875 \r\nQ 12.9375 14.109375 22.625 23.890625 \r\nQ 32.328125 33.6875 34.8125 36.53125 \r\nQ 39.546875 41.84375 41.421875 45.53125 \r\nQ 43.3125 49.21875 43.3125 52.78125 \r\nQ 43.3125 58.59375 39.234375 62.25 \r\nQ 35.15625 65.921875 28.609375 65.921875 \r\nQ 23.96875 65.921875 18.8125 64.3125 \r\nQ 13.671875 62.703125 7.8125 59.421875 \r\nL 7.8125 69.390625 \r\nQ 13.765625 71.78125 18.9375 73 \r\nQ 24.125 74.21875 28.421875 74.21875 \r\nQ 39.75 74.21875 46.484375 68.546875 \r\nQ 53.21875 62.890625 53.21875 53.421875 \r\nQ 53.21875 48.921875 51.53125 44.890625 \r\nQ 49.859375 40.875 45.40625 35.40625 \r\nQ 44.1875 33.984375 37.640625 27.21875 \r\nQ 31.109375 20.453125 19.1875 8.296875 \r\nz\r\n\" id=\"DejaVuSans-50\"/>\r\n        <path d=\"M 10.796875 72.90625 \r\nL 49.515625 72.90625 \r\nL 49.515625 64.59375 \r\nL 19.828125 64.59375 \r\nL 19.828125 46.734375 \r\nQ 21.96875 47.46875 24.109375 47.828125 \r\nQ 26.265625 48.1875 28.421875 48.1875 \r\nQ 40.625 48.1875 47.75 41.5 \r\nQ 54.890625 34.8125 54.890625 23.390625 \r\nQ 54.890625 11.625 47.5625 5.09375 \r\nQ 40.234375 -1.421875 26.90625 -1.421875 \r\nQ 22.3125 -1.421875 17.546875 -0.640625 \r\nQ 12.796875 0.140625 7.71875 1.703125 \r\nL 7.71875 11.625 \r\nQ 12.109375 9.234375 16.796875 8.0625 \r\nQ 21.484375 6.890625 26.703125 6.890625 \r\nQ 35.15625 6.890625 40.078125 11.328125 \r\nQ 45.015625 15.765625 45.015625 23.390625 \r\nQ 45.015625 31 40.078125 35.4375 \r\nQ 35.15625 39.890625 26.703125 39.890625 \r\nQ 22.75 39.890625 18.8125 39.015625 \r\nQ 14.890625 38.140625 10.796875 36.28125 \r\nz\r\n\" id=\"DejaVuSans-53\"/>\r\n       </defs>\r\n       <use xlink:href=\"#DejaVuSans-50\"/>\r\n       <use x=\"63.623047\" xlink:href=\"#DejaVuSans-46\"/>\r\n       <use x=\"95.410156\" xlink:href=\"#DejaVuSans-53\"/>\r\n      </g>\r\n     </g>\r\n    </g>\r\n    <g id=\"xtick_3\">\r\n     <g id=\"line2d_3\">\r\n      <g>\r\n       <use style=\"stroke:#000000;stroke-width:0.8;\" x=\"139.095126\" xlink:href=\"#m4e6ee871c3\" y=\"239.758125\"/>\r\n      </g>\r\n     </g>\r\n     <g id=\"text_3\">\r\n      <!-- 5.0 -->\r\n      <g transform=\"translate(131.143563 254.356562)scale(0.1 -0.1)\">\r\n       <use xlink:href=\"#DejaVuSans-53\"/>\r\n       <use x=\"63.623047\" xlink:href=\"#DejaVuSans-46\"/>\r\n       <use x=\"95.410156\" xlink:href=\"#DejaVuSans-48\"/>\r\n      </g>\r\n     </g>\r\n    </g>\r\n    <g id=\"xtick_4\">\r\n     <g id=\"line2d_4\">\r\n      <g>\r\n       <use style=\"stroke:#000000;stroke-width:0.8;\" x=\"179.142972\" xlink:href=\"#m4e6ee871c3\" y=\"239.758125\"/>\r\n      </g>\r\n     </g>\r\n     <g id=\"text_4\">\r\n      <!-- 7.5 -->\r\n      <g transform=\"translate(171.19141 254.356562)scale(0.1 -0.1)\">\r\n       <defs>\r\n        <path d=\"M 8.203125 72.90625 \r\nL 55.078125 72.90625 \r\nL 55.078125 68.703125 \r\nL 28.609375 0 \r\nL 18.3125 0 \r\nL 43.21875 64.59375 \r\nL 8.203125 64.59375 \r\nz\r\n\" id=\"DejaVuSans-55\"/>\r\n       </defs>\r\n       <use xlink:href=\"#DejaVuSans-55\"/>\r\n       <use x=\"63.623047\" xlink:href=\"#DejaVuSans-46\"/>\r\n       <use x=\"95.410156\" xlink:href=\"#DejaVuSans-53\"/>\r\n      </g>\r\n     </g>\r\n    </g>\r\n    <g id=\"xtick_5\">\r\n     <g id=\"line2d_5\">\r\n      <g>\r\n       <use style=\"stroke:#000000;stroke-width:0.8;\" x=\"219.190819\" xlink:href=\"#m4e6ee871c3\" y=\"239.758125\"/>\r\n      </g>\r\n     </g>\r\n     <g id=\"text_5\">\r\n      <!-- 10.0 -->\r\n      <g transform=\"translate(208.058007 254.356562)scale(0.1 -0.1)\">\r\n       <defs>\r\n        <path d=\"M 12.40625 8.296875 \r\nL 28.515625 8.296875 \r\nL 28.515625 63.921875 \r\nL 10.984375 60.40625 \r\nL 10.984375 69.390625 \r\nL 28.421875 72.90625 \r\nL 38.28125 72.90625 \r\nL 38.28125 8.296875 \r\nL 54.390625 8.296875 \r\nL 54.390625 0 \r\nL 12.40625 0 \r\nz\r\n\" id=\"DejaVuSans-49\"/>\r\n       </defs>\r\n       <use xlink:href=\"#DejaVuSans-49\"/>\r\n       <use x=\"63.623047\" xlink:href=\"#DejaVuSans-48\"/>\r\n       <use x=\"127.246094\" xlink:href=\"#DejaVuSans-46\"/>\r\n       <use x=\"159.033203\" xlink:href=\"#DejaVuSans-48\"/>\r\n      </g>\r\n     </g>\r\n    </g>\r\n    <g id=\"xtick_6\">\r\n     <g id=\"line2d_6\">\r\n      <g>\r\n       <use style=\"stroke:#000000;stroke-width:0.8;\" x=\"259.238666\" xlink:href=\"#m4e6ee871c3\" y=\"239.758125\"/>\r\n      </g>\r\n     </g>\r\n     <g id=\"text_6\">\r\n      <!-- 12.5 -->\r\n      <g transform=\"translate(248.105854 254.356562)scale(0.1 -0.1)\">\r\n       <use xlink:href=\"#DejaVuSans-49\"/>\r\n       <use x=\"63.623047\" xlink:href=\"#DejaVuSans-50\"/>\r\n       <use x=\"127.246094\" xlink:href=\"#DejaVuSans-46\"/>\r\n       <use x=\"159.033203\" xlink:href=\"#DejaVuSans-53\"/>\r\n      </g>\r\n     </g>\r\n    </g>\r\n    <g id=\"xtick_7\">\r\n     <g id=\"line2d_7\">\r\n      <g>\r\n       <use style=\"stroke:#000000;stroke-width:0.8;\" x=\"299.286513\" xlink:href=\"#m4e6ee871c3\" y=\"239.758125\"/>\r\n      </g>\r\n     </g>\r\n     <g id=\"text_7\">\r\n      <!-- 15.0 -->\r\n      <g transform=\"translate(288.153701 254.356562)scale(0.1 -0.1)\">\r\n       <use xlink:href=\"#DejaVuSans-49\"/>\r\n       <use x=\"63.623047\" xlink:href=\"#DejaVuSans-53\"/>\r\n       <use x=\"127.246094\" xlink:href=\"#DejaVuSans-46\"/>\r\n       <use x=\"159.033203\" xlink:href=\"#DejaVuSans-48\"/>\r\n      </g>\r\n     </g>\r\n    </g>\r\n    <g id=\"xtick_8\">\r\n     <g id=\"line2d_8\">\r\n      <g>\r\n       <use style=\"stroke:#000000;stroke-width:0.8;\" x=\"339.33436\" xlink:href=\"#m4e6ee871c3\" y=\"239.758125\"/>\r\n      </g>\r\n     </g>\r\n     <g id=\"text_8\">\r\n      <!-- 17.5 -->\r\n      <g transform=\"translate(328.201548 254.356562)scale(0.1 -0.1)\">\r\n       <use xlink:href=\"#DejaVuSans-49\"/>\r\n       <use x=\"63.623047\" xlink:href=\"#DejaVuSans-55\"/>\r\n       <use x=\"127.246094\" xlink:href=\"#DejaVuSans-46\"/>\r\n       <use x=\"159.033203\" xlink:href=\"#DejaVuSans-53\"/>\r\n      </g>\r\n     </g>\r\n    </g>\r\n    <g id=\"text_9\">\r\n     <!-- epoch -->\r\n     <g transform=\"translate(195.953125 268.034687)scale(0.1 -0.1)\">\r\n      <defs>\r\n       <path d=\"M 56.203125 29.59375 \r\nL 56.203125 25.203125 \r\nL 14.890625 25.203125 \r\nQ 15.484375 15.921875 20.484375 11.0625 \r\nQ 25.484375 6.203125 34.421875 6.203125 \r\nQ 39.59375 6.203125 44.453125 7.46875 \r\nQ 49.3125 8.734375 54.109375 11.28125 \r\nL 54.109375 2.78125 \r\nQ 49.265625 0.734375 44.1875 -0.34375 \r\nQ 39.109375 -1.421875 33.890625 -1.421875 \r\nQ 20.796875 -1.421875 13.15625 6.1875 \r\nQ 5.515625 13.8125 5.515625 26.8125 \r\nQ 5.515625 40.234375 12.765625 48.109375 \r\nQ 20.015625 56 32.328125 56 \r\nQ 43.359375 56 49.78125 48.890625 \r\nQ 56.203125 41.796875 56.203125 29.59375 \r\nz\r\nM 47.21875 32.234375 \r\nQ 47.125 39.59375 43.09375 43.984375 \r\nQ 39.0625 48.390625 32.421875 48.390625 \r\nQ 24.90625 48.390625 20.390625 44.140625 \r\nQ 15.875 39.890625 15.1875 32.171875 \r\nz\r\n\" id=\"DejaVuSans-101\"/>\r\n       <path d=\"M 18.109375 8.203125 \r\nL 18.109375 -20.796875 \r\nL 9.078125 -20.796875 \r\nL 9.078125 54.6875 \r\nL 18.109375 54.6875 \r\nL 18.109375 46.390625 \r\nQ 20.953125 51.265625 25.265625 53.625 \r\nQ 29.59375 56 35.59375 56 \r\nQ 45.5625 56 51.78125 48.09375 \r\nQ 58.015625 40.1875 58.015625 27.296875 \r\nQ 58.015625 14.40625 51.78125 6.484375 \r\nQ 45.5625 -1.421875 35.59375 -1.421875 \r\nQ 29.59375 -1.421875 25.265625 0.953125 \r\nQ 20.953125 3.328125 18.109375 8.203125 \r\nz\r\nM 48.6875 27.296875 \r\nQ 48.6875 37.203125 44.609375 42.84375 \r\nQ 40.53125 48.484375 33.40625 48.484375 \r\nQ 26.265625 48.484375 22.1875 42.84375 \r\nQ 18.109375 37.203125 18.109375 27.296875 \r\nQ 18.109375 17.390625 22.1875 11.75 \r\nQ 26.265625 6.109375 33.40625 6.109375 \r\nQ 40.53125 6.109375 44.609375 11.75 \r\nQ 48.6875 17.390625 48.6875 27.296875 \r\nz\r\n\" id=\"DejaVuSans-112\"/>\r\n       <path d=\"M 30.609375 48.390625 \r\nQ 23.390625 48.390625 19.1875 42.75 \r\nQ 14.984375 37.109375 14.984375 27.296875 \r\nQ 14.984375 17.484375 19.15625 11.84375 \r\nQ 23.34375 6.203125 30.609375 6.203125 \r\nQ 37.796875 6.203125 41.984375 11.859375 \r\nQ 46.1875 17.53125 46.1875 27.296875 \r\nQ 46.1875 37.015625 41.984375 42.703125 \r\nQ 37.796875 48.390625 30.609375 48.390625 \r\nz\r\nM 30.609375 56 \r\nQ 42.328125 56 49.015625 48.375 \r\nQ 55.71875 40.765625 55.71875 27.296875 \r\nQ 55.71875 13.875 49.015625 6.21875 \r\nQ 42.328125 -1.421875 30.609375 -1.421875 \r\nQ 18.84375 -1.421875 12.171875 6.21875 \r\nQ 5.515625 13.875 5.515625 27.296875 \r\nQ 5.515625 40.765625 12.171875 48.375 \r\nQ 18.84375 56 30.609375 56 \r\nz\r\n\" id=\"DejaVuSans-111\"/>\r\n       <path d=\"M 48.78125 52.59375 \r\nL 48.78125 44.1875 \r\nQ 44.96875 46.296875 41.140625 47.34375 \r\nQ 37.3125 48.390625 33.40625 48.390625 \r\nQ 24.65625 48.390625 19.8125 42.84375 \r\nQ 14.984375 37.3125 14.984375 27.296875 \r\nQ 14.984375 17.28125 19.8125 11.734375 \r\nQ 24.65625 6.203125 33.40625 6.203125 \r\nQ 37.3125 6.203125 41.140625 7.25 \r\nQ 44.96875 8.296875 48.78125 10.40625 \r\nL 48.78125 2.09375 \r\nQ 45.015625 0.34375 40.984375 -0.53125 \r\nQ 36.96875 -1.421875 32.421875 -1.421875 \r\nQ 20.0625 -1.421875 12.78125 6.34375 \r\nQ 5.515625 14.109375 5.515625 27.296875 \r\nQ 5.515625 40.671875 12.859375 48.328125 \r\nQ 20.21875 56 33.015625 56 \r\nQ 37.15625 56 41.109375 55.140625 \r\nQ 45.0625 54.296875 48.78125 52.59375 \r\nz\r\n\" id=\"DejaVuSans-99\"/>\r\n       <path d=\"M 54.890625 33.015625 \r\nL 54.890625 0 \r\nL 45.90625 0 \r\nL 45.90625 32.71875 \r\nQ 45.90625 40.484375 42.875 44.328125 \r\nQ 39.84375 48.1875 33.796875 48.1875 \r\nQ 26.515625 48.1875 22.3125 43.546875 \r\nQ 18.109375 38.921875 18.109375 30.90625 \r\nL 18.109375 0 \r\nL 9.078125 0 \r\nL 9.078125 75.984375 \r\nL 18.109375 75.984375 \r\nL 18.109375 46.1875 \r\nQ 21.34375 51.125 25.703125 53.5625 \r\nQ 30.078125 56 35.796875 56 \r\nQ 45.21875 56 50.046875 50.171875 \r\nQ 54.890625 44.34375 54.890625 33.015625 \r\nz\r\n\" id=\"DejaVuSans-104\"/>\r\n      </defs>\r\n      <use xlink:href=\"#DejaVuSans-101\"/>\r\n      <use x=\"61.523438\" xlink:href=\"#DejaVuSans-112\"/>\r\n      <use x=\"125\" xlink:href=\"#DejaVuSans-111\"/>\r\n      <use x=\"186.181641\" xlink:href=\"#DejaVuSans-99\"/>\r\n      <use x=\"241.162109\" xlink:href=\"#DejaVuSans-104\"/>\r\n     </g>\r\n    </g>\r\n   </g>\r\n   <g id=\"matplotlib.axis_2\">\r\n    <g id=\"ytick_1\">\r\n     <g id=\"line2d_9\">\r\n      <defs>\r\n       <path d=\"M 0 0 \r\nL -3.5 0 \r\n\" id=\"mc9b03e4242\" style=\"stroke:#000000;stroke-width:0.8;\"/>\r\n      </defs>\r\n      <g>\r\n       <use style=\"stroke:#000000;stroke-width:0.8;\" x=\"43.78125\" xlink:href=\"#mc9b03e4242\" y=\"214.337759\"/>\r\n      </g>\r\n     </g>\r\n     <g id=\"text_10\">\r\n      <!-- 0.0 -->\r\n      <g transform=\"translate(20.878125 218.136978)scale(0.1 -0.1)\">\r\n       <use xlink:href=\"#DejaVuSans-48\"/>\r\n       <use x=\"63.623047\" xlink:href=\"#DejaVuSans-46\"/>\r\n       <use x=\"95.410156\" xlink:href=\"#DejaVuSans-48\"/>\r\n      </g>\r\n     </g>\r\n    </g>\r\n    <g id=\"ytick_2\">\r\n     <g id=\"line2d_10\">\r\n      <g>\r\n       <use style=\"stroke:#000000;stroke-width:0.8;\" x=\"43.78125\" xlink:href=\"#mc9b03e4242\" y=\"166.332851\"/>\r\n      </g>\r\n     </g>\r\n     <g id=\"text_11\">\r\n      <!-- 0.5 -->\r\n      <g transform=\"translate(20.878125 170.132069)scale(0.1 -0.1)\">\r\n       <use xlink:href=\"#DejaVuSans-48\"/>\r\n       <use x=\"63.623047\" xlink:href=\"#DejaVuSans-46\"/>\r\n       <use x=\"95.410156\" xlink:href=\"#DejaVuSans-53\"/>\r\n      </g>\r\n     </g>\r\n    </g>\r\n    <g id=\"ytick_3\">\r\n     <g id=\"line2d_11\">\r\n      <g>\r\n       <use style=\"stroke:#000000;stroke-width:0.8;\" x=\"43.78125\" xlink:href=\"#mc9b03e4242\" y=\"118.327942\"/>\r\n      </g>\r\n     </g>\r\n     <g id=\"text_12\">\r\n      <!-- 1.0 -->\r\n      <g transform=\"translate(20.878125 122.127161)scale(0.1 -0.1)\">\r\n       <use xlink:href=\"#DejaVuSans-49\"/>\r\n       <use x=\"63.623047\" xlink:href=\"#DejaVuSans-46\"/>\r\n       <use x=\"95.410156\" xlink:href=\"#DejaVuSans-48\"/>\r\n      </g>\r\n     </g>\r\n    </g>\r\n    <g id=\"ytick_4\">\r\n     <g id=\"line2d_12\">\r\n      <g>\r\n       <use style=\"stroke:#000000;stroke-width:0.8;\" x=\"43.78125\" xlink:href=\"#mc9b03e4242\" y=\"70.323034\"/>\r\n      </g>\r\n     </g>\r\n     <g id=\"text_13\">\r\n      <!-- 1.5 -->\r\n      <g transform=\"translate(20.878125 74.122252)scale(0.1 -0.1)\">\r\n       <use xlink:href=\"#DejaVuSans-49\"/>\r\n       <use x=\"63.623047\" xlink:href=\"#DejaVuSans-46\"/>\r\n       <use x=\"95.410156\" xlink:href=\"#DejaVuSans-53\"/>\r\n      </g>\r\n     </g>\r\n    </g>\r\n    <g id=\"ytick_5\">\r\n     <g id=\"line2d_13\">\r\n      <g>\r\n       <use style=\"stroke:#000000;stroke-width:0.8;\" x=\"43.78125\" xlink:href=\"#mc9b03e4242\" y=\"22.318125\"/>\r\n      </g>\r\n     </g>\r\n     <g id=\"text_14\">\r\n      <!-- 2.0 -->\r\n      <g transform=\"translate(20.878125 26.117344)scale(0.1 -0.1)\">\r\n       <use xlink:href=\"#DejaVuSans-50\"/>\r\n       <use x=\"63.623047\" xlink:href=\"#DejaVuSans-46\"/>\r\n       <use x=\"95.410156\" xlink:href=\"#DejaVuSans-48\"/>\r\n      </g>\r\n     </g>\r\n    </g>\r\n    <g id=\"text_15\">\r\n     <!-- loss -->\r\n     <g transform=\"translate(14.798438 140.695937)rotate(-90)scale(0.1 -0.1)\">\r\n      <defs>\r\n       <path d=\"M 9.421875 75.984375 \r\nL 18.40625 75.984375 \r\nL 18.40625 0 \r\nL 9.421875 0 \r\nz\r\n\" id=\"DejaVuSans-108\"/>\r\n       <path d=\"M 44.28125 53.078125 \r\nL 44.28125 44.578125 \r\nQ 40.484375 46.53125 36.375 47.5 \r\nQ 32.28125 48.484375 27.875 48.484375 \r\nQ 21.1875 48.484375 17.84375 46.4375 \r\nQ 14.5 44.390625 14.5 40.28125 \r\nQ 14.5 37.15625 16.890625 35.375 \r\nQ 19.28125 33.59375 26.515625 31.984375 \r\nL 29.59375 31.296875 \r\nQ 39.15625 29.25 43.1875 25.515625 \r\nQ 47.21875 21.78125 47.21875 15.09375 \r\nQ 47.21875 7.46875 41.1875 3.015625 \r\nQ 35.15625 -1.421875 24.609375 -1.421875 \r\nQ 20.21875 -1.421875 15.453125 -0.5625 \r\nQ 10.6875 0.296875 5.421875 2 \r\nL 5.421875 11.28125 \r\nQ 10.40625 8.6875 15.234375 7.390625 \r\nQ 20.0625 6.109375 24.8125 6.109375 \r\nQ 31.15625 6.109375 34.5625 8.28125 \r\nQ 37.984375 10.453125 37.984375 14.40625 \r\nQ 37.984375 18.0625 35.515625 20.015625 \r\nQ 33.0625 21.96875 24.703125 23.78125 \r\nL 21.578125 24.515625 \r\nQ 13.234375 26.265625 9.515625 29.90625 \r\nQ 5.8125 33.546875 5.8125 39.890625 \r\nQ 5.8125 47.609375 11.28125 51.796875 \r\nQ 16.75 56 26.8125 56 \r\nQ 31.78125 56 36.171875 55.265625 \r\nQ 40.578125 54.546875 44.28125 53.078125 \r\nz\r\n\" id=\"DejaVuSans-115\"/>\r\n      </defs>\r\n      <use xlink:href=\"#DejaVuSans-108\"/>\r\n      <use x=\"27.783203\" xlink:href=\"#DejaVuSans-111\"/>\r\n      <use x=\"88.964844\" xlink:href=\"#DejaVuSans-115\"/>\r\n      <use x=\"141.064453\" xlink:href=\"#DejaVuSans-115\"/>\r\n     </g>\r\n    </g>\r\n   </g>\r\n   <g id=\"line2d_14\">\r\n    <path clip-path=\"url(#p169e749daf)\" d=\"M 58.999432 199.885575 \r\nL 75.018571 195.368589 \r\nL 91.037709 186.428204 \r\nL 107.056848 176.452073 \r\nL 123.075987 166.283344 \r\nL 139.095126 157.406113 \r\nL 155.114264 150.279377 \r\nL 171.133403 144.535801 \r\nL 187.152542 139.656714 \r\nL 203.171681 135.581417 \r\nL 219.190819 132.372194 \r\nL 235.209958 130.004547 \r\nL 251.229097 128.224134 \r\nL 267.248236 126.712054 \r\nL 283.267374 125.576776 \r\nL 299.286513 124.679393 \r\nL 315.305652 123.979859 \r\nL 331.324791 123.343296 \r\nL 347.343929 122.849828 \r\nL 363.363068 122.407085 \r\n\" style=\"fill:none;stroke:#1f77b4;stroke-linecap:square;stroke-width:1.5;\"/>\r\n   </g>\r\n   <g id=\"line2d_15\">\r\n    <path clip-path=\"url(#p169e749daf)\" d=\"M 58.999432 192.91427 \r\nL 75.018571 204.400566 \r\nL 91.037709 175.311896 \r\nL 107.056848 152.717979 \r\nL 123.075987 166.774632 \r\nL 139.095126 172.707112 \r\nL 155.114264 163.733803 \r\nL 171.133403 162.758444 \r\nL 187.152542 162.184704 \r\nL 203.171681 163.733803 \r\nL 219.190819 164.215746 \r\nL 235.209958 162.448626 \r\nL 251.229097 160.394631 \r\nL 267.248236 155.552255 \r\nL 283.267374 147.336285 \r\nL 299.286513 142.53981 \r\nL 315.305652 142.83816 \r\nL 331.324791 141.564451 \r\nL 347.343929 143.170925 \r\nL 363.363068 140.589091 \r\n\" style=\"fill:none;stroke:#ff7f0e;stroke-linecap:square;stroke-width:1.5;\"/>\r\n   </g>\r\n   <g id=\"line2d_16\">\r\n    <path clip-path=\"url(#p169e749daf)\" d=\"M 82.82222 -1 \r\nL 91.037709 27.717187 \r\nL 107.056848 62.024085 \r\nL 123.075987 90.687279 \r\nL 139.095126 114.313356 \r\nL 155.114264 132.520445 \r\nL 171.133403 147.022816 \r\nL 187.152542 158.814012 \r\nL 203.171681 168.348702 \r\nL 219.190819 175.849597 \r\nL 235.209958 181.424739 \r\nL 251.229097 185.765867 \r\nL 267.248236 189.528033 \r\nL 283.267374 192.569771 \r\nL 299.286513 194.904696 \r\nL 315.305652 196.829721 \r\nL 331.324791 198.503694 \r\nL 347.343929 200.017311 \r\nL 363.363068 201.264162 \r\n\" style=\"fill:none;stroke:#2ca02c;stroke-linecap:square;stroke-width:1.5;\"/>\r\n   </g>\r\n   <g id=\"line2d_17\">\r\n    <path clip-path=\"url(#p169e749daf)\" d=\"M 58.999432 17.717198 \r\nL 75.018571 15.859655 \r\nL 91.037709 71.264944 \r\nL 107.056848 98.20985 \r\nL 123.075987 119.100743 \r\nL 139.095126 122.842079 \r\nL 155.114264 125.996537 \r\nL 171.133403 128.133819 \r\nL 187.152542 130.910371 \r\nL 203.171681 131.88137 \r\nL 219.190819 133.877927 \r\nL 235.209958 135.601784 \r\nL 251.229097 136.989053 \r\nL 267.248236 137.911358 \r\nL 283.267374 138.041914 \r\nL 299.286513 137.660317 \r\nL 315.305652 139.083187 \r\nL 331.324791 140.493586 \r\nL 347.343929 139.081722 \r\nL 363.363068 137.109016 \r\n\" style=\"fill:none;stroke:#d62728;stroke-linecap:square;stroke-width:1.5;\"/>\r\n   </g>\r\n   <g id=\"patch_3\">\r\n    <path d=\"M 43.78125 239.758125 \r\nL 43.78125 22.318125 \r\n\" style=\"fill:none;stroke:#000000;stroke-linecap:square;stroke-linejoin:miter;stroke-width:0.8;\"/>\r\n   </g>\r\n   <g id=\"patch_4\">\r\n    <path d=\"M 378.58125 239.758125 \r\nL 378.58125 22.318125 \r\n\" style=\"fill:none;stroke:#000000;stroke-linecap:square;stroke-linejoin:miter;stroke-width:0.8;\"/>\r\n   </g>\r\n   <g id=\"patch_5\">\r\n    <path d=\"M 43.78125 239.758125 \r\nL 378.58125 239.758125 \r\n\" style=\"fill:none;stroke:#000000;stroke-linecap:square;stroke-linejoin:miter;stroke-width:0.8;\"/>\r\n   </g>\r\n   <g id=\"patch_6\">\r\n    <path d=\"M 43.78125 22.318125 \r\nL 378.58125 22.318125 \r\n\" style=\"fill:none;stroke:#000000;stroke-linecap:square;stroke-linejoin:miter;stroke-width:0.8;\"/>\r\n   </g>\r\n   <g id=\"text_16\">\r\n    <!-- accuracy, val_acc, loss, val_loss -->\r\n    <g transform=\"translate(115.425 16.318125)scale(0.12 -0.12)\">\r\n     <defs>\r\n      <path d=\"M 34.28125 27.484375 \r\nQ 23.390625 27.484375 19.1875 25 \r\nQ 14.984375 22.515625 14.984375 16.5 \r\nQ 14.984375 11.71875 18.140625 8.90625 \r\nQ 21.296875 6.109375 26.703125 6.109375 \r\nQ 34.1875 6.109375 38.703125 11.40625 \r\nQ 43.21875 16.703125 43.21875 25.484375 \r\nL 43.21875 27.484375 \r\nz\r\nM 52.203125 31.203125 \r\nL 52.203125 0 \r\nL 43.21875 0 \r\nL 43.21875 8.296875 \r\nQ 40.140625 3.328125 35.546875 0.953125 \r\nQ 30.953125 -1.421875 24.3125 -1.421875 \r\nQ 15.921875 -1.421875 10.953125 3.296875 \r\nQ 6 8.015625 6 15.921875 \r\nQ 6 25.140625 12.171875 29.828125 \r\nQ 18.359375 34.515625 30.609375 34.515625 \r\nL 43.21875 34.515625 \r\nL 43.21875 35.40625 \r\nQ 43.21875 41.609375 39.140625 45 \r\nQ 35.0625 48.390625 27.6875 48.390625 \r\nQ 23 48.390625 18.546875 47.265625 \r\nQ 14.109375 46.140625 10.015625 43.890625 \r\nL 10.015625 52.203125 \r\nQ 14.9375 54.109375 19.578125 55.046875 \r\nQ 24.21875 56 28.609375 56 \r\nQ 40.484375 56 46.34375 49.84375 \r\nQ 52.203125 43.703125 52.203125 31.203125 \r\nz\r\n\" id=\"DejaVuSans-97\"/>\r\n      <path d=\"M 8.5 21.578125 \r\nL 8.5 54.6875 \r\nL 17.484375 54.6875 \r\nL 17.484375 21.921875 \r\nQ 17.484375 14.15625 20.5 10.265625 \r\nQ 23.53125 6.390625 29.59375 6.390625 \r\nQ 36.859375 6.390625 41.078125 11.03125 \r\nQ 45.3125 15.671875 45.3125 23.6875 \r\nL 45.3125 54.6875 \r\nL 54.296875 54.6875 \r\nL 54.296875 0 \r\nL 45.3125 0 \r\nL 45.3125 8.40625 \r\nQ 42.046875 3.421875 37.71875 1 \r\nQ 33.40625 -1.421875 27.6875 -1.421875 \r\nQ 18.265625 -1.421875 13.375 4.4375 \r\nQ 8.5 10.296875 8.5 21.578125 \r\nz\r\nM 31.109375 56 \r\nz\r\n\" id=\"DejaVuSans-117\"/>\r\n      <path d=\"M 41.109375 46.296875 \r\nQ 39.59375 47.171875 37.8125 47.578125 \r\nQ 36.03125 48 33.890625 48 \r\nQ 26.265625 48 22.1875 43.046875 \r\nQ 18.109375 38.09375 18.109375 28.8125 \r\nL 18.109375 0 \r\nL 9.078125 0 \r\nL 9.078125 54.6875 \r\nL 18.109375 54.6875 \r\nL 18.109375 46.1875 \r\nQ 20.953125 51.171875 25.484375 53.578125 \r\nQ 30.03125 56 36.53125 56 \r\nQ 37.453125 56 38.578125 55.875 \r\nQ 39.703125 55.765625 41.0625 55.515625 \r\nz\r\n\" id=\"DejaVuSans-114\"/>\r\n      <path d=\"M 32.171875 -5.078125 \r\nQ 28.375 -14.84375 24.75 -17.8125 \r\nQ 21.140625 -20.796875 15.09375 -20.796875 \r\nL 7.90625 -20.796875 \r\nL 7.90625 -13.28125 \r\nL 13.1875 -13.28125 \r\nQ 16.890625 -13.28125 18.9375 -11.515625 \r\nQ 21 -9.765625 23.484375 -3.21875 \r\nL 25.09375 0.875 \r\nL 2.984375 54.6875 \r\nL 12.5 54.6875 \r\nL 29.59375 11.921875 \r\nL 46.6875 54.6875 \r\nL 56.203125 54.6875 \r\nz\r\n\" id=\"DejaVuSans-121\"/>\r\n      <path d=\"M 11.71875 12.40625 \r\nL 22.015625 12.40625 \r\nL 22.015625 4 \r\nL 14.015625 -11.625 \r\nL 7.71875 -11.625 \r\nL 11.71875 4 \r\nz\r\n\" id=\"DejaVuSans-44\"/>\r\n      <path id=\"DejaVuSans-32\"/>\r\n      <path d=\"M 2.984375 54.6875 \r\nL 12.5 54.6875 \r\nL 29.59375 8.796875 \r\nL 46.6875 54.6875 \r\nL 56.203125 54.6875 \r\nL 35.6875 0 \r\nL 23.484375 0 \r\nz\r\n\" id=\"DejaVuSans-118\"/>\r\n      <path d=\"M 50.984375 -16.609375 \r\nL 50.984375 -23.578125 \r\nL -0.984375 -23.578125 \r\nL -0.984375 -16.609375 \r\nz\r\n\" id=\"DejaVuSans-95\"/>\r\n     </defs>\r\n     <use xlink:href=\"#DejaVuSans-97\"/>\r\n     <use x=\"61.279297\" xlink:href=\"#DejaVuSans-99\"/>\r\n     <use x=\"116.259766\" xlink:href=\"#DejaVuSans-99\"/>\r\n     <use x=\"171.240234\" xlink:href=\"#DejaVuSans-117\"/>\r\n     <use x=\"234.619141\" xlink:href=\"#DejaVuSans-114\"/>\r\n     <use x=\"275.732422\" xlink:href=\"#DejaVuSans-97\"/>\r\n     <use x=\"337.011719\" xlink:href=\"#DejaVuSans-99\"/>\r\n     <use x=\"391.992188\" xlink:href=\"#DejaVuSans-121\"/>\r\n     <use x=\"451.171875\" xlink:href=\"#DejaVuSans-44\"/>\r\n     <use x=\"482.958984\" xlink:href=\"#DejaVuSans-32\"/>\r\n     <use x=\"514.746094\" xlink:href=\"#DejaVuSans-118\"/>\r\n     <use x=\"573.925781\" xlink:href=\"#DejaVuSans-97\"/>\r\n     <use x=\"635.205078\" xlink:href=\"#DejaVuSans-108\"/>\r\n     <use x=\"662.988281\" xlink:href=\"#DejaVuSans-95\"/>\r\n     <use x=\"712.988281\" xlink:href=\"#DejaVuSans-97\"/>\r\n     <use x=\"774.267578\" xlink:href=\"#DejaVuSans-99\"/>\r\n     <use x=\"829.248047\" xlink:href=\"#DejaVuSans-99\"/>\r\n     <use x=\"884.228516\" xlink:href=\"#DejaVuSans-44\"/>\r\n     <use x=\"916.015625\" xlink:href=\"#DejaVuSans-32\"/>\r\n     <use x=\"947.802734\" xlink:href=\"#DejaVuSans-108\"/>\r\n     <use x=\"975.585938\" xlink:href=\"#DejaVuSans-111\"/>\r\n     <use x=\"1036.767578\" xlink:href=\"#DejaVuSans-115\"/>\r\n     <use x=\"1088.867188\" xlink:href=\"#DejaVuSans-115\"/>\r\n     <use x=\"1140.966797\" xlink:href=\"#DejaVuSans-44\"/>\r\n     <use x=\"1172.753906\" xlink:href=\"#DejaVuSans-32\"/>\r\n     <use x=\"1204.541016\" xlink:href=\"#DejaVuSans-118\"/>\r\n     <use x=\"1263.720703\" xlink:href=\"#DejaVuSans-97\"/>\r\n     <use x=\"1325\" xlink:href=\"#DejaVuSans-108\"/>\r\n     <use x=\"1352.783203\" xlink:href=\"#DejaVuSans-95\"/>\r\n     <use x=\"1402.783203\" xlink:href=\"#DejaVuSans-108\"/>\r\n     <use x=\"1430.566406\" xlink:href=\"#DejaVuSans-111\"/>\r\n     <use x=\"1491.748047\" xlink:href=\"#DejaVuSans-115\"/>\r\n     <use x=\"1543.847656\" xlink:href=\"#DejaVuSans-115\"/>\r\n    </g>\r\n   </g>\r\n   <g id=\"legend_1\">\r\n    <g id=\"patch_7\">\r\n     <path d=\"M 277.5875 89.586875 \r\nL 371.58125 89.586875 \r\nQ 373.58125 89.586875 373.58125 87.586875 \r\nL 373.58125 29.318125 \r\nQ 373.58125 27.318125 371.58125 27.318125 \r\nL 277.5875 27.318125 \r\nQ 275.5875 27.318125 275.5875 29.318125 \r\nL 275.5875 87.586875 \r\nQ 275.5875 89.586875 277.5875 89.586875 \r\nz\r\n\" style=\"fill:#ffffff;opacity:0.8;stroke:#cccccc;stroke-linejoin:miter;\"/>\r\n    </g>\r\n    <g id=\"line2d_18\">\r\n     <path d=\"M 279.5875 35.416562 \r\nL 299.5875 35.416562 \r\n\" style=\"fill:none;stroke:#1f77b4;stroke-linecap:square;stroke-width:1.5;\"/>\r\n    </g>\r\n    <g id=\"line2d_19\"/>\r\n    <g id=\"text_17\">\r\n     <!-- accuracy -->\r\n     <g transform=\"translate(307.5875 38.916562)scale(0.1 -0.1)\">\r\n      <use xlink:href=\"#DejaVuSans-97\"/>\r\n      <use x=\"61.279297\" xlink:href=\"#DejaVuSans-99\"/>\r\n      <use x=\"116.259766\" xlink:href=\"#DejaVuSans-99\"/>\r\n      <use x=\"171.240234\" xlink:href=\"#DejaVuSans-117\"/>\r\n      <use x=\"234.619141\" xlink:href=\"#DejaVuSans-114\"/>\r\n      <use x=\"275.732422\" xlink:href=\"#DejaVuSans-97\"/>\r\n      <use x=\"337.011719\" xlink:href=\"#DejaVuSans-99\"/>\r\n      <use x=\"391.992188\" xlink:href=\"#DejaVuSans-121\"/>\r\n     </g>\r\n    </g>\r\n    <g id=\"line2d_20\">\r\n     <path d=\"M 279.5875 50.094687 \r\nL 299.5875 50.094687 \r\n\" style=\"fill:none;stroke:#ff7f0e;stroke-linecap:square;stroke-width:1.5;\"/>\r\n    </g>\r\n    <g id=\"line2d_21\"/>\r\n    <g id=\"text_18\">\r\n     <!-- val_arrucary -->\r\n     <g transform=\"translate(307.5875 53.594687)scale(0.1 -0.1)\">\r\n      <use xlink:href=\"#DejaVuSans-118\"/>\r\n      <use x=\"59.179688\" xlink:href=\"#DejaVuSans-97\"/>\r\n      <use x=\"120.458984\" xlink:href=\"#DejaVuSans-108\"/>\r\n      <use x=\"148.242188\" xlink:href=\"#DejaVuSans-95\"/>\r\n      <use x=\"198.242188\" xlink:href=\"#DejaVuSans-97\"/>\r\n      <use x=\"259.521484\" xlink:href=\"#DejaVuSans-114\"/>\r\n      <use x=\"298.884766\" xlink:href=\"#DejaVuSans-114\"/>\r\n      <use x=\"339.998047\" xlink:href=\"#DejaVuSans-117\"/>\r\n      <use x=\"403.376953\" xlink:href=\"#DejaVuSans-99\"/>\r\n      <use x=\"458.357422\" xlink:href=\"#DejaVuSans-97\"/>\r\n      <use x=\"519.636719\" xlink:href=\"#DejaVuSans-114\"/>\r\n      <use x=\"560.75\" xlink:href=\"#DejaVuSans-121\"/>\r\n     </g>\r\n    </g>\r\n    <g id=\"line2d_22\">\r\n     <path d=\"M 279.5875 65.050938 \r\nL 299.5875 65.050938 \r\n\" style=\"fill:none;stroke:#2ca02c;stroke-linecap:square;stroke-width:1.5;\"/>\r\n    </g>\r\n    <g id=\"line2d_23\"/>\r\n    <g id=\"text_19\">\r\n     <!-- loss -->\r\n     <g transform=\"translate(307.5875 68.550938)scale(0.1 -0.1)\">\r\n      <use xlink:href=\"#DejaVuSans-108\"/>\r\n      <use x=\"27.783203\" xlink:href=\"#DejaVuSans-111\"/>\r\n      <use x=\"88.964844\" xlink:href=\"#DejaVuSans-115\"/>\r\n      <use x=\"141.064453\" xlink:href=\"#DejaVuSans-115\"/>\r\n     </g>\r\n    </g>\r\n    <g id=\"line2d_24\">\r\n     <path d=\"M 279.5875 79.729062 \r\nL 299.5875 79.729062 \r\n\" style=\"fill:none;stroke:#d62728;stroke-linecap:square;stroke-width:1.5;\"/>\r\n    </g>\r\n    <g id=\"line2d_25\"/>\r\n    <g id=\"text_20\">\r\n     <!-- val_loss -->\r\n     <g transform=\"translate(307.5875 83.229062)scale(0.1 -0.1)\">\r\n      <use xlink:href=\"#DejaVuSans-118\"/>\r\n      <use x=\"59.179688\" xlink:href=\"#DejaVuSans-97\"/>\r\n      <use x=\"120.458984\" xlink:href=\"#DejaVuSans-108\"/>\r\n      <use x=\"148.242188\" xlink:href=\"#DejaVuSans-95\"/>\r\n      <use x=\"198.242188\" xlink:href=\"#DejaVuSans-108\"/>\r\n      <use x=\"226.025391\" xlink:href=\"#DejaVuSans-111\"/>\r\n      <use x=\"287.207031\" xlink:href=\"#DejaVuSans-115\"/>\r\n      <use x=\"339.306641\" xlink:href=\"#DejaVuSans-115\"/>\r\n     </g>\r\n    </g>\r\n   </g>\r\n  </g>\r\n </g>\r\n <defs>\r\n  <clipPath id=\"p169e749daf\">\r\n   <rect height=\"217.44\" width=\"334.8\" x=\"43.78125\" y=\"22.318125\"/>\r\n  </clipPath>\r\n </defs>\r\n</svg>\r\n",
            "image/png": "[encoded data removed]"
          },
          "metadata": {
            "needs_background": "light"
          }
        }
      ]
    },
    {
      "cell_type": "markdown",
      "source": [
        "## Precision"
      ],
      "metadata": {
        "tags": [],
        "cell_id": "00023-1061bf0e-c5cf-4a85-9c41-d7d426487c38",
        "deepnote_cell_type": "markdown"
      }
    },
    {
      "cell_type": "code",
      "metadata": {
        "deepnote_to_be_reexecuted": false,
        "source_hash": "200131e8",
        "execution_millis": 840,
        "cell_id": "00024-7d04c269-e34c-48c6-92cc-cfe94b9246a5",
        "execution_start": 1616716043625,
        "deepnote_cell_type": "code"
      },
      "source": [
        "print(\"Classification accuracy:\")\n",
        "classification_dict = dict()\n",
        "\n",
        "for key in x_test_dict:\n",
        "    x_test_temp = x_test_dict[key].drop([' TimeStamp (s)', 'Pose'], axis=1)\n",
        "    y_test_temp = to_categorical(y_test_dict[key], 9)\n",
        "    evaluations = model.evaluate(np.array(x_test_temp), y_test_temp)"
      ],
      "execution_count": 112,
      "outputs": [
        {
          "output_type": "stream",
          "name": "stdout",
          "text": [
            "Classification accuracy:\n",
            "127/127 [==============================] - 0s 897us/step - loss: 4.8923 - accuracy: 0.3389\n",
            "245/245 [==============================] - 0s 619us/step - loss: 2.6036 - accuracy: 0.4614\n",
            "262/262 [==============================] - 0s 594us/step - loss: 0.8044 - accuracy: 0.7681\n",
            "283/283 [==============================] - 0s 616us/step - loss: 0.3561 - accuracy: 0.7847\n",
            "230/230 [==============================] - 0s 683us/step - loss: 0.5699 - accuracy: 0.8052\n",
            "47/47 [==============================] - 0s 633us/step - loss: 1.5469 - accuracy: 0.5182\n",
            "251/251 [==============================] - 0s 584us/step - loss: 1.2230 - accuracy: 0.7165\n",
            "261/261 [==============================] - 0s 709us/step - loss: 0.0891 - accuracy: 0.9815\n"
          ]
        }
      ]
    },
    {
      "cell_type": "markdown",
      "source": [
        "## Visualise classification"
      ],
      "metadata": {
        "tags": [],
        "cell_id": "00025-78b6df09-e4ee-4894-b0a8-d7642f810cfb",
        "deepnote_cell_type": "markdown"
      }
    },
    {
      "cell_type": "code",
      "metadata": {
        "deepnote_to_be_reexecuted": false,
        "source_hash": "cc265212",
        "execution_millis": 35464,
        "cell_id": "00026-563694d3-cb38-43b6-96f0-84c76b5ddf20",
        "execution_start": 1616716044477,
        "deepnote_cell_type": "code"
      },
      "source": [
        "width=16\n",
        "height=4*len(x_test_dict)\n",
        "fig, axes = plt.subplots(len(x_test_dict), 4, figsize=(width, height))\n",
        "for i, key in enumerate(x_test_dict):\n",
        "    cols = [f\"{key}: Model classifications\", f\"{key}: Model heatmap\", f\"{key}: Annotated classifications\", f\"{key}: Annotated heatmap\"]\n",
        "    df_predict = pd.DataFrame({' Timestamp (s)': x_test_dict[key][' TimeStamp (s)'],'Pose':classification_dict[key]})\n",
        "    sns.lineplot(ax=axes[i, 0], data=df_predict,x=' Timestamp (s)',y='Pose')\n",
        "    sns.heatmap(ax=axes[i, 1], data=confusion_matrix(y_test_dict[key], classification_dict[key]), cmap=\"YlGnBu\", annot=True, fmt=\"d\")\n",
        "    sns.lineplot(ax=axes[i, 2], data=x_test_dict[key], x=\" TimeStamp (s)\", y='Pose')\n",
        "    sns.heatmap(ax=axes[i, 3], data=confusion_matrix(y_test_dict[key], y_test_dict[key].to_numpy()), cmap=\"YlGnBu\", annot=True, fmt=\"d\")\n",
        "    for ax, col in zip(axes[i], cols): ax.set_title(col)\n",
        "fig.tight_layout()\n",
        "plt.show()"
      ],
      "execution_count": 113,
      "outputs": [
        {
          "output_type": "error",
          "ename": "KeyError",
          "evalue": "'001'",
          "traceback": [
            "\u001b[1;31m---------------------------------------------------------------------------\u001b[0m",
            "\u001b[1;31mKeyError\u001b[0m                                  Traceback (most recent call last)",
            "\u001b[1;32m<ipython-input-113-aec857be2971>\u001b[0m in \u001b[0;36m<module>\u001b[1;34m\u001b[0m\n\u001b[0;32m      4\u001b[0m \u001b[1;32mfor\u001b[0m \u001b[0mi\u001b[0m\u001b[1;33m,\u001b[0m \u001b[0mkey\u001b[0m \u001b[1;32min\u001b[0m \u001b[0menumerate\u001b[0m\u001b[1;33m(\u001b[0m\u001b[0mx_test_dict\u001b[0m\u001b[1;33m)\u001b[0m\u001b[1;33m:\u001b[0m\u001b[1;33m\u001b[0m\u001b[1;33m\u001b[0m\u001b[0m\n\u001b[0;32m      5\u001b[0m     \u001b[0mcols\u001b[0m \u001b[1;33m=\u001b[0m \u001b[1;33m[\u001b[0m\u001b[1;34mf\"{key}: Model classifications\"\u001b[0m\u001b[1;33m,\u001b[0m \u001b[1;34mf\"{key}: Model heatmap\"\u001b[0m\u001b[1;33m,\u001b[0m \u001b[1;34mf\"{key}: Annotated classifications\"\u001b[0m\u001b[1;33m,\u001b[0m \u001b[1;34mf\"{key}: Annotated heatmap\"\u001b[0m\u001b[1;33m]\u001b[0m\u001b[1;33m\u001b[0m\u001b[1;33m\u001b[0m\u001b[0m\n\u001b[1;32m----> 6\u001b[1;33m     \u001b[0mdf_predict\u001b[0m \u001b[1;33m=\u001b[0m \u001b[0mpd\u001b[0m\u001b[1;33m.\u001b[0m\u001b[0mDataFrame\u001b[0m\u001b[1;33m(\u001b[0m\u001b[1;33m{\u001b[0m\u001b[1;34m' Timestamp (s)'\u001b[0m\u001b[1;33m:\u001b[0m \u001b[0mx_test_dict\u001b[0m\u001b[1;33m[\u001b[0m\u001b[0mkey\u001b[0m\u001b[1;33m]\u001b[0m\u001b[1;33m[\u001b[0m\u001b[1;34m' TimeStamp (s)'\u001b[0m\u001b[1;33m]\u001b[0m\u001b[1;33m,\u001b[0m\u001b[1;34m'Pose'\u001b[0m\u001b[1;33m:\u001b[0m\u001b[0mclassification_dict\u001b[0m\u001b[1;33m[\u001b[0m\u001b[0mkey\u001b[0m\u001b[1;33m]\u001b[0m\u001b[1;33m}\u001b[0m\u001b[1;33m)\u001b[0m\u001b[1;33m\u001b[0m\u001b[1;33m\u001b[0m\u001b[0m\n\u001b[0m\u001b[0;32m      7\u001b[0m     \u001b[0msns\u001b[0m\u001b[1;33m.\u001b[0m\u001b[0mlineplot\u001b[0m\u001b[1;33m(\u001b[0m\u001b[0max\u001b[0m\u001b[1;33m=\u001b[0m\u001b[0maxes\u001b[0m\u001b[1;33m[\u001b[0m\u001b[0mi\u001b[0m\u001b[1;33m,\u001b[0m \u001b[1;36m0\u001b[0m\u001b[1;33m]\u001b[0m\u001b[1;33m,\u001b[0m \u001b[0mdata\u001b[0m\u001b[1;33m=\u001b[0m\u001b[0mdf_predict\u001b[0m\u001b[1;33m,\u001b[0m\u001b[0mx\u001b[0m\u001b[1;33m=\u001b[0m\u001b[1;34m' Timestamp (s)'\u001b[0m\u001b[1;33m,\u001b[0m\u001b[0my\u001b[0m\u001b[1;33m=\u001b[0m\u001b[1;34m'Pose'\u001b[0m\u001b[1;33m)\u001b[0m\u001b[1;33m\u001b[0m\u001b[1;33m\u001b[0m\u001b[0m\n\u001b[0;32m      8\u001b[0m     \u001b[0msns\u001b[0m\u001b[1;33m.\u001b[0m\u001b[0mheatmap\u001b[0m\u001b[1;33m(\u001b[0m\u001b[0max\u001b[0m\u001b[1;33m=\u001b[0m\u001b[0maxes\u001b[0m\u001b[1;33m[\u001b[0m\u001b[0mi\u001b[0m\u001b[1;33m,\u001b[0m \u001b[1;36m1\u001b[0m\u001b[1;33m]\u001b[0m\u001b[1;33m,\u001b[0m \u001b[0mdata\u001b[0m\u001b[1;33m=\u001b[0m\u001b[0mconfusion_matrix\u001b[0m\u001b[1;33m(\u001b[0m\u001b[0my_test_dict\u001b[0m\u001b[1;33m[\u001b[0m\u001b[0mkey\u001b[0m\u001b[1;33m]\u001b[0m\u001b[1;33m,\u001b[0m \u001b[0mclassification_dict\u001b[0m\u001b[1;33m[\u001b[0m\u001b[0mkey\u001b[0m\u001b[1;33m]\u001b[0m\u001b[1;33m)\u001b[0m\u001b[1;33m,\u001b[0m \u001b[0mcmap\u001b[0m\u001b[1;33m=\u001b[0m\u001b[1;34m\"YlGnBu\"\u001b[0m\u001b[1;33m,\u001b[0m \u001b[0mannot\u001b[0m\u001b[1;33m=\u001b[0m\u001b[1;32mTrue\u001b[0m\u001b[1;33m,\u001b[0m \u001b[0mfmt\u001b[0m\u001b[1;33m=\u001b[0m\u001b[1;34m\"d\"\u001b[0m\u001b[1;33m)\u001b[0m\u001b[1;33m\u001b[0m\u001b[1;33m\u001b[0m\u001b[0m\n",
            "\u001b[1;31mKeyError\u001b[0m: '001'"
          ]
        }
      ]
    },
    {
      "cell_type": "code",
      "metadata": {
        "deepnote_to_be_reexecuted": false,
        "source_hash": "536f5fa4",
        "execution_millis": 27,
        "cell_id": "00027-acb87cd8-b1e4-4ba0-b699-fb16cc81f965",
        "execution_start": 1616716079932,
        "deepnote_cell_type": "code"
      },
      "source": [
        "\"\"\"\n",
        "path = f\"../models/ANN_model_{AMOUNT_OF_SENSORS}.h5\"\n",
        "model.save(path)\n",
        "\"\"\""
      ],
      "execution_count": 12,
      "outputs": [
        {
          "output_type": "execute_result",
          "data": {
            "text/plain": [
              "'\\npath = f\"../models/ANN_model_{AMOUNT_OF_SENSORS}.h5\"\\nmodel.save(path)\\n'"
            ]
          },
          "metadata": {},
          "execution_count": 12
        }
      ]
    },
    {
      "cell_type": "markdown",
      "source": [
        "<a style='text-decoration:none;line-height:16px;display:flex;color:#5B5B62;padding:10px;justify-content:end;' href='https://deepnote.com?utm_source=created-in-deepnote-cell&projectId=59d486bc-e14d-4632-9064-12272fc72d11' target=\"_blank\">\n",
        "<img alt='Created in deepnote.com' style='display:inline;max-height:16px;margin:0px;margin-right:7.5px;' src='data:image/svg+xml;base64,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' > </img>\n",
        "Created in <span style='font-weight:600;margin-left:4px;'>Deepnote</span></a>"
      ],
      "metadata": {
        "tags": [],
        "created_in_deepnote_cell": true,
        "deepnote_cell_type": "markdown"
      }
    }
  ],
  "nbformat": 4,
  "nbformat_minor": 2,
  "metadata": {
    "language_info": {
      "codemirror_mode": {
        "name": "ipython",
        "version": 3
      },
      "file_extension": ".py",
      "mimetype": "text/x-python",
      "name": "python",
      "nbconvert_exporter": "python",
      "pygments_lexer": "ipython3",
      "version": "3.8.5"
    },
    "orig_nbformat": 2,
    "kernelspec": {
      "name": "python385jvsc74a57bd0f4fde45515710cbe4f4cf44a8ddef1b298277709bd6c5462499553af68a98f2e",
      "display_name": "Python 3.8.5 64-bit"
    },
    "deepnote_notebook_id": "f3b6d60b-f7b2-4d41-bd1c-4b5d6192d643",
    "deepnote": {},
    "deepnote_execution_queue": [],
    "metadata": {
      "interpreter": {
        "hash": "f4fde45515710cbe4f4cf44a8ddef1b298277709bd6c5462499553af68a98f2e"
      }
    }
  }
}