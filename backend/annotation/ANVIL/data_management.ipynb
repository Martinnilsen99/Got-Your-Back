{
 "metadata": {
  "language_info": {
   "codemirror_mode": {
    "name": "ipython",
    "version": 3
   },
   "file_extension": ".py",
   "mimetype": "text/x-python",
   "name": "python",
   "nbconvert_exporter": "python",
   "pygments_lexer": "ipython3",
   "version": "3.8.2-final"
  },
  "orig_nbformat": 2,
  "kernelspec": {
   "name": "python3",
   "display_name": "Python 3.8.2 64-bit",
   "metadata": {
    "interpreter": {
     "hash": "31f2aee4e71d21fbe5cf8b01ff0e069b9275f58929596ceb00d14d90e3e16cd6"
    }
   }
  }
 },
 "nbformat": 4,
 "nbformat_minor": 2,
 "cells": [
  {
   "cell_type": "code",
   "execution_count": 5,
   "metadata": {},
   "outputs": [
    {
     "output_type": "execute_result",
     "data": {
      "text/plain": [
       "     Timestamp       a_x       a_y       a_z         g_x        g_y  \\\n",
       "0         0.00 -0.303501 -0.752877 -0.633308  -71.657295  61.507023   \n",
       "1         0.01 -0.328947 -0.627887 -0.726913 -100.851082  -4.477046   \n",
       "2         0.02 -0.365706 -0.569115 -0.728412  -97.246567 -10.163084   \n",
       "3         0.03 -0.343222 -0.558287 -0.741697  -87.280083  -7.206237   \n",
       "4         0.04 -0.329618 -0.570622 -0.737472  -85.250969  -8.131433   \n",
       "..         ...       ...       ...       ...         ...        ...   \n",
       "495       4.95  0.215725 -0.809689 -0.602411   28.053337  -0.656196   \n",
       "496       4.96  0.205720 -0.799891 -0.580055   31.868471  -6.377163   \n",
       "497       4.97  0.197790 -0.795772 -0.552438   31.457180  -7.189013   \n",
       "498       4.98  0.203719 -0.791840 -0.547220   27.802841  -5.424761   \n",
       "499       4.99  0.210125 -0.789947 -0.544430   22.816517  -5.561621   \n",
       "\n",
       "           g_z  w_x  w_y  w_z        r_x        r_y         r_z       q_w  \\\n",
       "0    51.717884  0.0  0.0  0.0  44.433311 -17.008606  170.083008  0.023430   \n",
       "1    40.885986  0.0  0.0  0.0  43.343395 -17.324430  170.359024  0.021782   \n",
       "2    35.955242  0.0  0.0  0.0  42.309643 -17.643412  170.563004  0.020651   \n",
       "3    28.493149  0.0  0.0  0.0  41.384247 -17.887228  170.735382  0.019880   \n",
       "4    23.945936  0.0  0.0  0.0  40.490299 -18.105560  170.869507  0.019472   \n",
       "..         ...  ...  ...  ...        ...        ...         ...       ...   \n",
       "495 -29.528196  0.0  0.0  0.0  54.400913   9.542343  154.270065  0.234411   \n",
       "496 -25.625484  0.0  0.0  0.0  54.685543   9.714078  154.066574  0.236498   \n",
       "497 -21.422718  0.0  0.0  0.0  54.968708   9.847765  153.881714  0.238302   \n",
       "498 -17.323101  0.0  0.0  0.0  55.221657   9.958788  153.735931  0.239737   \n",
       "499 -13.900129  0.0  0.0  0.0  55.427807  10.041468  153.609177  0.240936   \n",
       "\n",
       "          q_x       q_y       q_z  \n",
       "0   -0.168715 -0.360720 -0.916988  \n",
       "1   -0.170147 -0.352022 -0.920139  \n",
       "2   -0.171876 -0.343646 -0.923006  \n",
       "3   -0.173148 -0.336165 -0.925536  \n",
       "4   -0.174355 -0.328893 -0.927928  \n",
       "..        ...       ...       ...  \n",
       "495 -0.029302 -0.460558 -0.855616  \n",
       "496 -0.029401 -0.462869 -0.853789  \n",
       "497 -0.029720 -0.465117 -0.852053  \n",
       "498 -0.029998 -0.467114 -0.850547  \n",
       "499 -0.030322 -0.468727 -0.849309  \n",
       "\n",
       "[500 rows x 17 columns]"
      ],
      "text/html": "<div>\n<style scoped>\n    .dataframe tbody tr th:only-of-type {\n        vertical-align: middle;\n    }\n\n    .dataframe tbody tr th {\n        vertical-align: top;\n    }\n\n    .dataframe thead th {\n        text-align: right;\n    }\n</style>\n<table border=\"1\" class=\"dataframe\">\n  <thead>\n    <tr style=\"text-align: right;\">\n      <th></th>\n      <th>Timestamp</th>\n      <th>a_x</th>\n      <th>a_y</th>\n      <th>a_z</th>\n      <th>g_x</th>\n      <th>g_y</th>\n      <th>g_z</th>\n      <th>w_x</th>\n      <th>w_y</th>\n      <th>w_z</th>\n      <th>r_x</th>\n      <th>r_y</th>\n      <th>r_z</th>\n      <th>q_w</th>\n      <th>q_x</th>\n      <th>q_y</th>\n      <th>q_z</th>\n    </tr>\n  </thead>\n  <tbody>\n    <tr>\n      <th>0</th>\n      <td>0.00</td>\n      <td>-0.303501</td>\n      <td>-0.752877</td>\n      <td>-0.633308</td>\n      <td>-71.657295</td>\n      <td>61.507023</td>\n      <td>51.717884</td>\n      <td>0.0</td>\n      <td>0.0</td>\n      <td>0.0</td>\n      <td>44.433311</td>\n      <td>-17.008606</td>\n      <td>170.083008</td>\n      <td>0.023430</td>\n      <td>-0.168715</td>\n      <td>-0.360720</td>\n      <td>-0.916988</td>\n    </tr>\n    <tr>\n      <th>1</th>\n      <td>0.01</td>\n      <td>-0.328947</td>\n      <td>-0.627887</td>\n      <td>-0.726913</td>\n      <td>-100.851082</td>\n      <td>-4.477046</td>\n      <td>40.885986</td>\n      <td>0.0</td>\n      <td>0.0</td>\n      <td>0.0</td>\n      <td>43.343395</td>\n      <td>-17.324430</td>\n      <td>170.359024</td>\n      <td>0.021782</td>\n      <td>-0.170147</td>\n      <td>-0.352022</td>\n      <td>-0.920139</td>\n    </tr>\n    <tr>\n      <th>2</th>\n      <td>0.02</td>\n      <td>-0.365706</td>\n      <td>-0.569115</td>\n      <td>-0.728412</td>\n      <td>-97.246567</td>\n      <td>-10.163084</td>\n      <td>35.955242</td>\n      <td>0.0</td>\n      <td>0.0</td>\n      <td>0.0</td>\n      <td>42.309643</td>\n      <td>-17.643412</td>\n      <td>170.563004</td>\n      <td>0.020651</td>\n      <td>-0.171876</td>\n      <td>-0.343646</td>\n      <td>-0.923006</td>\n    </tr>\n    <tr>\n      <th>3</th>\n      <td>0.03</td>\n      <td>-0.343222</td>\n      <td>-0.558287</td>\n      <td>-0.741697</td>\n      <td>-87.280083</td>\n      <td>-7.206237</td>\n      <td>28.493149</td>\n      <td>0.0</td>\n      <td>0.0</td>\n      <td>0.0</td>\n      <td>41.384247</td>\n      <td>-17.887228</td>\n      <td>170.735382</td>\n      <td>0.019880</td>\n      <td>-0.173148</td>\n      <td>-0.336165</td>\n      <td>-0.925536</td>\n    </tr>\n    <tr>\n      <th>4</th>\n      <td>0.04</td>\n      <td>-0.329618</td>\n      <td>-0.570622</td>\n      <td>-0.737472</td>\n      <td>-85.250969</td>\n      <td>-8.131433</td>\n      <td>23.945936</td>\n      <td>0.0</td>\n      <td>0.0</td>\n      <td>0.0</td>\n      <td>40.490299</td>\n      <td>-18.105560</td>\n      <td>170.869507</td>\n      <td>0.019472</td>\n      <td>-0.174355</td>\n      <td>-0.328893</td>\n      <td>-0.927928</td>\n    </tr>\n    <tr>\n      <th>...</th>\n      <td>...</td>\n      <td>...</td>\n      <td>...</td>\n      <td>...</td>\n      <td>...</td>\n      <td>...</td>\n      <td>...</td>\n      <td>...</td>\n      <td>...</td>\n      <td>...</td>\n      <td>...</td>\n      <td>...</td>\n      <td>...</td>\n      <td>...</td>\n      <td>...</td>\n      <td>...</td>\n      <td>...</td>\n    </tr>\n    <tr>\n      <th>495</th>\n      <td>4.95</td>\n      <td>0.215725</td>\n      <td>-0.809689</td>\n      <td>-0.602411</td>\n      <td>28.053337</td>\n      <td>-0.656196</td>\n      <td>-29.528196</td>\n      <td>0.0</td>\n      <td>0.0</td>\n      <td>0.0</td>\n      <td>54.400913</td>\n      <td>9.542343</td>\n      <td>154.270065</td>\n      <td>0.234411</td>\n      <td>-0.029302</td>\n      <td>-0.460558</td>\n      <td>-0.855616</td>\n    </tr>\n    <tr>\n      <th>496</th>\n      <td>4.96</td>\n      <td>0.205720</td>\n      <td>-0.799891</td>\n      <td>-0.580055</td>\n      <td>31.868471</td>\n      <td>-6.377163</td>\n      <td>-25.625484</td>\n      <td>0.0</td>\n      <td>0.0</td>\n      <td>0.0</td>\n      <td>54.685543</td>\n      <td>9.714078</td>\n      <td>154.066574</td>\n      <td>0.236498</td>\n      <td>-0.029401</td>\n      <td>-0.462869</td>\n      <td>-0.853789</td>\n    </tr>\n    <tr>\n      <th>497</th>\n      <td>4.97</td>\n      <td>0.197790</td>\n      <td>-0.795772</td>\n      <td>-0.552438</td>\n      <td>31.457180</td>\n      <td>-7.189013</td>\n      <td>-21.422718</td>\n      <td>0.0</td>\n      <td>0.0</td>\n      <td>0.0</td>\n      <td>54.968708</td>\n      <td>9.847765</td>\n      <td>153.881714</td>\n      <td>0.238302</td>\n      <td>-0.029720</td>\n      <td>-0.465117</td>\n      <td>-0.852053</td>\n    </tr>\n    <tr>\n      <th>498</th>\n      <td>4.98</td>\n      <td>0.203719</td>\n      <td>-0.791840</td>\n      <td>-0.547220</td>\n      <td>27.802841</td>\n      <td>-5.424761</td>\n      <td>-17.323101</td>\n      <td>0.0</td>\n      <td>0.0</td>\n      <td>0.0</td>\n      <td>55.221657</td>\n      <td>9.958788</td>\n      <td>153.735931</td>\n      <td>0.239737</td>\n      <td>-0.029998</td>\n      <td>-0.467114</td>\n      <td>-0.850547</td>\n    </tr>\n    <tr>\n      <th>499</th>\n      <td>4.99</td>\n      <td>0.210125</td>\n      <td>-0.789947</td>\n      <td>-0.544430</td>\n      <td>22.816517</td>\n      <td>-5.561621</td>\n      <td>-13.900129</td>\n      <td>0.0</td>\n      <td>0.0</td>\n      <td>0.0</td>\n      <td>55.427807</td>\n      <td>10.041468</td>\n      <td>153.609177</td>\n      <td>0.240936</td>\n      <td>-0.030322</td>\n      <td>-0.468727</td>\n      <td>-0.849309</td>\n    </tr>\n  </tbody>\n</table>\n<p>500 rows × 17 columns</p>\n</div>"
     },
     "metadata": {},
     "execution_count": 5
    }
   ],
   "source": [
    "import pandas as pd\n",
    "import numpy as np\n",
    "import seaborn as sns\n",
    "import sklearn\n",
    "\n",
    "csv = pd.read_csv(\"../../../data/training_data/Martin_training.csv\")\n",
    "df = pd.DataFrame(csv)\n",
    "df_time_offset = df[\"Timestamp\"][0]\n",
    "df[\"Timestamp\"] = df[\"Timestamp\"] - df_time_offset\n",
    "df"
   ]
  },
  {
   "cell_type": "code",
   "execution_count": 6,
   "metadata": {
    "tags": []
   },
   "outputs": [
    {
     "output_type": "error",
     "ename": "NameError",
     "evalue": "name 'get_timestamp_and_pose' is not defined",
     "traceback": [
      "\u001b[0;31m---------------------------------------------------------------------------\u001b[0m",
      "\u001b[0;31mNameError\u001b[0m                                 Traceback (most recent call last)",
      "\u001b[0;32m<ipython-input-6-2b95a35cb86a>\u001b[0m in \u001b[0;36m<module>\u001b[0;34m\u001b[0m\n\u001b[1;32m     10\u001b[0m \u001b[0;34m\u001b[0m\u001b[0m\n\u001b[1;32m     11\u001b[0m \u001b[0mf_name\u001b[0m \u001b[0;34m=\u001b[0m \u001b[0;34m\"../data/simon_data_2.txt\"\u001b[0m\u001b[0;34m\u001b[0m\u001b[0;34m\u001b[0m\u001b[0m\n\u001b[0;32m---> 12\u001b[0;31m \u001b[0mstamped_poses\u001b[0m \u001b[0;34m=\u001b[0m \u001b[0mget_timestamp_and_pose\u001b[0m\u001b[0;34m(\u001b[0m\u001b[0mf_name\u001b[0m\u001b[0;34m)\u001b[0m\u001b[0;34m\u001b[0m\u001b[0;34m\u001b[0m\u001b[0m\n\u001b[0m\u001b[1;32m     13\u001b[0m \u001b[0mprint\u001b[0m\u001b[0;34m(\u001b[0m\u001b[0mstamped_poses\u001b[0m\u001b[0;34m)\u001b[0m\u001b[0;34m\u001b[0m\u001b[0;34m\u001b[0m\u001b[0m\n\u001b[1;32m     14\u001b[0m \u001b[0;34m\u001b[0m\u001b[0m\n",
      "\u001b[0;31mNameError\u001b[0m: name 'get_timestamp_and_pose' is not defined"
     ]
    }
   ],
   "source": [
    "POSE_MAP= {\n",
    "    \"ingen_data\": -1,\n",
    "    \"rett\": 0,\n",
    "    \"framover\": 1,\n",
    "    \"bakover\": 2,\n",
    "    \"venstre\": 3,\n",
    "    \"hoyre\": 4,\n",
    "    \"overgang\": 5\n",
    "}\n",
    "\n",
    "def get_timestamp_and_pose(filename):\n",
    "    rows = []\n",
    "    with open(filename, \"r\") as f:\n",
    "        lines = f.readlines()\n",
    "        offset = float(lines[1].strip().split(\";\")[1]) # This offset is the duration spent in the video before recording of data begun.\n",
    "        for l in lines[1:]:\n",
    "            sep_row = l.strip().split(\";\")\n",
    "            finished_row = [round(float(x)-offset,2) for x in sep_row[1:3]]\n",
    "            finished_row.append(POSE_MAP[sep_row[3].lower()])\n",
    "            rows.append(finished_row)\n",
    "    return rows\n",
    "\n",
    "f_name = \"../data/simon_data_2.txt\"\n",
    "stamped_poses = get_timestamp_and_pose(f_name)\n",
    "print(stamped_poses)\n",
    "\n",
    "df_stamped_poses = []\n",
    "index = 0\n",
    "for stamp in df[\"Timestamp\"]:  \n",
    "    pose_id = -1\n",
    "    if stamp <= stamped_poses[-1][1]: \n",
    "        if stamp > stamped_poses[index][1]:\n",
    "            index += 1\n",
    "        pose_id = stamped_poses[index][2]\n",
    "        # If timestamp is in new index, but haven't reached the starting time of this interval yet, set pose_id to default value 5.\n",
    "        if stamp < stamped_poses[index][0]:\n",
    "            pose_id = 5\n",
    "    # If timestamp of the data point exceeds last timestamp recorded by the annotation, append default -1 value\n",
    "    df_stamped_poses.append(pose_id)\n",
    "\n",
    "#print(df_stamped_poses)\n",
    "\n",
    "df[\"Pose\"] = df_stamped_poses\n",
    "#print(df[2400:2500][:])\n",
    "\n",
    "#df['Pose'].hist(bins=4)\n",
    "sns.lineplot(data=df, x=\"Timestamp\", y='Pose')\n",
    "\n",
    "\n"
   ]
  },
  {
   "cell_type": "code",
   "execution_count": 54,
   "metadata": {},
   "outputs": [
    {
     "output_type": "stream",
     "name": "stdout",
     "text": [
      "[[252   0   0   0   0   0]\n [  0 312   0   0   0   0]\n [  0   0 281   0   0   0]\n [  0   0   0 239   0   0]\n [  0   0   0   0 193   0]\n [  0   0   0   0   0 224]]\n              precision    recall  f1-score   support\n\n           0       1.00      1.00      1.00       252\n           1       1.00      1.00      1.00       312\n           2       1.00      1.00      1.00       281\n           3       1.00      1.00      1.00       239\n           4       1.00      1.00      1.00       193\n           5       1.00      1.00      1.00       224\n\n    accuracy                           1.00      1501\n   macro avg       1.00      1.00      1.00      1501\nweighted avg       1.00      1.00      1.00      1501\n\n"
     ]
    }
   ],
   "source": [
    "from sklearn.model_selection import train_test_split\n",
    "from sklearn.neighbors import KNeighborsClassifier\n",
    "from sklearn.metrics import classification_report, confusion_matrix\n",
    "\n",
    "X = df\n",
    "y = df[\"Pose\"]\n",
    "\n",
    "X_train, X_test, y_train, y_test = train_test_split(X, y, test_size=0.3, random_state=5)\n",
    "\n",
    "knn = KNeighborsClassifier(n_neighbors=1)\n",
    "knn.fit(X_train, y_train)\n",
    "\n",
    "pred = knn.predict(X_test)\n",
    "print(confusion_matrix(y_test, pred))\n",
    "print(classification_report(y_test, pred))\n"
   ]
  }
 ]
}